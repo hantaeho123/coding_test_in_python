{
 "cells": [
  {
   "cell_type": "markdown",
   "id": "9bf3cce6-1854-44fe-9080-60d66772e9da",
   "metadata": {},
   "source": [
    "# 최단 경로"
   ]
  },
  {
   "cell_type": "markdown",
   "id": "57df6ec6-94a9-46f8-8fd2-efab75003502",
   "metadata": {},
   "source": [
    "## 다익스트라 최단 경로 알고리즘 \n",
    "#### 특정한 한 노드에서 출발하여 다른 노드로 가는 각각의 최단 경로를 구해주는 알고리즘\n",
    "#### 한 단계당 하나의 노드에 대해 최단 거리를 확실히 찾는 것\n",
    "#### 조건 : 음의 간선이 없을 때\n",
    "#### 과정 :\n",
    "##### 1번. 출발 노드를 설정한다.\n",
    "##### 2번. 최단 거리 테이블을 초기화한다.\n",
    "##### 3번. 방문하지 않은 노드 중에서 최단 거리가 가장 짧은 노드를 선택한다.\n",
    "##### 4번. 해당 노드를 거쳐 다른 노드로 가는 비용을 계산하여 최단 거리 테이블을 갱신한다.\n",
    "##### 5번. 위 과정에서 3번과 4번을 반복한다."
   ]
  },
  {
   "cell_type": "markdown",
   "id": "818f33b2-e6c1-4be6-9054-a02d48576a50",
   "metadata": {},
   "source": [
    "# 방법1. 간단한 다익스트라 알고리즘\n",
    "### 단계마다 방문하지 않은 노드 중에서 최단 거리가 가장 짧은 노드를 선택하기 위해\n",
    "### 매 단계마다 1차원 리스트의 모든 원소를 확인(순차 탐색)한다."
   ]
  },
  {
   "cell_type": "code",
   "execution_count": 1,
   "id": "cb81c864-6965-48e8-9dd9-76306f591264",
   "metadata": {},
   "outputs": [
    {
     "ename": "KeyboardInterrupt",
     "evalue": "Interrupted by user",
     "output_type": "error",
     "traceback": [
      "\u001b[1;31m---------------------------------------------------------------------------\u001b[0m",
      "\u001b[1;31mKeyboardInterrupt\u001b[0m                         Traceback (most recent call last)",
      "Cell \u001b[1;32mIn[1], line 7\u001b[0m\n\u001b[0;32m      2\u001b[0m \u001b[38;5;66;03m# input = sys.stdin.readline\u001b[39;00m\n\u001b[0;32m      4\u001b[0m INF \u001b[38;5;241m=\u001b[39m \u001b[38;5;28mint\u001b[39m(\u001b[38;5;241m1e9\u001b[39m)\n\u001b[1;32m----> 7\u001b[0m n, m \u001b[38;5;241m=\u001b[39m \u001b[38;5;28mmap\u001b[39m(\u001b[38;5;28mint\u001b[39m, \u001b[38;5;28;43minput\u001b[39;49m\u001b[43m(\u001b[49m\u001b[43m)\u001b[49m\u001b[38;5;241m.\u001b[39msplit())\n\u001b[0;32m      9\u001b[0m start \u001b[38;5;241m=\u001b[39m \u001b[38;5;28mint\u001b[39m(\u001b[38;5;28minput\u001b[39m())\n\u001b[0;32m     11\u001b[0m graph \u001b[38;5;241m=\u001b[39m [[] \u001b[38;5;28;01mfor\u001b[39;00m i \u001b[38;5;129;01min\u001b[39;00m \u001b[38;5;28mrange\u001b[39m(n\u001b[38;5;241m+\u001b[39m\u001b[38;5;241m1\u001b[39m)]\n",
      "File \u001b[1;32m~\\anaconda3\\envs\\DIVA\\lib\\site-packages\\ipykernel\\kernelbase.py:1282\u001b[0m, in \u001b[0;36mKernel.raw_input\u001b[1;34m(self, prompt)\u001b[0m\n\u001b[0;32m   1280\u001b[0m     msg \u001b[38;5;241m=\u001b[39m \u001b[38;5;124m\"\u001b[39m\u001b[38;5;124mraw_input was called, but this frontend does not support input requests.\u001b[39m\u001b[38;5;124m\"\u001b[39m\n\u001b[0;32m   1281\u001b[0m     \u001b[38;5;28;01mraise\u001b[39;00m StdinNotImplementedError(msg)\n\u001b[1;32m-> 1282\u001b[0m \u001b[38;5;28;01mreturn\u001b[39;00m \u001b[38;5;28;43mself\u001b[39;49m\u001b[38;5;241;43m.\u001b[39;49m\u001b[43m_input_request\u001b[49m\u001b[43m(\u001b[49m\n\u001b[0;32m   1283\u001b[0m \u001b[43m    \u001b[49m\u001b[38;5;28;43mstr\u001b[39;49m\u001b[43m(\u001b[49m\u001b[43mprompt\u001b[49m\u001b[43m)\u001b[49m\u001b[43m,\u001b[49m\n\u001b[0;32m   1284\u001b[0m \u001b[43m    \u001b[49m\u001b[38;5;28;43mself\u001b[39;49m\u001b[38;5;241;43m.\u001b[39;49m\u001b[43m_parent_ident\u001b[49m\u001b[43m[\u001b[49m\u001b[38;5;124;43m\"\u001b[39;49m\u001b[38;5;124;43mshell\u001b[39;49m\u001b[38;5;124;43m\"\u001b[39;49m\u001b[43m]\u001b[49m\u001b[43m,\u001b[49m\n\u001b[0;32m   1285\u001b[0m \u001b[43m    \u001b[49m\u001b[38;5;28;43mself\u001b[39;49m\u001b[38;5;241;43m.\u001b[39;49m\u001b[43mget_parent\u001b[49m\u001b[43m(\u001b[49m\u001b[38;5;124;43m\"\u001b[39;49m\u001b[38;5;124;43mshell\u001b[39;49m\u001b[38;5;124;43m\"\u001b[39;49m\u001b[43m)\u001b[49m\u001b[43m,\u001b[49m\n\u001b[0;32m   1286\u001b[0m \u001b[43m    \u001b[49m\u001b[43mpassword\u001b[49m\u001b[38;5;241;43m=\u001b[39;49m\u001b[38;5;28;43;01mFalse\u001b[39;49;00m\u001b[43m,\u001b[49m\n\u001b[0;32m   1287\u001b[0m \u001b[43m\u001b[49m\u001b[43m)\u001b[49m\n",
      "File \u001b[1;32m~\\anaconda3\\envs\\DIVA\\lib\\site-packages\\ipykernel\\kernelbase.py:1325\u001b[0m, in \u001b[0;36mKernel._input_request\u001b[1;34m(self, prompt, ident, parent, password)\u001b[0m\n\u001b[0;32m   1322\u001b[0m \u001b[38;5;28;01mexcept\u001b[39;00m \u001b[38;5;167;01mKeyboardInterrupt\u001b[39;00m:\n\u001b[0;32m   1323\u001b[0m     \u001b[38;5;66;03m# re-raise KeyboardInterrupt, to truncate traceback\u001b[39;00m\n\u001b[0;32m   1324\u001b[0m     msg \u001b[38;5;241m=\u001b[39m \u001b[38;5;124m\"\u001b[39m\u001b[38;5;124mInterrupted by user\u001b[39m\u001b[38;5;124m\"\u001b[39m\n\u001b[1;32m-> 1325\u001b[0m     \u001b[38;5;28;01mraise\u001b[39;00m \u001b[38;5;167;01mKeyboardInterrupt\u001b[39;00m(msg) \u001b[38;5;28;01mfrom\u001b[39;00m \u001b[38;5;28;01mNone\u001b[39;00m\n\u001b[0;32m   1326\u001b[0m \u001b[38;5;28;01mexcept\u001b[39;00m \u001b[38;5;167;01mException\u001b[39;00m:\n\u001b[0;32m   1327\u001b[0m     \u001b[38;5;28mself\u001b[39m\u001b[38;5;241m.\u001b[39mlog\u001b[38;5;241m.\u001b[39mwarning(\u001b[38;5;124m\"\u001b[39m\u001b[38;5;124mInvalid Message:\u001b[39m\u001b[38;5;124m\"\u001b[39m, exc_info\u001b[38;5;241m=\u001b[39m\u001b[38;5;28;01mTrue\u001b[39;00m)\n",
      "\u001b[1;31mKeyboardInterrupt\u001b[0m: Interrupted by user"
     ]
    }
   ],
   "source": [
    "import sys\n",
    "# input = sys.stdin.readline\n",
    "\n",
    "INF = int(1e9)\n",
    "\n",
    "\n",
    "n, m = map(int, input().split())\n",
    "\n",
    "start = int(input())\n",
    "\n",
    "graph = [[] for i in range(n+1)]\n",
    "\n",
    "visited = [False] * (n+1)\n",
    "\n",
    "distance = [INF] * (n+1)\n",
    "\n",
    "for _ in range(m) :\n",
    "    a, b, c = map(int, input.split())\n",
    "    graph[a].append(b, c)\n",
    "\n",
    "\n",
    "def get_smallest_node() :\n",
    "    min_value = INF\n",
    "    index = 0\n",
    "    for i in range(1, n+1) :\n",
    "        if distance[i] < min_value and not visited[i] :\n",
    "            min_value = distance[i]\n",
    "            index = i\n",
    "    return index\n",
    "\n",
    "def dijkstra(start) :\n",
    "    distance[start] = 0\n",
    "    visited[start] = True\n",
    "    for j in graph[start] :\n",
    "        distance[j[0]] = j[1]\n",
    "    for i in range(n-1) :\n",
    "        now = get_smallest_node()\n",
    "        visited[now] = True\n",
    "        for j in graph[now] :\n",
    "            cost = distance[now] + j[1]\n",
    "            if cost < distance[j[0]] :\n",
    "                distance[j[0]] = cost\n",
    "\n",
    "dijkstra(start)\n",
    "\n",
    "for i in range(1, n+1) :\n",
    "    if distance[i] == INF :\n",
    "        print(\"Infinity\")\n",
    "    else :\n",
    "        print(distance[i])"
   ]
  },
  {
   "cell_type": "code",
   "execution_count": null,
   "id": "66a35acb-a8af-472e-8f7a-eb44ce7153c9",
   "metadata": {},
   "outputs": [],
   "source": []
  },
  {
   "cell_type": "markdown",
   "id": "56905a90-10a0-4b6a-82ca-3700a2b9ba86",
   "metadata": {},
   "source": [
    "# 방법 2. 개선된 다익스트라 알고리즘\n",
    "\n",
    "### 간단한 다익스트라 알고리즘은 매번 최단 거리 테이블을 선형적으로 탐색\n",
    "### -> 우선순위 큐(힙 구조)로 ㄱㄱ"
   ]
  },
  {
   "cell_type": "code",
   "execution_count": 6,
   "id": "cf76785f-91dc-4c34-8d79-85c5284a4ba1",
   "metadata": {},
   "outputs": [
    {
     "name": "stdin",
     "output_type": "stream",
     "text": [
      " 6 11\n",
      " 1\n",
      "  1 2 2\n",
      " 1 3 5\n",
      " 1 4 1\n",
      " 2 3  3\n",
      " 2 4 2\n",
      " 3 2 3\n",
      " 3 6 5\n",
      " 4 3 3\n",
      " 4 5 1\n",
      " 5  3 1\n",
      " 5 6 2\n"
     ]
    },
    {
     "name": "stdout",
     "output_type": "stream",
     "text": [
      "0\n",
      "2\n",
      "3\n",
      "1\n",
      "2\n",
      "4\n"
     ]
    }
   ],
   "source": [
    "# heapq로 개선된 다익스트라 알고리즘\n",
    "import heapq\n",
    "import sys\n",
    "#input = sys.stdin.readline\n",
    "INF = int(1e9)\n",
    "\n",
    "\n",
    "n, m = map(int, input().split())\n",
    "start = int(input())\n",
    "\n",
    "\n",
    "graph = [[] for i in range(n+1)]\n",
    "distance = [INF] * (n+1)\n",
    "\n",
    "\n",
    "for _ in range(m) :\n",
    "    a, b, c = map(int, input().split())\n",
    "    graph[a].append((b, c))\n",
    "\n",
    "\n",
    "def dijkstra(start) :\n",
    "    q = []\n",
    "    heapq.heappush(q, (0, start))\n",
    "    distance[start] = 0\n",
    "    while q :\n",
    "        dist, now = heapq.heappop(q) \n",
    "        if distance[now] < dist :\n",
    "            continue\n",
    "        for i in graph[now] :\n",
    "            cost = dist + i[1]\n",
    "            if cost < distance[i[0]] :\n",
    "                distance[i[0]] = cost\n",
    "                heapq.heappush(q, (cost, i[0]))\n",
    "\n",
    "\n",
    "dijkstra(start)\n",
    "\n",
    "\n",
    "for i in range(1, n+1) :\n",
    "    if distance[i] == INF :\n",
    "        print(\"INFINITY\")\n",
    "    else :\n",
    "        print(distance[i])"
   ]
  },
  {
   "cell_type": "markdown",
   "id": "4c0bd470-6390-4c64-a1b4-7b5666a1b46b",
   "metadata": {},
   "source": [
    "# 플로이드 워셜 알고리즘"
   ]
  },
  {
   "cell_type": "markdown",
   "id": "40c04e75-a2a8-46b9-bcf5-3773362718e4",
   "metadata": {},
   "source": [
    "### 모든 지점에서 다른 모든 지점까지의 최단 경로를 모두 구하는 알고리즘\n",
    "### 다이나믹 프로그래밍임"
   ]
  },
  {
   "cell_type": "code",
   "execution_count": 1,
   "id": "c53369c8-b80b-4657-a5cf-78fe108279f6",
   "metadata": {},
   "outputs": [
    {
     "ename": "KeyboardInterrupt",
     "evalue": "Interrupted by user",
     "output_type": "error",
     "traceback": [
      "\u001b[1;31m---------------------------------------------------------------------------\u001b[0m",
      "\u001b[1;31mKeyboardInterrupt\u001b[0m                         Traceback (most recent call last)",
      "Cell \u001b[1;32mIn[1], line 5\u001b[0m\n\u001b[0;32m      1\u001b[0m \u001b[38;5;66;03m# 플로이드 워셜 알고리즘 \u001b[39;00m\n\u001b[0;32m      3\u001b[0m INF \u001b[38;5;241m=\u001b[39m \u001b[38;5;28mint\u001b[39m(\u001b[38;5;241m1e9\u001b[39m)\n\u001b[1;32m----> 5\u001b[0m n \u001b[38;5;241m=\u001b[39m \u001b[38;5;28mint\u001b[39m(\u001b[38;5;28;43minput\u001b[39;49m\u001b[43m(\u001b[49m\u001b[43m)\u001b[49m)\n\u001b[0;32m      6\u001b[0m m \u001b[38;5;241m=\u001b[39m \u001b[38;5;28mint\u001b[39m(\u001b[38;5;28minput\u001b[39m())\n\u001b[0;32m      8\u001b[0m graph \u001b[38;5;241m=\u001b[39m [[INF] \u001b[38;5;241m*\u001b[39m (n\u001b[38;5;241m+\u001b[39m\u001b[38;5;241m1\u001b[39m) \u001b[38;5;28;01mfor\u001b[39;00m _ \u001b[38;5;129;01min\u001b[39;00m \u001b[38;5;28mrange\u001b[39m(n\u001b[38;5;241m+\u001b[39m\u001b[38;5;241m1\u001b[39m)]\n",
      "File \u001b[1;32m~\\anaconda3\\envs\\DIVA\\lib\\site-packages\\ipykernel\\kernelbase.py:1282\u001b[0m, in \u001b[0;36mKernel.raw_input\u001b[1;34m(self, prompt)\u001b[0m\n\u001b[0;32m   1280\u001b[0m     msg \u001b[38;5;241m=\u001b[39m \u001b[38;5;124m\"\u001b[39m\u001b[38;5;124mraw_input was called, but this frontend does not support input requests.\u001b[39m\u001b[38;5;124m\"\u001b[39m\n\u001b[0;32m   1281\u001b[0m     \u001b[38;5;28;01mraise\u001b[39;00m StdinNotImplementedError(msg)\n\u001b[1;32m-> 1282\u001b[0m \u001b[38;5;28;01mreturn\u001b[39;00m \u001b[38;5;28;43mself\u001b[39;49m\u001b[38;5;241;43m.\u001b[39;49m\u001b[43m_input_request\u001b[49m\u001b[43m(\u001b[49m\n\u001b[0;32m   1283\u001b[0m \u001b[43m    \u001b[49m\u001b[38;5;28;43mstr\u001b[39;49m\u001b[43m(\u001b[49m\u001b[43mprompt\u001b[49m\u001b[43m)\u001b[49m\u001b[43m,\u001b[49m\n\u001b[0;32m   1284\u001b[0m \u001b[43m    \u001b[49m\u001b[38;5;28;43mself\u001b[39;49m\u001b[38;5;241;43m.\u001b[39;49m\u001b[43m_parent_ident\u001b[49m\u001b[43m[\u001b[49m\u001b[38;5;124;43m\"\u001b[39;49m\u001b[38;5;124;43mshell\u001b[39;49m\u001b[38;5;124;43m\"\u001b[39;49m\u001b[43m]\u001b[49m\u001b[43m,\u001b[49m\n\u001b[0;32m   1285\u001b[0m \u001b[43m    \u001b[49m\u001b[38;5;28;43mself\u001b[39;49m\u001b[38;5;241;43m.\u001b[39;49m\u001b[43mget_parent\u001b[49m\u001b[43m(\u001b[49m\u001b[38;5;124;43m\"\u001b[39;49m\u001b[38;5;124;43mshell\u001b[39;49m\u001b[38;5;124;43m\"\u001b[39;49m\u001b[43m)\u001b[49m\u001b[43m,\u001b[49m\n\u001b[0;32m   1286\u001b[0m \u001b[43m    \u001b[49m\u001b[43mpassword\u001b[49m\u001b[38;5;241;43m=\u001b[39;49m\u001b[38;5;28;43;01mFalse\u001b[39;49;00m\u001b[43m,\u001b[49m\n\u001b[0;32m   1287\u001b[0m \u001b[43m\u001b[49m\u001b[43m)\u001b[49m\n",
      "File \u001b[1;32m~\\anaconda3\\envs\\DIVA\\lib\\site-packages\\ipykernel\\kernelbase.py:1325\u001b[0m, in \u001b[0;36mKernel._input_request\u001b[1;34m(self, prompt, ident, parent, password)\u001b[0m\n\u001b[0;32m   1322\u001b[0m \u001b[38;5;28;01mexcept\u001b[39;00m \u001b[38;5;167;01mKeyboardInterrupt\u001b[39;00m:\n\u001b[0;32m   1323\u001b[0m     \u001b[38;5;66;03m# re-raise KeyboardInterrupt, to truncate traceback\u001b[39;00m\n\u001b[0;32m   1324\u001b[0m     msg \u001b[38;5;241m=\u001b[39m \u001b[38;5;124m\"\u001b[39m\u001b[38;5;124mInterrupted by user\u001b[39m\u001b[38;5;124m\"\u001b[39m\n\u001b[1;32m-> 1325\u001b[0m     \u001b[38;5;28;01mraise\u001b[39;00m \u001b[38;5;167;01mKeyboardInterrupt\u001b[39;00m(msg) \u001b[38;5;28;01mfrom\u001b[39;00m \u001b[38;5;28;01mNone\u001b[39;00m\n\u001b[0;32m   1326\u001b[0m \u001b[38;5;28;01mexcept\u001b[39;00m \u001b[38;5;167;01mException\u001b[39;00m:\n\u001b[0;32m   1327\u001b[0m     \u001b[38;5;28mself\u001b[39m\u001b[38;5;241m.\u001b[39mlog\u001b[38;5;241m.\u001b[39mwarning(\u001b[38;5;124m\"\u001b[39m\u001b[38;5;124mInvalid Message:\u001b[39m\u001b[38;5;124m\"\u001b[39m, exc_info\u001b[38;5;241m=\u001b[39m\u001b[38;5;28;01mTrue\u001b[39;00m)\n",
      "\u001b[1;31mKeyboardInterrupt\u001b[0m: Interrupted by user"
     ]
    }
   ],
   "source": [
    "# 플로이드 워셜 알고리즘 \n",
    "\n",
    "INF = int(1e9)\n",
    "\n",
    "n = int(input())\n",
    "m = int(input())\n",
    "\n",
    "graph = [[INF] * (n+1) for _ in range(n+1)]\n",
    "\n",
    "for a in range(1, n+1) :\n",
    "    for b in range(1, n+1) :\n",
    "        if a == b :\n",
    "            graph[a][b] == 0\n",
    "\n",
    "for _ in range(m) :\n",
    "    a, b, c = map(int, input().split())\n",
    "    graph[a][b] = c\n",
    "\n",
    "for k in range(1, n+1) :\n",
    "    for a in range(1, n+1) :\n",
    "        for b in range(1, n+1) :\n",
    "            graph[a][b] = min(graph[a][b], graph[a][k] + graph[k][b])\n",
    "\n",
    "\n",
    "for a in range(1, n+1) :\n",
    "    for b in range(1, n+1) :\n",
    "        if graph[a][b] == INF :\n",
    "            print(\"INFINITY\", end=\" \")\n",
    "        else :\n",
    "            print(graph[a][b], end=\" \")\n",
    "    print()\n",
    "\n"
   ]
  },
  {
   "cell_type": "markdown",
   "id": "636170f9-75fe-46c2-bce7-593a865fdef5",
   "metadata": {},
   "source": [
    "# 미래도시"
   ]
  },
  {
   "cell_type": "code",
   "execution_count": 8,
   "id": "fea4193b-6c16-411b-ae55-72ab7f781d28",
   "metadata": {},
   "outputs": [
    {
     "name": "stdin",
     "output_type": "stream",
     "text": [
      " 5 7\n",
      " 1 2\n",
      " 1 3\n",
      " 1 4\n",
      " 2 4\n",
      " 3 4\n",
      " 3 5\n",
      " 4 5\n",
      " 4 5\n"
     ]
    },
    {
     "name": "stdout",
     "output_type": "stream",
     "text": [
      "3\n"
     ]
    }
   ],
   "source": [
    "\n",
    "INF = int(1e9)\n",
    "\n",
    "n, m = map(int, input().split())\n",
    "\n",
    "\n",
    "\n",
    "\n",
    "graph = [[INF] * (n+1) for _ in range(n+1)]\n",
    "\n",
    "for i in range(1, n+1) :\n",
    "    graph[i][i] = 0 \n",
    "\n",
    "for i in range(m) :\n",
    "    a, b = map(int, input().split())\n",
    "    graph[a][b] = 1\n",
    "    graph[b][a] = 1\n",
    "\n",
    "\n",
    "\n",
    "\n",
    "x, k = map(int, input().split())\n",
    "\n",
    "\n",
    "\n",
    "\n",
    "for i in range(1, n+1) :\n",
    "    for a in range(1, n+1) :\n",
    "        for b in range(a+1, n+1) :\n",
    "            min_value =  min(graph[a][b], graph[a][i] + graph[i][b])\n",
    "            graph[a][b] = min_value\n",
    "            graph[b][a] = min_value\n",
    "\n",
    "\n",
    "\n",
    "short_time = graph[1][k] + graph[k][x]\n",
    "\n",
    "\n",
    "\n",
    "if short_time >= INF :\n",
    "    print(-1)\n",
    "\n",
    "else :\n",
    "    print(short_time)"
   ]
  },
  {
   "cell_type": "code",
   "execution_count": 12,
   "id": "5a37f2e4-5c17-4410-93f9-ad2481a4aa92",
   "metadata": {},
   "outputs": [
    {
     "name": "stdin",
     "output_type": "stream",
     "text": [
      " 4 2\n",
      " 1 3\n",
      " 2 4\n",
      " 3 4\n"
     ]
    },
    {
     "name": "stdout",
     "output_type": "stream",
     "text": [
      "-1\n"
     ]
    }
   ],
   "source": [
    "# 예시 답안 \n",
    "INF = int(1e9)\n",
    "\n",
    "n, m = map(int, input().split())\n",
    "\n",
    "graph = [[INF] * (n+1) for _ in range(n+1)]\n",
    "\n",
    "for a in range(1, n+1) :\n",
    "    for b in range(1, n+1) :\n",
    "        if a == b :\n",
    "            graph[a][b] = 0\n",
    "\n",
    "for _ in range(m) :\n",
    "    a, b = map(int, input().split())\n",
    "    graph[a][b] = 1\n",
    "    graph[b][a] = 1\n",
    "\n",
    "\n",
    "x, k = map(int, input().split())\n",
    "\n",
    "for k in range(1, n+1) :\n",
    "    for a in range(1, n+1) :\n",
    "        for b in range(1, n+1) :\n",
    "            graph[a][b] = min(graph[a][b], graph[a][k] + graph[k][b])\n",
    "\n",
    "\n",
    "distance = graph[1][k] + graph[k][x]\n",
    "\n",
    "if distance >= INF :\n",
    "    print(-1)\n",
    "else :\n",
    "    print(distance)\n",
    "\n"
   ]
  },
  {
   "cell_type": "markdown",
   "id": "93bb4f2f-e03f-4526-9ab5-a8554e7f0e10",
   "metadata": {},
   "source": [
    "# 전보"
   ]
  },
  {
   "cell_type": "code",
   "execution_count": null,
   "id": "87295636-5bad-4a6d-ab0e-70efe066cf2b",
   "metadata": {},
   "outputs": [],
   "source": [
    "# 플로이드 워셜 알고리즘으로 풀기 타임 오버될 듯\n",
    "\n",
    "import sys\n",
    "\n",
    "input = sys.stdio.readline()\n",
    "INF = int(1e9)\n",
    "\n",
    "\n",
    "N, M, C = map(int, input().split())\n",
    "\n",
    "\n",
    "graph = [[INF] * (N+1) for _ in range(N+1)]\n",
    "\n",
    "\n",
    "for i in range(M) :\n",
    "    x, y, t = map(int, input().split())\n",
    "    graph[x][y] = t\n",
    "\n",
    "\n",
    "for i in range(1, N+1) :\n",
    "    for x in range(1, N+1) :\n",
    "        for y in range(1, N+1) :\n",
    "            graph[x][y] = min(graph[x][y], graph[x][i] + graph[i][y])\n",
    "\n",
    "cities = 0\n",
    "max_time = 0\n",
    "for i in range(1, n+1) :\n",
    "    if graph[C][i] < INF and graph[i][C] < INF :\n",
    "        cities += 1\n",
    "        max_time = max(max_time, graph[C][i])\n",
    "    \n",
    "\n",
    "print(cities, max_time)"
   ]
  },
  {
   "cell_type": "code",
   "execution_count": 11,
   "id": "b048eae3-c1cf-475e-bfeb-f403aaa532b3",
   "metadata": {
    "scrolled": true
   },
   "outputs": [
    {
     "name": "stdin",
     "output_type": "stream",
     "text": [
      " 3 2 1\n",
      " 1 2 4\n",
      " 1 3 2\n"
     ]
    },
    {
     "name": "stdout",
     "output_type": "stream",
     "text": [
      "2 4\n"
     ]
    }
   ],
   "source": [
    "### 다익스트라 알고리즘으로 풀기\n",
    "\n",
    "import sys\n",
    "import heapq\n",
    "\n",
    "def dijkstra(graph, distance, start) :\n",
    "    distance[start] = 0\n",
    "    q = []\n",
    "    heapq.heappush(q, (0, start))\n",
    "    while q :\n",
    "        dist, now = heapq.heappop(q)\n",
    "        if dist > distance[now] :\n",
    "            continue\n",
    "        for i in graph[now] :\n",
    "            cost = dist + i[1]\n",
    "            if cost < distance[i[0]] :\n",
    "                distance[i[0]] = cost\n",
    "                heapq.heappush(q, (cost, i[0]))\n",
    "            \n",
    "    \n",
    "\n",
    "\n",
    "#input = sys.stdio.readline\n",
    "INF = int(1e9)\n",
    "\n",
    "\n",
    "N, M, C = map(int, input().split())\n",
    "\n",
    "\n",
    "graph = [ [ ] for _ in range(N+1)] \n",
    "distance = [INF] * (N+1)\n",
    "\n",
    "for i in range(M) :\n",
    "    x, y, t = map(int, input().split())\n",
    "    graph[x].append((y,t))\n",
    "\n",
    "\n",
    "dijkstra(graph, distance, C)\n",
    "\n",
    "\n",
    "\n",
    "cities = -1\n",
    "max_time = 0\n",
    "for i in range(1, N+1) :\n",
    "    if distance[i] < INF :\n",
    "        cities += 1\n",
    "        max_time = max(max_time, distance[i])\n",
    "\n",
    "print(cities, max_time)"
   ]
  },
  {
   "cell_type": "code",
   "execution_count": null,
   "id": "2a0186ab-68da-49fa-a8bd-e80ed65c6ed7",
   "metadata": {},
   "outputs": [],
   "source": [
    "# 예시 답안\n",
    "\n",
    "import heapq\n",
    "import sys\n",
    "\n",
    "# input = sys.stdio.readline\n",
    "INF = int(1e9)\n",
    "\n",
    "n, m, start = map(int, input().split())\n",
    "\n",
    "graph = [[] for _ in range(n+1)]\n",
    "distance = [INF] * (n+1)\n",
    "\n",
    "for _ in range(m) :\n",
    "    x, y, z = map(int, input().split())\n",
    "    graph[x].append((y, z))\n",
    "\n",
    "\n",
    "\n",
    "def dijkstra(start) :\n",
    "    q = []\n",
    "    heapq.heappush(q, (0, start))\n",
    "    distance[start] = 0\n",
    "    while q :\n",
    "        dist, now = heapq.heappop(q)\n",
    "        if distance[now] < dist :\n",
    "            continue\n",
    "        for i in graph[now] :\n",
    "            cost = dist + i[1]\n",
    "            if cost < distance[i[0]] :\n",
    "                distance[i[0]] = cost\n",
    "                heapq.heappush(q, (cost, i[0]))\n",
    "\n",
    "\n",
    "dijkstra(start)\n",
    "\n",
    "count = 0\n",
    "max_distance= 0\n",
    "for d in distance :\n",
    "    if d != INF :\n",
    "        count += 1\n",
    "        max_distance = max(max_distance, d)\n",
    "\n",
    "print(count-1, max_distance)"
   ]
  },
  {
   "cell_type": "code",
   "execution_count": null,
   "id": "3d1e4401-d303-437f-a1a7-72220acef014",
   "metadata": {},
   "outputs": [],
   "source": []
  },
  {
   "cell_type": "code",
   "execution_count": null,
   "id": "e13b7bf3-1367-47e4-a312-c81a31299920",
   "metadata": {},
   "outputs": [],
   "source": []
  },
  {
   "cell_type": "code",
   "execution_count": null,
   "id": "22531fa7-e3dc-4f9e-aa7b-37308ca7a8c8",
   "metadata": {},
   "outputs": [],
   "source": []
  },
  {
   "cell_type": "code",
   "execution_count": null,
   "id": "61b02612-ac55-450e-92d6-710894d21542",
   "metadata": {},
   "outputs": [],
   "source": []
  },
  {
   "cell_type": "code",
   "execution_count": null,
   "id": "d2d8b133-32a2-49dd-82e7-57cab76c6399",
   "metadata": {},
   "outputs": [],
   "source": []
  }
 ],
 "metadata": {
  "kernelspec": {
   "display_name": "Python 3 (ipykernel)",
   "language": "python",
   "name": "python3"
  },
  "language_info": {
   "codemirror_mode": {
    "name": "ipython",
    "version": 3
   },
   "file_extension": ".py",
   "mimetype": "text/x-python",
   "name": "python",
   "nbconvert_exporter": "python",
   "pygments_lexer": "ipython3",
   "version": "3.9.18"
  },
  "widgets": {
   "application/vnd.jupyter.widget-state+json": {
    "state": {},
    "version_major": 2,
    "version_minor": 0
   }
  }
 },
 "nbformat": 4,
 "nbformat_minor": 5
}
