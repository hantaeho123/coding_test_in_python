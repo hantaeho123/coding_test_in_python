{
 "cells": [
  {
   "cell_type": "markdown",
   "id": "dc9aded6-4941-4558-820a-5d83406c0b7a",
   "metadata": {},
   "source": [
    "# DFS와 BFS "
   ]
  },
  {
   "cell_type": "markdown",
   "id": "d9f6615b-8588-4da0-92d1-81cfe1083758",
   "metadata": {},
   "source": [
    "## 탐색 : 많은 양의 데이터 중에서 원하는 데이터를 찾는 과정\n",
    "## 자료구조 : 데이터를 표현하고 관리하고 처리하기 위한 과정\n",
    "### 스택 : 선입후출\n",
    "### 큐 : 선입선출\n",
    "## 재귀함수 : 자기자신을 다시 호출하는 함수"
   ]
  },
  {
   "cell_type": "code",
   "execution_count": 6,
   "id": "76066129-b7d4-4e37-aeca-d94f1280fa7c",
   "metadata": {},
   "outputs": [
    {
     "name": "stdout",
     "output_type": "stream",
     "text": [
      "[5, 2, 3, 1]\n",
      "[1, 3, 2, 5]\n"
     ]
    }
   ],
   "source": [
    "# 스택 예제 \n",
    "stack = []\n",
    "\n",
    "stack.append(5)\n",
    "stack.append(2)\n",
    "stack.append(3)\n",
    "stack.append(7)\n",
    "stack.pop()\n",
    "stack.append(1)\n",
    "stack.append(4)\n",
    "stack.pop()\n",
    "\n",
    "print(stack)\n",
    "print(stack[::-1])"
   ]
  },
  {
   "cell_type": "code",
   "execution_count": 12,
   "id": "d25be4f9-b429-4950-9ece-0d4dec84ff18",
   "metadata": {},
   "outputs": [
    {
     "name": "stdout",
     "output_type": "stream",
     "text": [
      "deque([3, 7, 1, 4])\n",
      "deque([4, 1, 7, 3])\n"
     ]
    }
   ],
   "source": [
    "# 큐 예제\n",
    "\n",
    "from collections import deque\n",
    "\n",
    "queue = deque()\n",
    "\n",
    "queue.append(5)\n",
    "queue.append(2)\n",
    "queue.append(3)\n",
    "queue.append(7)\n",
    "queue.popleft()\n",
    "queue.append(1)\n",
    "queue.append(4)\n",
    "queue.popleft()\n",
    "\n",
    "print(queue)\n",
    "queue.reverse()\n",
    "print(queue)"
   ]
  },
  {
   "cell_type": "code",
   "execution_count": 5,
   "id": "995cfa87-5e63-4f0d-a50e-c8e0d702d799",
   "metadata": {},
   "outputs": [
    {
     "data": {
      "text/plain": [
       "'\\ndef recursive_function() :\\n    print(\"재귀함수를 호출합니다\")\\n    recursive_function()\\n\\n    \\nrecursive_function()\\n\\n'"
      ]
     },
     "execution_count": 5,
     "metadata": {},
     "output_type": "execute_result"
    }
   ],
   "source": [
    "# 재귀함수 \n",
    "# 재귀함수는 내부에서 스택으로 구현되어 있다.\n",
    "'''\n",
    "def recursive_function() :\n",
    "    print(\"재귀함수를 호출합니다\")\n",
    "    recursive_function()\n",
    "\n",
    "    \n",
    "recursive_function()\n",
    "\n",
    "'''"
   ]
  },
  {
   "cell_type": "code",
   "execution_count": 4,
   "id": "6aeff71a-bb10-4c4d-9666-c3db01a40325",
   "metadata": {},
   "outputs": [
    {
     "name": "stdout",
     "output_type": "stream",
     "text": [
      "0 번째 재귀함수에서 1 번째 재귀 함수를 호출합니다.\n",
      "1 번째 재귀함수에서 2 번째 재귀 함수를 호출합니다.\n",
      "2 번째 재귀함수에서 3 번째 재귀 함수를 호출합니다.\n",
      "3 번째 재귀함수에서 4 번째 재귀 함수를 호출합니다.\n",
      "4 번째 재귀함수에서 5 번째 재귀 함수를 호출합니다.\n",
      "5 번째 재귀함수에서 6 번째 재귀 함수를 호출합니다.\n",
      "6 번째 재귀함수에서 7 번째 재귀 함수를 호출합니다.\n",
      "7 번째 재귀함수에서 8 번째 재귀 함수를 호출합니다.\n",
      "8 번째 재귀함수에서 9 번째 재귀 함수를 호출합니다.\n",
      "9 번째 재귀함수에서 10 번째 재귀 함수를 호출합니다.\n",
      "10 번째 재귀함수에서 11 번째 재귀 함수를 호출합니다.\n",
      "11 번째 재귀함수에서 12 번째 재귀 함수를 호출합니다.\n",
      "12 번째 재귀함수에서 13 번째 재귀 함수를 호출합니다.\n",
      "13 번째 재귀함수에서 14 번째 재귀 함수를 호출합니다.\n",
      "14 번째 재귀함수에서 15 번째 재귀 함수를 호출합니다.\n",
      "15 번째 재귀함수에서 16 번째 재귀 함수를 호출합니다.\n",
      "16 번째 재귀함수에서 17 번째 재귀 함수를 호출합니다.\n",
      "17 번째 재귀함수에서 18 번째 재귀 함수를 호출합니다.\n",
      "18 번째 재귀함수에서 19 번째 재귀 함수를 호출합니다.\n",
      "19 번째 재귀함수에서 20 번째 재귀 함수를 호출합니다.\n",
      "20 번째 재귀함수에서 21 번째 재귀 함수를 호출합니다.\n",
      "21 번째 재귀함수에서 22 번째 재귀 함수를 호출합니다.\n",
      "22 번째 재귀함수에서 23 번째 재귀 함수를 호출합니다.\n",
      "23 번째 재귀함수에서 24 번째 재귀 함수를 호출합니다.\n",
      "24 번째 재귀함수에서 25 번째 재귀 함수를 호출합니다.\n",
      "25 번째 재귀함수에서 26 번째 재귀 함수를 호출합니다.\n",
      "26 번째 재귀함수에서 27 번째 재귀 함수를 호출합니다.\n",
      "27 번째 재귀함수에서 28 번째 재귀 함수를 호출합니다.\n",
      "28 번째 재귀함수에서 29 번째 재귀 함수를 호출합니다.\n",
      "29 번째 재귀함수에서 30 번째 재귀 함수를 호출합니다.\n",
      "30 번째 재귀함수에서 31 번째 재귀 함수를 호출합니다.\n",
      "31 번째 재귀함수에서 32 번째 재귀 함수를 호출합니다.\n",
      "32 번째 재귀함수에서 33 번째 재귀 함수를 호출합니다.\n",
      "33 번째 재귀함수에서 34 번째 재귀 함수를 호출합니다.\n",
      "34 번째 재귀함수에서 35 번째 재귀 함수를 호출합니다.\n",
      "35 번째 재귀함수에서 36 번째 재귀 함수를 호출합니다.\n",
      "36 번째 재귀함수에서 37 번째 재귀 함수를 호출합니다.\n",
      "37 번째 재귀함수에서 38 번째 재귀 함수를 호출합니다.\n",
      "38 번째 재귀함수에서 39 번째 재귀 함수를 호출합니다.\n",
      "39 번째 재귀함수에서 40 번째 재귀 함수를 호출합니다.\n",
      "40 번째 재귀함수에서 41 번째 재귀 함수를 호출합니다.\n",
      "41 번째 재귀함수에서 42 번째 재귀 함수를 호출합니다.\n",
      "42 번째 재귀함수에서 43 번째 재귀 함수를 호출합니다.\n",
      "43 번째 재귀함수에서 44 번째 재귀 함수를 호출합니다.\n",
      "44 번째 재귀함수에서 45 번째 재귀 함수를 호출합니다.\n",
      "45 번째 재귀함수에서 46 번째 재귀 함수를 호출합니다.\n",
      "46 번째 재귀함수에서 47 번째 재귀 함수를 호출합니다.\n",
      "47 번째 재귀함수에서 48 번째 재귀 함수를 호출합니다.\n",
      "48 번째 재귀함수에서 49 번째 재귀 함수를 호출합니다.\n",
      "49 번째 재귀함수에서 50 번째 재귀 함수를 호출합니다.\n",
      "50 번째 재귀함수에서 51 번째 재귀 함수를 호출합니다.\n",
      "51 번째 재귀함수에서 52 번째 재귀 함수를 호출합니다.\n",
      "52 번째 재귀함수에서 53 번째 재귀 함수를 호출합니다.\n",
      "53 번째 재귀함수에서 54 번째 재귀 함수를 호출합니다.\n",
      "54 번째 재귀함수에서 55 번째 재귀 함수를 호출합니다.\n",
      "55 번째 재귀함수에서 56 번째 재귀 함수를 호출합니다.\n",
      "56 번째 재귀함수에서 57 번째 재귀 함수를 호출합니다.\n",
      "57 번째 재귀함수에서 58 번째 재귀 함수를 호출합니다.\n",
      "58 번째 재귀함수에서 59 번째 재귀 함수를 호출합니다.\n",
      "59 번째 재귀함수에서 60 번째 재귀 함수를 호출합니다.\n",
      "60 번째 재귀함수에서 61 번째 재귀 함수를 호출합니다.\n",
      "61 번째 재귀함수에서 62 번째 재귀 함수를 호출합니다.\n",
      "62 번째 재귀함수에서 63 번째 재귀 함수를 호출합니다.\n",
      "63 번째 재귀함수에서 64 번째 재귀 함수를 호출합니다.\n",
      "64 번째 재귀함수에서 65 번째 재귀 함수를 호출합니다.\n",
      "65 번째 재귀함수에서 66 번째 재귀 함수를 호출합니다.\n",
      "66 번째 재귀함수에서 67 번째 재귀 함수를 호출합니다.\n",
      "67 번째 재귀함수에서 68 번째 재귀 함수를 호출합니다.\n",
      "68 번째 재귀함수에서 69 번째 재귀 함수를 호출합니다.\n",
      "69 번째 재귀함수에서 70 번째 재귀 함수를 호출합니다.\n",
      "70 번째 재귀함수에서 71 번째 재귀 함수를 호출합니다.\n",
      "71 번째 재귀함수에서 72 번째 재귀 함수를 호출합니다.\n",
      "72 번째 재귀함수에서 73 번째 재귀 함수를 호출합니다.\n",
      "73 번째 재귀함수에서 74 번째 재귀 함수를 호출합니다.\n",
      "74 번째 재귀함수에서 75 번째 재귀 함수를 호출합니다.\n",
      "75 번째 재귀함수에서 76 번째 재귀 함수를 호출합니다.\n",
      "76 번째 재귀함수에서 77 번째 재귀 함수를 호출합니다.\n",
      "77 번째 재귀함수에서 78 번째 재귀 함수를 호출합니다.\n",
      "78 번째 재귀함수에서 79 번째 재귀 함수를 호출합니다.\n",
      "79 번째 재귀함수에서 80 번째 재귀 함수를 호출합니다.\n",
      "80 번째 재귀함수에서 81 번째 재귀 함수를 호출합니다.\n",
      "81 번째 재귀함수에서 82 번째 재귀 함수를 호출합니다.\n",
      "82 번째 재귀함수에서 83 번째 재귀 함수를 호출합니다.\n",
      "83 번째 재귀함수에서 84 번째 재귀 함수를 호출합니다.\n",
      "84 번째 재귀함수에서 85 번째 재귀 함수를 호출합니다.\n",
      "85 번째 재귀함수에서 86 번째 재귀 함수를 호출합니다.\n",
      "86 번째 재귀함수에서 87 번째 재귀 함수를 호출합니다.\n",
      "87 번째 재귀함수에서 88 번째 재귀 함수를 호출합니다.\n",
      "88 번째 재귀함수에서 89 번째 재귀 함수를 호출합니다.\n",
      "89 번째 재귀함수에서 90 번째 재귀 함수를 호출합니다.\n",
      "90 번째 재귀함수에서 91 번째 재귀 함수를 호출합니다.\n",
      "91 번째 재귀함수에서 92 번째 재귀 함수를 호출합니다.\n",
      "92 번째 재귀함수에서 93 번째 재귀 함수를 호출합니다.\n",
      "93 번째 재귀함수에서 94 번째 재귀 함수를 호출합니다.\n",
      "94 번째 재귀함수에서 95 번째 재귀 함수를 호출합니다.\n",
      "95 번째 재귀함수에서 96 번째 재귀 함수를 호출합니다.\n",
      "96 번째 재귀함수에서 97 번째 재귀 함수를 호출합니다.\n",
      "97 번째 재귀함수에서 98 번째 재귀 함수를 호출합니다.\n",
      "98 번째 재귀함수에서 99 번째 재귀 함수를 호출합니다.\n",
      "99 번째 재귀함수에서 100 번째 재귀 함수를 호출합니다.\n",
      "99 번째 재귀함수를 종료합니다.\n",
      "98 번째 재귀함수를 종료합니다.\n",
      "97 번째 재귀함수를 종료합니다.\n",
      "96 번째 재귀함수를 종료합니다.\n",
      "95 번째 재귀함수를 종료합니다.\n",
      "94 번째 재귀함수를 종료합니다.\n",
      "93 번째 재귀함수를 종료합니다.\n",
      "92 번째 재귀함수를 종료합니다.\n",
      "91 번째 재귀함수를 종료합니다.\n",
      "90 번째 재귀함수를 종료합니다.\n",
      "89 번째 재귀함수를 종료합니다.\n",
      "88 번째 재귀함수를 종료합니다.\n",
      "87 번째 재귀함수를 종료합니다.\n",
      "86 번째 재귀함수를 종료합니다.\n",
      "85 번째 재귀함수를 종료합니다.\n",
      "84 번째 재귀함수를 종료합니다.\n",
      "83 번째 재귀함수를 종료합니다.\n",
      "82 번째 재귀함수를 종료합니다.\n",
      "81 번째 재귀함수를 종료합니다.\n",
      "80 번째 재귀함수를 종료합니다.\n",
      "79 번째 재귀함수를 종료합니다.\n",
      "78 번째 재귀함수를 종료합니다.\n",
      "77 번째 재귀함수를 종료합니다.\n",
      "76 번째 재귀함수를 종료합니다.\n",
      "75 번째 재귀함수를 종료합니다.\n",
      "74 번째 재귀함수를 종료합니다.\n",
      "73 번째 재귀함수를 종료합니다.\n",
      "72 번째 재귀함수를 종료합니다.\n",
      "71 번째 재귀함수를 종료합니다.\n",
      "70 번째 재귀함수를 종료합니다.\n",
      "69 번째 재귀함수를 종료합니다.\n",
      "68 번째 재귀함수를 종료합니다.\n",
      "67 번째 재귀함수를 종료합니다.\n",
      "66 번째 재귀함수를 종료합니다.\n",
      "65 번째 재귀함수를 종료합니다.\n",
      "64 번째 재귀함수를 종료합니다.\n",
      "63 번째 재귀함수를 종료합니다.\n",
      "62 번째 재귀함수를 종료합니다.\n",
      "61 번째 재귀함수를 종료합니다.\n",
      "60 번째 재귀함수를 종료합니다.\n",
      "59 번째 재귀함수를 종료합니다.\n",
      "58 번째 재귀함수를 종료합니다.\n",
      "57 번째 재귀함수를 종료합니다.\n",
      "56 번째 재귀함수를 종료합니다.\n",
      "55 번째 재귀함수를 종료합니다.\n",
      "54 번째 재귀함수를 종료합니다.\n",
      "53 번째 재귀함수를 종료합니다.\n",
      "52 번째 재귀함수를 종료합니다.\n",
      "51 번째 재귀함수를 종료합니다.\n",
      "50 번째 재귀함수를 종료합니다.\n",
      "49 번째 재귀함수를 종료합니다.\n",
      "48 번째 재귀함수를 종료합니다.\n",
      "47 번째 재귀함수를 종료합니다.\n",
      "46 번째 재귀함수를 종료합니다.\n",
      "45 번째 재귀함수를 종료합니다.\n",
      "44 번째 재귀함수를 종료합니다.\n",
      "43 번째 재귀함수를 종료합니다.\n",
      "42 번째 재귀함수를 종료합니다.\n",
      "41 번째 재귀함수를 종료합니다.\n",
      "40 번째 재귀함수를 종료합니다.\n",
      "39 번째 재귀함수를 종료합니다.\n",
      "38 번째 재귀함수를 종료합니다.\n",
      "37 번째 재귀함수를 종료합니다.\n",
      "36 번째 재귀함수를 종료합니다.\n",
      "35 번째 재귀함수를 종료합니다.\n",
      "34 번째 재귀함수를 종료합니다.\n",
      "33 번째 재귀함수를 종료합니다.\n",
      "32 번째 재귀함수를 종료합니다.\n",
      "31 번째 재귀함수를 종료합니다.\n",
      "30 번째 재귀함수를 종료합니다.\n",
      "29 번째 재귀함수를 종료합니다.\n",
      "28 번째 재귀함수를 종료합니다.\n",
      "27 번째 재귀함수를 종료합니다.\n",
      "26 번째 재귀함수를 종료합니다.\n",
      "25 번째 재귀함수를 종료합니다.\n",
      "24 번째 재귀함수를 종료합니다.\n",
      "23 번째 재귀함수를 종료합니다.\n",
      "22 번째 재귀함수를 종료합니다.\n",
      "21 번째 재귀함수를 종료합니다.\n",
      "20 번째 재귀함수를 종료합니다.\n",
      "19 번째 재귀함수를 종료합니다.\n",
      "18 번째 재귀함수를 종료합니다.\n",
      "17 번째 재귀함수를 종료합니다.\n",
      "16 번째 재귀함수를 종료합니다.\n",
      "15 번째 재귀함수를 종료합니다.\n",
      "14 번째 재귀함수를 종료합니다.\n",
      "13 번째 재귀함수를 종료합니다.\n",
      "12 번째 재귀함수를 종료합니다.\n",
      "11 번째 재귀함수를 종료합니다.\n",
      "10 번째 재귀함수를 종료합니다.\n",
      "9 번째 재귀함수를 종료합니다.\n",
      "8 번째 재귀함수를 종료합니다.\n",
      "7 번째 재귀함수를 종료합니다.\n",
      "6 번째 재귀함수를 종료합니다.\n",
      "5 번째 재귀함수를 종료합니다.\n",
      "4 번째 재귀함수를 종료합니다.\n",
      "3 번째 재귀함수를 종료합니다.\n",
      "2 번째 재귀함수를 종료합니다.\n",
      "1 번째 재귀함수를 종료합니다.\n",
      "0 번째 재귀함수를 종료합니다.\n"
     ]
    }
   ],
   "source": [
    "# 재귀함수 종료 예제\n",
    "def recursive_function(i) :\n",
    "    if i >= 100 :\n",
    "        return \n",
    "    print(f\"{i} 번째 재귀함수에서 {i+1} 번째 재귀 함수를 호출합니다.\")\n",
    "    recursive_function(i+1)\n",
    "    print(f\"{i} 번째 재귀함수를 종료합니다.\")\n",
    "\n",
    "\n",
    "\n",
    "recursive_function(0)"
   ]
  },
  {
   "cell_type": "code",
   "execution_count": 8,
   "id": "ca1a9019-1528-43ba-a879-1599672bb2ee",
   "metadata": {},
   "outputs": [
    {
     "name": "stdout",
     "output_type": "stream",
     "text": [
      "6 iterative:  720\n",
      "6 recursive:  720\n"
     ]
    }
   ],
   "source": [
    "# 반복적과 재귀적으로 구현한 팩토리얼 함수\n",
    "\n",
    "def factorial_iterative(n) :\n",
    "    result = 1\n",
    "    for i in range(2,n+1) :\n",
    "        result *= i\n",
    "    return result\n",
    "\n",
    "\n",
    "def factorial_recursive(n) :\n",
    "    if (n <= 1 ) :\n",
    "        return 1\n",
    "    return n * factorial_recursive(n-1)\n",
    "\n",
    "print(\"6 iterative: \", factorial_iterative(6))\n",
    "print(\"6 recursive: \", factorial_recursive(6))"
   ]
  },
  {
   "cell_type": "code",
   "execution_count": null,
   "id": "474c596a-2d7b-4bed-9952-54a17dae6be7",
   "metadata": {},
   "outputs": [],
   "source": []
  },
  {
   "cell_type": "code",
   "execution_count": 10,
   "id": "5d0fa515-9a9c-4cf4-bb73-1b77d9925885",
   "metadata": {},
   "outputs": [
    {
     "name": "stdout",
     "output_type": "stream",
     "text": [
      "[[0, 7, 5], [7, 0, 9999999], [5, 9999999, 0]]\n"
     ]
    }
   ],
   "source": [
    "# 인접 행렬 방식\n",
    "INF = 9999999\n",
    "\n",
    "graph = [\n",
    "    [0, 7, 5],\n",
    "    [7, 0, INF],\n",
    "    [5, INF, 0]\n",
    "]\n",
    "\n",
    "print(graph)"
   ]
  },
  {
   "cell_type": "code",
   "execution_count": 11,
   "id": "3fe9f50a-1c84-4d33-b108-1336aa688692",
   "metadata": {},
   "outputs": [
    {
     "name": "stdout",
     "output_type": "stream",
     "text": [
      "[[(1, 7), (2, 5)], [(0, 7)], [(0, 5)]]\n"
     ]
    }
   ],
   "source": [
    "# 인접 리스트 방식\n",
    "graph = [[] for _ in range(3)]\n",
    "\n",
    "graph[0].append((1, 7))\n",
    "graph[0].append((2, 5))\n",
    "\n",
    "graph[1].append((0, 7))\n",
    "\n",
    "graph[2].append((0, 5))\n",
    "\n",
    "print(graph)"
   ]
  },
  {
   "cell_type": "markdown",
   "id": "3c90a88d-b9e7-4c7d-b11c-4e7da03e3e47",
   "metadata": {},
   "source": [
    "# DFS (Depth-First Search) \n",
    "## : 깊이 우선 탐색, 그리프에서 깊은 부분을 우선적으로 탐색하는 알고리즘\n",
    "## 스택으로 구현"
   ]
  },
  {
   "cell_type": "code",
   "execution_count": 13,
   "id": "c2dcb6b0-d73c-46fd-9092-036ab7f4e8bd",
   "metadata": {},
   "outputs": [
    {
     "name": "stdout",
     "output_type": "stream",
     "text": [
      "1 2 7 6 8 3 4 5 "
     ]
    }
   ],
   "source": [
    "# DFS 예제\n",
    "\n",
    "def dfs(graph, v, visited) :\n",
    "    visited[v] = True\n",
    "    print(v, end=' ')\n",
    "    for i in graph[v] :\n",
    "        if not visited[i] :\n",
    "            dfs(graph, i, visited)\n",
    "            \n",
    "graph = [\n",
    "    [],\n",
    "    [2, 3, 8],\n",
    "    [1, 7],\n",
    "    [1, 4, 5],\n",
    "    [3, 5],\n",
    "    [3, 4],\n",
    "    [7],\n",
    "    [2, 6, 8],\n",
    "    [1, 7]\n",
    "]\n",
    "\n",
    "visited = [False] * 9\n",
    "\n",
    "dfs(graph, 1, visited)"
   ]
  },
  {
   "cell_type": "markdown",
   "id": "98be250c-ba2b-481b-a05e-afb09598fa44",
   "metadata": {},
   "source": [
    "# BFS (Breath First Search) \n",
    "## : 너비 우선 탐색, 가까운 노드부터 탐색하는 알고리즘\n",
    "## 큐로 구현"
   ]
  },
  {
   "cell_type": "code",
   "execution_count": 16,
   "id": "50554a15-2c8c-413a-9c5d-727cdf2f8fa7",
   "metadata": {},
   "outputs": [
    {
     "name": "stdout",
     "output_type": "stream",
     "text": [
      "1 2 3 8 7 4 5 6 "
     ]
    }
   ],
   "source": [
    "# BFS\n",
    "from collections import deque\n",
    "\n",
    "def bfs(graph, v , visited) :\n",
    "    queue = deque()\n",
    "    queue.append(v)\n",
    "    visited[v] = True\n",
    "    while queue :\n",
    "        i = queue.popleft()\n",
    "        print(i, end=' ')\n",
    "        for i in graph[i] :\n",
    "            if (not visited[i]) :\n",
    "                queue.append(i)\n",
    "                visited[i] = True\n",
    "\n",
    "\n",
    "                \n",
    "graph = [\n",
    "    [],\n",
    "    [2, 3, 8],\n",
    "    [1, 7],\n",
    "    [1, 4, 5],\n",
    "    [3, 5],\n",
    "    [3, 4],\n",
    "    [7],\n",
    "    [2, 6, 8],\n",
    "    [1, 7]\n",
    "]\n",
    "\n",
    "visited = [False] * 9\n",
    "\n",
    "bfs(graph, 1, visited)\n",
    "    "
   ]
  },
  {
   "cell_type": "markdown",
   "id": "e0461094-3783-4fb1-8eeb-69a72472e6e5",
   "metadata": {},
   "source": [
    "# 음류수 얼려 먹기"
   ]
  },
  {
   "cell_type": "code",
   "execution_count": 46,
   "id": "9d6eb46b-d12e-43ef-b4f1-a07f0af31792",
   "metadata": {},
   "outputs": [
    {
     "ename": "KeyboardInterrupt",
     "evalue": "Interrupted by user",
     "output_type": "error",
     "traceback": [
      "\u001b[1;31m---------------------------------------------------------------------------\u001b[0m",
      "\u001b[1;31mKeyboardInterrupt\u001b[0m                         Traceback (most recent call last)",
      "Cell \u001b[1;32mIn[46], line 23\u001b[0m\n\u001b[0;32m     18\u001b[0m                     visited[new_row][new_col] \u001b[38;5;241m=\u001b[39m \u001b[38;5;28;01mTrue\u001b[39;00m\n\u001b[0;32m     22\u001b[0m \u001b[38;5;66;03m# 입력 받기 \u001b[39;00m\n\u001b[1;32m---> 23\u001b[0m N, M \u001b[38;5;241m=\u001b[39m \u001b[38;5;28mmap\u001b[39m(\u001b[38;5;28mint\u001b[39m, \u001b[38;5;28;43minput\u001b[39;49m\u001b[43m(\u001b[49m\u001b[43m)\u001b[49m\u001b[38;5;241m.\u001b[39msplit())\n\u001b[0;32m     27\u001b[0m graph \u001b[38;5;241m=\u001b[39m []\n\u001b[0;32m     28\u001b[0m count \u001b[38;5;241m=\u001b[39m \u001b[38;5;241m0\u001b[39m\n",
      "File \u001b[1;32m~\\anaconda3\\envs\\DIVA\\lib\\site-packages\\ipykernel\\kernelbase.py:1282\u001b[0m, in \u001b[0;36mKernel.raw_input\u001b[1;34m(self, prompt)\u001b[0m\n\u001b[0;32m   1280\u001b[0m     msg \u001b[38;5;241m=\u001b[39m \u001b[38;5;124m\"\u001b[39m\u001b[38;5;124mraw_input was called, but this frontend does not support input requests.\u001b[39m\u001b[38;5;124m\"\u001b[39m\n\u001b[0;32m   1281\u001b[0m     \u001b[38;5;28;01mraise\u001b[39;00m StdinNotImplementedError(msg)\n\u001b[1;32m-> 1282\u001b[0m \u001b[38;5;28;01mreturn\u001b[39;00m \u001b[38;5;28;43mself\u001b[39;49m\u001b[38;5;241;43m.\u001b[39;49m\u001b[43m_input_request\u001b[49m\u001b[43m(\u001b[49m\n\u001b[0;32m   1283\u001b[0m \u001b[43m    \u001b[49m\u001b[38;5;28;43mstr\u001b[39;49m\u001b[43m(\u001b[49m\u001b[43mprompt\u001b[49m\u001b[43m)\u001b[49m\u001b[43m,\u001b[49m\n\u001b[0;32m   1284\u001b[0m \u001b[43m    \u001b[49m\u001b[38;5;28;43mself\u001b[39;49m\u001b[38;5;241;43m.\u001b[39;49m\u001b[43m_parent_ident\u001b[49m\u001b[43m[\u001b[49m\u001b[38;5;124;43m\"\u001b[39;49m\u001b[38;5;124;43mshell\u001b[39;49m\u001b[38;5;124;43m\"\u001b[39;49m\u001b[43m]\u001b[49m\u001b[43m,\u001b[49m\n\u001b[0;32m   1285\u001b[0m \u001b[43m    \u001b[49m\u001b[38;5;28;43mself\u001b[39;49m\u001b[38;5;241;43m.\u001b[39;49m\u001b[43mget_parent\u001b[49m\u001b[43m(\u001b[49m\u001b[38;5;124;43m\"\u001b[39;49m\u001b[38;5;124;43mshell\u001b[39;49m\u001b[38;5;124;43m\"\u001b[39;49m\u001b[43m)\u001b[49m\u001b[43m,\u001b[49m\n\u001b[0;32m   1286\u001b[0m \u001b[43m    \u001b[49m\u001b[43mpassword\u001b[49m\u001b[38;5;241;43m=\u001b[39;49m\u001b[38;5;28;43;01mFalse\u001b[39;49;00m\u001b[43m,\u001b[49m\n\u001b[0;32m   1287\u001b[0m \u001b[43m\u001b[49m\u001b[43m)\u001b[49m\n",
      "File \u001b[1;32m~\\anaconda3\\envs\\DIVA\\lib\\site-packages\\ipykernel\\kernelbase.py:1325\u001b[0m, in \u001b[0;36mKernel._input_request\u001b[1;34m(self, prompt, ident, parent, password)\u001b[0m\n\u001b[0;32m   1322\u001b[0m \u001b[38;5;28;01mexcept\u001b[39;00m \u001b[38;5;167;01mKeyboardInterrupt\u001b[39;00m:\n\u001b[0;32m   1323\u001b[0m     \u001b[38;5;66;03m# re-raise KeyboardInterrupt, to truncate traceback\u001b[39;00m\n\u001b[0;32m   1324\u001b[0m     msg \u001b[38;5;241m=\u001b[39m \u001b[38;5;124m\"\u001b[39m\u001b[38;5;124mInterrupted by user\u001b[39m\u001b[38;5;124m\"\u001b[39m\n\u001b[1;32m-> 1325\u001b[0m     \u001b[38;5;28;01mraise\u001b[39;00m \u001b[38;5;167;01mKeyboardInterrupt\u001b[39;00m(msg) \u001b[38;5;28;01mfrom\u001b[39;00m \u001b[38;5;28;01mNone\u001b[39;00m\n\u001b[0;32m   1326\u001b[0m \u001b[38;5;28;01mexcept\u001b[39;00m \u001b[38;5;167;01mException\u001b[39;00m:\n\u001b[0;32m   1327\u001b[0m     \u001b[38;5;28mself\u001b[39m\u001b[38;5;241m.\u001b[39mlog\u001b[38;5;241m.\u001b[39mwarning(\u001b[38;5;124m\"\u001b[39m\u001b[38;5;124mInvalid Message:\u001b[39m\u001b[38;5;124m\"\u001b[39m, exc_info\u001b[38;5;241m=\u001b[39m\u001b[38;5;28;01mTrue\u001b[39;00m)\n",
      "\u001b[1;31mKeyboardInterrupt\u001b[0m: Interrupted by user"
     ]
    }
   ],
   "source": [
    "from collections import deque \n",
    "\n",
    "\n",
    "def bfs(visited, r, c) :\n",
    "    row = [1, 0, -1, 0]\n",
    "    col = [0, 1, 0, -1]\n",
    "    queue = deque()\n",
    "    queue.append((r,c))\n",
    "    visited[r][c] = True\n",
    "    while queue :\n",
    "        r, c = queue.popleft()\n",
    "        for i, j in zip(row, col) :\n",
    "            new_row = r+i\n",
    "            new_col = c+j\n",
    "            if (new_row >= 0 and new_row < N and new_col >= 0 and new_col < M) :\n",
    "                if graph[new_row][new_col] == '0' and (not visited[new_row][new_col])  :\n",
    "                    queue.append((new_row,new_col))\n",
    "                    visited[new_row][new_col] = True\n",
    "            \n",
    "\n",
    "\n",
    "# 입력 받기 \n",
    "N, M = map(int, input().split())\n",
    "\n",
    "\n",
    "\n",
    "graph = []\n",
    "count = 0\n",
    "visited = [[False]*M]*N\n",
    "\n",
    "\n",
    "\n",
    "for i in range(N) :\n",
    "    graph.append(input())\n",
    "        \n",
    "\n",
    "for i in range(N) :\n",
    "    for j in range(M) :\n",
    "        if (not visited[i][j]) and graph[i][j] == '0':\n",
    "            bfs(visited,i,j)\n",
    "            count += 1\n",
    "\n",
    "print(count)"
   ]
  },
  {
   "cell_type": "code",
   "execution_count": null,
   "id": "ee26e19b-64ae-4230-9d69-f6964bdf737b",
   "metadata": {},
   "outputs": [],
   "source": []
  },
  {
   "cell_type": "code",
   "execution_count": null,
   "id": "0d94d5f6-b9ca-4432-9bd8-9d607ff904ab",
   "metadata": {},
   "outputs": [],
   "source": []
  },
  {
   "cell_type": "code",
   "execution_count": null,
   "id": "91a7dfc8-7456-4950-bdf3-9e668650c154",
   "metadata": {},
   "outputs": [],
   "source": []
  },
  {
   "cell_type": "code",
   "execution_count": null,
   "id": "c4339196-1959-4038-8f01-0479bd0ae9b1",
   "metadata": {},
   "outputs": [],
   "source": []
  },
  {
   "cell_type": "code",
   "execution_count": null,
   "id": "05ae4fa1-17aa-4999-89d8-ded11ee0a1cd",
   "metadata": {},
   "outputs": [],
   "source": []
  },
  {
   "cell_type": "code",
   "execution_count": null,
   "id": "8169d2e1-dbc5-4699-b504-02e5e6422946",
   "metadata": {},
   "outputs": [],
   "source": []
  },
  {
   "cell_type": "code",
   "execution_count": null,
   "id": "7dfa30c1-6b0c-4850-a56b-48d662dfb8d0",
   "metadata": {},
   "outputs": [],
   "source": []
  },
  {
   "cell_type": "code",
   "execution_count": null,
   "id": "3cb3a3cf-4b59-49d0-a523-463630775d4d",
   "metadata": {},
   "outputs": [],
   "source": []
  },
  {
   "cell_type": "code",
   "execution_count": null,
   "id": "f827bf9f-d32c-4e94-9591-2caea0f3f7b5",
   "metadata": {},
   "outputs": [],
   "source": []
  },
  {
   "cell_type": "code",
   "execution_count": null,
   "id": "32f5aa81-7f88-422a-8910-a1ec687e6737",
   "metadata": {},
   "outputs": [],
   "source": []
  },
  {
   "cell_type": "code",
   "execution_count": null,
   "id": "50d1d233-d146-49de-829f-19007b71a9f2",
   "metadata": {},
   "outputs": [],
   "source": []
  },
  {
   "cell_type": "code",
   "execution_count": null,
   "id": "d54aa03e-9433-43b8-9d8e-89ed0c0315f5",
   "metadata": {},
   "outputs": [],
   "source": []
  },
  {
   "cell_type": "code",
   "execution_count": null,
   "id": "ba1ef87d-d08a-4b1f-97cd-6246a05707f1",
   "metadata": {},
   "outputs": [],
   "source": []
  },
  {
   "cell_type": "code",
   "execution_count": null,
   "id": "d42665f2-524c-4582-b244-c49e4473da20",
   "metadata": {},
   "outputs": [],
   "source": []
  },
  {
   "cell_type": "code",
   "execution_count": null,
   "id": "5adc7ae0-6efa-4687-b24a-9ccf95444630",
   "metadata": {},
   "outputs": [],
   "source": []
  },
  {
   "cell_type": "code",
   "execution_count": null,
   "id": "e41360cc-b332-4617-a796-951c689df2a8",
   "metadata": {},
   "outputs": [],
   "source": []
  },
  {
   "cell_type": "code",
   "execution_count": null,
   "id": "e88fac10-2cbf-4e27-b94d-31e73deb429b",
   "metadata": {},
   "outputs": [],
   "source": []
  }
 ],
 "metadata": {
  "kernelspec": {
   "display_name": "Python 3 (ipykernel)",
   "language": "python",
   "name": "python3"
  },
  "language_info": {
   "codemirror_mode": {
    "name": "ipython",
    "version": 3
   },
   "file_extension": ".py",
   "mimetype": "text/x-python",
   "name": "python",
   "nbconvert_exporter": "python",
   "pygments_lexer": "ipython3",
   "version": "3.9.18"
  },
  "widgets": {
   "application/vnd.jupyter.widget-state+json": {
    "state": {},
    "version_major": 2,
    "version_minor": 0
   }
  }
 },
 "nbformat": 4,
 "nbformat_minor": 5
}
