{
 "cells": [
  {
   "cell_type": "markdown",
   "id": "a9010782-e303-4e13-b734-e61cbe30ea91",
   "metadata": {},
   "source": [
    "# Sorting\n",
    "\n",
    "## 데이터를 특정한 기준에 따라서 순서대로 나열 \n",
    "\n",
    "## 선택정렬\n",
    "\n",
    "## 삽입정렬\n",
    "\n",
    "## 퀵정렬\n",
    "\n",
    "## 계수정렬\n"
   ]
  },
  {
   "cell_type": "code",
   "execution_count": 1,
   "id": "e2bbbf89-5ef1-44a5-ba88-c7c05523b087",
   "metadata": {},
   "outputs": [
    {
     "name": "stdout",
     "output_type": "stream",
     "text": [
      "[0, 1, 2, 3, 4, 5, 6, 7, 8, 9]\n"
     ]
    }
   ],
   "source": [
    "# 선택정렬\n",
    "\n",
    "array = [7, 5, 9, 0, 3, 1, 6, 2, 4, 8]\n",
    "\n",
    "for i in range(len(array)) :\n",
    "    min_index = i\n",
    "    for j in range(i+1, len(array)) :\n",
    "        if array[min_index] > array[j] :\n",
    "            min_index = j\n",
    "    array[min_index], array[i] = array[i], array[min_index]\n",
    "\n",
    "print(array)"
   ]
  },
  {
   "cell_type": "code",
   "execution_count": 2,
   "id": "acfd68fd-7ded-4f18-bbbc-46ea472afec9",
   "metadata": {},
   "outputs": [
    {
     "name": "stdout",
     "output_type": "stream",
     "text": [
      "[0, 1, 2, 3, 4, 5, 6, 7, 8, 9]\n"
     ]
    }
   ],
   "source": [
    "# 삽입정렬\n",
    "\n",
    "array = [7, 5, 9, 0, 3, 1, 6, 2, 4, 8]\n",
    "\n",
    "for i in range(1, len(array)) :\n",
    "    for j in range(i, 0, -1) :\n",
    "        if array[j] < array[j-1] :\n",
    "            array[j], array[j-1] =  array[j-1], array[j] \n",
    "        else :\n",
    "            break\n",
    "\n",
    "print(array)"
   ]
  },
  {
   "cell_type": "code",
   "execution_count": 5,
   "id": "ffc7ae55-14bd-47fc-bfe0-79cabafab60d",
   "metadata": {},
   "outputs": [
    {
     "name": "stdout",
     "output_type": "stream",
     "text": [
      "[0, 1, 2, 3, 4, 5, 6, 7, 8, 9]\n"
     ]
    }
   ],
   "source": [
    "# 퀵 정렬\n",
    "\n",
    "array = [7, 5, 9, 0, 3, 1, 6, 2, 4, 8]\n",
    "\n",
    "def quick_sort(array, start, end) :\n",
    "    if start >= end :\n",
    "        return\n",
    "    pivot = start \n",
    "    left = start + 1\n",
    "    right = end\n",
    "    while left <= right :\n",
    "        while left <= end and array[left] <= array[pivot] :\n",
    "            left += 1\n",
    "        while right > start and array[right] >= array[pivot] :\n",
    "            right -= 1\n",
    "        if left > right :\n",
    "            array[right], array[pivot] = array[pivot], array[right]\n",
    "        else :\n",
    "            array[left], array[right] = array[right], array[left]\n",
    "\n",
    "    quick_sort(array, start, right - 1) \n",
    "    quick_sort(array, right+1, end)\n",
    "\n",
    "quick_sort(array, 0, len(array)-1)\n",
    "print(array)"
   ]
  },
  {
   "cell_type": "code",
   "execution_count": 7,
   "id": "0e54c603-51b6-4cdd-a685-a4a7a48d48f1",
   "metadata": {},
   "outputs": [
    {
     "name": "stdout",
     "output_type": "stream",
     "text": [
      "[0, 1, 2, 3, 4, 5, 6, 7, 8, 9]\n"
     ]
    }
   ],
   "source": [
    "# 파이썬의 장점으 살린 퀵 정렬 소스코드\n",
    "\n",
    "array = [7, 5, 9, 0, 3, 1, 6, 2, 4, 8]\n",
    "\n",
    "def quick_sort(array) :\n",
    "    if (len(array) <= 1) :\n",
    "        return array\n",
    "\n",
    "    pivot = array[0]\n",
    "    tail = array[1:]\n",
    "\n",
    "    left_side = [x for x in tail if x <= pivot]\n",
    "    right_side = [x for x in tail if x > pivot]\n",
    "\n",
    "    return quick_sort(left_side) + [pivot] + quick_sort(right_side)\n",
    "\n",
    "\n",
    "print(quick_sort(array))"
   ]
  },
  {
   "cell_type": "code",
   "execution_count": 9,
   "id": "852b7e4a-c172-4c0e-a7cb-6beebed38800",
   "metadata": {},
   "outputs": [
    {
     "name": "stdout",
     "output_type": "stream",
     "text": [
      "0 0 1 1 2 2 3 4 5 5 6 7 8 9 9 "
     ]
    }
   ],
   "source": [
    "# 계수정렬\n",
    "\n",
    "array = [7, 5, 9, 0, 3, 1, 6, 2, 9, 1, 4, 8, 0, 5, 2]\n",
    "\n",
    "count = [0] * (max(array) + 1)\n",
    "\n",
    "for i in range(len(array)) :\n",
    "    count[array[i]] += 1\n",
    "\n",
    "for i in range(len(count)) :\n",
    "    for j in range(count[i]) :\n",
    "        print(i, end=\" \")"
   ]
  },
  {
   "cell_type": "code",
   "execution_count": null,
   "id": "3ec35210-61e0-4e81-8d4b-805b179dec7e",
   "metadata": {},
   "outputs": [],
   "source": [
    "# 위에서 아래로z"
   ]
  },
  {
   "cell_type": "code",
   "execution_count": 13,
   "id": "7acb7af0-5fe4-4c7f-9a2d-1ea3d92a1ce0",
   "metadata": {},
   "outputs": [
    {
     "name": "stdin",
     "output_type": "stream",
     "text": [
      " 3\n",
      " 15\n",
      " 27\n",
      " 12\n"
     ]
    },
    {
     "name": "stdout",
     "output_type": "stream",
     "text": [
      "27 15 12\n"
     ]
    }
   ],
   "source": [
    "\n",
    "\n",
    "N = int(input())\n",
    "numbers=[]\n",
    "for number in range(N) :\n",
    "    numbers.append(int(input()))\n",
    "\n",
    "numbers.sort(reverse = True)\n",
    "print(*numbers)"
   ]
  },
  {
   "cell_type": "markdown",
   "id": "91aad6f8-e018-44a5-9a28-e8d8e257fa12",
   "metadata": {},
   "source": [
    "# 성적이 낮은 순서로 학생 출력하기"
   ]
  },
  {
   "cell_type": "code",
   "execution_count": 14,
   "id": "c383f716-9dad-4dc0-9457-d80eeeb88138",
   "metadata": {},
   "outputs": [
    {
     "name": "stdin",
     "output_type": "stream",
     "text": [
      " 2\n",
      " 홍길동 95\n",
      " 이순신 77\n"
     ]
    },
    {
     "name": "stdout",
     "output_type": "stream",
     "text": [
      "이순신 홍길동 "
     ]
    }
   ],
   "source": [
    "N = int(input())\n",
    "\n",
    "grades = []\n",
    "for i in range(N) :\n",
    "    name, grade = input().split()\n",
    "    grades.append((name, int(grade)))\n",
    "\n",
    "grades.sort(key=lambda x : x[1])\n",
    "\n",
    "for student in grades :\n",
    "    print(student[0], end = \" \")"
   ]
  },
  {
   "cell_type": "markdown",
   "id": "a4fd7a9d-ea76-47dc-94ba-92848247f26c",
   "metadata": {},
   "source": [
    "# 두 배열의 원소 교체"
   ]
  },
  {
   "cell_type": "code",
   "execution_count": 15,
   "id": "0ff595f2-7a64-4793-87c3-8366a26f6567",
   "metadata": {},
   "outputs": [
    {
     "name": "stdin",
     "output_type": "stream",
     "text": [
      " 5 3\n",
      " 1 2 5 4 3\n",
      " 5 5 6 6 5\n"
     ]
    },
    {
     "name": "stdout",
     "output_type": "stream",
     "text": [
      "26\n"
     ]
    }
   ],
   "source": [
    "\n",
    "N, K = list(map(int, input().split()))\n",
    "\n",
    "A = list(map(int, input().split()))\n",
    "B = list(map(int, input().split()))\n",
    "\n",
    "A.sort()\n",
    "B.sort(reverse = True)\n",
    "\n",
    "for i in range(K) :\n",
    "    if A[i] < B[i] :\n",
    "        A[i] = B[i]\n",
    "    else :\n",
    "        break\n",
    "\n",
    "print(sum(A))"
   ]
  },
  {
   "cell_type": "code",
   "execution_count": null,
   "id": "6ed26a67-e9f3-4d95-9a4b-477da5d2dac1",
   "metadata": {},
   "outputs": [],
   "source": []
  },
  {
   "cell_type": "code",
   "execution_count": null,
   "id": "a765bfce-74f4-4e4b-af83-62f0e8ba1e5b",
   "metadata": {},
   "outputs": [],
   "source": []
  },
  {
   "cell_type": "code",
   "execution_count": null,
   "id": "7e6cdb3d-613b-426a-8cb9-f704f494aa6e",
   "metadata": {},
   "outputs": [],
   "source": []
  },
  {
   "cell_type": "code",
   "execution_count": null,
   "id": "7f18fed0-8303-41c2-9e10-64779fb543d5",
   "metadata": {},
   "outputs": [],
   "source": []
  },
  {
   "cell_type": "code",
   "execution_count": null,
   "id": "e2079350-2b4a-49a2-be93-bf12c5e9e965",
   "metadata": {},
   "outputs": [],
   "source": []
  },
  {
   "cell_type": "code",
   "execution_count": null,
   "id": "c56da72f-d79b-46b6-a42d-ba5eda7dd844",
   "metadata": {},
   "outputs": [],
   "source": []
  },
  {
   "cell_type": "code",
   "execution_count": null,
   "id": "7c79cc8c-e4de-44e9-9cad-04e1e104549d",
   "metadata": {},
   "outputs": [],
   "source": []
  },
  {
   "cell_type": "code",
   "execution_count": null,
   "id": "df38e9ac-383a-4aad-889f-0e444cddc100",
   "metadata": {},
   "outputs": [],
   "source": []
  },
  {
   "cell_type": "code",
   "execution_count": null,
   "id": "d75952e3-c9ca-467d-b7d2-8c81dc33e1d8",
   "metadata": {},
   "outputs": [],
   "source": []
  },
  {
   "cell_type": "code",
   "execution_count": null,
   "id": "6163c375-9b5a-4828-be7e-89dd07d9e4b9",
   "metadata": {},
   "outputs": [],
   "source": []
  },
  {
   "cell_type": "code",
   "execution_count": null,
   "id": "77aafcff-e274-4f39-a393-26fde9c062ba",
   "metadata": {},
   "outputs": [],
   "source": []
  },
  {
   "cell_type": "code",
   "execution_count": null,
   "id": "c5566cc9-83e2-44de-8344-f73a3da06018",
   "metadata": {},
   "outputs": [],
   "source": []
  },
  {
   "cell_type": "code",
   "execution_count": null,
   "id": "db76dec3-dc3d-4ab2-9945-6285dd6c8a2b",
   "metadata": {},
   "outputs": [],
   "source": []
  },
  {
   "cell_type": "code",
   "execution_count": null,
   "id": "e7bc2d25-d228-41bd-8ed0-b71211b17f94",
   "metadata": {},
   "outputs": [],
   "source": []
  },
  {
   "cell_type": "code",
   "execution_count": null,
   "id": "49bcf0a9-050c-4482-ac83-bba8997d17a6",
   "metadata": {},
   "outputs": [],
   "source": []
  }
 ],
 "metadata": {
  "kernelspec": {
   "display_name": "Python 3 (ipykernel)",
   "language": "python",
   "name": "python3"
  },
  "language_info": {
   "codemirror_mode": {
    "name": "ipython",
    "version": 3
   },
   "file_extension": ".py",
   "mimetype": "text/x-python",
   "name": "python",
   "nbconvert_exporter": "python",
   "pygments_lexer": "ipython3",
   "version": "3.9.18"
  },
  "widgets": {
   "application/vnd.jupyter.widget-state+json": {
    "state": {},
    "version_major": 2,
    "version_minor": 0
   }
  }
 },
 "nbformat": 4,
 "nbformat_minor": 5
}
