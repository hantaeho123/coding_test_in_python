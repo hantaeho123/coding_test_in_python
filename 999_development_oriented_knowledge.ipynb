{
 "cells": [
  {
   "cell_type": "markdown",
   "id": "8b6188b3-4d96-4647-aff0-4a44962370af",
   "metadata": {},
   "source": [
    "# 개발형 코딩 테스트 \n",
    ": 정해진 목적에 따라서 동작하는 완성된 프로그램을 개발하는 것을 요구"
   ]
  },
  {
   "cell_type": "markdown",
   "id": "c776a10c-e607-4f5f-a73b-c863a3b61b03",
   "metadata": {},
   "source": [
    "## 파이썬으로 웹 요청하기"
   ]
  },
  {
   "cell_type": "code",
   "execution_count": 1,
   "id": "8c6beb67-f03a-4191-b3a9-5e083ec0463f",
   "metadata": {
    "collapsed": true,
    "jupyter": {
     "outputs_hidden": true
    }
   },
   "outputs": [
    {
     "name": "stdout",
     "output_type": "stream",
     "text": [
      "<html>\n",
      "  <head>\n",
      "    <meta name=\"viewport\" content=\"width=device-width, initial-scale=1\" />\n",
      "    <style global>body{font-family:Arial,Helvetica,sans-serif}.container{align-items:center;display:flex;flex-direction:column;gap:2rem;height:100%;justify-content:center;width:100%}@keyframes enlarge-appear{0%{opacity:0;transform:scale(75%) rotate(-90deg)}to{opacity:1;transform:scale(100%) rotate(0deg)}}.logo{color:#8e8ea0}.scale-appear{animation:enlarge-appear .4s ease-out}@media (min-width:768px){.scale-appear{height:48px;width:48px}}.data:empty{display:none}.data{border-radius:5px;color:#8e8ea0;text-align:center}@media (prefers-color-scheme:dark){body{background-color:#343541}.logo{color:#acacbe}}</style>\n",
      "  <meta http-equiv=\"refresh\" content=\"360\">\n",
      "</head>\n",
      "  <body>\n",
      "    <div class=\"container\">\n",
      "      <div class=\"logo\">\n",
      "        <svg\n",
      "          width=\"41\"\n",
      "          height=\"41\"\n",
      "          viewBox=\"0 0 41 41\"\n",
      "          fill=\"none\"\n",
      "          xmlns=\"http://www.w3.org/2000/svg\"\n",
      "          strokeWidth=\"2\"\n",
      "          class=\"scale-appear\"\n",
      "        >\n",
      "          <path\n",
      "            d=\"M37.5324 16.8707C37.9808 15.5241 38.1363 14.0974 37.9886 12.6859C37.8409 11.2744 37.3934 9.91076 36.676 8.68622C35.6126 6.83404 33.9882 5.3676 32.0373 4.4985C30.0864 3.62941 27.9098 3.40259 25.8215 3.85078C24.8796 2.7893 23.7219 1.94125 22.4257 1.36341C21.1295 0.785575 19.7249 0.491269 18.3058 0.500197C16.1708 0.495044 14.0893 1.16803 12.3614 2.42214C10.6335 3.67624 9.34853 5.44666 8.6917 7.47815C7.30085 7.76286 5.98686 8.3414 4.8377 9.17505C3.68854 10.0087 2.73073 11.0782 2.02839 12.312C0.956464 14.1591 0.498905 16.2988 0.721698 18.4228C0.944492 20.5467 1.83612 22.5449 3.268 24.1293C2.81966 25.4759 2.66413 26.9026 2.81182 28.3141C2.95951 29.7256 3.40701 31.0892 4.12437 32.3138C5.18791 34.1659 6.8123 35.6322 8.76321 36.5013C10.7141 37.3704 12.8907 37.5973 14.9789 37.1492C15.9208 38.2107 17.0786 39.0587 18.3747 39.6366C19.6709 40.2144 21.0755 40.5087 22.4946 40.4998C24.6307 40.5054 26.7133 39.8321 28.4418 38.5772C30.1704 37.3223 31.4556 35.5506 32.1119 33.5179C33.5027 33.2332 34.8167 32.6547 35.9659 31.821C37.115 30.9874 38.0728 29.9178 38.7752 28.684C39.8458 26.8371 40.3023 24.6979 40.0789 22.5748C39.8556 20.4517 38.9639 18.4544 37.5324 16.8707ZM22.4978 37.8849C20.7443 37.8874 19.0459 37.2733 17.6994 36.1501C17.7601 36.117 17.8666 36.0586 17.936 36.0161L25.9004 31.4156C26.1003 31.3019 26.2663 31.137 26.3813 30.9378C26.4964 30.7386 26.5563 30.5124 26.5549 30.2825V19.0542L29.9213 20.998C29.9389 21.0068 29.9541 21.0198 29.9656 21.0359C29.977 21.052 29.9842 21.0707 29.9867 21.0902V30.3889C29.9842 32.375 29.1946 34.2791 27.7909 35.6841C26.3872 37.0892 24.4838 37.8806 22.4978 37.8849ZM6.39227 31.0064C5.51397 29.4888 5.19742 27.7107 5.49804 25.9832C5.55718 26.0187 5.66048 26.0818 5.73461 26.1244L13.699 30.7248C13.8975 30.8408 14.1233 30.902 14.3532 30.902C14.583 30.902 14.8088 30.8408 15.0073 30.7248L24.731 25.1103V28.9979C24.7321 29.0177 24.7283 29.0376 24.7199 29.0556C24.7115 29.0736 24.6988 29.0893 24.6829 29.1012L16.6317 33.7497C14.9096 34.7416 12.8643 35.0097 10.9447 34.4954C9.02506 33.9811 7.38785 32.7263 6.39227 31.0064ZM4.29707 13.6194C5.17156 12.0998 6.55279 10.9364 8.19885 10.3327C8.19885 10.4013 8.19491 10.5228 8.19491 10.6071V19.808C8.19351 20.0378 8.25334 20.2638 8.36823 20.4629C8.48312 20.6619 8.64893 20.8267 8.84863 20.9404L18.5723 26.5542L15.206 28.4979C15.1894 28.5089 15.1703 28.5155 15.1505 28.5173C15.1307 28.5191 15.1107 28.516 15.0924 28.5082L7.04046 23.8557C5.32135 22.8601 4.06716 21.2235 3.55289 19.3046C3.03862 17.3858 3.30624 15.3413 4.29707 13.6194ZM31.955 20.0556L22.2312 14.4411L25.5976 12.4981C25.6142 12.4872 25.6333 12.4805 25.6531 12.4787C25.6729 12.4769 25.6928 12.4801 25.7111 12.4879L33.7631 17.1364C34.9967 17.849 36.0017 18.8982 36.6606 20.1613C37.3194 21.4244 37.6047 22.849 37.4832 24.2684C37.3617 25.6878 36.8382 27.0432 35.9743 28.1759C35.1103 29.3086 33.9415 30.1717 32.6047 30.6641C32.6047 30.5947 32.6047 30.4733 32.6047 30.3889V21.188C32.6066 20.9586 32.5474 20.7328 32.4332 20.5338C32.319 20.3348 32.154 20.1698 31.955 20.0556ZM35.3055 15.0128C35.2464 14.9765 35.1431 14.9142 35.069 14.8717L27.1045 10.2712C26.906 10.1554 26.6803 10.0943 26.4504 10.0943C26.2206 10.0943 25.9948 10.1554 25.7963 10.2712L16.0726 15.8858V11.9982C16.0715 11.9783 16.0753 11.9585 16.0837 11.9405C16.0921 11.9225 16.1048 11.9068 16.1207 11.8949L24.1719 7.25025C25.4053 6.53903 26.8158 6.19376 28.2383 6.25482C29.6608 6.31589 31.0364 6.78077 32.2044 7.59508C33.3723 8.40939 34.2842 9.53945 34.8334 10.8531C35.3826 12.1667 35.5464 13.6095 35.3055 15.0128ZM14.2424 21.9419L10.8752 19.9981C10.8576 19.9893 10.8423 19.9763 10.8309 19.9602C10.8195 19.9441 10.8122 19.9254 10.8098 19.9058V10.6071C10.8107 9.18295 11.2173 7.78848 11.9819 6.58696C12.7466 5.38544 13.8377 4.42659 15.1275 3.82264C16.4173 3.21869 17.8524 2.99464 19.2649 3.1767C20.6775 3.35876 22.0089 3.93941 23.1034 4.85067C23.0427 4.88379 22.937 4.94215 22.8668 4.98473L14.9024 9.58517C14.7025 9.69878 14.5366 9.86356 14.4215 10.0626C14.3065 10.2616 14.2466 10.4877 14.2479 10.7175L14.2424 21.9419ZM16.071 17.9991L20.4018 15.4978L24.7325 17.9975V22.9985L20.4018 25.4983L16.071 22.9985V17.9991Z\"\n",
      "            fill=\"currentColor\"\n",
      "          />\n",
      "        </svg>\n",
      "      </div>\n",
      "      <div class=\"data\"><div class=\"main-wrapper\" role=\"main\"><div class=\"main-content\"><noscript><div class=\"h2\"><span id=\"challenge-error-text\">Enable JavaScript and cookies to continue</span></div></noscript></div></div><script>(function(){window._cf_chl_opt = {cvId: '3',cZone: 'chatgpt.com',cType: 'managed',cRay: '96220ab08a88bcc4',cH: 'wdOpTnMQkZbWNpe4W0ViizQ6QEMRa6f8AjgNzb98.gg-1753010137-1.2.1.1-HoFwDd1wZUj2mkZAEjeqYFVQw_F6g27eULw50e47cLyM_3nWpEHXGMqzyyU1MmT4',cUPMDTk:\"\\/?__cf_chl_tk=s2dnOJezLZTAfgKawSYvshNUm07mEZFGtIfujLBKs.k-1753010137-1.0.1.1-VhDM7IDLpaZY76rxNbBBw_84OCOcdIecckfYKVyD7AY\",cFPWv: 'g',cITimeS: '1753010137',cTplC:1,cTplV:5,cTplB: 'cf',fa:\"\\/?__cf_chl_f_tk=s2dnOJezLZTAfgKawSYvshNUm07mEZFGtIfujLBKs.k-1753010137-1.0.1.1-VhDM7IDLpaZY76rxNbBBw_84OCOcdIecckfYKVyD7AY\",md: 'FIEbOSRfEvKNwtZJeHTta4HhtP96Fh9AlCeY_nu1h0o-1753010137-1.2.1.1-kz8ss7yHcn3bRTAQDh_3JGs7kgtSmeMrJDSjY.YxuBt5bU_JYGw_G3u83aHyGkUBmYSWj_DPuFhsUo4_B_T5q8Pup2YkBaUtVB9NnbX1XYqDauUQRB4RYzWJaNBUTJwmCpwwK6Bh2L3mUq1ckHUcQzom9u4FrZEwlnudJntvJJJqjYNRYtoNTaifXLkTlpb80uO_e7v_QfrvG9LKUMCcPQSUE69GWa7suKoOk0DjmV6PbydrgwuNW9jYSX5chffTMT.2UskZiJEBag8aSwVWDS.9QBBfQSDZ5XE71lJOx3ja4azwq4EdM31a9kLPqWzC.mL76gRUvUa2r0CA2_5L9lqVlT0WxaCCTb3W89ZmvTZGxHpT0OW5W_1Y4R0Z5pWx.QVyKcnHRBLwCgRXZfW0zp6j_.0vSuggQ0UltcNMd_cWYtoeldKcyBNxfdArrqfwRR3OKgy_LiBov7w6EJ7ZxjkKQMyB3IGLBLoef7nEyZlWuHyq1opj9R46NCUQcIBuXtqQHfIDcgCynlgNIqNhufjnZI3PRxCUuvf_tkTZBHD3v_WolTEodYopPTDQuHbX8pP3IM90UPvHlroaomJJyV1H_chobAusTNOpCqGGPtSGOkUchbJPzlExHI9rjSMW41beXxcqt7.eeizkiyXzeyh1Z8f4RQDvGfo6.9wg7zhw06WvgwYiUdois4Yo297PHxFnUCdwvhyRrFahto60DcwWBOC3W3JdKaUNS6d0JeAO0uWliOlmCqQensJLpCHp5iH1NmvKsaLGxOfSb4MfMtpKQ0lWN12eeCaTHIdrCbpWEVD11Tvoaiwm.vTZf_e.K9LVyn8NFIQYM7.Qmrq1emZZmt7uDb.Iz_N5tuMZGQ2EhK2jiwGvSw4n0nbqaLdjZw1soJkNDeOKuPrt4gWIxShDOjfMCLTn8Z2F8P889cw',mdrd: '38iATouLrrPEakSSeG9r80_SySgcs33iqC8cYU5Oz9o-1753010137-1.2.1.1-POr_PQRv4o_fXPl66bVwoNIEFg7ih14ydy1Vno5.uWEoVdTZ8NTUb6vEBe7utK.Uwn9Ou8ISRmUHQpK7K7qkHW1pkk8b5XK3OdmZXK_wviKcdg3LV.NSStmn9os2M5GM8IjPJ3GuJFCCjMmpcOvqCM_ePpH1U_t_g4zU_FmOwivZKQFj2NYCcPoW5cw8cV6o6gZ2fDufbFESmcBQfC2sdApUJdiF6Po_5bA1NQ4HLSRedRYh12gjQD95yz7up7Lj0cexC6Q20wOywmwQu6v86TxNfYVUi7oc96Dx7OKeXUjB7QRUlM.7.kmDT_.lf6Ub8TZ_pqA.jBdn.VPQ8cySU1rRfGqTeBiF1tJQNG.GGmBspHxIy_w71QznpB5MmIkMEXuyE9dPQ31vS.jQ.x217W_C6lXU8f9m7Fb9xHQNzu7MFCHB9.X2lT8jfFGzoaCH8GFb3g0o_Et.Eva8BfKVooAV1gxSuMYiSCZBKkoACbpRUGC4rya4cJMw8WrrLSnsACJOfOuVfOrii4d_anyRd_l2_jQBxI8LaLEREPqQ9niw3Nc9Y7GvtgxheC8UGTWYFCJ1DQQoRWrOhZph7I8ge7g0jbrX1nIY3xltaSD14ZqQbllSI4w4Lc.EWHk6Q3Pn81Cb7bSuIV8URZwbGqIx2IvXIwI82Qjkqjv_d61a4HbZ.I9vJ7bbcn6wLGAzg1cN5FRXPjB6ZTYW7.ZISgb1cH2eSpkh28DjMBvK2NGdHh928OLBMaDme3a.FQtZ_V.LsJBuCe3rO1IaY_ftc1haep6_mW2l7DHE8Wh.IqXgcnMTMXrnvIwziGSX8a6xfsu9waZ76C9CbnWaOW3sdALSVWJZNPHsrhs7.z1ZaIpDgWjssNHJYUSxMSVuHJAJL47t9MCatZ.M5zIi4PQOyDKhTTkg5r3Cw1ZD54RuDOXO8oTu6pnoc.zcO8KoWTN75VLPQyvPrhpd27RzY.lf6R.dEjkGFFCVn6XbvIOFkdgWDH9rLzkraBodxXcTpdwdXJBcChWYfolhFFUjb9jqARhsogQTeCwuZrbGjb7l0q.GHYf3XuS77q5kh.Mb_00oDOGJ83VJ8t6NYAeEQa29ZshHV04vgUGNTha2K6SQ2bNeVtmjrLVh2zjRBkk1OOGK27491t28dESLZdSZvNFJRg4JKXwcW9x5n6jywwbaDCHSoI.Y8IwCTrLqjT6pAejal4jX_spA0estBisdX9e3Ux3xoN2uhP390thrd_m_Zo0RgrK3TOMg0BPw4kaZcA0fdaK.ylTUNVxZipuo4MrKJukZ1MMWbhsoccGcFrDSiepApm_ny8Rkx9zjLYgHCcPnf0rD7rGwHHP0lsMUSbHRLhXKjiios3_N206X5trmlUmTjiilv9rwYmtNb3rW15mKaiqQCpMbfXU39RXaXyKsar1iL1o0F88dGHTOHFZy3foEOqZre8DsFJRKEcseqP_QfP_P65kTuSM07j3X3l94q3vJgql9Pxh2mCc_s4GY9MsRbUXJuOlU4EWW2JltBnKjM_3n19kYxTFehws7H3A.f_tDej7e50DkvyGvkILBKmwgkJmZmV4UlLfZt3eto5IefAM04untx37aIe4mEW4K9ErM73qgiKhfG7RAxFcojygQtQHklF9PRrOluXGVKwC.vUFqUMQKzxCNywxzYwq374nXrrY1NYOHg91sMgQmC_A2Dxx9WiQOzbv7DskYBXqI0GzPJl0elf1vrunXMCPy5lZ6Cipd1SzJ1Bk0iMiTmrvth9e6KfSeUUu490tSk1GkSSd50MVOl5ZS16gPVJvzd9MwK5401_Juwy9qhpEmSEKJ4ugCppoV.vLhb64aOlnV4I9d_tGq5TK7.MfteW1XLaFagO7Fdk8NkPVHyo7Mn7fPTEapUOuQ6VXD5IclbLMfosA71YtnRAPsLeGAwr87c0xFmQFDyuvlqREyO1LKpXIkhGWVyFlcZy1uqEjiQ9UmIeJE5xX2rybi75vwdrmlZYC31KgyDOwEZmujLpOiNoYGJp4CEfNaKsmOUiFtS7PCswA86RoFk_4uST4zyG_4n2VjnaRdDcTwr.J1coSMww5EPak_EHOJRTdO_UZlsSoEvebKd8037ERcjrIq2Iu1tBT1cz4HNQt6HP47tKKiEfI9jZaQoOEeC_mLOcEoYEm.k.Z9bYgnkGiUIrFARXRSVgDcDMRlk3XhBLTABEz2rnjvvb8j1of_y3X7bleXpYxrlJlbcb5ZjhWKOvQ4qc7GfUgLlNgYY1dPZUquTF4J_n3RLWJIIDwBspiSzS0u_HVQavSH',};var a = document.createElement('script');a.src = '/cdn-cgi/challenge-platform/h/g/orchestrate/chl_page/v1?ray=96220ab08a88bcc4';window._cf_chl_opt.cOgUHash = location.hash === '' && location.href.indexOf('#') !== -1 ? '#' : location.hash;window._cf_chl_opt.cOgUQuery = location.search === '' && location.href.slice(0, location.href.length - window._cf_chl_opt.cOgUHash.length).indexOf('?') !== -1 ? '?' : location.search;if (window.history && window.history.replaceState) {var ogU = location.pathname + window._cf_chl_opt.cOgUQuery + window._cf_chl_opt.cOgUHash;history.replaceState(null, null,\"\\/?__cf_chl_rt_tk=s2dnOJezLZTAfgKawSYvshNUm07mEZFGtIfujLBKs.k-1753010137-1.0.1.1-VhDM7IDLpaZY76rxNbBBw_84OCOcdIecckfYKVyD7AY\"+ window._cf_chl_opt.cOgUHash);a.onload = function() {history.replaceState(null, null, ogU);}}document.getElementsByTagName('head')[0].appendChild(a);}());</script></div>\n",
      "    </div>\n",
      "  </body>\n",
      "</html>\n",
      "\n"
     ]
    }
   ],
   "source": [
    "# HTTP\n",
    "import requests\n",
    "\n",
    "target = \"https://chatgpt.com\"\n",
    "response = requests.get(url=target)\n",
    "print(response.text)"
   ]
  },
  {
   "cell_type": "markdown",
   "id": "ddff734f-d696-475c-9205-284abf87ba84",
   "metadata": {},
   "source": [
    "## REST (Representational State Transfer)\n",
    ": 각 자원에 대하여 자원의 상태에 대한 정보를 주고 받는  개발방식"
   ]
  },
  {
   "cell_type": "markdown",
   "id": "abd64ce8-40ae-4c93-be7e-cfbe221d70a4",
   "metadata": {},
   "source": [
    "## API\n",
    ": 프로그램이 상호작용하기 위한 인터페이스"
   ]
  },
  {
   "cell_type": "markdown",
   "id": "e774840c-291a-4620-9bf6-e3e00de64b1c",
   "metadata": {},
   "source": [
    "## JSON (JavaScript Object Notation)\n",
    ": 키-값 쌍으로 이루어진 데이터 객체"
   ]
  },
  {
   "cell_type": "code",
   "execution_count": 3,
   "id": "2d0f4d31-667f-451a-8c9e-e1e1d63edf38",
   "metadata": {},
   "outputs": [
    {
     "data": {
      "text/plain": [
       "{'id': 'gildong',\n",
       " 'password': '192837',\n",
       " 'age': 30,\n",
       " 'hobby': ['football', 'programming']}"
      ]
     },
     "execution_count": 3,
     "metadata": {},
     "output_type": "execute_result"
    }
   ],
   "source": [
    "# JSON 형식을 따르는 데이터 예시\n",
    "\n",
    "{\n",
    "    \"id\" : \"gildong\",\n",
    "    \"password\" : \"192837\",\n",
    "    \"age\" : 30,\n",
    "    \"hobby\" : [\"football\", \"programming\"]\n",
    "}"
   ]
  },
  {
   "cell_type": "code",
   "execution_count": 5,
   "id": "5f15efa0-eb3d-43cb-af65-ef02c3501c4b",
   "metadata": {},
   "outputs": [
    {
     "name": "stdout",
     "output_type": "stream",
     "text": [
      "{\n",
      "    \"id\": \"gildong\",\n",
      "    \"password\": \"192837\",\n",
      "    \"age\": 30,\n",
      "    \"hobby\": [\n",
      "        \"football\",\n",
      "        \"programming\"\n",
      "    ]\n",
      "}\n"
     ]
    }
   ],
   "source": [
    "# JSON encoding\n",
    "\n",
    "import json\n",
    "\n",
    "user = {\n",
    "    \"id\" : \"gildong\",\n",
    "    \"password\" : \"192837\",\n",
    "    \"age\" : 30,\n",
    "    \"hobby\" : [\"football\", \"programming\"]\n",
    "}\n",
    "\n",
    "\n",
    "json_data = json.dumps(user, indent = 4)\n",
    "print(json_data)"
   ]
  },
  {
   "cell_type": "code",
   "execution_count": 6,
   "id": "d7d31788-0808-4ba6-9cef-215d21d84575",
   "metadata": {},
   "outputs": [
    {
     "name": "stdout",
     "output_type": "stream",
     "text": [
      "{'id': 'gildong', 'password': '192837', 'age': 30, 'hobby': ['football', 'programming']}\n"
     ]
    }
   ],
   "source": [
    "# JSON decoding\n",
    "data = json.loads(json_data)\n",
    "print(data)"
   ]
  },
  {
   "cell_type": "code",
   "execution_count": 9,
   "id": "5b343406-78b9-4b89-8416-fb42f2c17b19",
   "metadata": {},
   "outputs": [],
   "source": [
    "# JSON file generating\n",
    "with open(\"user.json\", \"w\", encoding=\"utf-8\") as file :\n",
    "    json.dump(user, file, indent=4)"
   ]
  },
  {
   "cell_type": "code",
   "execution_count": null,
   "id": "e4d11d06-ebfb-4f53-a675-24f297f34fe8",
   "metadata": {},
   "outputs": [],
   "source": []
  },
  {
   "cell_type": "markdown",
   "id": "fe132cdf-9c50-4b65-9d82-289a66fe5a87",
   "metadata": {},
   "source": [
    "## 파이썬으로 REST API 호출 실습해보기"
   ]
  },
  {
   "cell_type": "code",
   "execution_count": 12,
   "id": "ecec9796-0abc-4a97-8028-f65781f28eb7",
   "metadata": {},
   "outputs": [
    {
     "name": "stdout",
     "output_type": "stream",
     "text": [
      "[\n",
      "  {\n",
      "    \"id\": 1,\n",
      "    \"name\": \"Leanne Graham\",\n",
      "    \"username\": \"Bret\",\n",
      "    \"email\": \"Sincere@april.biz\",\n",
      "    \"address\": {\n",
      "      \"street\": \"Kulas Light\",\n",
      "      \"suite\": \"Apt. 556\",\n",
      "      \"city\": \"Gwenborough\",\n",
      "      \"zipcode\": \"92998-3874\",\n",
      "      \"geo\": {\n",
      "        \"lat\": \"-37.3159\",\n",
      "        \"lng\": \"81.1496\"\n",
      "      }\n",
      "    },\n",
      "    \"phone\": \"1-770-736-8031 x56442\",\n",
      "    \"website\": \"hildegard.org\",\n",
      "    \"company\": {\n",
      "      \"name\": \"Romaguera-Crona\",\n",
      "      \"catchPhrase\": \"Multi-layered client-server neural-net\",\n",
      "      \"bs\": \"harness real-time e-markets\"\n",
      "    }\n",
      "  },\n",
      "  {\n",
      "    \"id\": 2,\n",
      "    \"name\": \"Ervin Howell\",\n",
      "    \"username\": \"Antonette\",\n",
      "    \"email\": \"Shanna@melissa.tv\",\n",
      "    \"address\": {\n",
      "      \"street\": \"Victor Plains\",\n",
      "      \"suite\": \"Suite 879\",\n",
      "      \"city\": \"Wisokyburgh\",\n",
      "      \"zipcode\": \"90566-7771\",\n",
      "      \"geo\": {\n",
      "        \"lat\": \"-43.9509\",\n",
      "        \"lng\": \"-34.4618\"\n",
      "      }\n",
      "    },\n",
      "    \"phone\": \"010-692-6593 x09125\",\n",
      "    \"website\": \"anastasia.net\",\n",
      "    \"company\": {\n",
      "      \"name\": \"Deckow-Crist\",\n",
      "      \"catchPhrase\": \"Proactive didactic contingency\",\n",
      "      \"bs\": \"synergize scalable supply-chains\"\n",
      "    }\n",
      "  },\n",
      "  {\n",
      "    \"id\": 3,\n",
      "    \"name\": \"Clementine Bauch\",\n",
      "    \"username\": \"Samantha\",\n",
      "    \"email\": \"Nathan@yesenia.net\",\n",
      "    \"address\": {\n",
      "      \"street\": \"Douglas Extension\",\n",
      "      \"suite\": \"Suite 847\",\n",
      "      \"city\": \"McKenziehaven\",\n",
      "      \"zipcode\": \"59590-4157\",\n",
      "      \"geo\": {\n",
      "        \"lat\": \"-68.6102\",\n",
      "        \"lng\": \"-47.0653\"\n",
      "      }\n",
      "    },\n",
      "    \"phone\": \"1-463-123-4447\",\n",
      "    \"website\": \"ramiro.info\",\n",
      "    \"company\": {\n",
      "      \"name\": \"Romaguera-Jacobson\",\n",
      "      \"catchPhrase\": \"Face to face bifurcated interface\",\n",
      "      \"bs\": \"e-enable strategic applications\"\n",
      "    }\n",
      "  },\n",
      "  {\n",
      "    \"id\": 4,\n",
      "    \"name\": \"Patricia Lebsack\",\n",
      "    \"username\": \"Karianne\",\n",
      "    \"email\": \"Julianne.OConner@kory.org\",\n",
      "    \"address\": {\n",
      "      \"street\": \"Hoeger Mall\",\n",
      "      \"suite\": \"Apt. 692\",\n",
      "      \"city\": \"South Elvis\",\n",
      "      \"zipcode\": \"53919-4257\",\n",
      "      \"geo\": {\n",
      "        \"lat\": \"29.4572\",\n",
      "        \"lng\": \"-164.2990\"\n",
      "      }\n",
      "    },\n",
      "    \"phone\": \"493-170-9623 x156\",\n",
      "    \"website\": \"kale.biz\",\n",
      "    \"company\": {\n",
      "      \"name\": \"Robel-Corkery\",\n",
      "      \"catchPhrase\": \"Multi-tiered zero tolerance productivity\",\n",
      "      \"bs\": \"transition cutting-edge web services\"\n",
      "    }\n",
      "  },\n",
      "  {\n",
      "    \"id\": 5,\n",
      "    \"name\": \"Chelsey Dietrich\",\n",
      "    \"username\": \"Kamren\",\n",
      "    \"email\": \"Lucio_Hettinger@annie.ca\",\n",
      "    \"address\": {\n",
      "      \"street\": \"Skiles Walks\",\n",
      "      \"suite\": \"Suite 351\",\n",
      "      \"city\": \"Roscoeview\",\n",
      "      \"zipcode\": \"33263\",\n",
      "      \"geo\": {\n",
      "        \"lat\": \"-31.8129\",\n",
      "        \"lng\": \"62.5342\"\n",
      "      }\n",
      "    },\n",
      "    \"phone\": \"(254)954-1289\",\n",
      "    \"website\": \"demarco.info\",\n",
      "    \"company\": {\n",
      "      \"name\": \"Keebler LLC\",\n",
      "      \"catchPhrase\": \"User-centric fault-tolerant solution\",\n",
      "      \"bs\": \"revolutionize end-to-end systems\"\n",
      "    }\n",
      "  },\n",
      "  {\n",
      "    \"id\": 6,\n",
      "    \"name\": \"Mrs. Dennis Schulist\",\n",
      "    \"username\": \"Leopoldo_Corkery\",\n",
      "    \"email\": \"Karley_Dach@jasper.info\",\n",
      "    \"address\": {\n",
      "      \"street\": \"Norberto Crossing\",\n",
      "      \"suite\": \"Apt. 950\",\n",
      "      \"city\": \"South Christy\",\n",
      "      \"zipcode\": \"23505-1337\",\n",
      "      \"geo\": {\n",
      "        \"lat\": \"-71.4197\",\n",
      "        \"lng\": \"71.7478\"\n",
      "      }\n",
      "    },\n",
      "    \"phone\": \"1-477-935-8478 x6430\",\n",
      "    \"website\": \"ola.org\",\n",
      "    \"company\": {\n",
      "      \"name\": \"Considine-Lockman\",\n",
      "      \"catchPhrase\": \"Synchronised bottom-line interface\",\n",
      "      \"bs\": \"e-enable innovative applications\"\n",
      "    }\n",
      "  },\n",
      "  {\n",
      "    \"id\": 7,\n",
      "    \"name\": \"Kurtis Weissnat\",\n",
      "    \"username\": \"Elwyn.Skiles\",\n",
      "    \"email\": \"Telly.Hoeger@billy.biz\",\n",
      "    \"address\": {\n",
      "      \"street\": \"Rex Trail\",\n",
      "      \"suite\": \"Suite 280\",\n",
      "      \"city\": \"Howemouth\",\n",
      "      \"zipcode\": \"58804-1099\",\n",
      "      \"geo\": {\n",
      "        \"lat\": \"24.8918\",\n",
      "        \"lng\": \"21.8984\"\n",
      "      }\n",
      "    },\n",
      "    \"phone\": \"210.067.6132\",\n",
      "    \"website\": \"elvis.io\",\n",
      "    \"company\": {\n",
      "      \"name\": \"Johns Group\",\n",
      "      \"catchPhrase\": \"Configurable multimedia task-force\",\n",
      "      \"bs\": \"generate enterprise e-tailers\"\n",
      "    }\n",
      "  },\n",
      "  {\n",
      "    \"id\": 8,\n",
      "    \"name\": \"Nicholas Runolfsdottir V\",\n",
      "    \"username\": \"Maxime_Nienow\",\n",
      "    \"email\": \"Sherwood@rosamond.me\",\n",
      "    \"address\": {\n",
      "      \"street\": \"Ellsworth Summit\",\n",
      "      \"suite\": \"Suite 729\",\n",
      "      \"city\": \"Aliyaview\",\n",
      "      \"zipcode\": \"45169\",\n",
      "      \"geo\": {\n",
      "        \"lat\": \"-14.3990\",\n",
      "        \"lng\": \"-120.7677\"\n",
      "      }\n",
      "    },\n",
      "    \"phone\": \"586.493.6943 x140\",\n",
      "    \"website\": \"jacynthe.com\",\n",
      "    \"company\": {\n",
      "      \"name\": \"Abernathy Group\",\n",
      "      \"catchPhrase\": \"Implemented secondary concept\",\n",
      "      \"bs\": \"e-enable extensible e-tailers\"\n",
      "    }\n",
      "  },\n",
      "  {\n",
      "    \"id\": 9,\n",
      "    \"name\": \"Glenna Reichert\",\n",
      "    \"username\": \"Delphine\",\n",
      "    \"email\": \"Chaim_McDermott@dana.io\",\n",
      "    \"address\": {\n",
      "      \"street\": \"Dayna Park\",\n",
      "      \"suite\": \"Suite 449\",\n",
      "      \"city\": \"Bartholomebury\",\n",
      "      \"zipcode\": \"76495-3109\",\n",
      "      \"geo\": {\n",
      "        \"lat\": \"24.6463\",\n",
      "        \"lng\": \"-168.8889\"\n",
      "      }\n",
      "    },\n",
      "    \"phone\": \"(775)976-6794 x41206\",\n",
      "    \"website\": \"conrad.com\",\n",
      "    \"company\": {\n",
      "      \"name\": \"Yost and Sons\",\n",
      "      \"catchPhrase\": \"Switchable contextually-based project\",\n",
      "      \"bs\": \"aggregate real-time technologies\"\n",
      "    }\n",
      "  },\n",
      "  {\n",
      "    \"id\": 10,\n",
      "    \"name\": \"Clementina DuBuque\",\n",
      "    \"username\": \"Moriah.Stanton\",\n",
      "    \"email\": \"Rey.Padberg@karina.biz\",\n",
      "    \"address\": {\n",
      "      \"street\": \"Kattie Turnpike\",\n",
      "      \"suite\": \"Suite 198\",\n",
      "      \"city\": \"Lebsackbury\",\n",
      "      \"zipcode\": \"31428-2261\",\n",
      "      \"geo\": {\n",
      "        \"lat\": \"-38.2386\",\n",
      "        \"lng\": \"57.2232\"\n",
      "      }\n",
      "    },\n",
      "    \"phone\": \"024-648-3804\",\n",
      "    \"website\": \"ambrose.net\",\n",
      "    \"company\": {\n",
      "      \"name\": \"Hoeger LLC\",\n",
      "      \"catchPhrase\": \"Centralized empowering task-force\",\n",
      "      \"bs\": \"target end-to-end models\"\n",
      "    }\n",
      "  }\n",
      "]\n"
     ]
    }
   ],
   "source": [
    "import requests\n",
    "\n",
    "target = \"https://jsonplaceholder.typicode.com/users\"\n",
    "response = requests.get(url=target)\n",
    "print(response.text)"
   ]
  },
  {
   "cell_type": "code",
   "execution_count": 15,
   "id": "00e4de97-2a57-46c4-85eb-fcd423d388ff",
   "metadata": {},
   "outputs": [
    {
     "name": "stdout",
     "output_type": "stream",
     "text": [
      "['Leanne Graham', 'Ervin Howell', 'Clementine Bauch', 'Patricia Lebsack', 'Chelsey Dietrich', 'Mrs. Dennis Schulist', 'Kurtis Weissnat', 'Nicholas Runolfsdottir V', 'Glenna Reichert', 'Clementina DuBuque']\n"
     ]
    }
   ],
   "source": [
    "data = json.loads(response.text)\n",
    "name_list = []\n",
    "for i in data :\n",
    "    name_list.append(i[\"name\"])\n",
    "\n",
    "print(name_list)"
   ]
  },
  {
   "cell_type": "code",
   "execution_count": null,
   "id": "89a36f8c-32a2-422b-a543-7144ade265fd",
   "metadata": {},
   "outputs": [],
   "source": []
  },
  {
   "cell_type": "markdown",
   "id": "c631647b-b998-4e5d-a5a6-960eeb1fc2de",
   "metadata": {},
   "source": [
    "## parsing\n",
    ": 특정한 형식으로 저장된 데이터에 접근하여 원하는 정보만 찾아서 가공하는 작업"
   ]
  },
  {
   "cell_type": "code",
   "execution_count": 18,
   "id": "0dd6e5a9-ace4-40dd-89ae-b14976da1992",
   "metadata": {},
   "outputs": [
    {
     "name": "stdout",
     "output_type": "stream",
     "text": [
      "<html>\n",
      "<head><title>403 Forbidden</title></head>\n",
      "<body>\n",
      "<center><h1>403 Forbidden</h1></center>\n",
      "<hr><center>openresty</center>\n",
      "</body>\n",
      "</html>\n",
      "\n"
     ]
    },
    {
     "ename": "JSONDecodeError",
     "evalue": "Expecting value: line 1 column 1 (char 0)",
     "output_type": "error",
     "traceback": [
      "\u001b[1;31m---------------------------------------------------------------------------\u001b[0m",
      "\u001b[1;31mJSONDecodeError\u001b[0m                           Traceback (most recent call last)",
      "File \u001b[1;32m~\\anaconda3\\envs\\DIVA\\lib\\site-packages\\requests\\models.py:974\u001b[0m, in \u001b[0;36mResponse.json\u001b[1;34m(self, **kwargs)\u001b[0m\n\u001b[0;32m    973\u001b[0m \u001b[38;5;28;01mtry\u001b[39;00m:\n\u001b[1;32m--> 974\u001b[0m     \u001b[38;5;28;01mreturn\u001b[39;00m complexjson\u001b[38;5;241m.\u001b[39mloads(\u001b[38;5;28mself\u001b[39m\u001b[38;5;241m.\u001b[39mtext, \u001b[38;5;241m*\u001b[39m\u001b[38;5;241m*\u001b[39mkwargs)\n\u001b[0;32m    975\u001b[0m \u001b[38;5;28;01mexcept\u001b[39;00m JSONDecodeError \u001b[38;5;28;01mas\u001b[39;00m e:\n\u001b[0;32m    976\u001b[0m     \u001b[38;5;66;03m# Catch JSON-related errors and raise as requests.JSONDecodeError\u001b[39;00m\n\u001b[0;32m    977\u001b[0m     \u001b[38;5;66;03m# This aliases json.JSONDecodeError and simplejson.JSONDecodeError\u001b[39;00m\n",
      "File \u001b[1;32m~\\anaconda3\\envs\\DIVA\\lib\\json\\__init__.py:346\u001b[0m, in \u001b[0;36mloads\u001b[1;34m(s, cls, object_hook, parse_float, parse_int, parse_constant, object_pairs_hook, **kw)\u001b[0m\n\u001b[0;32m    343\u001b[0m \u001b[38;5;28;01mif\u001b[39;00m (\u001b[38;5;28mcls\u001b[39m \u001b[38;5;129;01mis\u001b[39;00m \u001b[38;5;28;01mNone\u001b[39;00m \u001b[38;5;129;01mand\u001b[39;00m object_hook \u001b[38;5;129;01mis\u001b[39;00m \u001b[38;5;28;01mNone\u001b[39;00m \u001b[38;5;129;01mand\u001b[39;00m\n\u001b[0;32m    344\u001b[0m         parse_int \u001b[38;5;129;01mis\u001b[39;00m \u001b[38;5;28;01mNone\u001b[39;00m \u001b[38;5;129;01mand\u001b[39;00m parse_float \u001b[38;5;129;01mis\u001b[39;00m \u001b[38;5;28;01mNone\u001b[39;00m \u001b[38;5;129;01mand\u001b[39;00m\n\u001b[0;32m    345\u001b[0m         parse_constant \u001b[38;5;129;01mis\u001b[39;00m \u001b[38;5;28;01mNone\u001b[39;00m \u001b[38;5;129;01mand\u001b[39;00m object_pairs_hook \u001b[38;5;129;01mis\u001b[39;00m \u001b[38;5;28;01mNone\u001b[39;00m \u001b[38;5;129;01mand\u001b[39;00m \u001b[38;5;129;01mnot\u001b[39;00m kw):\n\u001b[1;32m--> 346\u001b[0m     \u001b[38;5;28;01mreturn\u001b[39;00m \u001b[43m_default_decoder\u001b[49m\u001b[38;5;241;43m.\u001b[39;49m\u001b[43mdecode\u001b[49m\u001b[43m(\u001b[49m\u001b[43ms\u001b[49m\u001b[43m)\u001b[49m\n\u001b[0;32m    347\u001b[0m \u001b[38;5;28;01mif\u001b[39;00m \u001b[38;5;28mcls\u001b[39m \u001b[38;5;129;01mis\u001b[39;00m \u001b[38;5;28;01mNone\u001b[39;00m:\n",
      "File \u001b[1;32m~\\anaconda3\\envs\\DIVA\\lib\\json\\decoder.py:337\u001b[0m, in \u001b[0;36mJSONDecoder.decode\u001b[1;34m(self, s, _w)\u001b[0m\n\u001b[0;32m    333\u001b[0m \u001b[38;5;250m\u001b[39m\u001b[38;5;124;03m\"\"\"Return the Python representation of ``s`` (a ``str`` instance\u001b[39;00m\n\u001b[0;32m    334\u001b[0m \u001b[38;5;124;03mcontaining a JSON document).\u001b[39;00m\n\u001b[0;32m    335\u001b[0m \n\u001b[0;32m    336\u001b[0m \u001b[38;5;124;03m\"\"\"\u001b[39;00m\n\u001b[1;32m--> 337\u001b[0m obj, end \u001b[38;5;241m=\u001b[39m \u001b[38;5;28;43mself\u001b[39;49m\u001b[38;5;241;43m.\u001b[39;49m\u001b[43mraw_decode\u001b[49m\u001b[43m(\u001b[49m\u001b[43ms\u001b[49m\u001b[43m,\u001b[49m\u001b[43m \u001b[49m\u001b[43midx\u001b[49m\u001b[38;5;241;43m=\u001b[39;49m\u001b[43m_w\u001b[49m\u001b[43m(\u001b[49m\u001b[43ms\u001b[49m\u001b[43m,\u001b[49m\u001b[43m \u001b[49m\u001b[38;5;241;43m0\u001b[39;49m\u001b[43m)\u001b[49m\u001b[38;5;241;43m.\u001b[39;49m\u001b[43mend\u001b[49m\u001b[43m(\u001b[49m\u001b[43m)\u001b[49m\u001b[43m)\u001b[49m\n\u001b[0;32m    338\u001b[0m end \u001b[38;5;241m=\u001b[39m _w(s, end)\u001b[38;5;241m.\u001b[39mend()\n",
      "File \u001b[1;32m~\\anaconda3\\envs\\DIVA\\lib\\json\\decoder.py:355\u001b[0m, in \u001b[0;36mJSONDecoder.raw_decode\u001b[1;34m(self, s, idx)\u001b[0m\n\u001b[0;32m    354\u001b[0m \u001b[38;5;28;01mexcept\u001b[39;00m \u001b[38;5;167;01mStopIteration\u001b[39;00m \u001b[38;5;28;01mas\u001b[39;00m err:\n\u001b[1;32m--> 355\u001b[0m     \u001b[38;5;28;01mraise\u001b[39;00m JSONDecodeError(\u001b[38;5;124m\"\u001b[39m\u001b[38;5;124mExpecting value\u001b[39m\u001b[38;5;124m\"\u001b[39m, s, err\u001b[38;5;241m.\u001b[39mvalue) \u001b[38;5;28;01mfrom\u001b[39;00m \u001b[38;5;28;01mNone\u001b[39;00m\n\u001b[0;32m    356\u001b[0m \u001b[38;5;28;01mreturn\u001b[39;00m obj, end\n",
      "\u001b[1;31mJSONDecodeError\u001b[0m: Expecting value: line 1 column 1 (char 0)",
      "\nDuring handling of the above exception, another exception occurred:\n",
      "\u001b[1;31mJSONDecodeError\u001b[0m                           Traceback (most recent call last)",
      "Cell \u001b[1;32mIn[18], line 7\u001b[0m\n\u001b[0;32m      4\u001b[0m response \u001b[38;5;241m=\u001b[39m requests\u001b[38;5;241m.\u001b[39mget(url\u001b[38;5;241m=\u001b[39mtarget)\n\u001b[0;32m      5\u001b[0m \u001b[38;5;28mprint\u001b[39m(response\u001b[38;5;241m.\u001b[39mtext)\n\u001b[1;32m----> 7\u001b[0m data \u001b[38;5;241m=\u001b[39m \u001b[43mresponse\u001b[49m\u001b[38;5;241;43m.\u001b[39;49m\u001b[43mjson\u001b[49m\u001b[43m(\u001b[49m\u001b[43m)\u001b[49m\n\u001b[0;32m      8\u001b[0m name_list \u001b[38;5;241m=\u001b[39m []\n\u001b[0;32m      9\u001b[0m \u001b[38;5;28;01mfor\u001b[39;00m i \u001b[38;5;129;01min\u001b[39;00m data :\n",
      "File \u001b[1;32m~\\anaconda3\\envs\\DIVA\\lib\\site-packages\\requests\\models.py:978\u001b[0m, in \u001b[0;36mResponse.json\u001b[1;34m(self, **kwargs)\u001b[0m\n\u001b[0;32m    974\u001b[0m     \u001b[38;5;28;01mreturn\u001b[39;00m complexjson\u001b[38;5;241m.\u001b[39mloads(\u001b[38;5;28mself\u001b[39m\u001b[38;5;241m.\u001b[39mtext, \u001b[38;5;241m*\u001b[39m\u001b[38;5;241m*\u001b[39mkwargs)\n\u001b[0;32m    975\u001b[0m \u001b[38;5;28;01mexcept\u001b[39;00m JSONDecodeError \u001b[38;5;28;01mas\u001b[39;00m e:\n\u001b[0;32m    976\u001b[0m     \u001b[38;5;66;03m# Catch JSON-related errors and raise as requests.JSONDecodeError\u001b[39;00m\n\u001b[0;32m    977\u001b[0m     \u001b[38;5;66;03m# This aliases json.JSONDecodeError and simplejson.JSONDecodeError\u001b[39;00m\n\u001b[1;32m--> 978\u001b[0m     \u001b[38;5;28;01mraise\u001b[39;00m RequestsJSONDecodeError(e\u001b[38;5;241m.\u001b[39mmsg, e\u001b[38;5;241m.\u001b[39mdoc, e\u001b[38;5;241m.\u001b[39mpos)\n",
      "\u001b[1;31mJSONDecodeError\u001b[0m: Expecting value: line 1 column 1 (char 0)"
     ]
    }
   ],
   "source": [
    "import requests\n",
    "\n",
    "target = \"https://www.gunpapa.co.kr/users\"\n",
    "response = requests.get(url=target)\n",
    "print(response.text)\n",
    "\n",
    "data = response.json()\n",
    "name_list = []\n",
    "for i in data :\n",
    "    name_list.append(i[\"name\"])\n",
    "\n",
    "print(name_list)"
   ]
  },
  {
   "cell_type": "code",
   "execution_count": null,
   "id": "9318b43e-67c5-4a71-abdc-091adafc4e93",
   "metadata": {},
   "outputs": [],
   "source": []
  },
  {
   "cell_type": "code",
   "execution_count": null,
   "id": "360bb3bf-922c-416b-84a6-9ef0d13b6250",
   "metadata": {},
   "outputs": [],
   "source": []
  }
 ],
 "metadata": {
  "kernelspec": {
   "display_name": "Python 3 (ipykernel)",
   "language": "python",
   "name": "python3"
  },
  "language_info": {
   "codemirror_mode": {
    "name": "ipython",
    "version": 3
   },
   "file_extension": ".py",
   "mimetype": "text/x-python",
   "name": "python",
   "nbconvert_exporter": "python",
   "pygments_lexer": "ipython3",
   "version": "3.9.18"
  },
  "widgets": {
   "application/vnd.jupyter.widget-state+json": {
    "state": {},
    "version_major": 2,
    "version_minor": 0
   }
  }
 },
 "nbformat": 4,
 "nbformat_minor": 5
}
