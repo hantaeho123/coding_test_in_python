{
 "cells": [
  {
   "cell_type": "markdown",
   "id": "32cbdba5-d69d-4fe2-b25b-a787f461a2ba",
   "metadata": {},
   "source": [
    "# Graph"
   ]
  },
  {
   "cell_type": "code",
   "execution_count": null,
   "id": "5c4de14d-e03d-4e5f-9018-d88fdae9fde0",
   "metadata": {},
   "outputs": [],
   "source": []
  },
  {
   "cell_type": "markdown",
   "id": "3d33c110-8acf-4d6b-84b3-ef3793da3aae",
   "metadata": {},
   "source": [
    "## 서로소 집합\n",
    "## 서로소 집합 자료구조 = union-find 자료구조\n",
    "### 1) union 연산을 확인하여, 서로 연결된 두 노드 A, B를 확인한다.\n",
    "####   1-1) A와 B의 루트 노드 A', B'를 각각 찾는다.\n",
    "####   1-2) A'를 B'의 부모 노드로 설정한다.(B'가 A'를 가리키도록 한다)\n",
    "### 2) 모든 union 연산을 처리할 때까지 1)의 과정을 반복한다.\n",
    "######\n",
    "### 부모노드 리스트가 있어야 하고 할 때마다 부모노드를 재귀적으로 찾아야 한다."
   ]
  },
  {
   "cell_type": "code",
   "execution_count": 3,
   "id": "31b308d8-2cee-438d-9a20-021d6cc52eac",
   "metadata": {},
   "outputs": [
    {
     "name": "stdout",
     "output_type": "stream",
     "text": [
      "걸린 시간: 0.0 초\n"
     ]
    }
   ],
   "source": [
    "import time\n",
    "\n",
    "start = time.time()\n",
    "# 어떤 작업\n",
    "end = time.time()\n",
    "\n",
    "print(\"걸린 시간:\", end - start, \"초\")"
   ]
  },
  {
   "cell_type": "code",
   "execution_count": 4,
   "id": "51816133-ea58-4a2f-b7ed-87da0f4504a5",
   "metadata": {},
   "outputs": [
    {
     "name": "stdin",
     "output_type": "stream",
     "text": [
      " 6 4\n",
      " 1 4\n",
      " 2 3\n",
      " 2 4\n",
      " 5 6\n"
     ]
    },
    {
     "name": "stdout",
     "output_type": "stream",
     "text": [
      "각 원소가 속한 집합: 1 1 1 1 5 5 \n",
      "부모 테이블: 1 1 2 1 5 5 걸린 시간: 7.245084285736084 초\n"
     ]
    }
   ],
   "source": [
    "# 기본적인 서로소 집합 알고리즘 소스코드 \n",
    "\n",
    "def find_parent(parent, x) :\n",
    "    if parent[x] != x :\n",
    "        return find_parent(parent, parent[x])\n",
    "    return x\n",
    "\n",
    "\n",
    "def union_parent(parent, a, b) :\n",
    "    a = find_parent(parent, a)\n",
    "    b = find_parent(parent, b)\n",
    "    if a < b :\n",
    "        parent[b] = a\n",
    "    else :\n",
    "        parent[a] = b\n",
    "\n",
    "\n",
    "v, e = map(int, input().split())\n",
    "parent = [0] * (v+1)\n",
    "\n",
    "for i in range(1, v+1) :\n",
    "    parent[i] = i\n",
    "\n",
    "start1 = time.time()\n",
    "\n",
    "for i in range(e) :\n",
    "    a, b = map(int, input().split())\n",
    "    union_parent(parent, a, b)\n",
    "    \n",
    "end1 = time.time()\n",
    "\n",
    "\n",
    "\n",
    "print(\"각 원소가 속한 집합: \", end=\"\")\n",
    "\n",
    "\n",
    "\n",
    "\n",
    "for i in range(1, v+1) :\n",
    "    print(find_parent(parent, i), end=\" \")\n",
    "\n",
    "print()\n",
    "\n",
    "print(\"부모 테이블: \", end = \"\")\n",
    "for i in range(1, v+1) :\n",
    "    print(parent[i], end=\" \")\n",
    "\n",
    "print()\n",
    "print(\"걸린 시간:\", end1 - start1, \"초\")"
   ]
  },
  {
   "cell_type": "code",
   "execution_count": 5,
   "id": "6217084e-9e48-4455-8944-4ef6d8bf34b1",
   "metadata": {},
   "outputs": [
    {
     "name": "stdin",
     "output_type": "stream",
     "text": [
      " 6 4\n",
      " 1 4\n",
      " 2 3\n",
      " 2 4\n",
      " 5 6\n"
     ]
    },
    {
     "name": "stdout",
     "output_type": "stream",
     "text": [
      "각 원소가 속한 집합: 1 1 1 1 5 5 \n",
      "부모 테이블: 1 1 1 1 5 5 \n",
      "걸린 시간: 8.394141912460327 초\n"
     ]
    }
   ],
   "source": [
    "# find 함수의 경로 압축 기법을 통한 개선된 서로소 집합 알고리즘 \n",
    "\n",
    "\n",
    "# 경로 압축 기법 \n",
    "def find_parent(parent, x) :\n",
    "    if parent[x] != x :\n",
    "        parent[x] = find_parent(parent, parent[x])\n",
    "    return parent[x]\n",
    "\n",
    "\n",
    "def union_parent(parent, a, b) :\n",
    "    a = find_parent(parent, a)\n",
    "    b = find_parent(parent, b)\n",
    "    if a < b :\n",
    "        parent[b] = a\n",
    "    else :\n",
    "        parent[a] = b\n",
    "\n",
    "v, e = map(int, input().split())\n",
    "parent = [0] * (v+1)\n",
    "\n",
    "for i in range(1, v+1) :\n",
    "    parent[i] = i\n",
    "\n",
    "start2 = time.time()\n",
    "\n",
    "for i in range(e) :\n",
    "    a, b = map(int, input().split())\n",
    "    union_parent(parent, a, b)\n",
    "\n",
    "end2 = time.time()\n",
    "\n",
    "\n",
    "print(\"각 원소가 속한 집합: \", end=\"\")\n",
    "\n",
    "for i in range(1, v+1) :\n",
    "    print(find_parent(parent, i), end=\" \")\n",
    "\n",
    "print()\n",
    "\n",
    "print(\"부모 테이블: \", end = \"\")\n",
    "for i in range(1, v+1) :\n",
    "    print(parent[i], end=\" \")\n",
    "\n",
    "print()\n",
    "\n",
    "print(\"걸린 시간:\", end2 - start2, \"초\")"
   ]
  },
  {
   "cell_type": "markdown",
   "id": "7f5e877a-4dc3-4cbd-a499-550ef02d2917",
   "metadata": {},
   "source": [
    "# 서로소 집합을 활용한 사이클 판별"
   ]
  },
  {
   "cell_type": "markdown",
   "id": "cf22d4a2-3216-4ff8-abe5-59e72d4d05dc",
   "metadata": {},
   "source": [
    "### 1) 각 간선을 확인하며 두 노드의 루트 노드를 확인한다.\n",
    "#### 1-1) 루트 노드가 서로 다르다면 두 노드에 대하여 union연산을 수행한다.\n",
    "#### 1-2) 루트 노드가 서로 같다면 사이클이 발생한 것이다.\n",
    "### 2) 그래프에 포함되어 있는 모든 간선에 대하여 1)번 과정을 반복한다."
   ]
  },
  {
   "cell_type": "code",
   "execution_count": 7,
   "id": "26e0685e-69b3-442b-a899-315f4cd4d087",
   "metadata": {},
   "outputs": [
    {
     "name": "stdin",
     "output_type": "stream",
     "text": [
      " 3 3\n",
      " 1 2\n",
      " 1 3\n",
      " 2 3\n"
     ]
    },
    {
     "name": "stdout",
     "output_type": "stream",
     "text": [
      "사이클이 발생했습니다.\n"
     ]
    }
   ],
   "source": [
    "# 서로소 집합을 활용한 무방향 그래프에서의 사이클 판별 소스 코드\n",
    "\n",
    "def find_parent(parent, x) :\n",
    "    if parent[x] != x :\n",
    "        parent[x] = find_parent(parent, parent[x])\n",
    "    return parent[x]\n",
    "\n",
    "\n",
    "def union_parent(parent, a, b) :\n",
    "    a = find_parent(parent, a)\n",
    "    b = find_parent(parent, b)\n",
    "    if a < b :\n",
    "        parent[b] = a\n",
    "    else :\n",
    "        parent[a] = b\n",
    "\n",
    "\n",
    "v, e = map(int, input().split())\n",
    "parent = [0] * (v+1)\n",
    "\n",
    "for i in range(1, v+1) :\n",
    "    parent[i] = i\n",
    "\n",
    "cycle = False \n",
    "\n",
    "for i in range(e) :\n",
    "    a, b = map(int, input().split())\n",
    "    if find_parent(parent, a) == find_parent(parent, b) :\n",
    "        cycle = True\n",
    "        break\n",
    "    else :\n",
    "        union_parent(parent, a, b)\n",
    "\n",
    "if cycle :\n",
    "    print(\"사이클이 발생했습니다.\")\n",
    "else :\n",
    "    print(\"사이클이 발생하지 않았습니다.\")"
   ]
  },
  {
   "cell_type": "code",
   "execution_count": null,
   "id": "7d7622ed-1aea-4dd0-9ced-cad50b640449",
   "metadata": {},
   "outputs": [],
   "source": []
  },
  {
   "cell_type": "markdown",
   "id": "f46b4830-5eaa-4ea8-b23c-d8f35d32c253",
   "metadata": {},
   "source": [
    "# 신장 트리 \n",
    ": 하나의 그래프가 있을 때 모든 노드를 포함하면서 사이클이 존재하지 않는 부분 그래프"
   ]
  },
  {
   "cell_type": "markdown",
   "id": "9d4b9555-459c-41b6-9f69-554931360178",
   "metadata": {},
   "source": [
    "# 최소 신장 트리 알고리즘\n",
    "## 크루스칼 알고리즘\n",
    "## 프림 알고리즘\n"
   ]
  },
  {
   "cell_type": "markdown",
   "id": "5f6c37c0-803c-4353-8cbb-298799e21ed9",
   "metadata": {},
   "source": [
    "# 크루스칼 알고리즘\n",
    "\n",
    "### 1) 간선 데이터를 비용에 따라 오름차순으로 정렬한다.\n",
    "### 2) 간선을 하나씩 확인하며 현재의 간선이 사이클을 발생시키는지 확인한다.\n",
    "#### 2-1) 사이클이 발생하지 않는 경우 최소 신장 트리에 포함시킨다.\n",
    "#### 2-2) 사이클이 발생하는 경우 최소 신장 트리에 포함시키지 않는다.\n",
    "### 3) 모든 간선에 대하여 2)번의 과정을 반복한다.\n"
   ]
  },
  {
   "cell_type": "code",
   "execution_count": 13,
   "id": "92eae56a-7a9b-44f1-be3b-5ca3b7f0b322",
   "metadata": {},
   "outputs": [
    {
     "name": "stdin",
     "output_type": "stream",
     "text": [
      " 7 9\n",
      " 1 2 29\n",
      " 1 5 75\n",
      " 2 3 35\n",
      " 2 6 34\n",
      " 3 4 7\n",
      " 4 6 23\n",
      " 4 7 13\n",
      " 5 6 53\n",
      " 6 7 25\n"
     ]
    },
    {
     "name": "stdout",
     "output_type": "stream",
     "text": [
      "159\n"
     ]
    }
   ],
   "source": [
    "# 크루스칼 알고리즘\n",
    "\n",
    "def find_parent(parent, x) :\n",
    "    if parent[x] != x :\n",
    "        parent[x] = find_parent(parent, parent[x])\n",
    "    return parent[x]\n",
    "\n",
    "\n",
    "def union_parent(parent, a, b) :\n",
    "    a = find_parent(parent,  a)\n",
    "    b = find_parent(parent,  b)\n",
    "    if a < b :\n",
    "        parent[b] = a\n",
    "    else :\n",
    "        parent[a] = b\n",
    "\n",
    "\n",
    "v, e = map(int, input().split())\n",
    "parent = [0] * (v+1)\n",
    "\n",
    "edges = []\n",
    "result = 0\n",
    "\n",
    "for i in range(1, v+1) :\n",
    "    parent[i] = i\n",
    "\n",
    "for _ in range(e) :\n",
    "    a, b, cost = map(int, input().split())\n",
    "    edges.append((cost, a, b))\n",
    "\n",
    "edges.sort()\n",
    "\n",
    "for edge in edges :\n",
    "    cost, a, b = edge\n",
    "    if find_parent(parent, a) != find_parent(parent, b) :\n",
    "        union_parent(parent, a, b)\n",
    "        result += cost\n",
    "\n",
    "print(result)"
   ]
  },
  {
   "cell_type": "markdown",
   "id": "6837810d-9d99-4c6c-8548-4c8d1c4e71a1",
   "metadata": {},
   "source": [
    "# 위상 정렬\n",
    ": 방향 그래프의 모든 노드를 방향성에 거스르지 않도록 순서대로 나열하는 것"
   ]
  },
  {
   "cell_type": "markdown",
   "id": "d17552c6-cca9-4d94-8401-d2991657fbb8",
   "metadata": {},
   "source": [
    "## 위상 정렬 알고리즘\n",
    "### 1) 진입차수가 0인 노드를 큐에 넣는다.\n",
    "### 2) 큐가 빌 때까지 다음의 과정을 반복한다.\n",
    "#### 2-1) 큐에서 원소를 꺼내 해당 노드에서 출발하는 간선을 그래프에서 제거한다.\n",
    "#### 2-2) 새롭게 진입차수가 0이 된 노드를 큐에 넣는다."
   ]
  },
  {
   "cell_type": "code",
   "execution_count": 15,
   "id": "ce4833dd-d417-4b9a-b0ab-6e7fec76f3df",
   "metadata": {},
   "outputs": [
    {
     "name": "stdin",
     "output_type": "stream",
     "text": [
      " 7 8\n",
      " 1 2\n",
      " 1 5\n",
      " 2 3\n",
      " 2 6\n",
      " 3 4\n",
      " 4 7\n",
      " 5 6\n",
      " 6 4\n"
     ]
    },
    {
     "name": "stdout",
     "output_type": "stream",
     "text": [
      "1 2 5 3 6 4 7 \n"
     ]
    }
   ],
   "source": [
    "# 위상 정렬 소스코드\n",
    "\n",
    "from collections import deque\n",
    "\n",
    "v, e = map(int, input().split())\n",
    "\n",
    "indegree = [0] * (v+1)\n",
    "\n",
    "graph = [[] for i in range(v+1)]\n",
    "\n",
    "for _ in range(e) :\n",
    "    a, b = map(int, input().split())\n",
    "    graph[a].append(b)\n",
    "    indegree[b] += 1\n",
    "\n",
    "\n",
    "def topology_sort() :\n",
    "    result = []\n",
    "    q = deque()\n",
    "\n",
    "    for i in range(1, v+1) :\n",
    "        if indegree[i] == 0 :\n",
    "            q.append(i)\n",
    "\n",
    "    while q :\n",
    "        now = q.popleft()\n",
    "        result.append(now)\n",
    "        for i in graph[now] :\n",
    "            indegree[i] -= 1\n",
    "            if indegree[i] == 0 :\n",
    "                q.append(i)\n",
    "\n",
    "    for i in result :\n",
    "        print(i, end=\" \")\n",
    "\n",
    "    print()\n",
    "\n",
    "\n",
    "topology_sort()"
   ]
  },
  {
   "cell_type": "code",
   "execution_count": 20,
   "id": "b04f1ae0-38e7-4346-8138-14f2e1c90776",
   "metadata": {},
   "outputs": [
    {
     "name": "stdin",
     "output_type": "stream",
     "text": [
      " 7 8\n",
      " 1 2\n",
      " 1 5\n",
      " 2 3\n",
      " 2 6\n",
      " 3 4\n",
      " 4 7\n",
      " 5 6\n",
      " 6 4\n"
     ]
    },
    {
     "name": "stdout",
     "output_type": "stream",
     "text": [
      "1 2 5 3 6 4 7 \n"
     ]
    }
   ],
   "source": [
    "from collections import deque\n",
    "\n",
    "v, e = map(int, input().split())\n",
    "\n",
    "graph=[[] for _ in range(v+1)]\n",
    "indegree = [0] * (v+1)\n",
    "\n",
    "for i in range(e) :\n",
    "    a, b = map(int, input().split())\n",
    "    graph[a].append(b)\n",
    "    indegree[b] += 1\n",
    "\n",
    "\n",
    "def topology_sort() :\n",
    "    result = []\n",
    "    q = deque()\n",
    "    for i in range(1, v+1) :\n",
    "        if indegree[i] == 0 :\n",
    "            q.append(i)   \n",
    "\n",
    "    while q :\n",
    "        node = q.popleft()\n",
    "        result.append(node)\n",
    "        for i in graph[node] :\n",
    "            indegree[i] -= 1\n",
    "            if indegree[i] == 0 :\n",
    "                q.append(i)\n",
    "\n",
    "    for i in result :\n",
    "        print(i, end = \" \")\n",
    "\n",
    "    print()\n",
    "\n",
    "topology_sort()\n",
    "\n"
   ]
  },
  {
   "cell_type": "markdown",
   "id": "7ea11066-e3eb-43ab-a7a1-51d6c9a1fdae",
   "metadata": {},
   "source": [
    "# 팀 결성"
   ]
  },
  {
   "cell_type": "code",
   "execution_count": 2,
   "id": "42ef4a03-3800-4dd5-a4d2-01fd020c621a",
   "metadata": {},
   "outputs": [
    {
     "name": "stdin",
     "output_type": "stream",
     "text": [
      " 7 8\n",
      " 0 1 3\n",
      " 1 1 7\n"
     ]
    },
    {
     "name": "stdout",
     "output_type": "stream",
     "text": [
      "NO\n"
     ]
    },
    {
     "name": "stdin",
     "output_type": "stream",
     "text": [
      " 0 7 6\n",
      " 1 7 1\n"
     ]
    },
    {
     "name": "stdout",
     "output_type": "stream",
     "text": [
      "NO\n"
     ]
    },
    {
     "name": "stdin",
     "output_type": "stream",
     "text": [
      " 0 3 7\n",
      " 0 4 2\n",
      " 0 1 1\n",
      "  1 1 1\n"
     ]
    },
    {
     "name": "stdout",
     "output_type": "stream",
     "text": [
      "YES\n"
     ]
    }
   ],
   "source": [
    "def find_parent(parent, x) :\n",
    "    if parent[x] != x :\n",
    "        parent[x] = find_parent(parent, parent[x])\n",
    "    return parent[x]\n",
    "\n",
    "\n",
    "def union_parent(parent, a, b) :\n",
    "    a = find_parent(parent, a)\n",
    "    b = find_parent(parent, b)\n",
    "    if a < b :\n",
    "        parent[b] = a\n",
    "    else :\n",
    "        parent[a] = b\n",
    "        \n",
    "\n",
    "N, M = map(int, input().split())\n",
    "\n",
    "\n",
    "parent=[i for i in range(N+1)]\n",
    "\n",
    "\n",
    "for i in range(M) :\n",
    "    operator, a, b = map(int, input().split())\n",
    "    if operator == 0 :\n",
    "        union_parent(parent, a, b) \n",
    "    else :\n",
    "        if find_parent(parent, a) == find_parent(parent, b) :\n",
    "            print(\"YES\")\n",
    "        else :\n",
    "            print(\"NO\")\n",
    "        \n"
   ]
  },
  {
   "cell_type": "code",
   "execution_count": null,
   "id": "4a2a2f34-19f6-4df1-8819-b4fd08438dd9",
   "metadata": {},
   "outputs": [],
   "source": [
    "# 예시 답안\n",
    "\n",
    "def find_parent(parent, x) :\n",
    "    if parent[x] != x :\n",
    "        parent[x] = find_parent(parent, parent[x])\n",
    "    return parent[x]\n",
    "\n",
    "def union_parent(parent, a, b) :\n",
    "    a = find_parent(parent, a)\n",
    "    b = find_parent(parent, b)\n",
    "    if a < b :\n",
    "        parent[b] = a\n",
    "    else :\n",
    "        parent[a] = b\n",
    "\n",
    "\n",
    "n, m = map(int, input().split())\n",
    "parent = [0] * (n+1)\n",
    "\n",
    "for i in range(0, n+1) :\n",
    "    parent[i] = i\n",
    "\n",
    "\n",
    "for i in range(m) :\n",
    "    oper, a, b = map(int, input().split())\n",
    "    if oper == 0 :\n",
    "        union_parent(parent, a, b)\n",
    "    elif oper == 1 :\n",
    "        if find_parent(parent, a) == find_parent(parent, b) :\n",
    "            print(\"YES\")\n",
    "        else :\n",
    "            print(\"NO\")\n"
   ]
  },
  {
   "cell_type": "code",
   "execution_count": null,
   "id": "665e90a0-02b7-4703-9a83-3ba258ad5a28",
   "metadata": {},
   "outputs": [],
   "source": []
  },
  {
   "cell_type": "markdown",
   "id": "5598a9ac-e5db-46f0-a677-22a3dfa8eca4",
   "metadata": {},
   "source": [
    "# 도시 분할 계획"
   ]
  },
  {
   "cell_type": "code",
   "execution_count": 7,
   "id": "ff526b81-f4d2-4b54-9dbb-b93be2806478",
   "metadata": {},
   "outputs": [
    {
     "name": "stdin",
     "output_type": "stream",
     "text": [
      " 7 12\n",
      " 1 2 3\n",
      " 1 3 2\n",
      "  3 2 1\n",
      " 2 5 2\n",
      " 3 4 4\n",
      " 7 3 6\n",
      " 5 1 5\n",
      " 1 6 2\n",
      " 6 4 1\n",
      " 6 5 3\n",
      " 4 5 3\n",
      " 6 7 4\n"
     ]
    },
    {
     "name": "stdout",
     "output_type": "stream",
     "text": [
      "8\n"
     ]
    }
   ],
   "source": [
    "# 크루스칼 후에 가장 큰 edge 제거 하기 \n",
    "\n",
    "N, M = map(int, input().split())\n",
    "\n",
    "\n",
    "def find_parent(parent, x) :\n",
    "    if parent[x] != x :\n",
    "        parent[x] = find_parent(parent, parent[x])\n",
    "    return parent[x]\n",
    "\n",
    "\n",
    "def union_parent(parent, a, b) :\n",
    "    a = find_parent(parent, a)\n",
    "    b = find_parent(parent, b)\n",
    "    if a < b :\n",
    "        parent[b] = a\n",
    "    else :\n",
    "        parent[a] = b\n",
    "\n",
    "moneys = []\n",
    "cities = [i for  i in range(N+1) ]\n",
    "roads = []\n",
    "\n",
    "for i in range(M) :\n",
    "    a, b, money = map(int, input().split())\n",
    "    roads.append((money, a, b))\n",
    "\n",
    "roads.sort()\n",
    "\n",
    "i = 0\n",
    "for road in roads :\n",
    "    # 노드의 개수를 넘어가면 break\n",
    "    if i >= N-1 :\n",
    "        break\n",
    "    money, a, b = road\n",
    "    # cycle이 생기면 continue\n",
    "    if find_parent(cities, a) == find_parent(cities, b) :\n",
    "        continue     \n",
    "    union_parent(cities, a, b)\n",
    "    moneys.append(money)\n",
    "    i+=1\n",
    "        \n",
    "\n",
    "print(sum(moneys) - max(moneys)) "
   ]
  },
  {
   "cell_type": "code",
   "execution_count": null,
   "id": "9160712f-8063-4e00-813e-dc0722486d7e",
   "metadata": {},
   "outputs": [],
   "source": [
    "# 예시 답안\n",
    "\n",
    "def find_parent(parent, x) :\n",
    "    if parent[x] != x :\n",
    "        parent[x] = find_parent(parent, parent[x])\n",
    "    return parent[x]\n",
    "\n",
    "\n",
    "def union_parent(parent, a, b):\n",
    "    a = find_parent(parent, a)\n",
    "    b = find_parent(parent, b)\n",
    "    if a < b :\n",
    "        parent[b] = a\n",
    "    else :\n",
    "        parent[a] = b\n",
    "\n",
    "v, e = map(int, input().split())\n",
    "parent = [0] * (v+1)\n",
    "\n",
    "edges = []\n",
    "result = 0\n",
    "\n",
    "for i in range(1, v+1) :\n",
    "    parent[i] = i\n",
    "\n",
    "for _ in range(e) :\n",
    "    a, b, cost = map(int, input().split())\n",
    "    edges.append((cost, a, b))\n",
    "\n",
    "edges.sort()\n",
    "lasat = 0\n",
    "\n",
    "for edge in edges :\n",
    "    cost, a, b = edge\n",
    "    if find_parent(parent, a) != find_parent(parent, x) :\n",
    "        union_parent(parent, a, b)\n",
    "        result += cost\n",
    "        last = cost\n",
    "\n",
    "print(result - last)"
   ]
  },
  {
   "cell_type": "markdown",
   "id": "19c93531-9f1d-4efc-9589-a39a6f69d210",
   "metadata": {},
   "source": [
    "# 커리큘럼"
   ]
  },
  {
   "cell_type": "code",
   "execution_count": 28,
   "id": "74b747ed-8e85-4286-9649-a40442f87ddf",
   "metadata": {},
   "outputs": [
    {
     "name": "stdin",
     "output_type": "stream",
     "text": [
      " 5\n",
      " 10 -1\n",
      " 10 1 -1\n",
      " 4 1 -1\n",
      " 4 3 1 -1\n",
      " 3 3 -1\n"
     ]
    },
    {
     "name": "stdout",
     "output_type": "stream",
     "text": [
      "10\n",
      "20\n",
      "14\n",
      "18\n",
      "17\n"
     ]
    }
   ],
   "source": [
    "from collections import deque\n",
    "from copy import deepcopy\n",
    "\n",
    "def topology_sort(graph, time, indegree, n) :\n",
    "    q = deque()\n",
    "    result = deepcopy(time)\n",
    "    for i in range(1, n+1) :\n",
    "        if indegree[i] == 0 :\n",
    "            q.append(i)\n",
    "            \n",
    "\n",
    "    while q :\n",
    "        subject = q.popleft()\n",
    "        for i in graph[subject] :\n",
    "            indegree[i] -= 1\n",
    "            result[i] = max(result[i], time[i] + result[subject])\n",
    "            if indegree[i] == 0 :\n",
    "                q.append(i)\n",
    "            \n",
    "    return result\n",
    "            \n",
    "\n",
    "\n",
    "            \n",
    "            \n",
    "\n",
    "\n",
    "n = int(input())\n",
    "time = [0 for _ in range(n+1)]\n",
    "graph = [[] for _ in range(n+1)]\n",
    "indegree = [0 for _ in range(n+1)]\n",
    "\n",
    "\n",
    "for i in range(1, n+1) :\n",
    "    data = list(map(int, input().split()))\n",
    "    time[i] = data[0]\n",
    "    for j in data[1:-1] :\n",
    "        indegree[i] += 1\n",
    "        graph[j].append(i)\n",
    "    \n",
    " \n",
    "subject_time = topology_sort(graph, time, indegree, n)\n",
    "for i in range(1, n+1) :\n",
    "    print(subject_time[i])"
   ]
  },
  {
   "cell_type": "code",
   "execution_count": 3,
   "id": "014cc1a0-c5c4-4cfe-bbd4-cf1ab2fe4baa",
   "metadata": {},
   "outputs": [
    {
     "name": "stdin",
     "output_type": "stream",
     "text": [
      " 5\n",
      " 10 -1\n",
      " 10 1 -1\n",
      " 4 1 -1\n",
      " 4 3 1 -1\n",
      " 3 3 -1\n"
     ]
    },
    {
     "name": "stdout",
     "output_type": "stream",
     "text": [
      "10\n",
      "20\n",
      "14\n",
      "18\n",
      "17\n"
     ]
    }
   ],
   "source": [
    "# 예시 답안\n",
    "\n",
    "from collections import deque\n",
    "import copy\n",
    "\n",
    "v = int(input())\n",
    "indegree = [0] * (v+1)\n",
    "graph = [[] for i in range(v+1)]\n",
    "time = [0] * (v+1)\n",
    "\n",
    "for i in range(1, v+1) :\n",
    "    data = list(map(int, input().split()))\n",
    "    time[i] = data[0]\n",
    "    for x in data[1:-1] :\n",
    "        indegree[i] += 1\n",
    "        graph[x].append(i)\n",
    "\n",
    "def topology_sort() :\n",
    "    result = copy.deepcopy(time)\n",
    "    q = deque()\n",
    "\n",
    "    for i in range(1, v+1) :\n",
    "        if indegree[i] == 0 :\n",
    "            q.append(i)\n",
    "\n",
    "    while q :\n",
    "        now = q.popleft()\n",
    "        for i in graph[now] :\n",
    "            result[i] = max(result[i], result[now] + time[i])\n",
    "            indegree[i] -= 1\n",
    "            if indegree[i] == 0 :\n",
    "                q.append(i)\n",
    "\n",
    "    for i in range(1, v+1) :\n",
    "        print(result[i])\n",
    "\n",
    "topology_sort()\n",
    "\n"
   ]
  },
  {
   "cell_type": "code",
   "execution_count": null,
   "id": "113e9f5c-1f60-445e-a725-8539e2706530",
   "metadata": {},
   "outputs": [],
   "source": []
  },
  {
   "cell_type": "code",
   "execution_count": null,
   "id": "b7a32a94-2dde-47f1-825a-e261a9b568e5",
   "metadata": {},
   "outputs": [],
   "source": []
  },
  {
   "cell_type": "code",
   "execution_count": null,
   "id": "cda11fe0-d61e-46ad-82ec-a0779e1b1d3f",
   "metadata": {},
   "outputs": [],
   "source": []
  },
  {
   "cell_type": "code",
   "execution_count": null,
   "id": "08d3ee10-4b7b-4c04-bae2-d38faeed2aa1",
   "metadata": {},
   "outputs": [],
   "source": []
  }
 ],
 "metadata": {
  "kernelspec": {
   "display_name": "Python 3 (ipykernel)",
   "language": "python",
   "name": "python3"
  },
  "language_info": {
   "codemirror_mode": {
    "name": "ipython",
    "version": 3
   },
   "file_extension": ".py",
   "mimetype": "text/x-python",
   "name": "python",
   "nbconvert_exporter": "python",
   "pygments_lexer": "ipython3",
   "version": "3.9.18"
  },
  "widgets": {
   "application/vnd.jupyter.widget-state+json": {
    "state": {},
    "version_major": 2,
    "version_minor": 0
   }
  }
 },
 "nbformat": 4,
 "nbformat_minor": 5
}
