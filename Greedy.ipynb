
 "cells": [
  {
   "cell_type": "markdown",
   "id": "0a0c0d8d-457a-483e-a716-f9352ed05105",
   "metadata": {},
   "source": [
    "# Greedy \n",
    "\n",
    "## 현재상황에서 지금 당장 좋은 것만 고르는 방법\n",
    "\n",
    "### 큰수의 법칙\n",
    "\n",
    "### 숫자카드게임\n",
    "\n",
    "### 1이 될 때까지"
   ]
  },
  {
   "cell_type": "code",
   "execution_count": 2,
   "id": "8b5968e4-4cde-43e5-8b1d-7e80aeb97887",
   "metadata": {},
   "outputs": [],
   "source": [
    "import time\n",
    "start_time = time.time()"
   ]
  },
  {
   "cell_type": "code",
   "execution_count": 3,
   "id": "752cd127-3d90-4e6a-a5e3-2008a8c8ee59",
   "metadata": {},
   "outputs": [
    {
     "name": "stdout",
     "output_type": "stream",
     "text": [
      "2.409693956375122\n"
     ]
    }
   ],
   "source": [
    "\n",
    "end_time = time.time()\n",
    "\n",
    "print(end_time - start_time)"
   ]
  },
  {
   "cell_type": "code",
   "execution_count": null,
   "id": "74f223f3-bf3a-4906-ba13-3c28284c150e",
   "metadata": {},
   "outputs": [],
   "source": []
  },
  {
   "cell_type": "markdown",
   "id": "e034bff9-fbac-42be-ab59-5fd9ef1aaf3b",
   "metadata": {},
   "source": [
    "# 거스름돈"
   ]
  },
  {
   "cell_type": "code",
   "execution_count": 10,
   "id": "8d89a7ea-51b2-4b05-ba3d-6031fcd9690f",
   "metadata": {},
   "outputs": [
    {
     "name": "stdin",
     "output_type": "stream",
     "text": [
      "거슬러 주어야 할 돈을 주세요:  1260\n"
     ]
    },
    {
     "name": "stdout",
     "output_type": "stream",
     "text": [
      "1260원은 500원이 2개, 100원이 2개, 50원이 1개, 10원이 1개 있다.\n"
     ]
    }
   ],
   "source": [
    "# 500, 100, 50, 10\n",
    "N = int(input(\"거슬러 주어야 할 돈을 주세요: \"))\n",
    "num_500 = N // 500\n",
    "temp = N % 500\n",
    "\n",
    "num_100 = temp // 100\n",
    "temp %= 100\n",
    "\n",
    "num_50 = temp // 50\n",
    "temp %= 50\n",
    "\n",
    "num_10 = temp // 10\n",
    "temp %= 10\n",
    "\n",
    "print(f\"{N}원은 500원이 {num_500}개, 100원이 {num_100}개, 50원이 {num_50}개, 10원이 {num_10}개 있다.\")"
   ]
  },
  {
   "cell_type": "code",
   "execution_count": 6,
   "id": "a6050c1f-9a0f-4fa9-b3fd-59194ae83ccb",
   "metadata": {},
   "outputs": [
    {
     "name": "stdout",
     "output_type": "stream",
     "text": [
      "6\n"
     ]
    }
   ],
   "source": [
    "# 책에서 나온 버젼\n",
    "\n",
    "n = 1260\n",
    "count = 0\n",
    "\n",
    "coin_types = [500, 100 ,50, 10]\n",
    "\n",
    "for coin in coin_types :\n",
    "    count +=  n // coin\n",
    "    n %= coin\n",
    "\n",
    "print(count)"
   ]
  },
  {
   "cell_type": "markdown",
   "id": "6a787514-48ba-4beb-bddf-7b6753101031",
   "metadata": {},
   "source": [
    "# 큰 수의 법칙"
   ]
  },
  {
   "cell_type": "code",
   "execution_count": 22,
   "id": "726aa74b-1a54-40e4-8bcf-aa175aa1f0c9",
   "metadata": {},
   "outputs": [
    {
     "name": "stdin",
     "output_type": "stream",
     "text": [
      "N M K 5 8 3\n",
      "N개의 수들 2 4 5 4 6\n"
     ]
    },
    {
     "name": "stdout",
     "output_type": "stream",
     "text": [
      "46\n"
     ]
    }
   ],
   "source": [
    "# 입력 받기\n",
    "N, M, K = map(int , input(\"N M K\").split())\n",
    "input_list = list(map(int, input(\"N개의 수들\").split()))\n",
    "\n",
    "# 정렬된 입력들 \n",
    "input_list.sort(reverse = True)\n",
    "\n",
    "# 결과 만들기 \n",
    "output = 0\n",
    "val = 0\n",
    "for i in range(M) :\n",
    "    if (val < K) :\n",
    "        output += input_list[0]\n",
    "        val += 1\n",
    "    else :\n",
    "        output += input_list[1]\n",
    "        val = 0 \n",
    "\n",
    "print(output)"
   ]
  },
  {
   "cell_type": "code",
   "execution_count": 26,
   "id": "b872d563-395d-4d91-85ad-d4774cc22a42",
   "metadata": {},
   "outputs": [
    {
     "name": "stdin",
     "output_type": "stream",
     "text": [
      "N M K 5 8 3\n",
      "N개의 수들 2 4 5 4 6\n"
     ]
    },
    {
     "name": "stdout",
     "output_type": "stream",
     "text": [
      "46\n"
     ]
    }
   ],
   "source": [
    "# 반복되는 수열 \n",
    "\n",
    "# 입력 받기\n",
    "N, M, K = map(int , input(\"N M K\").split())\n",
    "input_list = list(map(int, input(\"N개의 수들\").split()))\n",
    "\n",
    "# 정렬된 입력들 \n",
    "input_list.sort(reverse = True)\n",
    "\n",
    "first = input_list[0]\n",
    "second = input_list[1]\n",
    "\n",
    "\n",
    "# 수열로 결과값 구하기 \n",
    "result = (first * K + second) * (M // (K+1)) + first * (M % (K+1))\n",
    "print(result)"
   ]
  },
  {
   "cell_type": "markdown",
   "id": "f6aa93a0-48b7-4690-879b-683dc54fc21a",
   "metadata": {},
   "source": [
    "# 숫자 카드 게임"
   ]
  },
  {
   "cell_type": "code",
   "execution_count": 27,
   "id": "c1517656-9b8b-4ab8-a880-292c2fb208e8",
   "metadata": {},
   "outputs": [
    {
     "name": "stdin",
     "output_type": "stream",
     "text": [
      " 3 3\n",
      " 3 1 2\n",
      " 4 1 4\n",
      " 2 2 2\n"
     ]
    },
    {
     "name": "stdout",
     "output_type": "stream",
     "text": [
      "2\n"
     ]
    }
   ],
   "source": [
    "row, col = map(int, input().split())\n",
    "\n",
    "gross_max = 0\n",
    "for i in range(row) :\n",
    "    num_row = list(map(int, input().split()))\n",
    "    num_row.sort()\n",
    "    row_min = num_row[0]\n",
    "    if (row_min > gross_max) :\n",
    "        gross_max = row_min\n",
    "\n",
    "print(gross_max)"
   ]
  },
  {
   "cell_type": "code",
   "execution_count": 30,
   "id": "ffab73e0-d7e2-437f-bda7-18a8c3f3f64e",
   "metadata": {},
   "outputs": [
    {
     "name": "stdin",
     "output_type": "stream",
     "text": [
      " 3 3\n",
      " 3 1 2\n",
      " 4 1 4\n",
      " 2 2 2\n"
     ]
    },
    {
     "name": "stdout",
     "output_type": "stream",
     "text": [
      "2\n"
     ]
    }
   ],
   "source": [
    "# min 함수를 이용한 예시\n",
    "\n",
    "n, m = map(int, input().split())\n",
    "\n",
    "result = 0\n",
    "\n",
    "for i in range(n) :\n",
    "    data = list(map(int, input().split()))\n",
    "    min_value = min(data)\n",
    "    result = max(result, min_value)\n",
    "\n",
    "print(result)"
   ]
  },
  {
   "cell_type": "code",
   "execution_count": 31,
   "id": "0b67a952-6a73-434c-854a-e44f65342299",
   "metadata": {},
   "outputs": [
    {
     "name": "stdin",
     "output_type": "stream",
     "text": [
      " 2 4 \n",
      " 7 3 1 8\n",
      " 3 3 3 4\n"
     ]
    },
    {
     "name": "stdout",
     "output_type": "stream",
     "text": [
      "3\n"
     ]
    }
   ],
   "source": [
    "# 2중 반복문 \n",
    "\n",
    "\n",
    "n, m = map(int, input().split())\n",
    "\n",
    "result = 0\n",
    "\n",
    "for i in range(n) :\n",
    "    data = list(map(int, input().split()))\n",
    "    min_value = 10001\n",
    "    for a in data :\n",
    "        min_value = min(a, min_value)\n",
    "    result = max(result, min_value)\n",
    "\n",
    "print(result)"
   ]
  },
  {
   "cell_type": "code",
   "execution_count": null,
   "id": "126a325e-9c83-4aee-ad7b-abc0ca2dd450",
   "metadata": {},
   "outputs": [],
   "source": []
  },
  {
   "cell_type": "markdown",
   "id": "e97ade8d-7b56-4d8c-ab69-5cd801b01c45",
   "metadata": {},
   "source": [
    "# 1이 될 때까지 "
   ]
  },
  {
   "cell_type": "code",
   "execution_count": 43,
   "id": "d2bdf302-7b9a-4515-885b-938c838a1d0c",
   "metadata": {},
   "outputs": [
    {
     "name": "stdin",
     "output_type": "stream",
     "text": [
      " 25 3\n"
     ]
    },
    {
     "name": "stdout",
     "output_type": "stream",
     "text": [
      "6\n"
     ]
    }
   ],
   "source": [
    "N, K = map(int, input().split())\n",
    "\n",
    "count = 0\n",
    "\n",
    "while True :\n",
    "    if (N == 1) :\n",
    "        break\n",
    "    elif (N % K == 0) :\n",
    "        N //= K\n",
    "        count += 1\n",
    "    else :\n",
    "        N -= 1\n",
    "        count += 1\n",
    "print(count)"
   ]
  },
  {
   "cell_type": "code",
   "execution_count": null,
   "id": "958d7bf1-ef79-4402-9695-46c711aa9fd3",
   "metadata": {},
   "outputs": [],
   "source": [
    "# 단순하게 푸는 답안 예시\n",
    "n, k = map(int, input().split())\n",
    "result = 0\n",
    "\n",
    "while n >= k :\n",
    "    while n % k != 0 :\n",
    "        n -= 1\n",
    "        result += 1\n",
    "    n //= k\n",
    "    result += 1\n",
    "\n",
    "result += n % k - 1\n",
    "\n",
    "print"
   ]
  },
  {
   "cell_type": "code",
   "execution_count": null,
   "id": "9e882fed-345b-4e6a-b11e-afe502fc89ef",
   "metadata": {},
   "outputs": [],
   "source": []
  },
  {
   "cell_type": "code",
   "execution_count": null,
   "id": "85fc9d57-703e-439c-b477-99e309ee625c",
   "metadata": {},
   "outputs": [],
   "source": []
  },
  {
   "cell_type": "code",
   "execution_count": null,
   "id": "345353a7-bbdb-4654-86c6-514938e36b6a",
   "metadata": {},
   "outputs": [],
   "source": []
  },
  {
   "cell_type": "code",
   "execution_count": null,
   "id": "afaa76d1-e952-4ce1-9a45-95420bd34948",
   "metadata": {},
   "outputs": [],
   "source": []
  },
  {
   "cell_type": "code",
   "execution_count": null,
   "id": "478057f7-060d-4179-b205-eeea147d5368",
   "metadata": {},
   "outputs": [],
   "source": []
  },
  {
   "cell_type": "code",
   "execution_count": null,
   "id": "ed4034aa-7d37-40d0-a5e8-4a57554faca2",
   "metadata": {},
   "outputs": [],
   "source": []
  },
  {
   "cell_type": "code",
   "execution_count": null,
   "id": "f8963a0f-cb92-4cdf-932b-c673d76508c3",
   "metadata": {},
   "outputs": [],
   "source": []
  },
  {
   "cell_type": "code",
   "execution_count": null,
   "id": "a29ee6d5-f938-4f6c-82f8-d6b3c079f1df",
   "metadata": {},
   "outputs": [],
   "source": []
  },
  {
   "cell_type": "code",
   "execution_count": null,
   "id": "6902a46f-46fa-4512-89f5-6ee659d5990c",
   "metadata": {},
   "outputs": [],
   "source": []
  }
 ],
 "metadata": {
  "kernelspec": {
   "display_name": "Python 3 (ipykernel)",
   "language": "python",
   "name": "python3"
  },
  "language_info": {
   "codemirror_mode": {
    "name": "ipython",
    "version": 3
   },
   "file_extension": ".py",
   "mimetype": "text/x-python",
   "name": "python",
   "nbconvert_exporter": "python",
   "pygments_lexer": "ipython3",
   "version": "3.9.18"
  },
  "widgets": {
   "application/vnd.jupyter.widget-state+json": {
    "state": {},
    "version_major": 2,
    "version_minor": 0
   }
  }
 },
 "nbformat": 4,
 "nbformat_minor": 5
}
