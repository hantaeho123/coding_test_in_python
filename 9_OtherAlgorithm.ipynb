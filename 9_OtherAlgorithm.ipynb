{
 "cells": [
  {
   "cell_type": "code",
   "execution_count": null,
   "id": "d7a0bb98-c1c1-4370-b5d2-e1aedc657625",
   "metadata": {},
   "outputs": [],
   "source": []
  },
  {
   "cell_type": "markdown",
   "id": "8191896a-dc11-41b9-9aa7-8529f1f14b07",
   "metadata": {
    "jp-MarkdownHeadingCollapsed": true
   },
   "source": [
    "# 소수의 판별"
   ]
  },
  {
   "cell_type": "code",
   "execution_count": 1,
   "id": "3f99b22b-864e-4c91-91ad-dc28ef9dfba7",
   "metadata": {},
   "outputs": [],
   "source": [
    "import math\n",
    "\n",
    "def is_prime_number(x) :\n",
    "    for i in range(2, int(math.sqrt(x)) + 1) :\n",
    "        if x % i == 0 :\n",
    "            return False \n",
    "    return True"
   ]
  },
  {
   "cell_type": "code",
   "execution_count": null,
   "id": "826fb492-4625-4284-a927-a267cc260e84",
   "metadata": {},
   "outputs": [],
   "source": []
  },
  {
   "cell_type": "markdown",
   "id": "5ae372c3-e149-4089-a5b7-bd6ae8ca015c",
   "metadata": {
    "jp-MarkdownHeadingCollapsed": true
   },
   "source": [
    "# 에라토스테네스의 체"
   ]
  },
  {
   "cell_type": "code",
   "execution_count": 6,
   "id": "3dedff09-b8f4-45ad-b955-4110e76d9852",
   "metadata": {},
   "outputs": [
    {
     "name": "stdout",
     "output_type": "stream",
     "text": [
      "2 3 5 7 11 13 17 19 23 29 31 37 41 43 47 53 59 61 67 71 73 79 83 89 97 101 103 107 109 113 127 131 137 139 149 151 157 163 167 173 179 181 191 193 197 199 211 223 227 229 233 239 241 251 257 263 269 271 277 281 283 293 307 311 313 317 331 337 347 349 353 359 367 373 379 383 389 397 401 409 419 421 431 433 439 443 449 457 461 463 467 479 487 491 499 503 509 521 523 541 547 557 563 569 571 577 587 593 599 601 607 613 617 619 631 641 643 647 653 659 661 673 677 683 691 701 709 719 727 733 739 743 751 757 761 769 773 787 797 809 811 821 823 827 829 839 853 857 859 863 877 881 883 887 907 911 919 929 937 941 947 953 967 971 977 983 991 997 "
     ]
    }
   ],
   "source": [
    "import math\n",
    "\n",
    "n = 1000\n",
    "array = [True for i in range(n+1)] \n",
    "\n",
    "\n",
    "for i in range(2, int(math.sqrt(n)) + 1) :\n",
    "    if array[i] == True :\n",
    "        j = 2\n",
    "        while i * j <= n :\n",
    "            array[i*j] = False\n",
    "            j += 1\n",
    "\n",
    "\n",
    "for i in range(2, n+1) :\n",
    "    if array[i] == True :\n",
    "        print(i, end = \" \")"
   ]
  },
  {
   "cell_type": "code",
   "execution_count": null,
   "id": "4f7460ad-24f2-4e73-8af2-02c338e3b103",
   "metadata": {},
   "outputs": [],
   "source": []
  },
  {
   "cell_type": "markdown",
   "id": "e81093d6-5af3-4924-a505-cb350d868e55",
   "metadata": {
    "jp-MarkdownHeadingCollapsed": true
   },
   "source": [
    "# 투 포인터\n",
    ": 리스트에 순차적으로 접근해야 할 때 2개의 점의 위치를 기록하면 처리하는 알고리즘\n",
    "\n",
    "\n",
    "### 특정한 합을 가지는 부분 연속 수열 찾기 문제\n",
    "#### (1) 시작점(start)과 끝점(end)이 첫 번째 원소의 인덱스(0)를 가리키도록 한다.\n",
    "#### (2) 현재 부분합이 M가 같다면 카운트 한다.\n",
    "#### (3) 현재 부분합이 M보다 작으면 end를 1 증가시킨다.\n",
    "#### (4) 현재 부분합이 M보다 크거나 같으면 start를 1 증가시킨다.\n",
    "#### (5) 모든 경우를 확인할 때까지 (2)번 부터 (4)번까지의 과정을 반복한다."
   ]
  },
  {
   "cell_type": "code",
   "execution_count": null,
   "id": "908b6de1-95dc-4a58-b9c4-8c82ef0e11f5",
   "metadata": {},
   "outputs": [],
   "source": [
    "# 특정한 합을 가지는 부분 연속 수열 찾기 문제\n",
    "n = 5\n",
    "m = 5\n",
    "data = [1, 2, 3, 2, 5]\n",
    "\n",
    "count = 0\n",
    "interval_sum = 0\n",
    "end = 0\n",
    "\n",
    "for start in range(n) :\n",
    "    while interval_sum < m and end < n :\n",
    "        interval_sum += data[end]\n",
    "        end += 1\n",
    "    if interval_sum == m :\n",
    "        count += 1\n",
    "    interval_sum -= data[start]\n",
    "\n",
    "print(count)"
   ]
  },
  {
   "cell_type": "code",
   "execution_count": 11,
   "id": "ecb319e7-09a7-41d4-b6cc-657a2c695faa",
   "metadata": {},
   "outputs": [
    {
     "name": "stdout",
     "output_type": "stream",
     "text": [
      "1 2 3 4 5 6 8 "
     ]
    }
   ],
   "source": [
    "# 정렬되어 있는 두 리스트의 합집합 \n",
    "n, m = 3, 4\n",
    "a = [1, 3, 5]\n",
    "b = [2, 4, 6, 8]\n",
    "\n",
    "result = [0] * (n+m)\n",
    "i = 0 \n",
    "j = 0\n",
    "k = 0\n",
    "\n",
    "while (i < n or j < m) :\n",
    "    if j >= m or (i < n and a[i] <= b[j]) :\n",
    "        result[k] = a[i]\n",
    "        i += 1\n",
    "    else : \n",
    "        result[k] = b[j]\n",
    "        j += 1\n",
    "    k += 1\n",
    "\n",
    "for i in result :\n",
    "    print(i, end = \" \")"
   ]
  },
  {
   "cell_type": "markdown",
   "id": "98bde945-31d8-48fc-a52a-d738fd71d74a",
   "metadata": {
    "jp-MarkdownHeadingCollapsed": true
   },
   "source": [
    "# 구간합 계산"
   ]
  },
  {
   "cell_type": "code",
   "execution_count": 19,
   "id": "d0026a11-b6a1-4b54-9cbf-0534ac4fcdf0",
   "metadata": {},
   "outputs": [
    {
     "name": "stdout",
     "output_type": "stream",
     "text": [
      "70\n"
     ]
    }
   ],
   "source": [
    "# 누적합 배열 만들어 놓기 (접두사 합을 이용한 구간합 계산)\n",
    "\n",
    "n = 5\n",
    "data = [10, 20, 30, 40, 50]\n",
    "\n",
    "sum_value = 0\n",
    "prefix_sum = [0]\n",
    "for i in data :\n",
    "    sum_value += i\n",
    "    prefix_sum.append(sum_value)\n",
    "\n",
    "left = 3\n",
    "right = 4\n",
    "print(prefix_sum[right] - prefix_sum[left - 1])\n"
   ]
  },
  {
   "cell_type": "code",
   "execution_count": null,
   "id": "61e2e533-bfcb-4916-8f35-f06d06846bf5",
   "metadata": {},
   "outputs": [],
   "source": []
  },
  {
   "cell_type": "markdown",
   "id": "fc59dd81-6025-47d0-b75d-0fbb44605d08",
   "metadata": {
    "jp-MarkdownHeadingCollapsed": true
   },
   "source": [
    "# 순열과 조합"
   ]
  },
  {
   "cell_type": "code",
   "execution_count": 21,
   "id": "dc17a06d-0c56-4dc8-9437-9cb1a9fadb26",
   "metadata": {},
   "outputs": [
    {
     "name": "stdout",
     "output_type": "stream",
     "text": [
      "[1, 2]\n",
      "[2, 1]\n"
     ]
    }
   ],
   "source": [
    "# 순열\n",
    "import itertools\n",
    "\n",
    "data = [1, 2]\n",
    "\n",
    "for x in itertools.permutations(data, 2) :\n",
    "    print(list(x))"
   ]
  },
  {
   "cell_type": "code",
   "execution_count": 23,
   "id": "d08778a7-d3fb-48b9-b35e-755df1a9298d",
   "metadata": {},
   "outputs": [
    {
     "name": "stdout",
     "output_type": "stream",
     "text": [
      "[1, 2]\n",
      "[1, 3]\n",
      "[2, 3]\n"
     ]
    }
   ],
   "source": [
    "# 조합\n",
    "import itertools\n",
    "\n",
    "data = [1, 2, 3]\n",
    "\n",
    "for x in itertools.combinations(data, 2) :\n",
    "    print(list(x))"
   ]
  },
  {
   "cell_type": "markdown",
   "id": "07b8899b-d10b-44e3-a16d-22e613e95296",
   "metadata": {
    "jp-MarkdownHeadingCollapsed": true
   },
   "source": [
    "# B-1 소수 구하기"
   ]
  },
  {
   "cell_type": "code",
   "execution_count": 32,
   "id": "2fc39d3e-62f1-4c03-b1aa-c067f01725ac",
   "metadata": {},
   "outputs": [
    {
     "name": "stdin",
     "output_type": "stream",
     "text": [
      " 3 16\n"
     ]
    },
    {
     "name": "stdout",
     "output_type": "stream",
     "text": [
      "3\n",
      "5\n",
      "7\n",
      "11\n",
      "13\n"
     ]
    }
   ],
   "source": [
    "# 내가 푼 방식\n",
    "import math\n",
    "m, n = map(int, input().split())\n",
    "array = [True for _ in range(n + 1)]\n",
    "array[0] = False\n",
    "array[1] = False\n",
    "\n",
    "for i in range(2, int(math.sqrt(n))+1) :\n",
    "    if array[i] == True :\n",
    "        for j in range(i*i, n+1, i) :\n",
    "            array[j] = False\n",
    "\n",
    "for i in range(m, n+1) :\n",
    "    if array[i] == True :\n",
    "        print(i)"
   ]
  },
  {
   "cell_type": "code",
   "execution_count": 33,
   "id": "a931af8e-94ae-423c-8a0d-486bddadfc0f",
   "metadata": {},
   "outputs": [
    {
     "name": "stdin",
     "output_type": "stream",
     "text": [
      " 3 16\n"
     ]
    },
    {
     "name": "stdout",
     "output_type": "stream",
     "text": [
      "3\n",
      "5\n",
      "7\n",
      "11\n",
      "13\n"
     ]
    }
   ],
   "source": [
    "# 예시 답안\n",
    "import math\n",
    "\n",
    "m, n = map(int, input().split())\n",
    "array = [True for i in range(100001)]\n",
    "array[1] = 0\n",
    "\n",
    "for i in range(2, int(math.sqrt(n)) + 1) :\n",
    "    if array[i] == True :\n",
    "        j = 2\n",
    "        while i * j <= n :\n",
    "            array[i * j] = False \n",
    "            j += 1\n",
    "\n",
    "for i in range(m, n+1) :\n",
    "    if array[i] :\n",
    "        print(i)\n"
   ]
  },
  {
   "cell_type": "markdown",
   "id": "a940c7dc-4550-4cfc-9183-3f553389a611",
   "metadata": {
    "jp-MarkdownHeadingCollapsed": true
   },
   "source": [
    "# B-2 암호 만들기"
   ]
  },
  {
   "cell_type": "code",
   "execution_count": 72,
   "id": "38f5c55f-bc2d-4aa0-9e86-9cf7ebc97532",
   "metadata": {},
   "outputs": [
    {
     "name": "stdin",
     "output_type": "stream",
     "text": [
      " 4 6\n",
      " a t c i s w\n"
     ]
    },
    {
     "name": "stdout",
     "output_type": "stream",
     "text": [
      "acst\n",
      "actw\n",
      "astw\n",
      "acsw\n",
      "cist\n",
      "citw\n",
      "istw\n",
      "cisw\n",
      "acit\n",
      "aist\n",
      "aitw\n",
      "acis\n",
      "aciw\n",
      "aisw\n"
     ]
    }
   ],
   "source": [
    "import itertools\n",
    "\n",
    "L, c = map(int, input().split())\n",
    "alphabets = input().split()\n",
    "consonants = []\n",
    "vowels = []\n",
    "\n",
    "all_vowels = ['a', 'e', 'i', 'o', 'u']\n",
    "\n",
    "\n",
    "for alpha in alphabets :\n",
    "    if alpha in all_vowels :\n",
    "        vowels.append(alpha)\n",
    "    else :\n",
    "        consonants.append(alpha)\n",
    "\n",
    "\n",
    "for i in range(1, len(vowels) + 1 ) :\n",
    "    if i > L-2 :\n",
    "        break\n",
    "    for j in itertools.combinations(vowels, i) :\n",
    "        for k in itertools.combinations(consonants, L-i) :\n",
    "            temp = list(j) + list(k)\n",
    "            temp.sort()\n",
    "            print(\"\".join(temp))"
   ]
  },
  {
   "cell_type": "code",
   "execution_count": 71,
   "id": "b5450276-1b7b-490e-bc66-6b68b2c3481e",
   "metadata": {},
   "outputs": [
    {
     "name": "stdin",
     "output_type": "stream",
     "text": [
      " 4 6\n",
      "   a t c i s w\n"
     ]
    },
    {
     "name": "stdout",
     "output_type": "stream",
     "text": [
      "acis\n",
      "acit\n",
      "aciw\n",
      "acst\n",
      "acsw\n",
      "actw\n",
      "aist\n",
      "aisw\n",
      "aitw\n",
      "astw\n",
      "cist\n",
      "cisw\n",
      "citw\n",
      "istw\n"
     ]
    }
   ],
   "source": [
    "# 예시 답안\n",
    "from itertools import combinations \n",
    "\n",
    "vowels = ('a', 'e', 'i', 'o', 'u')\n",
    "l, c = map(int, input().split())\n",
    "\n",
    "array = input().split()\n",
    "array.sort()\n",
    "\n",
    "for password in combinations(array, l) :\n",
    "    count = 0\n",
    "    for i in password :\n",
    "        if i in vowels :\n",
    "            count += 1\n",
    "    if count >= 1 and count <= l - 2 :\n",
    "        print(\"\".join(password))"
   ]
  },
  {
   "cell_type": "code",
   "execution_count": null,
   "id": "2fa13c69-6db7-4032-9753-44a1fcc06eec",
   "metadata": {},
   "outputs": [],
   "source": []
  },
  {
   "cell_type": "code",
   "execution_count": null,
   "id": "4bee54a2-2622-43d3-b3a7-568cdbe755b2",
   "metadata": {},
   "outputs": [],
   "source": []
  },
  {
   "cell_type": "code",
   "execution_count": null,
   "id": "452a2423-4f57-4dd8-90aa-4d9abb5c0001",
   "metadata": {},
   "outputs": [],
   "source": []
  }
 ],
 "metadata": {
  "kernelspec": {
   "display_name": "Python 3 (ipykernel)",
   "language": "python",
   "name": "python3"
  },
  "language_info": {
   "codemirror_mode": {
    "name": "ipython",
    "version": 3
   },
   "file_extension": ".py",
   "mimetype": "text/x-python",
   "name": "python",
   "nbconvert_exporter": "python",
   "pygments_lexer": "ipython3",
   "version": "3.9.18"
  },
  "widgets": {
   "application/vnd.jupyter.widget-state+json": {
    "state": {},
    "version_major": 2,
    "version_minor": 0
   }
  }
 },
 "nbformat": 4,
 "nbformat_minor": 5
}
