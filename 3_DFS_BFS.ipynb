{
 "cells": [
  {
   "cell_type": "markdown",
   "id": "dc9aded6-4941-4558-820a-5d83406c0b7a",
   "metadata": {},
   "source": [
    "# DFS와 BFS "
   ]
  },
  {
   "cell_type": "markdown",
   "id": "d9f6615b-8588-4da0-92d1-81cfe1083758",
   "metadata": {},
   "source": [
    "## 탐색 : 많은 양의 데이터 중에서 원하는 데이터를 찾는 과정\n",
    "## 자료구조 : 데이터를 표현하고 관리하고 처리하기 위한 과정\n",
    "### 스택 : 선입후출\n",
    "### 큐 : 선입선출\n",
    "## 재귀함수 : 자기자신을 다시 호출하는 함수"
   ]
  },
  {
   "cell_type": "code",
   "execution_count": 6,
   "id": "76066129-b7d4-4e37-aeca-d94f1280fa7c",
   "metadata": {},
   "outputs": [
    {
     "name": "stdout",
     "output_type": "stream",
     "text": [
      "[5, 2, 3, 1]\n",
      "[1, 3, 2, 5]\n"
     ]
    }
   ],
   "source": [
    "# 스택 예제 \n",
    "stack = []\n",
    "\n",
    "stack.append(5)\n",
    "stack.append(2)\n",
    "stack.append(3)\n",
    "stack.append(7)\n",
    "stack.pop()\n",
    "stack.append(1)\n",
    "stack.append(4)\n",
    "stack.pop()\n",
    "\n",
    "print(stack)\n",
    "print(stack[::-1])"
   ]
  },
  {
   "cell_type": "code",
   "execution_count": 12,
   "id": "d25be4f9-b429-4950-9ece-0d4dec84ff18",
   "metadata": {},
   "outputs": [
    {
     "name": "stdout",
     "output_type": "stream",
     "text": [
      "deque([3, 7, 1, 4])\n",
      "deque([4, 1, 7, 3])\n"
     ]
    }
   ],
   "source": [
    "# 큐 예제\n",
    "\n",
    "from collections import deque\n",
    "\n",
    "queue = deque()\n",
    "\n",
    "queue.append(5)\n",
    "queue.append(2)\n",
    "queue.append(3)\n",
    "queue.append(7)\n",
    "queue.popleft()\n",
    "queue.append(1)\n",
    "queue.append(4)\n",
    "queue.popleft()\n",
    "\n",
    "print(queue)\n",
    "queue.reverse()\n",
    "print(queue)"
   ]
  },
  {
   "cell_type": "code",
   "execution_count": 5,
   "id": "995cfa87-5e63-4f0d-a50e-c8e0d702d799",
   "metadata": {},
   "outputs": [
    {
     "data": {
      "text/plain": [
       "'\\ndef recursive_function() :\\n    print(\"재귀함수를 호출합니다\")\\n    recursive_function()\\n\\n    \\nrecursive_function()\\n\\n'"
      ]
     },
     "execution_count": 5,
     "metadata": {},
     "output_type": "execute_result"
    }
   ],
   "source": [
    "# 재귀함수 \n",
    "# 재귀함수는 내부에서 스택으로 구현되어 있다.\n",
    "'''\n",
    "def recursive_function() :\n",
    "    print(\"재귀함수를 호출합니다\")\n",
    "    recursive_function()\n",
    "\n",
    "    \n",
    "recursive_function()\n",
    "\n",
    "'''"
   ]
  },
  {
   "cell_type": "code",
   "execution_count": 4,
   "id": "6aeff71a-bb10-4c4d-9666-c3db01a40325",
   "metadata": {},
   "outputs": [
    {
     "name": "stdout",
     "output_type": "stream",
     "text": [
      "0 번째 재귀함수에서 1 번째 재귀 함수를 호출합니다.\n",
      "1 번째 재귀함수에서 2 번째 재귀 함수를 호출합니다.\n",
      "2 번째 재귀함수에서 3 번째 재귀 함수를 호출합니다.\n",
      "3 번째 재귀함수에서 4 번째 재귀 함수를 호출합니다.\n",
      "4 번째 재귀함수에서 5 번째 재귀 함수를 호출합니다.\n",
      "5 번째 재귀함수에서 6 번째 재귀 함수를 호출합니다.\n",
      "6 번째 재귀함수에서 7 번째 재귀 함수를 호출합니다.\n",
      "7 번째 재귀함수에서 8 번째 재귀 함수를 호출합니다.\n",
      "8 번째 재귀함수에서 9 번째 재귀 함수를 호출합니다.\n",
      "9 번째 재귀함수에서 10 번째 재귀 함수를 호출합니다.\n",
      "10 번째 재귀함수에서 11 번째 재귀 함수를 호출합니다.\n",
      "11 번째 재귀함수에서 12 번째 재귀 함수를 호출합니다.\n",
      "12 번째 재귀함수에서 13 번째 재귀 함수를 호출합니다.\n",
      "13 번째 재귀함수에서 14 번째 재귀 함수를 호출합니다.\n",
      "14 번째 재귀함수에서 15 번째 재귀 함수를 호출합니다.\n",
      "15 번째 재귀함수에서 16 번째 재귀 함수를 호출합니다.\n",
      "16 번째 재귀함수에서 17 번째 재귀 함수를 호출합니다.\n",
      "17 번째 재귀함수에서 18 번째 재귀 함수를 호출합니다.\n",
      "18 번째 재귀함수에서 19 번째 재귀 함수를 호출합니다.\n",
      "19 번째 재귀함수에서 20 번째 재귀 함수를 호출합니다.\n",
      "20 번째 재귀함수에서 21 번째 재귀 함수를 호출합니다.\n",
      "21 번째 재귀함수에서 22 번째 재귀 함수를 호출합니다.\n",
      "22 번째 재귀함수에서 23 번째 재귀 함수를 호출합니다.\n",
      "23 번째 재귀함수에서 24 번째 재귀 함수를 호출합니다.\n",
      "24 번째 재귀함수에서 25 번째 재귀 함수를 호출합니다.\n",
      "25 번째 재귀함수에서 26 번째 재귀 함수를 호출합니다.\n",
      "26 번째 재귀함수에서 27 번째 재귀 함수를 호출합니다.\n",
      "27 번째 재귀함수에서 28 번째 재귀 함수를 호출합니다.\n",
      "28 번째 재귀함수에서 29 번째 재귀 함수를 호출합니다.\n",
      "29 번째 재귀함수에서 30 번째 재귀 함수를 호출합니다.\n",
      "30 번째 재귀함수에서 31 번째 재귀 함수를 호출합니다.\n",
      "31 번째 재귀함수에서 32 번째 재귀 함수를 호출합니다.\n",
      "32 번째 재귀함수에서 33 번째 재귀 함수를 호출합니다.\n",
      "33 번째 재귀함수에서 34 번째 재귀 함수를 호출합니다.\n",
      "34 번째 재귀함수에서 35 번째 재귀 함수를 호출합니다.\n",
      "35 번째 재귀함수에서 36 번째 재귀 함수를 호출합니다.\n",
      "36 번째 재귀함수에서 37 번째 재귀 함수를 호출합니다.\n",
      "37 번째 재귀함수에서 38 번째 재귀 함수를 호출합니다.\n",
      "38 번째 재귀함수에서 39 번째 재귀 함수를 호출합니다.\n",
      "39 번째 재귀함수에서 40 번째 재귀 함수를 호출합니다.\n",
      "40 번째 재귀함수에서 41 번째 재귀 함수를 호출합니다.\n",
      "41 번째 재귀함수에서 42 번째 재귀 함수를 호출합니다.\n",
      "42 번째 재귀함수에서 43 번째 재귀 함수를 호출합니다.\n",
      "43 번째 재귀함수에서 44 번째 재귀 함수를 호출합니다.\n",
      "44 번째 재귀함수에서 45 번째 재귀 함수를 호출합니다.\n",
      "45 번째 재귀함수에서 46 번째 재귀 함수를 호출합니다.\n",
      "46 번째 재귀함수에서 47 번째 재귀 함수를 호출합니다.\n",
      "47 번째 재귀함수에서 48 번째 재귀 함수를 호출합니다.\n",
      "48 번째 재귀함수에서 49 번째 재귀 함수를 호출합니다.\n",
      "49 번째 재귀함수에서 50 번째 재귀 함수를 호출합니다.\n",
      "50 번째 재귀함수에서 51 번째 재귀 함수를 호출합니다.\n",
      "51 번째 재귀함수에서 52 번째 재귀 함수를 호출합니다.\n",
      "52 번째 재귀함수에서 53 번째 재귀 함수를 호출합니다.\n",
      "53 번째 재귀함수에서 54 번째 재귀 함수를 호출합니다.\n",
      "54 번째 재귀함수에서 55 번째 재귀 함수를 호출합니다.\n",
      "55 번째 재귀함수에서 56 번째 재귀 함수를 호출합니다.\n",
      "56 번째 재귀함수에서 57 번째 재귀 함수를 호출합니다.\n",
      "57 번째 재귀함수에서 58 번째 재귀 함수를 호출합니다.\n",
      "58 번째 재귀함수에서 59 번째 재귀 함수를 호출합니다.\n",
      "59 번째 재귀함수에서 60 번째 재귀 함수를 호출합니다.\n",
      "60 번째 재귀함수에서 61 번째 재귀 함수를 호출합니다.\n",
      "61 번째 재귀함수에서 62 번째 재귀 함수를 호출합니다.\n",
      "62 번째 재귀함수에서 63 번째 재귀 함수를 호출합니다.\n",
      "63 번째 재귀함수에서 64 번째 재귀 함수를 호출합니다.\n",
      "64 번째 재귀함수에서 65 번째 재귀 함수를 호출합니다.\n",
      "65 번째 재귀함수에서 66 번째 재귀 함수를 호출합니다.\n",
      "66 번째 재귀함수에서 67 번째 재귀 함수를 호출합니다.\n",
      "67 번째 재귀함수에서 68 번째 재귀 함수를 호출합니다.\n",
      "68 번째 재귀함수에서 69 번째 재귀 함수를 호출합니다.\n",
      "69 번째 재귀함수에서 70 번째 재귀 함수를 호출합니다.\n",
      "70 번째 재귀함수에서 71 번째 재귀 함수를 호출합니다.\n",
      "71 번째 재귀함수에서 72 번째 재귀 함수를 호출합니다.\n",
      "72 번째 재귀함수에서 73 번째 재귀 함수를 호출합니다.\n",
      "73 번째 재귀함수에서 74 번째 재귀 함수를 호출합니다.\n",
      "74 번째 재귀함수에서 75 번째 재귀 함수를 호출합니다.\n",
      "75 번째 재귀함수에서 76 번째 재귀 함수를 호출합니다.\n",
      "76 번째 재귀함수에서 77 번째 재귀 함수를 호출합니다.\n",
      "77 번째 재귀함수에서 78 번째 재귀 함수를 호출합니다.\n",
      "78 번째 재귀함수에서 79 번째 재귀 함수를 호출합니다.\n",
      "79 번째 재귀함수에서 80 번째 재귀 함수를 호출합니다.\n",
      "80 번째 재귀함수에서 81 번째 재귀 함수를 호출합니다.\n",
      "81 번째 재귀함수에서 82 번째 재귀 함수를 호출합니다.\n",
      "82 번째 재귀함수에서 83 번째 재귀 함수를 호출합니다.\n",
      "83 번째 재귀함수에서 84 번째 재귀 함수를 호출합니다.\n",
      "84 번째 재귀함수에서 85 번째 재귀 함수를 호출합니다.\n",
      "85 번째 재귀함수에서 86 번째 재귀 함수를 호출합니다.\n",
      "86 번째 재귀함수에서 87 번째 재귀 함수를 호출합니다.\n",
      "87 번째 재귀함수에서 88 번째 재귀 함수를 호출합니다.\n",
      "88 번째 재귀함수에서 89 번째 재귀 함수를 호출합니다.\n",
      "89 번째 재귀함수에서 90 번째 재귀 함수를 호출합니다.\n",
      "90 번째 재귀함수에서 91 번째 재귀 함수를 호출합니다.\n",
      "91 번째 재귀함수에서 92 번째 재귀 함수를 호출합니다.\n",
      "92 번째 재귀함수에서 93 번째 재귀 함수를 호출합니다.\n",
      "93 번째 재귀함수에서 94 번째 재귀 함수를 호출합니다.\n",
      "94 번째 재귀함수에서 95 번째 재귀 함수를 호출합니다.\n",
      "95 번째 재귀함수에서 96 번째 재귀 함수를 호출합니다.\n",
      "96 번째 재귀함수에서 97 번째 재귀 함수를 호출합니다.\n",
      "97 번째 재귀함수에서 98 번째 재귀 함수를 호출합니다.\n",
      "98 번째 재귀함수에서 99 번째 재귀 함수를 호출합니다.\n",
      "99 번째 재귀함수에서 100 번째 재귀 함수를 호출합니다.\n",
      "99 번째 재귀함수를 종료합니다.\n",
      "98 번째 재귀함수를 종료합니다.\n",
      "97 번째 재귀함수를 종료합니다.\n",
      "96 번째 재귀함수를 종료합니다.\n",
      "95 번째 재귀함수를 종료합니다.\n",
      "94 번째 재귀함수를 종료합니다.\n",
      "93 번째 재귀함수를 종료합니다.\n",
      "92 번째 재귀함수를 종료합니다.\n",
      "91 번째 재귀함수를 종료합니다.\n",
      "90 번째 재귀함수를 종료합니다.\n",
      "89 번째 재귀함수를 종료합니다.\n",
      "88 번째 재귀함수를 종료합니다.\n",
      "87 번째 재귀함수를 종료합니다.\n",
      "86 번째 재귀함수를 종료합니다.\n",
      "85 번째 재귀함수를 종료합니다.\n",
      "84 번째 재귀함수를 종료합니다.\n",
      "83 번째 재귀함수를 종료합니다.\n",
      "82 번째 재귀함수를 종료합니다.\n",
      "81 번째 재귀함수를 종료합니다.\n",
      "80 번째 재귀함수를 종료합니다.\n",
      "79 번째 재귀함수를 종료합니다.\n",
      "78 번째 재귀함수를 종료합니다.\n",
      "77 번째 재귀함수를 종료합니다.\n",
      "76 번째 재귀함수를 종료합니다.\n",
      "75 번째 재귀함수를 종료합니다.\n",
      "74 번째 재귀함수를 종료합니다.\n",
      "73 번째 재귀함수를 종료합니다.\n",
      "72 번째 재귀함수를 종료합니다.\n",
      "71 번째 재귀함수를 종료합니다.\n",
      "70 번째 재귀함수를 종료합니다.\n",
      "69 번째 재귀함수를 종료합니다.\n",
      "68 번째 재귀함수를 종료합니다.\n",
      "67 번째 재귀함수를 종료합니다.\n",
      "66 번째 재귀함수를 종료합니다.\n",
      "65 번째 재귀함수를 종료합니다.\n",
      "64 번째 재귀함수를 종료합니다.\n",
      "63 번째 재귀함수를 종료합니다.\n",
      "62 번째 재귀함수를 종료합니다.\n",
      "61 번째 재귀함수를 종료합니다.\n",
      "60 번째 재귀함수를 종료합니다.\n",
      "59 번째 재귀함수를 종료합니다.\n",
      "58 번째 재귀함수를 종료합니다.\n",
      "57 번째 재귀함수를 종료합니다.\n",
      "56 번째 재귀함수를 종료합니다.\n",
      "55 번째 재귀함수를 종료합니다.\n",
      "54 번째 재귀함수를 종료합니다.\n",
      "53 번째 재귀함수를 종료합니다.\n",
      "52 번째 재귀함수를 종료합니다.\n",
      "51 번째 재귀함수를 종료합니다.\n",
      "50 번째 재귀함수를 종료합니다.\n",
      "49 번째 재귀함수를 종료합니다.\n",
      "48 번째 재귀함수를 종료합니다.\n",
      "47 번째 재귀함수를 종료합니다.\n",
      "46 번째 재귀함수를 종료합니다.\n",
      "45 번째 재귀함수를 종료합니다.\n",
      "44 번째 재귀함수를 종료합니다.\n",
      "43 번째 재귀함수를 종료합니다.\n",
      "42 번째 재귀함수를 종료합니다.\n",
      "41 번째 재귀함수를 종료합니다.\n",
      "40 번째 재귀함수를 종료합니다.\n",
      "39 번째 재귀함수를 종료합니다.\n",
      "38 번째 재귀함수를 종료합니다.\n",
      "37 번째 재귀함수를 종료합니다.\n",
      "36 번째 재귀함수를 종료합니다.\n",
      "35 번째 재귀함수를 종료합니다.\n",
      "34 번째 재귀함수를 종료합니다.\n",
      "33 번째 재귀함수를 종료합니다.\n",
      "32 번째 재귀함수를 종료합니다.\n",
      "31 번째 재귀함수를 종료합니다.\n",
      "30 번째 재귀함수를 종료합니다.\n",
      "29 번째 재귀함수를 종료합니다.\n",
      "28 번째 재귀함수를 종료합니다.\n",
      "27 번째 재귀함수를 종료합니다.\n",
      "26 번째 재귀함수를 종료합니다.\n",
      "25 번째 재귀함수를 종료합니다.\n",
      "24 번째 재귀함수를 종료합니다.\n",
      "23 번째 재귀함수를 종료합니다.\n",
      "22 번째 재귀함수를 종료합니다.\n",
      "21 번째 재귀함수를 종료합니다.\n",
      "20 번째 재귀함수를 종료합니다.\n",
      "19 번째 재귀함수를 종료합니다.\n",
      "18 번째 재귀함수를 종료합니다.\n",
      "17 번째 재귀함수를 종료합니다.\n",
      "16 번째 재귀함수를 종료합니다.\n",
      "15 번째 재귀함수를 종료합니다.\n",
      "14 번째 재귀함수를 종료합니다.\n",
      "13 번째 재귀함수를 종료합니다.\n",
      "12 번째 재귀함수를 종료합니다.\n",
      "11 번째 재귀함수를 종료합니다.\n",
      "10 번째 재귀함수를 종료합니다.\n",
      "9 번째 재귀함수를 종료합니다.\n",
      "8 번째 재귀함수를 종료합니다.\n",
      "7 번째 재귀함수를 종료합니다.\n",
      "6 번째 재귀함수를 종료합니다.\n",
      "5 번째 재귀함수를 종료합니다.\n",
      "4 번째 재귀함수를 종료합니다.\n",
      "3 번째 재귀함수를 종료합니다.\n",
      "2 번째 재귀함수를 종료합니다.\n",
      "1 번째 재귀함수를 종료합니다.\n",
      "0 번째 재귀함수를 종료합니다.\n"
     ]
    }
   ],
   "source": [
    "# 재귀함수 종료 예제\n",
    "def recursive_function(i) :\n",
    "    if i >= 10 :\n",
    "        return \n",
    "    print(f\"{i} 번째 재귀함수에서 {i+1} 번째 재귀 함수를 호출합니다.\")\n",
    "    recursive_function(i+1)\n",
    "    print(f\"{i} 번째 재귀함수를 종료합니다.\")\n",
    "\n",
    "\n",
    "\n",
    "recursive_function(0)"
   ]
  },
  {
   "cell_type": "code",
   "execution_count": 8,
   "id": "ca1a9019-1528-43ba-a879-1599672bb2ee",
   "metadata": {},
   "outputs": [
    {
     "name": "stdout",
     "output_type": "stream",
     "text": [
      "6 iterative:  720\n",
      "6 recursive:  720\n"
     ]
    }
   ],
   "source": [
    "# 반복적과 재귀적으로 구현한 팩토리얼 함수\n",
    "\n",
    "def factorial_iterative(n) :\n",
    "    result = 1\n",
    "    for i in range(2,n+1) :\n",
    "        result *= i\n",
    "    return result\n",
    "\n",
    "\n",
    "def factorial_recursive(n) :\n",
    "    if (n <= 1 ) :\n",
    "        return 1\n",
    "    return n * factorial_recursive(n-1)\n",
    "\n",
    "print(\"6 iterative: \", factorial_iterative(6))\n",
    "print(\"6 recursive: \", factorial_recursive(6))"
   ]
  },
  {
   "cell_type": "code",
   "execution_count": null,
   "id": "474c596a-2d7b-4bed-9952-54a17dae6be7",
   "metadata": {},
   "outputs": [],
   "source": []
  },
  {
   "cell_type": "code",
   "execution_count": 10,
   "id": "5d0fa515-9a9c-4cf4-bb73-1b77d9925885",
   "metadata": {},
   "outputs": [
    {
     "name": "stdout",
     "output_type": "stream",
     "text": [
      "[[0, 7, 5], [7, 0, 9999999], [5, 9999999, 0]]\n"
     ]
    }
   ],
   "source": [
    "# 인접 행렬 방식\n",
    "INF = 9999999\n",
    "\n",
    "graph = [\n",
    "    [0, 7, 5],\n",
    "    [7, 0, INF],\n",
    "    [5, INF, 0]\n",
    "]\n",
    "\n",
    "print(graph)"
   ]
  },
  {
   "cell_type": "code",
   "execution_count": 11,
   "id": "3fe9f50a-1c84-4d33-b108-1336aa688692",
   "metadata": {},
   "outputs": [
    {
     "name": "stdout",
     "output_type": "stream",
     "text": [
      "[[(1, 7), (2, 5)], [(0, 7)], [(0, 5)]]\n"
     ]
    }
   ],
   "source": [
    "# 인접 리스트 방식\n",
    "graph = [[] for _ in range(3)]\n",
    "\n",
    "graph[0].append((1, 7))\n",
    "graph[0].append((2, 5))\n",
    "\n",
    "graph[1].append((0, 7))\n",
    "\n",
    "graph[2].append((0, 5))\n",
    "\n",
    "print(graph)"
   ]
  },
  {
   "cell_type": "markdown",
   "id": "3c90a88d-b9e7-4c7d-b11c-4e7da03e3e47",
   "metadata": {},
   "source": [
    "# DFS (Depth-First Search) \n",
    "## : 깊이 우선 탐색, 그리프에서 깊은 부분을 우선적으로 탐색하는 알고리즘\n",
    "## 스택으로 구현"
   ]
  },
  {
   "cell_type": "code",
   "execution_count": 13,
   "id": "c2dcb6b0-d73c-46fd-9092-036ab7f4e8bd",
   "metadata": {},
   "outputs": [
    {
     "name": "stdout",
     "output_type": "stream",
     "text": [
      "1 2 7 6 8 3 4 5 "
     ]
    }
   ],
   "source": [
    "# DFS 예제\n",
    "\n",
    "def dfs(graph, v, visited) :\n",
    "    visited[v] = True\n",
    "    print(v, end=' ')\n",
    "    for i in graph[v] :\n",
    "        if not visited[i] :\n",
    "            dfs(graph, i, visited)\n",
    "            \n",
    "graph = [\n",
    "    [],\n",
    "    [2, 3, 8],\n",
    "    [1, 7],\n",
    "    [1, 4, 5],\n",
    "    [3, 5],\n",
    "    [3, 4],\n",
    "    [7],\n",
    "    [2, 6, 8],\n",
    "    [1, 7]\n",
    "]\n",
    "\n",
    "visited = [False] * 9\n",
    "\n",
    "dfs(graph, 1, visited)"
   ]
  },
  {
   "cell_type": "markdown",
   "id": "98be250c-ba2b-481b-a05e-afb09598fa44",
   "metadata": {},
   "source": [
    "# BFS (Breath First Search) \n",
    "## : 너비 우선 탐색, 가까운 노드부터 탐색하는 알고리즘\n",
    "## 큐로 구현"
   ]
  },
  {
   "cell_type": "code",
   "execution_count": 16,
   "id": "50554a15-2c8c-413a-9c5d-727cdf2f8fa7",
   "metadata": {},
   "outputs": [
    {
     "name": "stdout",
     "output_type": "stream",
     "text": [
      "1 2 3 8 7 4 5 6 "
     ]
    }
   ],
   "source": [
    "# BFS\n",
    "from collections import deque\n",
    "\n",
    "def bfs(graph, v , visited) :\n",
    "    queue = deque()\n",
    "    queue.append(v)\n",
    "    visited[v] = True\n",
    "    while queue :\n",
    "        i = queue.popleft()\n",
    "        print(i, end=' ')\n",
    "        for i in graph[i] :\n",
    "            if (not visited[i]) :\n",
    "                queue.append(i)\n",
    "                visited[i] = True\n",
    "\n",
    "\n",
    "                \n",
    "graph = [\n",
    "    [],\n",
    "    [2, 3, 8],\n",
    "    [1, 7],\n",
    "    [1, 4, 5],\n",
    "    [3, 5],\n",
    "    [3, 4],\n",
    "    [7],\n",
    "    [2, 6, 8],\n",
    "    [1, 7]\n",
    "]\n",
    "\n",
    "visited = [False] * 9\n",
    "\n",
    "bfs(graph, 1, visited)\n",
    "    "
   ]
  },
  {
   "cell_type": "markdown",
   "id": "e0461094-3783-4fb1-8eeb-69a72472e6e5",
   "metadata": {},
   "source": [
    "# 음류수 얼려 먹기"
   ]
  },
  {
   "cell_type": "code",
   "execution_count": null,
   "id": "9d6eb46b-d12e-43ef-b4f1-a07f0af31792",
   "metadata": {},
   "outputs": [],
   "source": [
    "# [10] * m 복사 문제로 못 풀었던 거임  \n",
    "from collections import deque \n",
    "\n",
    "\n",
    "def bfs(visited, r, c) :\n",
    "    row = [1, 0, -1, 0]\n",
    "    col = [0, 1, 0, -1]\n",
    "    queue = deque()\n",
    "    queue.append((r,c))\n",
    "    visited[r][c] = True\n",
    "    while queue :\n",
    "        r, c = queue.popleft()\n",
    "        for i, j in zip(row, col) :\n",
    "            new_row = r+i\n",
    "            new_col = c+j\n",
    "            if (new_row >= 0 and new_row < N and new_col >= 0 and new_col < M) :\n",
    "                if graph[new_row][new_col] == '0' and (not visited[new_row][new_col])  :\n",
    "                    queue.append((new_row,new_col))\n",
    "                    visited[new_row][new_col] = True\n",
    "\n",
    "\n",
    "\n",
    "# 입력 받기 \n",
    "N, M = map(int, input().split())\n",
    "\n",
    "\n",
    "graph = []\n",
    "count = 0\n",
    "visited = [[False]*M]*N\n",
    "\n",
    "\n",
    "for i in range(N) :\n",
    "    graph.append(input())\n",
    "     \n",
    "\n",
    "for i in range(N) :\n",
    "    for j in range(M) :\n",
    "        if (not visited[i][j]) and graph[i][j] == '0':\n",
    "            bfs(visited,i,j)\n",
    "            count += 1\n",
    "\n",
    "\n",
    "print(count)"
   ]
  },
  {
   "cell_type": "code",
   "execution_count": 17,
   "id": "d2ddffa0-3b34-4fd7-9182-882388f6ae52",
   "metadata": {},
   "outputs": [
    {
     "name": "stdin",
     "output_type": "stream",
     "text": [
      " 3 3\n",
      " 100\n",
      " 011\n",
      " 100\n"
     ]
    },
    {
     "name": "stdout",
     "output_type": "stream",
     "text": [
      "3\n"
     ]
    }
   ],
   "source": [
    "from collections import deque\n",
    "\n",
    "def bfs(mould, visited, x, y) :\n",
    "    queue = deque([(x, y)])\n",
    "    visited[x][y] = True\n",
    "    while queue :\n",
    "        x, y = queue.popleft()\n",
    "        for i, j in zip(dx, dy) :\n",
    "            new_x = x + i\n",
    "            new_y = y + j\n",
    "            if 0 <= new_x <= n-1 and 0 <= new_y <= m-1 :\n",
    "                if not visited[new_x][new_y] and mould[new_x][new_y] == \"0\":\n",
    "                    visited[new_x][new_y] = True\n",
    "                    queue.append((new_x, new_y))\n",
    "    \n",
    "\n",
    "\n",
    "n, m = map(int, input().split())\n",
    "\n",
    "\n",
    "dx = [1, 0, -1, 0]\n",
    "dy = [0, 1, 0, -1]\n",
    "\n",
    "visited = [[False for _ in range(m)] for _ in range(n)]\n",
    "mould = []\n",
    "for i in range(n) :\n",
    "    mould.append(input())\n",
    "\n",
    "count = 0\n",
    "\n",
    "for i in range(n) :\n",
    "    for j in range(m) :\n",
    "        if not visited[i][j] and mould[i][j] == \"0\" :\n",
    "            count += 1\n",
    "            bfs(mould, visited, i, j)\n",
    "\n",
    "\n",
    "print(count)"
   ]
  },
  {
   "cell_type": "code",
   "execution_count": 19,
   "id": "ee26e19b-64ae-4230-9d69-f6964bdf737b",
   "metadata": {},
   "outputs": [
    {
     "name": "stdin",
     "output_type": "stream",
     "text": [
      " 3 3\n",
      " 100\n",
      " 011\n",
      " 100\n"
     ]
    },
    {
     "name": "stdout",
     "output_type": "stream",
     "text": [
      "3\n"
     ]
    }
   ],
   "source": [
    "# 예시 답안\n",
    "\n",
    "n ,m = map(int, input().split())\n",
    "\n",
    "graph = []\n",
    "for i in range(n) :\n",
    "    graph.append(list(map(int, input())))\n",
    "\n",
    "def dfs(x, y) :\n",
    "    if x <= -1 or x >= n or y <= -1 or y>= m :\n",
    "        return False \n",
    "    if graph[x][y] == 0 :\n",
    "        graph[x][y] = 1\n",
    "        dfs(x, y-1)\n",
    "        dfs(x-1, y)\n",
    "        dfs(x, y+1)\n",
    "        dfs(x+1, y)\n",
    "        return True\n",
    "    return False\n",
    "\n",
    "\n",
    "result = 0\n",
    "for i in range(n) :\n",
    "    for j in range(m) :\n",
    "        if dfs(i, j) == True :\n",
    "            result += 1\n",
    "\n",
    "print(result)"
   ]
  },
  {
   "cell_type": "markdown",
   "id": "c5944926-85bb-45ae-a1de-bda5f0844b12",
   "metadata": {},
   "source": [
    "# 미로 탈출"
   ]
  },
  {
   "cell_type": "code",
   "execution_count": 15,
   "id": "c4339196-1959-4038-8f01-0479bd0ae9b1",
   "metadata": {},
   "outputs": [
    {
     "name": "stdin",
     "output_type": "stream",
     "text": [
      " 5 6\n",
      " 101010\n",
      " 111111\n",
      " 000001\n",
      " 111111\n",
      " 111111\n"
     ]
    },
    {
     "name": "stdout",
     "output_type": "stream",
     "text": [
      "10\n"
     ]
    }
   ],
   "source": [
    "# 문제 바로 밑에 있는 해설을 읽어 버렸다. \n",
    "from collections import deque\n",
    "\n",
    "n, m = map(int, input().split())\n",
    "\n",
    "graph = []\n",
    "for i in range(n) :\n",
    "    graph.append(list(map(int, list(input()))))\n",
    "\n",
    "\n",
    "q = deque([(0,0)])\n",
    "while q :\n",
    "    x, y = q.popleft()\n",
    "    for i, j in zip([1, 0, -1, 0],[0, 1, 0, -1]) :\n",
    "        new_x = x + i\n",
    "        new_y = y + j\n",
    "        if new_x < 0 or new_x >= n or new_y < 0 or new_y >= m :\n",
    "            continue\n",
    "        if graph[new_x][new_y] == 0 :\n",
    "            continue\n",
    "        if graph[new_x][new_y] == 1 :\n",
    "            graph[new_x][new_y] = graph[x][y] + 1\n",
    "            q.append((new_x, new_y))\n",
    "        else :\n",
    "            graph[new_x][new_y] = min(graph[x][y]+1, graph[new_x][new_y])\n",
    "        \n",
    "    \n",
    "print(graph[n-1][m-1])"
   ]
  },
  {
   "cell_type": "code",
   "execution_count": 17,
   "id": "05ae4fa1-17aa-4999-89d8-ded11ee0a1cd",
   "metadata": {},
   "outputs": [
    {
     "name": "stdin",
     "output_type": "stream",
     "text": [
      " 5 6\n",
      " 101010\n",
      " 111111\n",
      " 000001\n",
      " 111111\n",
      " 111111\n"
     ]
    },
    {
     "name": "stdout",
     "output_type": "stream",
     "text": [
      "10\n"
     ]
    }
   ],
   "source": [
    "# 예시 답안 \n",
    "from collections import deque\n",
    "\n",
    "n, m = map(int, input().split())\n",
    "\n",
    "graph = []\n",
    "for i in range(n) :\n",
    "    graph.append(list(map(int, input())))\n",
    "\n",
    "dx = [-1, 1, 0, 0]\n",
    "dy = [0, 0, -1, 1]\n",
    "\n",
    "\n",
    "def bfs(x, y) :\n",
    "    queue = deque()\n",
    "    queue.append((x, y))\n",
    "    while queue :\n",
    "        x, y = queue.popleft()\n",
    "        for i in range(4) :\n",
    "            nx = x + dx[i]\n",
    "            ny = y + dy[i]\n",
    "            if nx < 0 or nx >= n or ny < 0 or ny >= m :\n",
    "                continue\n",
    "            if graph[nx][ny] == 0 :\n",
    "                continue\n",
    "            if graph[nx][ny] == 1 :\n",
    "                graph[nx][ny] = graph[x][y] + 1\n",
    "                queue.append((nx, ny))\n",
    "    return graph[n-1][m-1]\n",
    "\n",
    "\n",
    "print(bfs(0,0))\n",
    "\n",
    "\n",
    "    "
   ]
  },
  {
   "cell_type": "code",
   "execution_count": null,
   "id": "8169d2e1-dbc5-4699-b504-02e5e6422946",
   "metadata": {},
   "outputs": [],
   "source": []
  },
  {
   "cell_type": "code",
   "execution_count": null,
   "id": "7dfa30c1-6b0c-4850-a56b-48d662dfb8d0",
   "metadata": {},
   "outputs": [],
   "source": []
  },
  {
   "cell_type": "code",
   "execution_count": null,
   "id": "3cb3a3cf-4b59-49d0-a523-463630775d4d",
   "metadata": {},
   "outputs": [],
   "source": []
  }
 ],
 "metadata": {
  "kernelspec": {
   "display_name": "Python 3 (ipykernel)",
   "language": "python",
   "name": "python3"
  },
  "language_info": {
   "codemirror_mode": {
    "name": "ipython",
    "version": 3
   },
   "file_extension": ".py",
   "mimetype": "text/x-python",
   "name": "python",
   "nbconvert_exporter": "python",
   "pygments_lexer": "ipython3",
   "version": "3.9.18"
  },
  "widgets": {
   "application/vnd.jupyter.widget-state+json": {
    "state": {},
    "version_major": 2,
    "version_minor": 0
   }
  }
 },
 "nbformat": 4,
 "nbformat_minor": 5
}
