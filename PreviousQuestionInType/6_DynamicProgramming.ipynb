{
 "cells": [
  {
   "cell_type": "markdown",
   "id": "736af568-ef7b-425a-8fe0-3727893f6977",
   "metadata": {
    "jp-MarkdownHeadingCollapsed": true
   },
   "source": [
    "# 31. 금광"
   ]
  },
  {
   "cell_type": "code",
   "execution_count": 20,
   "id": "c7161ce3-542a-4c2d-bce2-20f049c72a11",
   "metadata": {},
   "outputs": [
    {
     "name": "stdin",
     "output_type": "stream",
     "text": [
      " 2\n",
      "  3  4\n",
      " 1 3 3 2 2 1 4 1 0 6 4 7 \n"
     ]
    },
    {
     "name": "stdout",
     "output_type": "stream",
     "text": [
      "19\n"
     ]
    },
    {
     "name": "stdin",
     "output_type": "stream",
     "text": [
      " 4 4\n",
      " 1 3 1 5 2 2 4 1 5 0 2 3 0 6 1 2\n"
     ]
    },
    {
     "name": "stdout",
     "output_type": "stream",
     "text": [
      "16\n"
     ]
    }
   ],
   "source": [
    "t = int(input())\n",
    "\n",
    "for _ in range(t) :\n",
    "    n, m = map(int, input().split())\n",
    "    \n",
    "    data = []\n",
    "    input_data = list(map(int, input().split()))\n",
    "    \n",
    "    for i in range(n) :\n",
    "        data.append(input_data[m*i : m*(i+1)])\n",
    "    \n",
    "\n",
    "    for i in range(m-1, 0, -1) :\n",
    "        for j in range(n) :\n",
    "            j_up = j - 1\n",
    "            j_down = j + 1\n",
    "            if j_up < 0 :\n",
    "                j_up = j\n",
    "            if j_down >= n :\n",
    "                j_down = j\n",
    "            data[j][i-1] = data[j][i-1] + max(data[j_up][i], data[j][i], data[j_down][i])\n",
    "            \n",
    "    max_value = 0\n",
    "    for i in range(n) :\n",
    "        max_value = max(max_value, data[i][0])\n",
    "    \n",
    "    print(max_value)"
   ]
  },
  {
   "cell_type": "code",
   "execution_count": 23,
   "id": "a41fd42e-41aa-4506-82bf-b3a00736eeb0",
   "metadata": {},
   "outputs": [
    {
     "name": "stdin",
     "output_type": "stream",
     "text": [
      " 11 1\n"
     ]
    },
    {
     "ename": "ValueError",
     "evalue": "invalid literal for int() with base 10: '11 1'",
     "output_type": "error",
     "traceback": [
      "\u001b[1;31m---------------------------------------------------------------------------\u001b[0m",
      "\u001b[1;31mValueError\u001b[0m                                Traceback (most recent call last)",
      "Cell \u001b[1;32mIn[23], line 3\u001b[0m\n\u001b[0;32m      1\u001b[0m \u001b[38;5;66;03m# 예시 답안\u001b[39;00m\n\u001b[1;32m----> 3\u001b[0m \u001b[38;5;28;01mfor\u001b[39;00m tc \u001b[38;5;129;01min\u001b[39;00m \u001b[38;5;28mrange\u001b[39m(\u001b[38;5;28;43mint\u001b[39;49m\u001b[43m(\u001b[49m\u001b[38;5;28;43minput\u001b[39;49m\u001b[43m(\u001b[49m\u001b[43m)\u001b[49m\u001b[43m)\u001b[49m) :\n\u001b[0;32m      4\u001b[0m     n, m \u001b[38;5;241m=\u001b[39m \u001b[38;5;28mmap\u001b[39m(\u001b[38;5;28mint\u001b[39m, \u001b[38;5;28minput\u001b[39m()\u001b[38;5;241m.\u001b[39msplit())\n\u001b[0;32m      5\u001b[0m     array \u001b[38;5;241m=\u001b[39m \u001b[38;5;28mlist\u001b[39m(\u001b[38;5;28mmap\u001b[39m(\u001b[38;5;28mint\u001b[39m, \u001b[38;5;28minput\u001b[39m()\u001b[38;5;241m.\u001b[39msplit()))\n",
      "\u001b[1;31mValueError\u001b[0m: invalid literal for int() with base 10: '11 1'"
     ]
    }
   ],
   "source": [
    "# 예시 답안\n",
    "\n",
    "for tc in range(int(input())) :\n",
    "    n, m = map(int, input().split())\n",
    "    array = list(map(int, input().split()))\n",
    "\n",
    "    dp = []\n",
    "    index = 0\n",
    "    for i in range(n) :\n",
    "        ddp.append(array[index:index+m])\n",
    "        index += m\n",
    "\n",
    "    for j in range(1, m) :\n",
    "        for j in range(n) :\n",
    "            if i == 0 :\n",
    "                left_up = 0\n",
    "            else :\n",
    "                left_up = dp[i-1][j-1]\n",
    "            if i == n - 1 :\n",
    "                left_down = 0\n",
    "            else :\n",
    "                left_down = dp[i+1][j-1]\n",
    "            left = dp[i][j-1]\n",
    "            dp[i][j] = dp[i][j] + max(left_up, left_down, left)\n",
    "\n",
    "    result = 0 \n",
    "    for i in range(n) :\n",
    "        result = max(result, dp[i][m-1])\n",
    "\n",
    "    print(result)"
   ]
  },
  {
   "cell_type": "code",
   "execution_count": null,
   "id": "32b37b98-a16a-4a73-b7b7-6d78e2093c0a",
   "metadata": {},
   "outputs": [],
   "source": []
  },
  {
   "cell_type": "markdown",
   "id": "8c4eb48e-3e97-4f90-bc43-e6d9ff95cf16",
   "metadata": {
    "jp-MarkdownHeadingCollapsed": true
   },
   "source": [
    "# 32. 정수 삼각형"
   ]
  },
  {
   "cell_type": "code",
   "execution_count": 4,
   "id": "413f2dbb-c8d8-4934-8a71-3b89b86bb286",
   "metadata": {},
   "outputs": [
    {
     "name": "stdin",
     "output_type": "stream",
     "text": [
      " 5\n",
      " 7\n",
      " 3 8\n",
      " 8 1 0\n",
      " 2 7 4 4\n",
      " 4 5 2 6 5\n"
     ]
    },
    {
     "name": "stdout",
     "output_type": "stream",
     "text": [
      "30\n"
     ]
    }
   ],
   "source": [
    "n = int(input())\n",
    "data = []\n",
    "for _ in range(n) :\n",
    "    data.append(list(map(int, input().split())))\n",
    "\n",
    "for i in range(n-2, -1, -1) :\n",
    "    for j in range(i+1) :\n",
    "        data[i][j] = data[i][j] + max(data[i+1][j], data[i+1][j+1])\n",
    "        \n",
    "        \n",
    "print(data[0][0])"
   ]
  },
  {
   "cell_type": "code",
   "execution_count": 5,
   "id": "a5dec53a-a2eb-4376-a075-a24b9dda3106",
   "metadata": {},
   "outputs": [
    {
     "name": "stdin",
     "output_type": "stream",
     "text": [
      " 5\n",
      " 7\n",
      " 3 8\n",
      " 8 1 0\n",
      " 2 7 4 4\n",
      " 4 5 2 6 5\n"
     ]
    },
    {
     "name": "stdout",
     "output_type": "stream",
     "text": [
      "30\n"
     ]
    }
   ],
   "source": [
    "# 예시 답안\n",
    "n = int(input())\n",
    "dp = []\n",
    "\n",
    "for _ in range(n) :\n",
    "    dp.append(list(map(int, input().split())))\n",
    "\n",
    "for i in range(1, n) :\n",
    "    for j in range(i+1) :\n",
    "        if j == 0 :\n",
    "            up_left = 0\n",
    "        else :\n",
    "            up_left = dp[i-1][j-1]\n",
    "        if j == i :\n",
    "            up = 0\n",
    "        else :\n",
    "            up = dp[i-1][j]\n",
    "        dp[i][j] = dp[i][j] + max(up_left, up)\n",
    "\n",
    "print(max(dp[n-1]))"
   ]
  },
  {
   "cell_type": "code",
   "execution_count": null,
   "id": "9868f3e3-4a45-4765-8016-f28ccb98cae1",
   "metadata": {},
   "outputs": [],
   "source": []
  },
  {
   "cell_type": "code",
   "execution_count": null,
   "id": "75ea7d61-2521-449b-ba97-46007d83118c",
   "metadata": {},
   "outputs": [],
   "source": []
  },
  {
   "cell_type": "markdown",
   "id": "d8a49141-9bdb-4a21-929c-632992a8f712",
   "metadata": {
    "jp-MarkdownHeadingCollapsed": true
   },
   "source": [
    "# 33. 퇴사"
   ]
  },
  {
   "cell_type": "code",
   "execution_count": null,
   "id": "c779ed76-9830-4bfc-a1d0-221ef327a0c0",
   "metadata": {},
   "outputs": [],
   "source": [
    "n = int(input())\n",
    "data = [[0,0]]\n",
    "for i in range(n) :\n",
    "    t, p = map(int, input().split())\n",
    "    data.append(t, p)\n",
    "\n",
    "\n",
    "    "
   ]
  },
  {
   "cell_type": "code",
   "execution_count": null,
   "id": "82d49523-cf2d-4806-aef0-7c79ace1397c",
   "metadata": {},
   "outputs": [],
   "source": []
  },
  {
   "cell_type": "code",
   "execution_count": null,
   "id": "967dba52-d01e-4b29-b647-4f0ceaf0157c",
   "metadata": {},
   "outputs": [],
   "source": []
  },
  {
   "cell_type": "code",
   "execution_count": null,
   "id": "029821f1-c32c-4b71-bb18-a340cffba015",
   "metadata": {},
   "outputs": [],
   "source": []
  },
  {
   "cell_type": "code",
   "execution_count": null,
   "id": "7e707ac2-22a8-4415-99e9-00398c911d8d",
   "metadata": {},
   "outputs": [],
   "source": []
  },
  {
   "cell_type": "code",
   "execution_count": null,
   "id": "9c12630c-d281-4ca1-b0d7-b07d14d97174",
   "metadata": {},
   "outputs": [],
   "source": []
  },
  {
   "cell_type": "code",
   "execution_count": null,
   "id": "8af19e52-f4ef-4a74-818c-2af0a59e2be9",
   "metadata": {},
   "outputs": [],
   "source": []
  },
  {
   "cell_type": "markdown",
   "id": "54f389ab-947a-460b-950e-bd863ad45f58",
   "metadata": {},
   "source": [
    "# 34. 병사 배치하기"
   ]
  },
  {
   "cell_type": "code",
   "execution_count": 3,
   "id": "8ea079b8-fbb3-4356-8be4-5c6a79576e73",
   "metadata": {},
   "outputs": [
    {
     "name": "stdin",
     "output_type": "stream",
     "text": [
      " 7\n",
      " 15 11 4 8 5 2 4\n"
     ]
    },
    {
     "name": "stdout",
     "output_type": "stream",
     "text": [
      "2\n"
     ]
    }
   ],
   "source": [
    "n = int(input())\n",
    "data = list(map(int, input().split()))\n",
    "\n",
    "count = 0\n",
    "for i in range(n-1) :\n",
    "    if data[i] < data[i+1] :\n",
    "        count += 1\n",
    "print(count)"
   ]
  },
  {
   "cell_type": "code",
   "execution_count": null,
   "id": "5fc4f0aa-dc1e-411e-9fb6-afe26057b128",
   "metadata": {},
   "outputs": [],
   "source": []
  },
  {
   "cell_type": "code",
   "execution_count": null,
   "id": "a4767b28-8d5c-43e8-931c-2773d240efbe",
   "metadata": {},
   "outputs": [],
   "source": []
  },
  {
   "cell_type": "code",
   "execution_count": null,
   "id": "d857384d-9c79-411e-9ee9-ce5a3a1f8b61",
   "metadata": {},
   "outputs": [],
   "source": []
  },
  {
   "cell_type": "code",
   "execution_count": null,
   "id": "449d5e52-4624-4878-9135-f4668e4e4d86",
   "metadata": {},
   "outputs": [],
   "source": []
  },
  {
   "cell_type": "code",
   "execution_count": null,
   "id": "1478e8e0-25b9-44c7-817a-f4592da51474",
   "metadata": {},
   "outputs": [],
   "source": []
  },
  {
   "cell_type": "markdown",
   "id": "9aeae5c6-db9f-42b9-97ed-3376a2884a53",
   "metadata": {},
   "source": [
    "# 35. 못생긴 수"
   ]
  },
  {
   "cell_type": "code",
   "execution_count": 2,
   "id": "9cab3354-c790-4a25-a239-969d28e43854",
   "metadata": {},
   "outputs": [
    {
     "name": "stdin",
     "output_type": "stream",
     "text": [
      " 4\n"
     ]
    },
    {
     "name": "stdout",
     "output_type": "stream",
     "text": [
      "4\n"
     ]
    }
   ],
   "source": [
    "n = int(input())\n",
    "count = 1\n",
    "number = 2\n",
    "while count < n :\n",
    "    val = number\n",
    "    while True :\n",
    "        if val % 2 == 0 :\n",
    "            val //= 2\n",
    "        else :\n",
    "            break\n",
    "    while True :\n",
    "        if val % 3 == 0 :\n",
    "            val //= 3\n",
    "        else :\n",
    "            break\n",
    "    while True :\n",
    "        if val % 5 == 0 :\n",
    "            val //= 5\n",
    "        else :\n",
    "            break\n",
    "    if val == 1 :\n",
    "        count += 1\n",
    "    number += 1\n",
    "        \n",
    "\n",
    "print(number-1)"
   ]
  },
  {
   "cell_type": "code",
   "execution_count": 12,
   "id": "aa3ee535-233c-4faf-9c26-d3f3fc821efb",
   "metadata": {},
   "outputs": [
    {
     "name": "stdin",
     "output_type": "stream",
     "text": [
      " 4\n"
     ]
    },
    {
     "name": "stdout",
     "output_type": "stream",
     "text": [
      "5\n"
     ]
    }
   ],
   "source": [
    "n = int(input())\n",
    "\n",
    "result = [1, 1]\n",
    "\n",
    "i = 1\n",
    "while len(result) <= n :\n",
    "    if result[i] * 2 not in result :\n",
    "        result.append(result[i] * 2)\n",
    "    if result[i] * 3 not in result :\n",
    "        result.append(result[i] * 3)\n",
    "    if result[i] * 5 not in result :\n",
    "        result.append(result[i] * 5)\n",
    "    result.sort()\n",
    "\n",
    "    \n",
    "    \n",
    "    i += 1\n",
    "\n",
    "result.sort()\n",
    "\n",
    "print(result[n])"
   ]
  },
  {
   "cell_type": "code",
   "execution_count": 13,
   "id": "b71a2069-a997-4acd-9d10-2b62cd8fc95d",
   "metadata": {},
   "outputs": [
    {
     "data": {
      "text/plain": [
       "[1, 1, 2, 3, 5]"
      ]
     },
     "execution_count": 13,
     "metadata": {},
     "output_type": "execute_result"
    }
   ],
   "source": [
    "result"
   ]
  },
  {
   "cell_type": "code",
   "execution_count": null,
   "id": "c3dec3ef-3088-4f49-bdd5-47e4eb0a5ad6",
   "metadata": {},
   "outputs": [],
   "source": []
  },
  {
   "cell_type": "code",
   "execution_count": null,
   "id": "cf8dd6a2-0622-4b1c-aa41-5f13dd2aa53f",
   "metadata": {},
   "outputs": [],
   "source": []
  },
  {
   "cell_type": "code",
   "execution_count": null,
   "id": "5ceddceb-ac9b-4035-8685-ff56407de9e9",
   "metadata": {},
   "outputs": [],
   "source": []
  },
  {
   "cell_type": "markdown",
   "id": "44fdfb14-53c9-4321-b439-d2164b241e9d",
   "metadata": {},
   "source": [
    "# 36. 편집 거리"
   ]
  },
  {
   "cell_type": "code",
   "execution_count": null,
   "id": "5b70872f-0bd9-4113-9f83-d1e5a1fe6430",
   "metadata": {},
   "outputs": [],
   "source": []
  },
  {
   "cell_type": "code",
   "execution_count": null,
   "id": "ab367182-a866-45d5-8507-d8c212a97600",
   "metadata": {},
   "outputs": [],
   "source": []
  },
  {
   "cell_type": "code",
   "execution_count": null,
   "id": "5a8625a3-1fa7-481a-bf27-410a19c608a0",
   "metadata": {},
   "outputs": [],
   "source": []
  },
  {
   "cell_type": "code",
   "execution_count": null,
   "id": "8daf504c-23af-4dc2-9342-737a555b775f",
   "metadata": {},
   "outputs": [],
   "source": []
  },
  {
   "cell_type": "code",
   "execution_count": null,
   "id": "6af17815-f2ee-4937-9020-2cdf50970792",
   "metadata": {},
   "outputs": [],
   "source": []
  },
  {
   "cell_type": "code",
   "execution_count": null,
   "id": "e272393e-427f-4cda-8df4-0987ac81d745",
   "metadata": {},
   "outputs": [],
   "source": []
  }
 ],
 "metadata": {
  "kernelspec": {
   "display_name": "Python 3 (ipykernel)",
   "language": "python",
   "name": "python3"
  },
  "language_info": {
   "codemirror_mode": {
    "name": "ipython",
    "version": 3
   },
   "file_extension": ".py",
   "mimetype": "text/x-python",
   "name": "python",
   "nbconvert_exporter": "python",
   "pygments_lexer": "ipython3",
   "version": "3.9.18"
  },
  "widgets": {
   "application/vnd.jupyter.widget-state+json": {
    "state": {},
    "version_major": 2,
    "version_minor": 0
   }
  }
 },
 "nbformat": 4,
 "nbformat_minor": 5
}
