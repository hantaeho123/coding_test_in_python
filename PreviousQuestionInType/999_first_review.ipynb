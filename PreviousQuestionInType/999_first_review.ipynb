{
 "cells": [
  {
   "cell_type": "markdown",
   "id": "7738c45d-49df-411e-beb3-cfc42929d160",
   "metadata": {
    "jp-MarkdownHeadingCollapsed": true
   },
   "source": [
    "# 3. 그리디"
   ]
  },
  {
   "cell_type": "markdown",
   "id": "63835239-b992-4b64-b6f2-7f75d1bcaaae",
   "metadata": {
    "jp-MarkdownHeadingCollapsed": true
   },
   "source": [
    "## 3-1. 거스름 돈"
   ]
  },
  {
   "cell_type": "code",
   "execution_count": 2,
   "id": "6b3a1bc9-1689-4f82-864d-6038697a2e29",
   "metadata": {},
   "outputs": [],
   "source": [
    "n = 1260\n",
    "count = 0\n",
    "coin_types = [500, 100, 50, 10]\n",
    "\n",
    "for coin in coin_types :\n",
    "    count += n // coin\n",
    "    n %= coin\n",
    "\n",
    "# print(count)"
   ]
  },
  {
   "cell_type": "markdown",
   "id": "bb035a75-dd9e-4c34-97f0-c0980acdb28d",
   "metadata": {
    "jp-MarkdownHeadingCollapsed": true
   },
   "source": [
    "## 3-2. 큰 수의 법칙"
   ]
  },
  {
   "cell_type": "code",
   "execution_count": 5,
   "id": "0fc3cc33-b2a1-4112-a100-6c3f3c7e56e9",
   "metadata": {},
   "outputs": [
    {
     "name": "stdin",
     "output_type": "stream",
     "text": [
      " 5 8 3\n",
      " 2 4 5 4 6\n"
     ]
    },
    {
     "name": "stdout",
     "output_type": "stream",
     "text": [
      "46\n"
     ]
    }
   ],
   "source": [
    "# 내가 푼 버젼\n",
    "n, m, k = map(int, input().split())\n",
    "\n",
    "array = list(map(int, input().split()))\n",
    "array.sort(reverse = True)\n",
    "\n",
    "first = array[0]\n",
    "second = array[1]\n",
    "\n",
    "print((m%(k+1)*first) + (m//(k+1) *(k * first + second)))"
   ]
  },
  {
   "cell_type": "code",
   "execution_count": 9,
   "id": "477cd55c-3992-4690-9c17-f892f789593d",
   "metadata": {},
   "outputs": [
    {
     "name": "stdin",
     "output_type": "stream",
     "text": [
      " 5 8 3\n",
      " 2 4 5 4 6\n"
     ]
    },
    {
     "name": "stdout",
     "output_type": "stream",
     "text": [
      "46\n"
     ]
    }
   ],
   "source": [
    "# 단순하게 푸는 예시 답안\n",
    "n, m ,k = map(int, input().split())\n",
    "\n",
    "data = list(map(int, input().split()))\n",
    "\n",
    "data.sort()\n",
    "first = data[n-1]\n",
    "second = data[n-2]\n",
    "\n",
    "result = 0\n",
    "\n",
    "while True :\n",
    "    for i in range(k) :\n",
    "        if m == 0 :\n",
    "            break\n",
    "        result += first\n",
    "        m -= 1\n",
    "    if m == 0 :\n",
    "        break\n",
    "    result += second \n",
    "    m -= 1\n",
    "\n",
    "print(result)"
   ]
  },
  {
   "cell_type": "code",
   "execution_count": 10,
   "id": "e4dd475d-fdab-45b0-8a48-ab1c7db78c4f",
   "metadata": {},
   "outputs": [
    {
     "name": "stdin",
     "output_type": "stream",
     "text": [
      " 5 8 3\n",
      " 2 4 5  4 6\n"
     ]
    },
    {
     "name": "stdout",
     "output_type": "stream",
     "text": [
      "46\n"
     ]
    }
   ],
   "source": [
    "# 예시 답안 \n",
    "n, m ,k = map(int, input().split())\n",
    "\n",
    "data = list(map(int, input().split()))\n",
    "\n",
    "data.sort()\n",
    "first = data[n-1]\n",
    "second = data[n-2]\n",
    "\n",
    "count = int(m / (k+1) ) * k\n",
    "count += m % (k+1)\n",
    "\n",
    "result = 0\n",
    "result += (count) * first\n",
    "result += (m-count) * second\n",
    "\n",
    "print(result)"
   ]
  },
  {
   "cell_type": "markdown",
   "id": "78a8d35d-32b7-48fb-8c48-bbe567b0f665",
   "metadata": {
    "jp-MarkdownHeadingCollapsed": true
   },
   "source": [
    "## 3-3. 숫자 카드 게임"
   ]
  },
  {
   "cell_type": "code",
   "execution_count": 11,
   "id": "5f44b12d-2eaa-4236-8488-4c4761a9311b",
   "metadata": {},
   "outputs": [
    {
     "name": "stdin",
     "output_type": "stream",
     "text": [
      " 3 3\n",
      " 3 1 2\n",
      " 4 1 4\n",
      " 2 2 2\n"
     ]
    },
    {
     "name": "stdout",
     "output_type": "stream",
     "text": [
      "2\n"
     ]
    }
   ],
   "source": [
    "# 직접 품\n",
    "n, m =  map(int, input().split())\n",
    "val = 0\n",
    "for i in range(n) :\n",
    "    a = min(list(map(int, input().split())))\n",
    "    val = max(val, a)\n",
    "\n",
    "print(val)"
   ]
  },
  {
   "cell_type": "markdown",
   "id": "30da3de8-a7be-4b8e-93a6-c5f910c44092",
   "metadata": {
    "jp-MarkdownHeadingCollapsed": true
   },
   "source": [
    "## 3-4. 1이 될 때까지"
   ]
  },
  {
   "cell_type": "code",
   "execution_count": 15,
   "id": "ae5d5b55-81fe-4cd9-a940-3f3a7e30b6e2",
   "metadata": {},
   "outputs": [
    {
     "name": "stdin",
     "output_type": "stream",
     "text": [
      " 25 5\n"
     ]
    },
    {
     "name": "stdout",
     "output_type": "stream",
     "text": [
      "2\n"
     ]
    }
   ],
   "source": [
    "# 직접 품 \n",
    "n, k = map(int, input().split())\n",
    "count = 0\n",
    "while n > 1 :\n",
    "    if n % k == 0 :\n",
    "        n //= k\n",
    "        count += 1\n",
    "    else :\n",
    "        n -= 1 \n",
    "        count += 1\n",
    "print(count)\n",
    "    "
   ]
  },
  {
   "cell_type": "code",
   "execution_count": 18,
   "id": "ce74a280-5464-4f12-bb15-dc46a52c134e",
   "metadata": {},
   "outputs": [
    {
     "name": "stdin",
     "output_type": "stream",
     "text": [
      " 354656 7\n"
     ]
    },
    {
     "name": "stdout",
     "output_type": "stream",
     "text": [
      "25\n"
     ]
    }
   ],
   "source": [
    "# 답안 예시\n",
    "n, k = map(int, input().split())\n",
    "result = 0\n",
    "\n",
    "while True :\n",
    "    target = (n // k) * k\n",
    "    result += (n - target)\n",
    "    n = target\n",
    "    if n < k :\n",
    "        break\n",
    "    result += 1\n",
    "    n //= k\n",
    "\n",
    "result += (n-1)\n",
    "print(result)"
   ]
  },
  {
   "cell_type": "markdown",
   "id": "91720fd6-fe88-42ba-8863-460a3149e693",
   "metadata": {
    "jp-MarkdownHeadingCollapsed": true
   },
   "source": [
    "# 4. 구현"
   ]
  },
  {
   "cell_type": "markdown",
   "id": "41899141-50f2-4f9e-bec1-ea960abd454d",
   "metadata": {
    "jp-MarkdownHeadingCollapsed": true
   },
   "source": [
    "## 4-1 상하좌우"
   ]
  },
  {
   "cell_type": "code",
   "execution_count": 6,
   "id": "a0415d42-e7d5-4980-964b-c333eea4082d",
   "metadata": {},
   "outputs": [
    {
     "name": "stdin",
     "output_type": "stream",
     "text": [
      " 5\n",
      " R R R U D D\n"
     ]
    },
    {
     "name": "stdout",
     "output_type": "stream",
     "text": [
      "3 4\n"
     ]
    }
   ],
   "source": [
    "# 내가 푼 버젼\n",
    "n = int(input())\n",
    "\n",
    "x = 1\n",
    "y = 1\n",
    "\n",
    "order = input().split()\n",
    "dic_order = {'L':(0, -1), 'R':(0, 1), 'U':(-1, 0), 'D':(1, 0)}\n",
    "\n",
    "for i in order :\n",
    "    a, b = dic_order[i] \n",
    "    x += a\n",
    "    y += b\n",
    "    if x < 1 :\n",
    "        x = 1\n",
    "    elif x > n :\n",
    "        x = n\n",
    "    \n",
    "    if y < 1 :\n",
    "        y = 1\n",
    "    elif y > n :\n",
    "        y = n\n",
    "\n",
    "\n",
    "print(x, y)\n",
    "\n"
   ]
  },
  {
   "cell_type": "code",
   "execution_count": 7,
   "id": "ffd19c7a-ea2b-491f-bddb-ebf6814e184f",
   "metadata": {},
   "outputs": [
    {
     "name": "stdin",
     "output_type": "stream",
     "text": [
      " 5\n",
      " R R R U D D \n"
     ]
    },
    {
     "name": "stdout",
     "output_type": "stream",
     "text": [
      "3 4\n"
     ]
    }
   ],
   "source": [
    "# 예시 답안\n",
    "n = int(input())\n",
    "x, y = 1, 1\n",
    "plans = input().split()\n",
    "\n",
    "dx = [0, 0, -1, 1]\n",
    "dy = [-1, 1, 0, 0]\n",
    "move_types = ['L', 'R', 'U', 'D']\n",
    "\n",
    "\n",
    "for plan in plans :\n",
    "    for i in range(len(move_types)) :\n",
    "        if plan == move_types[i] :\n",
    "            nx = x + dx[i]\n",
    "            ny = y + dy[i]\n",
    "    if nx < 1 or ny < 1 or nx > n or ny > n :\n",
    "        continue\n",
    "    x, y = nx, ny\n",
    "\n",
    "print(x, y)\n",
    "\n",
    "\n",
    "\n",
    "\n",
    "\n"
   ]
  },
  {
   "cell_type": "markdown",
   "id": "f3ebbedc-1d48-49fd-888a-100b4ee0fedd",
   "metadata": {
    "jp-MarkdownHeadingCollapsed": true
   },
   "source": [
    "## 4-2 시간"
   ]
  },
  {
   "cell_type": "code",
   "execution_count": 9,
   "id": "a2dc6260-079e-4e47-8ceb-331540079457",
   "metadata": {},
   "outputs": [
    {
     "name": "stdin",
     "output_type": "stream",
     "text": [
      " 5\n"
     ]
    },
    {
     "name": "stdout",
     "output_type": "stream",
     "text": [
      "11475\n"
     ]
    }
   ],
   "source": [
    "n = int(input())\n",
    "\n",
    "count = 0\n",
    "\n",
    "for i in range(n + 1) :\n",
    "    for j in range(59 + 1) :\n",
    "        for k in range(59 + 1) :\n",
    "            clock = str(i) + str(j) + str(k)\n",
    "            if '3' in clock :\n",
    "                count += 1\n",
    "\n",
    "print(count)"
   ]
  },
  {
   "cell_type": "code",
   "execution_count": null,
   "id": "b3fd8349-a8b9-40f4-9f96-0778ab722810",
   "metadata": {},
   "outputs": [],
   "source": []
  },
  {
   "cell_type": "markdown",
   "id": "ffdd41cf-fc4e-4420-a7a3-0c0c8f4ca4c7",
   "metadata": {
    "jp-MarkdownHeadingCollapsed": true
   },
   "source": [
    "## 4-3 왕실의 나이트"
   ]
  },
  {
   "cell_type": "code",
   "execution_count": 12,
   "id": "827cbfa9-3595-46ef-91ee-90f568bb2ef8",
   "metadata": {},
   "outputs": [
    {
     "name": "stdin",
     "output_type": "stream",
     "text": [
      " a1\n"
     ]
    },
    {
     "name": "stdout",
     "output_type": "stream",
     "text": [
      "2\n"
     ]
    }
   ],
   "source": [
    "# 내가 푼 버젼\n",
    "data = input()\n",
    "count = 0\n",
    "col = ord(data[0]) - 96\n",
    "row = int(data[1])\n",
    "\n",
    "movement = [(2,-1), (2, 1), (-2, -1), (-2, 1), (1, 2), (-1, 2), (1, -2), (-1, -2)]\n",
    "\n",
    "for move in movement :\n",
    "    a, b = move \n",
    "    x = row + a\n",
    "    y = col + b\n",
    "    if (1 <= x <= 8) and (1 <= y <= 8) :\n",
    "        count += 1\n",
    "\n",
    "print(count)"
   ]
  },
  {
   "cell_type": "code",
   "execution_count": null,
   "id": "887405ef-fb7d-4b64-891a-dff00230c9bc",
   "metadata": {},
   "outputs": [],
   "source": [
    "# 예시 답안\n",
    "\n",
    "\n"
   ]
  },
  {
   "cell_type": "markdown",
   "id": "7e193987-37b5-4924-bba7-ceb5e368d671",
   "metadata": {
    "jp-MarkdownHeadingCollapsed": true
   },
   "source": [
    "## 4-4 게임 개발"
   ]
  },
  {
   "cell_type": "code",
   "execution_count": 16,
   "id": "04418af0-baa2-48a2-96f7-17cd2e778851",
   "metadata": {},
   "outputs": [
    {
     "name": "stdin",
     "output_type": "stream",
     "text": [
      " 4 4\n",
      " 1 1 0\n",
      " 1 1 1 1\n",
      " 1 0 0 1\n",
      " 1 1 0 1\n",
      " 1 1 1 1\n"
     ]
    },
    {
     "name": "stdout",
     "output_type": "stream",
     "text": [
      "3\n"
     ]
    }
   ],
   "source": [
    "# 내가 푼 버젼\n",
    "n, m = map(int, input().split())\n",
    "x, y, direction = map(int, input().split())\n",
    "\n",
    "# 북 동 남 서 \n",
    "directions = [(1, 0), (0, 1), (-1, 0), (0, -1)]\n",
    "\n",
    "map_data = []\n",
    "\n",
    "for i in range(n) :\n",
    "    map_data.append(list(map(int, input().split())))\n",
    "\n",
    "\n",
    "count = 1\n",
    "\n",
    "while True :\n",
    "    flag = True\n",
    "    for i in range(4) :\n",
    "        direction = (direction - 1) % 4\n",
    "        nx = x + directions[direction][0]\n",
    "        ny = y + directions[direction][1]\n",
    "        if map_data[nx][ny] == 0 :\n",
    "            map_data[nx][ny] = 1\n",
    "            x = nx\n",
    "            y = ny\n",
    "            count += 1\n",
    "            flag = False\n",
    "            continue\n",
    "    if flag :\n",
    "        nx = x - directions[direction][0]\n",
    "        ny = y - directions[direction][1]        \n",
    "        if map_data[nx][ny] == 1 :\n",
    "            break\n",
    "        else :\n",
    "            x = nx \n",
    "            y = ny\n",
    "\n",
    "print(count)"
   ]
  },
  {
   "cell_type": "code",
   "execution_count": null,
   "id": "85d73616-c1b3-466d-a184-6c0092806dac",
   "metadata": {},
   "outputs": [],
   "source": [
    "# 예시 답안\n",
    "n, m = map(int, input().split())\n",
    "\n",
    "d = [[0] * m for _ in range(n)]\n",
    "\n",
    "x, y, direction = map(int, input().split())\n",
    "d[x][y] = 1\n",
    "\n",
    "array = []\n",
    "for i in range(n) :\n",
    "    array.append(list(map(int, input().split())))\n",
    "\n",
    "dx = [-1, 0, 1, 0]\n",
    "dy = [0, 1, 0, -1]\n",
    "\n",
    "def turn_left() :\n",
    "    global direction\n",
    "    direction -= 1\n",
    "    if direction == -1 :\n",
    "        direction = 3\n",
    "\n",
    "\n",
    "count = 1\n",
    "turn_time = 0\n",
    "\n",
    "while True :\n",
    "    turn_left()\n",
    "    nx = x + dx[direction]\n",
    "    ny = y + dy[direction]\n",
    "    if d[nx][ny] == 0 and array[nx][ny] == 0 :\n",
    "        d[nx][ny] = 1\n",
    "        x = nx\n",
    "        y = ny\n",
    "        count += 1\n",
    "        turn_time = 0\n",
    "        continue\n",
    "    else :\n",
    "        turn_time += 1\n",
    "    if turn_time == 4 :\n",
    "        nx = x - dx[direction]\n",
    "        ny = y - dy[direction]\n",
    "        if array[nx][ny] == 0 :\n",
    "            x = nx \n",
    "            y = ny\n",
    "        else :\n",
    "            break\n",
    "        turn_time = 0\n",
    "\n",
    "print()\n",
    "\n"
   ]
  },
  {
   "cell_type": "markdown",
   "id": "4aaee817-debe-4b3d-b221-618d595680d4",
   "metadata": {
    "jp-MarkdownHeadingCollapsed": true
   },
   "source": [
    "# 5. DFS/BFS"
   ]
  },
  {
   "cell_type": "markdown",
   "id": "fb396659-dfe5-4bb1-813f-44b8233b3e17",
   "metadata": {
    "jp-MarkdownHeadingCollapsed": true
   },
   "source": [
    "## 5-8 DFS"
   ]
  },
  {
   "cell_type": "code",
   "execution_count": 1,
   "id": "251784da-2dab-455c-9cb0-6930d48fa674",
   "metadata": {},
   "outputs": [],
   "source": [
    "def dfs(graph, v, visited) :\n",
    "    visited[v] = True\n",
    "    print(v, end = ' ')\n",
    "    for i in graph[v] :\n",
    "        if not visited[i] :\n",
    "            dfs(graph, i, visited)"
   ]
  },
  {
   "cell_type": "markdown",
   "id": "b94f2f41-d609-4e2d-adee-ea425af1e411",
   "metadata": {
    "jp-MarkdownHeadingCollapsed": true
   },
   "source": [
    "## 5-9 DFS"
   ]
  },
  {
   "cell_type": "code",
   "execution_count": 4,
   "id": "0b34a268-3648-47b2-beb8-4379476572a5",
   "metadata": {},
   "outputs": [],
   "source": [
    "from collections import deque\n",
    "\n",
    "def bfs(graph, start, visited) :\n",
    "    queue = deque([start])\n",
    "    visited[start] = True\n",
    "    while queue :\n",
    "        v = queue.popleft()\n",
    "        print(v, end=\" \")\n",
    "        for i in graph[v] :\n",
    "            if not visited[i] :\n",
    "                queue.append(i)\n",
    "                visited[i] = True    "
   ]
  },
  {
   "cell_type": "markdown",
   "id": "21fcc09d-40c5-445d-8b6d-b5caf23c0c76",
   "metadata": {
    "jp-MarkdownHeadingCollapsed": true
   },
   "source": [
    "## 5-10 음류수 얼려먹기"
   ]
  },
  {
   "cell_type": "code",
   "execution_count": 24,
   "id": "70ef12a9-9285-41a6-84c5-9e88d84f5b44",
   "metadata": {},
   "outputs": [
    {
     "name": "stdin",
     "output_type": "stream",
     "text": [
      " 4 5\n",
      " 00110\n",
      " 00011\n",
      " 11111\n",
      " 00000\n"
     ]
    },
    {
     "name": "stdout",
     "output_type": "stream",
     "text": [
      "3\n"
     ]
    }
   ],
   "source": [
    "# 직접 짠 버젼\n",
    "from collections import deque\n",
    "\n",
    "dx = [0,0,1,-1]\n",
    "dy = [1,-1,0,0]\n",
    "\n",
    "n, m = map(int, input().split())\n",
    "\n",
    "data = []\n",
    "\n",
    "for i in range(n) :\n",
    "    data.append(list(map(int, input().strip())))\n",
    "    \n",
    "\n",
    "count = 0\n",
    "queue = deque()\n",
    "\n",
    "for i in range(n) :\n",
    "    for j in range(m) :\n",
    "        if data[i][j] == 0 :\n",
    "            data[i][j] = 1\n",
    "            count+=1\n",
    "            queue.append((i, j))\n",
    "            while queue :\n",
    "                x, y = queue.popleft()\n",
    "                for k in range(4) :\n",
    "                    nx = x + dx[k]\n",
    "                    ny = y + dy[k]\n",
    "                    if (0 <= nx < n) and (0 <= ny < m) and (data[nx][ny] == 0) :\n",
    "                        queue.append((nx, ny))\n",
    "                        data[nx][ny] = 1\n",
    "\n",
    "print(count)"
   ]
  },
  {
   "cell_type": "code",
   "execution_count": null,
   "id": "c7aedd8b-cf83-4ef0-94de-63f5f9972269",
   "metadata": {},
   "outputs": [],
   "source": [
    "# 예시 답안\n",
    "n, m = map(int, input(0.split()))\n",
    "\n",
    "graph = []\n",
    "for i in range(n) :\n",
    "    graph.append(list(map(int, input().strip())))\n",
    "\n",
    "def dfs(x, y) :\n",
    "    if x <= -1 or x >= n or y <= -1 or y >= m :\n",
    "        return False\n",
    "    if graph[x][y] == 0 :\n",
    "        graph[x][y] = 1\n",
    "        dfs(x-1, y)\n",
    "        dfs(x, y-1)\n",
    "        dfs(x+1, y)\n",
    "        dfs(x, y+1)\n",
    "        return True\n",
    "    return False \n",
    "\n",
    "result = 0\n",
    "for i in range(n) :\n",
    "    for j in range(m) :\n",
    "        if dfs(i, j) == True :\n",
    "            result += 1\n",
    "\n",
    "print(result)\n",
    "\n"
   ]
  },
  {
   "cell_type": "markdown",
   "id": "aaad9995-24a8-4c38-b226-b68caf0ecf09",
   "metadata": {
    "jp-MarkdownHeadingCollapsed": true
   },
   "source": [
    "## 5-11 미로 탈출"
   ]
  },
  {
   "cell_type": "code",
   "execution_count": 31,
   "id": "921e4951-f608-4644-9045-967d861b0556",
   "metadata": {},
   "outputs": [
    {
     "name": "stdin",
     "output_type": "stream",
     "text": [
      " 3 3\n",
      " 110\n",
      " 010\n",
      " 011\n"
     ]
    },
    {
     "name": "stdout",
     "output_type": "stream",
     "text": [
      "5\n"
     ]
    }
   ],
   "source": [
    "from collections import deque\n",
    "\n",
    "\n",
    "dx = [0,0,1,-1]\n",
    "dy = [1,-1,0,0]\n",
    "\n",
    "n, m = map(int, input().split())\n",
    "\n",
    "graph = []\n",
    "\n",
    "for i in range(n) :\n",
    "    graph.append(list(map(int, input().strip())))\n",
    "\n",
    "\n",
    "queue = deque([(0, 0)])\n",
    "while queue :\n",
    "    x, y = queue.popleft()\n",
    "    if graph[x][y] != 0 :\n",
    "        for i in range(4) :\n",
    "            nx = x + dx[i]\n",
    "            ny = y + dy[i]\n",
    "            if (0 <= nx < n) and (0 <= ny < m) :\n",
    "                if graph[nx][ny] == 1 or graph[nx][ny] > graph[x][y] + 1:\n",
    "                    graph[nx][ny] = graph[x][y] + 1\n",
    "                    queue.append((nx, ny))\n",
    "                    \n",
    "print(graph[n-1][m-1])\n"
   ]
  },
  {
   "cell_type": "code",
   "execution_count": 35,
   "id": "fc233d75-97d7-4bd2-bf79-2e6b295ed28b",
   "metadata": {},
   "outputs": [
    {
     "name": "stdin",
     "output_type": "stream",
     "text": [
      " 3 3\n",
      " 100\n",
      " 111\n",
      " 001\n"
     ]
    },
    {
     "name": "stdout",
     "output_type": "stream",
     "text": [
      "5\n"
     ]
    }
   ],
   "source": [
    "# 예시 답안\n",
    "\n",
    "from collections import deque\n",
    "\n",
    "n, m = map(int, input().split())\n",
    "\n",
    "graph = []\n",
    "for i in range(n) :\n",
    "    graph.append(list(map(int, input())))\n",
    "\n",
    "dx = [-1,1,0,0]\n",
    "dy = [0,0,-1,1]\n",
    "\n",
    "\n",
    "def bfs(x, y) :\n",
    "    queue = deque()\n",
    "    queue.append((x, y))\n",
    "    while queue :\n",
    "        x, y = queue.popleft()\n",
    "        for i in range(4) :\n",
    "            nx = x + dx[i]\n",
    "            ny = y + dy[i]\n",
    "            if nx < 0 or ny < 0 or nx >= n or ny >= m :\n",
    "                continue\n",
    "            if graph[nx][ny] == 0 :\n",
    "                continue\n",
    "            if graph[nx][ny] == 1:\n",
    "                graph[nx][ny] = graph[x][y] + 1\n",
    "                queue.append((nx, ny))\n",
    "\n",
    "    return graph[n-1][m-1]\n",
    "\n",
    "\n",
    "print(bfs(0,0))\n",
    "\n",
    "\n"
   ]
  },
  {
   "cell_type": "code",
   "execution_count": null,
   "id": "c83d5a2e-47c7-4a8f-9d5a-26fa7b86ae20",
   "metadata": {},
   "outputs": [],
   "source": []
  },
  {
   "cell_type": "markdown",
   "id": "38482386-cad6-4a4e-974a-3d62c37b72bb",
   "metadata": {
    "jp-MarkdownHeadingCollapsed": true
   },
   "source": [
    "# 6. 정렬"
   ]
  },
  {
   "cell_type": "markdown",
   "id": "e76eaf1b-3eb6-4cdd-a2ea-ece0d3eadafa",
   "metadata": {
    "jp-MarkdownHeadingCollapsed": true
   },
   "source": [
    "## 선택 정렬"
   ]
  },
  {
   "cell_type": "code",
   "execution_count": 2,
   "id": "dab03452-6ecc-4b2f-91f7-636d5f4dcd86",
   "metadata": {},
   "outputs": [
    {
     "name": "stdout",
     "output_type": "stream",
     "text": [
      "[0, 1, 2, 3, 4, 5, 6, 7, 8, 9]\n"
     ]
    }
   ],
   "source": [
    "# 직접 짠 코드 \n",
    "data = [0, 5, 9, 7, 3, 1, 6, 2, 4, 8]\n",
    "n = len(data)\n",
    "\n",
    "for i in range(n-1) :\n",
    "    min_value = data[i]\n",
    "    dot = i\n",
    "    for j in range(i+1, n) :\n",
    "        if data[j] < min_value :\n",
    "            min_value = data[j]\n",
    "            dot = j\n",
    "    data[i], data[dot] = data[dot], data[i]\n",
    "\n",
    "print(data)"
   ]
  },
  {
   "cell_type": "code",
   "execution_count": 5,
   "id": "93046548-9a4e-40f8-a89f-81b83c026b8f",
   "metadata": {},
   "outputs": [
    {
     "name": "stdout",
     "output_type": "stream",
     "text": [
      "[0, 1, 2, 3, 4, 5, 6, 7, 8, 9]\n"
     ]
    }
   ],
   "source": [
    "# 선택 정렬 소스 코드\n",
    "\n",
    "\n",
    "for i in range(len(array)) :\n",
    "    min_index = i\n",
    "    for j in range(i+1, len(array)) :\n",
    "        if array[min_index] > array[j] :\n",
    "            min_index = j\n",
    "    array[i], array[min_index] = array[min_index], array[i]\n",
    "\n",
    "print(array)"
   ]
  },
  {
   "cell_type": "markdown",
   "id": "cd41dd70-300e-49eb-a828-7ba7e93bbf08",
   "metadata": {
    "jp-MarkdownHeadingCollapsed": true
   },
   "source": [
    "## 삽입 정렬"
   ]
  },
  {
   "cell_type": "code",
   "execution_count": 17,
   "id": "9daeed21-11e6-404c-acb5-04c34bdf47e0",
   "metadata": {},
   "outputs": [
    {
     "name": "stdout",
     "output_type": "stream",
     "text": [
      "[0, 1, 2, 3, 4, 5, 6, 7, 8, 9]\n"
     ]
    }
   ],
   "source": [
    "data = [0, 5, 9, 7, 3, 1, 6, 2, 4, 8]\n",
    "n = len(data)\n",
    "\n",
    "for i in range(1,n) :\n",
    "    for j in range(i, 0, -1) :\n",
    "        if data[j-1] > data[j] :\n",
    "            data[j-1], data[j] = data[j], data[j-1]\n",
    "        else :\n",
    "            break\n",
    "            \n",
    "print(data)\n",
    "            \n"
   ]
  },
  {
   "cell_type": "code",
   "execution_count": 18,
   "id": "df2a4cd1-936a-42aa-b4d6-c46b55e4a31f",
   "metadata": {},
   "outputs": [
    {
     "name": "stdout",
     "output_type": "stream",
     "text": [
      "[0, 1, 2, 3, 4, 5, 6, 7, 8, 9]\n"
     ]
    }
   ],
   "source": [
    "# 삽입 정렬 소스코드\n",
    "array = [0, 5, 9, 7, 3, 1, 6, 2, 4, 8]\n",
    "\n",
    "for i in range(1, len(array)) :\n",
    "    for j in range(i, 0, -1) :\n",
    "        if array[j] < array[j-1] :\n",
    "            array[j], array[j-1] = array[j-1], array[j]\n",
    "        else :\n",
    "            break\n",
    "\n",
    "print(array)"
   ]
  },
  {
   "cell_type": "markdown",
   "id": "71b92d53-4a9d-4aa0-9afe-1eebff6f9408",
   "metadata": {
    "jp-MarkdownHeadingCollapsed": true
   },
   "source": [
    "## 퀵 정렬"
   ]
  },
  {
   "cell_type": "code",
   "execution_count": 22,
   "id": "91de987a-7114-4e2e-b7ed-19422a850c3b",
   "metadata": {},
   "outputs": [
    {
     "name": "stdout",
     "output_type": "stream",
     "text": [
      "[0, 1, 2, 3, 4, 5, 6, 7, 8, 9]\n"
     ]
    }
   ],
   "source": [
    "# 퀵정렬 소스코드 \n",
    "array = [5, 9, 7, 0, 3, 1, 6, 2, 4, 8]\n",
    "\n",
    "def quick_sort(array, start, end) :\n",
    "    if start >= end :\n",
    "        return\n",
    "    pivot = start\n",
    "    left = start + 1\n",
    "    right = end \n",
    "    while left <= right :\n",
    "        while left <= end and array[left] <= array[pivot] :\n",
    "            left += 1\n",
    "        while right > start and array[right] >= array[pivot] :\n",
    "            right -= 1\n",
    "        if left <= right :\n",
    "            array[right], array[left] = array[left], array[right]\n",
    "        else :\n",
    "            array[right], array[pivot] = array[pivot], array[right]\n",
    "            \n",
    "    quick_sort(array, start, right-1)\n",
    "    quick_sort(array, right+1, end)\n",
    "\n",
    "quick_sort(array, 0, len(array)-1)\n",
    "print(array)"
   ]
  },
  {
   "cell_type": "code",
   "execution_count": 24,
   "id": "bbe396a1-375f-41f4-9d97-a55bc1dcc3a6",
   "metadata": {},
   "outputs": [
    {
     "name": "stdout",
     "output_type": "stream",
     "text": [
      "[0, 1, 2, 3, 4, 5, 6, 7, 8, 9]\n"
     ]
    }
   ],
   "source": [
    "# 파이썬의 장점을 살린 퀵정렬 소스코드\n",
    "\n",
    "array = [5, 9, 7, 0, 3, 1, 6, 2, 4, 8]\n",
    "\n",
    "def quick_sort(array) :\n",
    "    if len(array) <= 1 :\n",
    "        return array\n",
    "\n",
    "    pivot = array[0]\n",
    "    tail = array[1:]\n",
    "\n",
    "    left_side = [x for x in tail if x <= pivot]\n",
    "    right_side = [x for x in tail if x > pivot]\n",
    "\n",
    "    return quick_sort(left_side) + [pivot] + quick_sort(right_side)\n",
    "\n",
    "\n",
    "print(quick_sort(array))\n"
   ]
  },
  {
   "cell_type": "markdown",
   "id": "04ce3bf9-6abf-4b8c-9d57-a47a2688f95d",
   "metadata": {
    "jp-MarkdownHeadingCollapsed": true
   },
   "source": [
    "## 계수 정렬"
   ]
  },
  {
   "cell_type": "code",
   "execution_count": 26,
   "id": "feb8fa18-26ef-4187-aa18-b533a9b9c01c",
   "metadata": {},
   "outputs": [
    {
     "name": "stdout",
     "output_type": "stream",
     "text": [
      "0 0 1 1 2 2 3 4 5 5 6 7 8 9 9 "
     ]
    }
   ],
   "source": [
    "array = [7, 5, 9, 0, 3, 1, 6, 2, 9, 1, 4, 8, 0, 5, 2]\n",
    "\n",
    "count = [0] * (max(array) + 1)\n",
    "\n",
    "for i in array :\n",
    "    count[i] +=  1\n",
    "\n",
    "for i in range(len(count)) :\n",
    "    for j in range(count[i]) :\n",
    "        print(i, end= \" \")\n",
    "\n"
   ]
  },
  {
   "cell_type": "markdown",
   "id": "7feb2565-f723-4d48-90e9-c4e11396005b",
   "metadata": {
    "jp-MarkdownHeadingCollapsed": true
   },
   "source": [
    "## 6-2 위에서 아래로"
   ]
  },
  {
   "cell_type": "code",
   "execution_count": 29,
   "id": "f17e65ab-43ef-4b3e-b079-2f78597c3cfc",
   "metadata": {},
   "outputs": [
    {
     "name": "stdin",
     "output_type": "stream",
     "text": [
      " 3\n",
      " 15\n",
      " 27\n",
      " 12\n"
     ]
    },
    {
     "name": "stdout",
     "output_type": "stream",
     "text": [
      "27 15 12\n"
     ]
    }
   ],
   "source": [
    "n = int(input())\n",
    "data = []\n",
    "for i in range(n) :\n",
    "    data.append(int(input()))\n",
    "\n",
    "data.sort(reverse = True)\n",
    "\n",
    "print(*data)"
   ]
  },
  {
   "cell_type": "markdown",
   "id": "8039ff4d-278f-4439-ac75-c40f69ccd582",
   "metadata": {
    "jp-MarkdownHeadingCollapsed": true
   },
   "source": [
    "## 6-3 성적이 낮은 순서로 학생 출력하기"
   ]
  },
  {
   "cell_type": "code",
   "execution_count": 31,
   "id": "65354912-9930-46fc-9b14-bc2fb9916e9f",
   "metadata": {},
   "outputs": [
    {
     "name": "stdin",
     "output_type": "stream",
     "text": [
      " 2\n",
      " dff 12\n",
      " fdgfsg 34\n"
     ]
    },
    {
     "name": "stdout",
     "output_type": "stream",
     "text": [
      "dff fdgfsg "
     ]
    }
   ],
   "source": [
    "n = int(input())\n",
    "grades = []\n",
    "for i in range(n) :\n",
    "    name, grade = input().split()\n",
    "    grades.append((name, int(grade)))\n",
    "\n",
    "grades.sort(key= lambda x : x[1])\n",
    "\n",
    "for i in grades :\n",
    "    print(i[0], end = \" \")\n"
   ]
  },
  {
   "cell_type": "markdown",
   "id": "69b6e19b-26fc-4b9f-a5fe-5a0e0be99baf",
   "metadata": {
    "jp-MarkdownHeadingCollapsed": true
   },
   "source": [
    "## 6-4 두 배열의 원소 교체"
   ]
  },
  {
   "cell_type": "code",
   "execution_count": 32,
   "id": "83d880c3-faab-4014-aed2-d69ce73132e9",
   "metadata": {},
   "outputs": [
    {
     "name": "stdin",
     "output_type": "stream",
     "text": [
      " 5 3\n",
      " 1 2 5 4 3\n",
      " 5 5 6 6 5\n"
     ]
    },
    {
     "name": "stdout",
     "output_type": "stream",
     "text": [
      "26\n"
     ]
    }
   ],
   "source": [
    "n, k = map(int, input().split())\n",
    "\n",
    "a = list(map(int, input().split()))\n",
    "b = list(map(int, input().split()))\n",
    "\n",
    "a.sort()\n",
    "b.sort(reverse=True)\n",
    "\n",
    "for i in range(k):\n",
    "    if a[i] < b[i] :\n",
    "        a[i], b[i] = b[i], a[i]\n",
    "    else :\n",
    "        break\n",
    "\n",
    "print(sum(a))\n",
    "\n"
   ]
  },
  {
   "cell_type": "code",
   "execution_count": null,
   "id": "bcfe91a3-5a0d-44ad-bd20-da79c658e425",
   "metadata": {},
   "outputs": [],
   "source": []
  },
  {
   "cell_type": "markdown",
   "id": "870b61a6-2084-4ffd-a0ca-b4dbf71a804a",
   "metadata": {
    "jp-MarkdownHeadingCollapsed": true
   },
   "source": [
    "# 7. 이진 탐색"
   ]
  },
  {
   "cell_type": "markdown",
   "id": "26d54aa8-28fd-4ff6-be0d-1d9513745167",
   "metadata": {
    "jp-MarkdownHeadingCollapsed": true
   },
   "source": [
    "## 순차 탐색"
   ]
  },
  {
   "cell_type": "code",
   "execution_count": null,
   "id": "d910d745-035f-4e5d-9d21-923f948821c1",
   "metadata": {},
   "outputs": [],
   "source": [
    "def sequential_search(n, target, array) :\n",
    "    for i in range(n) :\n",
    "        if array[i] == target :\n",
    "            return i + 1\n",
    "            "
   ]
  },
  {
   "cell_type": "markdown",
   "id": "6eb9d109-abfe-4195-9a82-35996c7bf25b",
   "metadata": {
    "jp-MarkdownHeadingCollapsed": true
   },
   "source": [
    "## 이진 탐색"
   ]
  },
  {
   "cell_type": "code",
   "execution_count": 4,
   "id": "3f07891d-c9de-4c9d-9647-da55d1196fac",
   "metadata": {},
   "outputs": [],
   "source": [
    "# 재귀함수로 구현한 이진 탐색 소스 코드\n",
    "def recursive_binary_search(array, target, start, end) :\n",
    "    if start > end :\n",
    "        return None\n",
    "    mid = (start + end) // 2\n",
    "    if array[mid] == target :\n",
    "        return mid\n",
    "    elif array[mid] > target :\n",
    "        return recursive_binary_search(array, target, start, mid-1)\n",
    "    else :\n",
    "        recursive_binary_search(array, target, mid+1, end)\n",
    "        \n",
    "\n",
    "\n",
    "# 반복문으로 구현한 이진 탐색 소스 코드 \n",
    "def binary_search(array, target, start, end) :\n",
    "    while start <= end :\n",
    "        mid = (start + end) // 2\n",
    "        if array[mid] == target :\n",
    "            return mid\n",
    "        elif array[mid] > target :\n",
    "            end = mid - 1 \n",
    "        else : \n",
    "            start = mid + 1\n",
    "    return None"
   ]
  },
  {
   "cell_type": "markdown",
   "id": "fc0293a9-44e6-4e43-bd82-5e53ef808ba6",
   "metadata": {
    "jp-MarkdownHeadingCollapsed": true
   },
   "source": [
    "## 7-2 부품 찾기"
   ]
  },
  {
   "cell_type": "code",
   "execution_count": 7,
   "id": "b074238f-11b3-4699-ac5c-6780f6a3c1f0",
   "metadata": {},
   "outputs": [
    {
     "name": "stdin",
     "output_type": "stream",
     "text": [
      " 5\n",
      " 8 3 7 9 2\n",
      " 3\n",
      " 5  7 9\n"
     ]
    },
    {
     "name": "stdout",
     "output_type": "stream",
     "text": [
      "no\n",
      "yes\n",
      "yes\n",
      "0.0\n"
     ]
    }
   ],
   "source": [
    "# 내가 푼 버젼\n",
    "\n",
    "import time\n",
    "\n",
    "\n",
    "n = int(input())\n",
    "goods = list(map(int, input().split()))\n",
    "\n",
    "m = int(input())\n",
    "buyer = list(map(int, input().split()))\n",
    "first_time = time.time()\n",
    "\n",
    "for i in buyer :\n",
    "    if i in goods :\n",
    "        print(\"yes\")\n",
    "    else :\n",
    "        print(\"no\")\n",
    "\n",
    "second_time = time.time()\n",
    "\n",
    "print(second_time - first_time)\n"
   ]
  },
  {
   "cell_type": "code",
   "execution_count": 12,
   "id": "bb7a13bd-80a2-41de-b1c9-a3bd11ea2fad",
   "metadata": {},
   "outputs": [
    {
     "name": "stdin",
     "output_type": "stream",
     "text": [
      " 5\n",
      " 8 3 7 9 2\n",
      " 3\n",
      " 5 7 9\n"
     ]
    },
    {
     "name": "stdout",
     "output_type": "stream",
     "text": [
      "no\n",
      "yes\n",
      "yes\n",
      "0.0\n"
     ]
    }
   ],
   "source": [
    "# 내가 푼 버젼\n",
    "import time\n",
    "\n",
    "def binary_search(array, target, start, end) :\n",
    "    while start <= end :\n",
    "        mid = (start + end) // 2\n",
    "        if array[mid] == target :\n",
    "            return mid\n",
    "        elif array[mid] > target :\n",
    "            end = mid - 1\n",
    "        else :\n",
    "            start = mid + 1\n",
    "    return None\n",
    "    \n",
    "n = int(input())\n",
    "goods = list(map(int, input().split()))\n",
    "\n",
    "m = int(input())\n",
    "buyer = list(map(int, input().split()))\n",
    "first_time = time.time()\n",
    "\n",
    "goods.sort()\n",
    "for target in buyer :\n",
    "    a = binary_search(goods, target, 0, n-1)\n",
    "    if a != None :\n",
    "        print(\"yes\")\n",
    "    else :\n",
    "        print(\"no\")\n",
    "\n",
    "second_time = time.time()\n",
    "\n",
    "print(second_time - first_time)"
   ]
  },
  {
   "cell_type": "code",
   "execution_count": null,
   "id": "450510f5-c6c0-48f0-a985-d8b06a2dc011",
   "metadata": {},
   "outputs": [],
   "source": [
    "# 예시 답안 \n",
    "\n",
    "def binary_search(array, target, start, end) :\n",
    "    while start <= end :\n",
    "        mid = (start + end) // 2\n",
    "        if array[mid] == target :\n",
    "            return mid\n",
    "        elif array[mid] > target :\n",
    "            end = mid - 1\n",
    "        else :\n",
    "            start = mid + 1\n",
    "    return None\n",
    "\n",
    "\n",
    "n = int(input())\n",
    "goods = list(map(int, input().split()))\n",
    "\n",
    "m = int(input())\n",
    "buyer = list(map(int, input().split()))\n",
    "goods.sort()\n",
    "\n",
    "for target in buyer :\n",
    "    a = binary_search(goods, target, 0, n-1)\n",
    "    if a != None :\n",
    "        print(\"yes\")\n",
    "    else :\n",
    "        print(\"no\")\n"
   ]
  },
  {
   "cell_type": "code",
   "execution_count": null,
   "id": "76e5f401-1774-496f-a559-2b3fa22d5991",
   "metadata": {},
   "outputs": [],
   "source": [
    "# 예시 답안 계수정렬\n",
    "n = int(input())\n",
    "array = [0] * (1000001)\n",
    "\n",
    "for i in input().split() :\n",
    "    array[int(i)] += 1\n",
    "\n",
    "m = int(input())\n",
    "x = list(int, input().split())\n",
    "\n",
    "for i in x :\n",
    "    if array[i] == 1 :\n",
    "        print(\"yes\", end = ' ')\n",
    "    else :\n",
    "        print(\"no\", end = ' ')"
   ]
  },
  {
   "cell_type": "code",
   "execution_count": null,
   "id": "89efc662-2124-4d68-9bc6-39c60274f0fe",
   "metadata": {},
   "outputs": [],
   "source": [
    "n = int(input())\n",
    "goods = set(map(int, input().split()))\n",
    "\n",
    "m = int(input())\n",
    "buyer = list(map(int, input().split()))\n",
    "\n",
    "for i in buyer :\n",
    "    if i in goods :\n",
    "        print(\"yes\")\n",
    "    else :\n",
    "        print(\"no\")\n"
   ]
  },
  {
   "cell_type": "markdown",
   "id": "2e9d1f92-27ab-4b73-ad65-f6cff39a5405",
   "metadata": {
    "jp-MarkdownHeadingCollapsed": true
   },
   "source": [
    "## 7-3 떡볶이 떡 만들기 "
   ]
  },
  {
   "cell_type": "code",
   "execution_count": 15,
   "id": "991fc5fd-0b81-4be7-8a41-4e842a5a338e",
   "metadata": {},
   "outputs": [
    {
     "name": "stdin",
     "output_type": "stream",
     "text": [
      " 4 6\n",
      " 19 15 10 17\n"
     ]
    },
    {
     "name": "stdout",
     "output_type": "stream",
     "text": [
      "15\n"
     ]
    }
   ],
   "source": [
    "n, m = map(int, input().split())\n",
    "dderks = list(map(int, input().split()))\n",
    "\n",
    "start = 0\n",
    "end = max(dderks)\n",
    "\n",
    "def dderk_cutting(dderks, start, end, m) :\n",
    "    while start <= end :\n",
    "        mid = (start+end)//2\n",
    "        cutting = 0\n",
    "        for dderk in dderks :\n",
    "            if dderk - mid > 0 :\n",
    "                cutting += dderk - mid\n",
    "        if cutting == m :\n",
    "            return mid\n",
    "        elif cutting > m :\n",
    "            start = mid + 1\n",
    "        else :\n",
    "            end = mid - 1\n",
    "    return mid - 1      \n",
    "\n",
    "\n",
    "print(dderk_cutting(dderks, start, end, m))"
   ]
  },
  {
   "cell_type": "code",
   "execution_count": 17,
   "id": "68ca9954-d48d-4c00-850f-0713836a39d2",
   "metadata": {},
   "outputs": [
    {
     "name": "stdin",
     "output_type": "stream",
     "text": [
      " 4 6\n",
      "  19 15 10 17\n"
     ]
    },
    {
     "name": "stdout",
     "output_type": "stream",
     "text": [
      "15\n"
     ]
    }
   ],
   "source": [
    "# 예시 답안\n",
    "\n",
    "n, m = map(int, input().split())\n",
    "array = list(map(int, input().split()))\n",
    "\n",
    "\n",
    "start = 0\n",
    "end = max(array)\n",
    "\n",
    "result = 0\n",
    "while start <= end :\n",
    "    total = 0\n",
    "    mid = (start + end) // 2\n",
    "    for x in array :\n",
    "        if x > mid :\n",
    "            total += x - mid\n",
    "    if total < m :\n",
    "        end = mid - 1\n",
    "    else :\n",
    "        result = mid\n",
    "        start = mid + 1\n",
    "\n",
    "print(result)"
   ]
  },
  {
   "cell_type": "markdown",
   "id": "755350cc-ff4b-4032-82e1-43fda920e1ca",
   "metadata": {
    "jp-MarkdownHeadingCollapsed": true
   },
   "source": [
    "# 8. 다이나믹 프로그래밍 "
   ]
  },
  {
   "cell_type": "markdown",
   "id": "15878094-d361-4b88-8901-1764d14215e9",
   "metadata": {
    "jp-MarkdownHeadingCollapsed": true
   },
   "source": [
    "## 피보나치 함수"
   ]
  },
  {
   "cell_type": "code",
   "execution_count": 1,
   "id": "568ced03-eee1-42e8-b833-d385ee2eca49",
   "metadata": {},
   "outputs": [
    {
     "name": "stdout",
     "output_type": "stream",
     "text": [
      "3\n"
     ]
    }
   ],
   "source": [
    "# 재귀함수로 피보나치 \n",
    "def fibo(x) :\n",
    "    if x == 1 or x == 2 :\n",
    "        return 1\n",
    "    return fibo(x-1) + fibo(x-2)\n",
    "\n",
    "print(fibo(4))"
   ]
  },
  {
   "cell_type": "code",
   "execution_count": 2,
   "id": "7b5182bd-b341-4cbd-a1e4-91d06a658b9c",
   "metadata": {},
   "outputs": [
    {
     "name": "stdout",
     "output_type": "stream",
     "text": [
      "218922995834555169026\n"
     ]
    }
   ],
   "source": [
    "# 재귀함수로 피보나치 with memorization\n",
    "d = [0] * 100\n",
    "def fibo(x) :\n",
    "    if x == 1 or x == 2 :\n",
    "        return 1\n",
    "    if d[x] != 0 :\n",
    "        return d[x]\n",
    "    d[x] = fibo(x-1) + fibo(x-2)\n",
    "    return d[x]\n",
    "\n",
    "print(fibo(99))"
   ]
  },
  {
   "cell_type": "code",
   "execution_count": 4,
   "id": "4cfddc16-f78c-4738-9812-8d680a52412b",
   "metadata": {},
   "outputs": [
    {
     "name": "stdout",
     "output_type": "stream",
     "text": [
      "f(6) f(5) f(4) f(3) f(2) f(1) f(2) f(3) f(4) 8\n"
     ]
    }
   ],
   "source": [
    "# 호출되는 함수 확인\n",
    "d = [0] * 100\n",
    "def pibo(x) :\n",
    "    print(\"f(\"+str(x)+\")\", end = \" \")\n",
    "    if x == 1 or x == 2:\n",
    "        return 1\n",
    "    if d[x] != 0 :\n",
    "        return d[x]\n",
    "    d[x]= pibo(x-1)+pibo(x-2)\n",
    "    return d[x]\n",
    "\n",
    "print(pibo(6))"
   ]
  },
  {
   "cell_type": "code",
   "execution_count": 5,
   "id": "75cf8939-58cc-4faf-937f-2172805923d5",
   "metadata": {},
   "outputs": [
    {
     "name": "stdout",
     "output_type": "stream",
     "text": [
      "354224848179261915075\n"
     ]
    }
   ],
   "source": [
    "# 피보나치 수열 iteratively\n",
    "\n",
    "d = [0] * 100\n",
    "\n",
    "d[1] = 1\n",
    "d[2] = 2\n",
    "n = 99\n",
    "\n",
    "for i in range(3, n+1) :\n",
    "    d[i] = d[i-1] + d[i-2]\n",
    "\n",
    "print(d[n])\n"
   ]
  },
  {
   "cell_type": "markdown",
   "id": "6db436fe-f1f8-4aeb-b5f4-bbd3ff59ff66",
   "metadata": {
    "jp-MarkdownHeadingCollapsed": true
   },
   "source": [
    "## 8-2 1로 만들기"
   ]
  },
  {
   "cell_type": "code",
   "execution_count": 8,
   "id": "340d4ca5-4b87-4836-ad00-75da5ab8b613",
   "metadata": {},
   "outputs": [
    {
     "name": "stdin",
     "output_type": "stream",
     "text": [
      " 26\n"
     ]
    },
    {
     "name": "stdout",
     "output_type": "stream",
     "text": [
      "3\n"
     ]
    }
   ],
   "source": [
    "# 내가 푼 버젼\n",
    "n = int(input())\n",
    "INF = int(1e9)\n",
    "array = [0] * (n+1)\n",
    "array[0] = int(1e9)\n",
    "\n",
    "for i in range(2, n+1) :\n",
    "    n1, n2, n3, n5 = 0, 0, 0, 0\n",
    "    if i % 5 == 0 :\n",
    "        n5 = i // 5\n",
    "    if i % 3 == 0 :\n",
    "        n3 = i // 3\n",
    "    if i % 2 == 0 :\n",
    "        n2 = i // 2\n",
    "    n1 = i - 1\n",
    "    array[i] = min(array[n1], array[n2], array[n3], array[n5]) + 1\n",
    "    \n",
    "print(array[n])"
   ]
  },
  {
   "cell_type": "code",
   "execution_count": 10,
   "id": "4ccb05ab-812f-45da-8e62-1254a41941d0",
   "metadata": {},
   "outputs": [
    {
     "name": "stdin",
     "output_type": "stream",
     "text": [
      " 26\n"
     ]
    },
    {
     "name": "stdout",
     "output_type": "stream",
     "text": [
      "3\n"
     ]
    }
   ],
   "source": [
    "# 예시 답안\n",
    "x = int(input())\n",
    "\n",
    "d = [0] * (30001)\n",
    "\n",
    "for i in range(2, x+1) :\n",
    "    d[i] = d[i-1] + 1\n",
    "    if i % 2 == 0 :\n",
    "        d[i] = min(d[i], d[i // 2] + 1)\n",
    "    if i % 3 == 0 :\n",
    "        d[i] = min(d[i], d[i // 3] + 1)\n",
    "    if i % 5 == 0 :\n",
    "        d[i] = min(d[i], d[i // 5] + 1)\n",
    "\n",
    "print(d[x])"
   ]
  },
  {
   "cell_type": "markdown",
   "id": "3add2bd7-c239-4fec-92bf-b513d4a2c24e",
   "metadata": {
    "jp-MarkdownHeadingCollapsed": true
   },
   "source": [
    "## 8-3 개미 전사"
   ]
  },
  {
   "cell_type": "code",
   "execution_count": 24,
   "id": "b46d59fc-7401-4b27-bc1c-94ce16da60c6",
   "metadata": {},
   "outputs": [],
   "source": [
    "# 내가 푼 버젼\n"
   ]
  },
  {
   "cell_type": "code",
   "execution_count": null,
   "id": "79be5772-8922-43e2-ab7f-080c21ecdf94",
   "metadata": {},
   "outputs": [],
   "source": []
  },
  {
   "cell_type": "code",
   "execution_count": 15,
   "id": "c0936726-4dc5-41e8-9fb0-81d966fb3216",
   "metadata": {},
   "outputs": [
    {
     "name": "stdin",
     "output_type": "stream",
     "text": [
      " 4\n",
      " 1 3 1 5\n"
     ]
    },
    {
     "name": "stdout",
     "output_type": "stream",
     "text": [
      "8\n"
     ]
    }
   ],
   "source": [
    "# 예시 답안\n",
    "n = int(input())\n",
    "\n",
    "array = list(map(int, input().split()))\n",
    "\n",
    "d = [0] * (100)\n",
    "\n",
    "d[0] = array[0]\n",
    "d[1] = max(array[0], array[1])\n",
    "\n",
    "for i in range(2, n) :\n",
    "    d[i] = max(d[i-1], d[i-2]+array[i])\n",
    "\n",
    "print(d[n-1])"
   ]
  },
  {
   "cell_type": "code",
   "execution_count": 17,
   "id": "7152f977-a3ab-4017-b9e2-963ab158f2ff",
   "metadata": {},
   "outputs": [
    {
     "data": {
      "text/plain": [
       "[1, 3, 3, 8, 0, 0]"
      ]
     },
     "execution_count": 17,
     "metadata": {},
     "output_type": "execute_result"
    }
   ],
   "source": [
    "d[:6]"
   ]
  },
  {
   "cell_type": "markdown",
   "id": "e665c157-4aa1-4690-9e2e-560ab8a5bd50",
   "metadata": {
    "jp-MarkdownHeadingCollapsed": true
   },
   "source": [
    "## 8-4 바닥 공사"
   ]
  },
  {
   "cell_type": "code",
   "execution_count": 3,
   "id": "33f89aa2-f558-4beb-be67-3ec5ee726c5a",
   "metadata": {},
   "outputs": [
    {
     "name": "stdin",
     "output_type": "stream",
     "text": [
      " 55\n"
     ]
    },
    {
     "name": "stdout",
     "output_type": "stream",
     "text": [
      "24837\n"
     ]
    }
   ],
   "source": [
    "# 내가 푼 버젼\n",
    "\n",
    "n = int(input())\n",
    "data = [0] * (n+1)\n",
    "data[1] = 1\n",
    "data[2] = 3\n",
    "for i in range(3, n + 1) :\n",
    "    data[i] = ( data[i-1] + 2 * data[i-2] ) % 796_796\n",
    "\n",
    "print(data[n])"
   ]
  },
  {
   "cell_type": "code",
   "execution_count": 4,
   "id": "72693a69-8130-485d-913c-acc13b91fa03",
   "metadata": {},
   "outputs": [
    {
     "name": "stdin",
     "output_type": "stream",
     "text": [
      " 33\n"
     ]
    },
    {
     "name": "stdout",
     "output_type": "stream",
     "text": [
      "50209\n"
     ]
    }
   ],
   "source": [
    "# 예시 답안\n",
    "\n",
    "n = int(input())\n",
    "\n",
    "d = [0] * 1001\n",
    "\n",
    "d[1] = 1\n",
    "d[2] = 3\n",
    "for i in range(3, n+1) :\n",
    "    d[i] = (d[i-1] + 2 * d[i-2]) % 796796\n",
    "\n",
    "print(d[n])"
   ]
  },
  {
   "cell_type": "markdown",
   "id": "eedcd820-1bcc-4b0c-b6f6-96a20561b73b",
   "metadata": {
    "jp-MarkdownHeadingCollapsed": true
   },
   "source": [
    "# 9. 최단 경로"
   ]
  },
  {
   "cell_type": "markdown",
   "id": "a976237f-84e5-4151-9d5d-d4d0d941901a",
   "metadata": {
    "jp-MarkdownHeadingCollapsed": true
   },
   "source": [
    "## 간단한 다익스트라 알고리즘"
   ]
  },
  {
   "cell_type": "code",
   "execution_count": null,
   "id": "57b0e785-37b0-421c-bf2a-1bebdf107085",
   "metadata": {},
   "outputs": [],
   "source": [
    "import sys\n",
    "input = sys.stdin.readline\n",
    "INF = int(1e9)\n",
    "\n",
    "n, m = map(int, input().split())\n",
    "start = int(input())\n",
    "graph = [[] for i in range(n+1)]\n",
    "\n",
    "visited = [False] * (n+1)\n",
    "distance = [INF] * (n+1)\n",
    "\n",
    "for _ in range(m) :\n",
    "    a, b, c = map(int, input().split())\n",
    "    graph[a].append((b, c))\n",
    "\n",
    "def get_smallest_node() :\n",
    "    min_value = INF\n",
    "    index = 0 \n",
    "    for i in range(1, n+1) :\n",
    "        if distance[i] < min_value and not visited[i] :\n",
    "            min_value = distance[i]\n",
    "            index = i\n",
    "    return index\n",
    "\n",
    "\n",
    "def dijkstra(start) :\n",
    "    distance[start] = 0\n",
    "    visited[start] = True\n",
    "    for j in graph[start] :\n",
    "        distance[j[0]] = j[1]\n",
    "    for i in range(n-1) :\n",
    "        now = get_smallest_node()\n",
    "        visited[now] = True\n",
    "        for j in graph[now] :\n",
    "            cost = distance[now] + j[1]\n",
    "            if cost < distance[j[0]] :\n",
    "                distance[j[0]] = cost\n"
   ]
  },
  {
   "cell_type": "markdown",
   "id": "681f67ed-9ef9-44ef-87d9-5dc19e9c8d8b",
   "metadata": {
    "jp-MarkdownHeadingCollapsed": true
   },
   "source": [
    "## 개선된  다익스트라 알고리즘"
   ]
  },
  {
   "cell_type": "code",
   "execution_count": 1,
   "id": "4daac90b-b6ac-447e-9796-154c684d456f",
   "metadata": {},
   "outputs": [
    {
     "ename": "KeyboardInterrupt",
     "evalue": "Interrupted by user",
     "output_type": "error",
     "traceback": [
      "\u001b[1;31m---------------------------------------------------------------------------\u001b[0m",
      "\u001b[1;31mKeyboardInterrupt\u001b[0m                         Traceback (most recent call last)",
      "Cell \u001b[1;32mIn[1], line 6\u001b[0m\n\u001b[0;32m      3\u001b[0m \u001b[38;5;66;03m#input = sys.stdin.readline\u001b[39;00m\n\u001b[0;32m      4\u001b[0m INF \u001b[38;5;241m=\u001b[39m \u001b[38;5;28mint\u001b[39m(\u001b[38;5;241m1e9\u001b[39m)\n\u001b[1;32m----> 6\u001b[0m n, m \u001b[38;5;241m=\u001b[39m \u001b[38;5;28mmap\u001b[39m(\u001b[38;5;28mint\u001b[39m, \u001b[38;5;28;43minput\u001b[39;49m\u001b[43m(\u001b[49m\u001b[43m)\u001b[49m\u001b[38;5;241m.\u001b[39msplit())\n\u001b[0;32m      7\u001b[0m start \u001b[38;5;241m=\u001b[39m \u001b[38;5;28mint\u001b[39m(\u001b[38;5;28minput\u001b[39m())\n\u001b[0;32m      8\u001b[0m graph \u001b[38;5;241m=\u001b[39m [[] \u001b[38;5;28;01mfor\u001b[39;00m i \u001b[38;5;129;01min\u001b[39;00m \u001b[38;5;28mrange\u001b[39m(n\u001b[38;5;241m+\u001b[39m\u001b[38;5;241m1\u001b[39m)]\n",
      "File \u001b[1;32m~\\anaconda3\\envs\\DIVA\\lib\\site-packages\\ipykernel\\kernelbase.py:1282\u001b[0m, in \u001b[0;36mKernel.raw_input\u001b[1;34m(self, prompt)\u001b[0m\n\u001b[0;32m   1280\u001b[0m     msg \u001b[38;5;241m=\u001b[39m \u001b[38;5;124m\"\u001b[39m\u001b[38;5;124mraw_input was called, but this frontend does not support input requests.\u001b[39m\u001b[38;5;124m\"\u001b[39m\n\u001b[0;32m   1281\u001b[0m     \u001b[38;5;28;01mraise\u001b[39;00m StdinNotImplementedError(msg)\n\u001b[1;32m-> 1282\u001b[0m \u001b[38;5;28;01mreturn\u001b[39;00m \u001b[38;5;28;43mself\u001b[39;49m\u001b[38;5;241;43m.\u001b[39;49m\u001b[43m_input_request\u001b[49m\u001b[43m(\u001b[49m\n\u001b[0;32m   1283\u001b[0m \u001b[43m    \u001b[49m\u001b[38;5;28;43mstr\u001b[39;49m\u001b[43m(\u001b[49m\u001b[43mprompt\u001b[49m\u001b[43m)\u001b[49m\u001b[43m,\u001b[49m\n\u001b[0;32m   1284\u001b[0m \u001b[43m    \u001b[49m\u001b[38;5;28;43mself\u001b[39;49m\u001b[38;5;241;43m.\u001b[39;49m\u001b[43m_parent_ident\u001b[49m\u001b[43m[\u001b[49m\u001b[38;5;124;43m\"\u001b[39;49m\u001b[38;5;124;43mshell\u001b[39;49m\u001b[38;5;124;43m\"\u001b[39;49m\u001b[43m]\u001b[49m\u001b[43m,\u001b[49m\n\u001b[0;32m   1285\u001b[0m \u001b[43m    \u001b[49m\u001b[38;5;28;43mself\u001b[39;49m\u001b[38;5;241;43m.\u001b[39;49m\u001b[43mget_parent\u001b[49m\u001b[43m(\u001b[49m\u001b[38;5;124;43m\"\u001b[39;49m\u001b[38;5;124;43mshell\u001b[39;49m\u001b[38;5;124;43m\"\u001b[39;49m\u001b[43m)\u001b[49m\u001b[43m,\u001b[49m\n\u001b[0;32m   1286\u001b[0m \u001b[43m    \u001b[49m\u001b[43mpassword\u001b[49m\u001b[38;5;241;43m=\u001b[39;49m\u001b[38;5;28;43;01mFalse\u001b[39;49;00m\u001b[43m,\u001b[49m\n\u001b[0;32m   1287\u001b[0m \u001b[43m\u001b[49m\u001b[43m)\u001b[49m\n",
      "File \u001b[1;32m~\\anaconda3\\envs\\DIVA\\lib\\site-packages\\ipykernel\\kernelbase.py:1325\u001b[0m, in \u001b[0;36mKernel._input_request\u001b[1;34m(self, prompt, ident, parent, password)\u001b[0m\n\u001b[0;32m   1322\u001b[0m \u001b[38;5;28;01mexcept\u001b[39;00m \u001b[38;5;167;01mKeyboardInterrupt\u001b[39;00m:\n\u001b[0;32m   1323\u001b[0m     \u001b[38;5;66;03m# re-raise KeyboardInterrupt, to truncate traceback\u001b[39;00m\n\u001b[0;32m   1324\u001b[0m     msg \u001b[38;5;241m=\u001b[39m \u001b[38;5;124m\"\u001b[39m\u001b[38;5;124mInterrupted by user\u001b[39m\u001b[38;5;124m\"\u001b[39m\n\u001b[1;32m-> 1325\u001b[0m     \u001b[38;5;28;01mraise\u001b[39;00m \u001b[38;5;167;01mKeyboardInterrupt\u001b[39;00m(msg) \u001b[38;5;28;01mfrom\u001b[39;00m \u001b[38;5;28;01mNone\u001b[39;00m\n\u001b[0;32m   1326\u001b[0m \u001b[38;5;28;01mexcept\u001b[39;00m \u001b[38;5;167;01mException\u001b[39;00m:\n\u001b[0;32m   1327\u001b[0m     \u001b[38;5;28mself\u001b[39m\u001b[38;5;241m.\u001b[39mlog\u001b[38;5;241m.\u001b[39mwarning(\u001b[38;5;124m\"\u001b[39m\u001b[38;5;124mInvalid Message:\u001b[39m\u001b[38;5;124m\"\u001b[39m, exc_info\u001b[38;5;241m=\u001b[39m\u001b[38;5;28;01mTrue\u001b[39;00m)\n",
      "\u001b[1;31mKeyboardInterrupt\u001b[0m: Interrupted by user"
     ]
    }
   ],
   "source": [
    "import heapq\n",
    "import sys\n",
    "#input = sys.stdin.readline\n",
    "INF = int(1e9)\n",
    "\n",
    "n, m = map(int, input().split())\n",
    "start = int(input())\n",
    "graph = [[] for i in range(n+1)]\n",
    "\n",
    "\n",
    "distance = [INF] * (n+1)\n",
    "\n",
    "for _ in range(m) :\n",
    "    a, b, c = map(int, input().split())\n",
    "    graph[a].append((b, c))\n",
    "\n",
    "\n",
    "def dijkstra(graph, distance, start) :\n",
    "    q = []\n",
    "    heapq.heappush(q, (0, start))\n",
    "    distance[start] = 0\n",
    "    for i in graph[start] :\n",
    "        distance[i[0]] = i[1]\n",
    "    while q :\n",
    "        dist, now = heapq.heappop(q)\n",
    "        if distance[now] < dist :\n",
    "            continue\n",
    "        for i in graph[now] :\n",
    "            cost = dist + i[1]\n",
    "            if cost < distance[i[0]] :\n",
    "                distance[i[0]] = cost\n",
    "                heapq.heappush(q, (cost, i[0]))\n"
   ]
  },
  {
   "cell_type": "code",
   "execution_count": null,
   "id": "57b9961a-dc91-426f-9df1-540c52b788ac",
   "metadata": {},
   "outputs": [],
   "source": []
  },
  {
   "cell_type": "markdown",
   "id": "ee8e9a02-924b-404f-a5ed-255497b6e03b",
   "metadata": {
    "jp-MarkdownHeadingCollapsed": true
   },
   "source": [
    "## 플로이드 워셜 알고리즘"
   ]
  },
  {
   "cell_type": "code",
   "execution_count": null,
   "id": "aa8c6928-7220-4352-8339-851ec5ee70da",
   "metadata": {},
   "outputs": [],
   "source": [
    "INF = int(1e9)\n",
    "\n",
    "n = int(input())\n",
    "m = int(input())\n",
    "\n",
    "graph = [ [INF] * (n+1) for _ in range(n+1)]\n",
    "\n",
    "for a in range(1, n+1) :\n",
    "    for b in range(1, n+1) :\n",
    "        if a == b :\n",
    "            graph[a][b] = 0\n",
    "\n",
    "for _ in range(m) :\n",
    "    a, b, c = map(int, input().split())\n",
    "    graph[a][b] = c\n",
    "\n",
    "\n",
    "for k i range(1, n+1) :\n",
    "    for a in range(1, n+1) :\n",
    "        for b in range(1, n+1) :\n",
    "            graph[a][b] = min(graph[a][b], graph[a][k] + graph[k][b])\n",
    "\n"
   ]
  },
  {
   "cell_type": "code",
   "execution_count": null,
   "id": "a0be3735-e5ba-4bd6-8e05-87484077e595",
   "metadata": {},
   "outputs": [],
   "source": []
  },
  {
   "cell_type": "code",
   "execution_count": null,
   "id": "39c6a21d-e917-4981-ac9d-a5b65157641b",
   "metadata": {},
   "outputs": [],
   "source": []
  },
  {
   "cell_type": "markdown",
   "id": "17e5512c-715e-46dc-a47b-e5f128b17318",
   "metadata": {
    "jp-MarkdownHeadingCollapsed": true
   },
   "source": [
    "## 9-2 미래도시"
   ]
  },
  {
   "cell_type": "code",
   "execution_count": 5,
   "id": "26764e6b-e9a7-459f-b5c9-ccb31df97026",
   "metadata": {},
   "outputs": [
    {
     "name": "stdin",
     "output_type": "stream",
     "text": [
      " 4 2\n",
      " 1 3\n",
      " 2 4\n",
      " 3 4\n"
     ]
    },
    {
     "name": "stdout",
     "output_type": "stream",
     "text": [
      "-1\n"
     ]
    }
   ],
   "source": [
    "# 직접 푼 버젼\n",
    "\n",
    "INF = int(1e9)\n",
    "\n",
    "n, m = map(int, input().split())\n",
    "\n",
    "graph = [[INF] * (n+1) for _ in range(n+1)]\n",
    "\n",
    "for i in range(n+1) :\n",
    "    graph[i][i] = 0\n",
    "\n",
    "for _ in range(m) :\n",
    "    a, b = map(int, input().split())\n",
    "    graph[a][b] = 1\n",
    "\n",
    "x, k = map(int, input().split())\n",
    "\n",
    "\n",
    "for k in range(1, n+1) :\n",
    "    for a in range(1, n+1) :\n",
    "        for b in range(1, n+1) :\n",
    "            graph[a][b] = min(graph[a][b], graph[a][k] + graph[k][b])\n",
    "\n",
    "best_time = graph[1][k] + graph[k][x]\n",
    "\n",
    "if best_time >= INF :\n",
    "    print(-1)\n",
    "else :\n",
    "    print(best_time)\n",
    "\n",
    "\n"
   ]
  },
  {
   "cell_type": "code",
   "execution_count": null,
   "id": "31752a1d-80cc-4999-9414-1c53c3df8365",
   "metadata": {},
   "outputs": [],
   "source": [
    "# 예시 답안\n",
    "\n",
    "INF = int(1e9) \n",
    "\n",
    "n, m = map(int, input().split())\n",
    "\n",
    "graph = [[INF] * (n+1) for _ in range(n+1)]\n",
    "\n",
    "for a in range(1, n+1) :\n",
    "    for b in range(1, n+1) :\n",
    "        if a== b :\n",
    "            graph[a][b] = 0\n",
    "\n",
    "for _ in range(m) :\n",
    "    a, b = map(int, input().split())\n",
    "    graph[a][b] = 1\n",
    "    graph[b][a] = 1\n",
    "\n",
    "x, k = map(int, input().split())\n",
    "\n",
    "for k in range(1, n+1) :\n",
    "    for a in range(1, n+1) :\n",
    "        for b in range(1, n+1) :\n",
    "            graph[a][b] = min(graph[a][b], graph[a][k] + graph[k][b])\n",
    "\n",
    "distance = graph[1][k] + graph[k][x]\n",
    "\n",
    "if distance >= INF :\n",
    "    print(-1)\n",
    "else :\n",
    "    print(distance)"
   ]
  },
  {
   "cell_type": "code",
   "execution_count": null,
   "id": "0a315fb4-d9dd-4383-af7e-8ea8767e6d34",
   "metadata": {},
   "outputs": [],
   "source": []
  },
  {
   "cell_type": "markdown",
   "id": "eabcaf01-31c5-4e3b-8ecf-36014dd54a87",
   "metadata": {
    "jp-MarkdownHeadingCollapsed": true
   },
   "source": [
    "## 9-3 전보"
   ]
  },
  {
   "cell_type": "code",
   "execution_count": 13,
   "id": "a70cddc3-5181-47ab-b63a-95bb33fac69e",
   "metadata": {},
   "outputs": [
    {
     "name": "stdin",
     "output_type": "stream",
     "text": [
      " 3 2 1\n",
      " 1 2 4\n",
      " 1 3 2\n"
     ]
    },
    {
     "name": "stdout",
     "output_type": "stream",
     "text": [
      "2 4\n"
     ]
    }
   ],
   "source": [
    "# 직접 푼 버젼\n",
    "import heapq\n",
    "\n",
    "INF = int(1e9)\n",
    "\n",
    "n, m, c = map(int, input().split())\n",
    "\n",
    "graph = [[] for _ in range(n+1)]\n",
    "distance = [INF] * (n+1)\n",
    "\n",
    "for _  in range(m) :\n",
    "    x, y, z = map(int, input().split())\n",
    "    graph[x].append((y, z))\n",
    "\n",
    "\n",
    "q = []\n",
    "distance[c] = 0\n",
    "heapq.heappush(q, (0, c))\n",
    "while q :\n",
    "    dist, now = heapq.heappop(q)\n",
    "    if dist > distance[now] :\n",
    "        continue\n",
    "    for i in graph[now] :\n",
    "        cost = dist + i[1] \n",
    "        if cost < distance[i[0]] :\n",
    "            distance[i[0]] = cost\n",
    "            heapq.heappush(q, (cost, i[0]))\n",
    "\n",
    "\n",
    "count = -1\n",
    "max_time = 0\n",
    "for i in range(1, n+1) :\n",
    "    if distance[i] < INF :\n",
    "        count += 1\n",
    "        max_time = max(max_time, distance[i])\n",
    "\n",
    "print(count, max_time)"
   ]
  },
  {
   "cell_type": "code",
   "execution_count": null,
   "id": "01c5cdfa-4633-483d-a5dd-ae3664f3a4ec",
   "metadata": {},
   "outputs": [],
   "source": [
    "# 예시 답안\n",
    "import heapq\n",
    "\n",
    "INF = int(1e9)\n",
    "\n",
    "n, m, start = map(int, input().split())\n",
    "graph = [[] for i in range(n+1)]\n",
    "distance = [INF] * (n+1)\n",
    "\n",
    "for _ in range(m) :\n",
    "    x, y, z = map(int, input().split())\n",
    "    graph[x].append((y, z))\n",
    "\n",
    "\n",
    "def dijkstra(start) :\n",
    "    q = []\n",
    "    heapq.heappush(q, (0, start))\n",
    "    distance[start] = 0\n",
    "    while q :\n",
    "        dist, now = heapq.heappop(q)\n",
    "        if distance[now] < dist :\n",
    "            continue\n",
    "        for i in graph[now] :\n",
    "            cost = dist + i[1] \n",
    "            if cost < distance[i[0]] :\n",
    "                distance[i[0]] = cost\n",
    "                heapq.heappush(q, (cost, i[0]))\n",
    "\n",
    "\n"
   ]
  },
  {
   "cell_type": "code",
   "execution_count": null,
   "id": "459b688c-a95c-47d4-8fdd-12d342ad62e2",
   "metadata": {},
   "outputs": [],
   "source": []
  },
  {
   "cell_type": "markdown",
   "id": "6a97591b-7dde-4db8-95ae-4ab1216d7b93",
   "metadata": {
    "jp-MarkdownHeadingCollapsed": true
   },
   "source": [
    "# 10. 그래프 이론"
   ]
  },
  {
   "cell_type": "markdown",
   "id": "b98e6565-9492-40c2-aa91-5240581a00e6",
   "metadata": {
    "jp-MarkdownHeadingCollapsed": true
   },
   "source": [
    "## 서로소 집합"
   ]
  },
  {
   "cell_type": "code",
   "execution_count": null,
   "id": "a546f2a4-f0e0-4e12-b3a1-db9aa492a588",
   "metadata": {},
   "outputs": [],
   "source": [
    "# basic 서로소 집합 \n",
    "\n",
    "def find_parent(parent, x) :\n",
    "    if parent[x] != x :\n",
    "        return find_parent(parent, parent[x])\n",
    "    return x\n",
    "\n",
    "def union_parent(parent, a, b) :\n",
    "    a = find_parent(parent, a)\n",
    "    b = find_parent(parent, b)\n",
    "    if a < b :\n",
    "        parent[b] = a\n",
    "    else :\n",
    "        parent[a] = b\n",
    "\n",
    "v, e = map(int, input().split())\n",
    "parent = [0] * (v+1)\n",
    "\n",
    "for i in range(1, v+1) :\n",
    "    parent[i] = i\n",
    "\n",
    "for i in range(e) :\n",
    "    a, b = map(int, input().split())\n",
    "    union_parent(parent, a, b)\n",
    "\n",
    "print(\"각 원소가 속한 집합: \", end = \" \")\n",
    "print()\n",
    "\n",
    "print(\"부모 테이블: \", end = \" \")\n",
    "for i in range(1, n+1) :\n",
    "    print(parent[i], end=\" \")\n",
    "    "
   ]
  },
  {
   "cell_type": "code",
   "execution_count": 1,
   "id": "c1056545-1fd8-444c-bf41-5fb66e6e71af",
   "metadata": {},
   "outputs": [],
   "source": [
    "# improved union-find set\n",
    "def find_parent(parent, x) :\n",
    "    if parent[x] != x :\n",
    "        parent[x] = find_parent(parent, parent[x])\n",
    "    return parent[x]\n",
    "\n",
    "def union_parent(parent, a, b) :\n",
    "    a = find_parent(parent, a)\n",
    "    b = find_parent(parent, b)\n",
    "    if a < b :\n",
    "        parent[b] = a\n",
    "    else :\n",
    "        parent[a] = b"
   ]
  },
  {
   "cell_type": "code",
   "execution_count": null,
   "id": "2f9fa34a-2afe-463e-b4da-e28f46ddf4e2",
   "metadata": {},
   "outputs": [],
   "source": [
    "# 사이클 판별\n",
    "def find_parent(parent, x) :\n",
    "    if parent[x] != x :\n",
    "        parent[x] = find_parent(parent, parent[x])\n",
    "    return parent[x]\n",
    "\n",
    "def union_parent(parent, a, b) :\n",
    "    a = find_parent(parent, a)\n",
    "    b = find_parent(parent, b)\n",
    "    if a < b :\n",
    "        parent[b] = a\n",
    "    else :\n",
    "        parent[a] = b\n",
    "\n",
    "\n",
    "\n",
    "v, e = map(int, input().split())\n",
    "parent = [0] * (v+1)\n",
    "\n",
    "\n",
    "for i in range(1, v+1) :\n",
    "    parent[i] = i\n",
    "\n",
    "cycle = False\n",
    "\n",
    "for i in range(e) :\n",
    "    a, b = map(int, input().split())\n",
    "    if find_parent(parent, a) == find_parent(parent, b) :\n",
    "        cycle = True \n",
    "        break\n",
    "    else :\n",
    "        union_parent(parent, a, b)\n",
    "\n",
    "if cycle :\n",
    "    print(\"사이클이 발생했습니다.\")\n",
    "else :\n",
    "    print(\"사이클이 발생하지 않습니다.\")"
   ]
  },
  {
   "cell_type": "markdown",
   "id": "d61fdae6-fe21-45d0-a976-94de80604582",
   "metadata": {},
   "source": [
    "## 신장 트리"
   ]
  },
  {
   "cell_type": "markdown",
   "id": "1b284cbc-91e5-406e-a24d-acab77046996",
   "metadata": {
    "jp-MarkdownHeadingCollapsed": true
   },
   "source": [
    "## 크루스칼 알고리즘"
   ]
  },
  {
   "cell_type": "code",
   "execution_count": null,
   "id": "0a042cbf-2231-4a84-b753-01cc212159ad",
   "metadata": {},
   "outputs": [],
   "source": [
    "# 크루스칼 알고리즘\n",
    "\n",
    "def find_parent(parent, x) :\n",
    "    if parent[x] != x :\n",
    "        parent[x] = find_parent(parent, parent[x])\n",
    "    return parent[x]\n",
    "\n",
    "def union_parent(parent, a, b) :\n",
    "    a = find_parent(parent, a)\n",
    "    b = find_parent(parent, b)\n",
    "    if a < b:\n",
    "        parent[b] = a\n",
    "    else :\n",
    "        parent[a] = b\n",
    "\n",
    "\n",
    "v, e = map(int, input().split())\n",
    "parent = [0] * (v+1)\n",
    "\n",
    "for i in range(1, v+1) :\n",
    "    parent[i] = i\n",
    "\n",
    "edgs= [] \n",
    "result  = 0\n",
    "\n",
    "for i in range(e) :\n",
    "    a, b, cost = map(int, input().split())\n",
    "    edges.append((cost, a , b))\n",
    "\n",
    "edges.sort()\n",
    "\n",
    "for edge in edges :\n",
    "    cost, a, b = edge\n",
    "    if find_parent(parent, a) == find_parent(parent, b) :\n",
    "        union_parent(parent, a, b)\n",
    "        result += cost\n",
    "\n",
    "print(result)"
   ]
  },
  {
   "cell_type": "markdown",
   "id": "5708a63e-8205-4fd6-bf3a-1412c6ddf506",
   "metadata": {
    "jp-MarkdownHeadingCollapsed": true
   },
   "source": [
    "## 위상 정렬"
   ]
  },
  {
   "cell_type": "code",
   "execution_count": 2,
   "id": "9a1c8d08-862c-450b-bac4-9e962ea4111b",
   "metadata": {},
   "outputs": [
    {
     "name": "stderr",
     "output_type": "stream",
     "text": [
      "\n",
      "KeyboardInterrupt\n",
      "\n"
     ]
    }
   ],
   "source": [
    "from collections import deque\n",
    "\n",
    "v, e = map(int, input().split())\n",
    "indegree = [0] * (v+1)\n",
    "\n",
    "graph = [[] for i in range(v+1)]\n",
    "\n",
    "for _ in range(e) :\n",
    "    a, b = map(int, input().split())\n",
    "    graph[a].append(b)\n",
    "    indegree[b] += 1\n",
    "    \n",
    "def topology_sort() :\n",
    "    result = []\n",
    "    q = deque()\n",
    "    for i in range(1, v+1) :\n",
    "        if indegree[i] == 0 :\n",
    "            q.append(i)\n",
    "\n",
    "    while q :\n",
    "        now = q.popoleft()\n",
    "        result.append(now)\n",
    "        for i in graph[now] :\n",
    "            indegree[i] -= 1\n",
    "            if indegree[i] == 0 :\n",
    "                q.append(i)\n",
    "\n",
    "    for i in result :\n",
    "        print(i, end= \" \")\n",
    "    print()\n",
    "\n",
    "topology_sort()"
   ]
  },
  {
   "cell_type": "markdown",
   "id": "7f383eff-faff-4183-9c9a-3968c721822e",
   "metadata": {
    "jp-MarkdownHeadingCollapsed": true
   },
   "source": [
    "## 10-2 팀 결성"
   ]
  },
  {
   "cell_type": "code",
   "execution_count": null,
   "id": "42155fa1-89f9-455b-a53e-f004763dd2d9",
   "metadata": {},
   "outputs": [],
   "source": [
    "# solving myself\n",
    "\n",
    "def find(parent, x) :\n",
    "    if parent[x] != x :\n",
    "        parent[x] = find(parent, parent[x])\n",
    "    reutrn parent[x]\n",
    "\n",
    "def union(parent, a, b) :\n",
    "    a = find(parent, a)\n",
    "    b = find(parent, b)\n",
    "    if a < b :\n",
    "        parent[b] = a\n",
    "    else :\n",
    "        parent[a] = b\n",
    "\n",
    "\n",
    "\n",
    "n, m = map(int, input().split())\n",
    "parent = [i for i in range(n+1)]\n",
    "\n",
    "for i in range(m) :\n",
    "    oper, a, b = map(int, input().split())\n",
    "    if oper == 0 :\n",
    "        union(a, b)\n",
    "    else :\n",
    "        if find(parent, a) == find(parent, b) :\n",
    "            print(\"YES\")\n",
    "        else :\n",
    "            print(\"NO\")"
   ]
  },
  {
   "cell_type": "code",
   "execution_count": null,
   "id": "3d0c7c1c-abab-450b-8350-0ff6db29349d",
   "metadata": {},
   "outputs": [],
   "source": [
    "# good answer"
   ]
  },
  {
   "cell_type": "markdown",
   "id": "8e673e7f-2011-42ce-9025-2c12395e00df",
   "metadata": {
    "jp-MarkdownHeadingCollapsed": true
   },
   "source": [
    "## 10-3 도시 분할 계획"
   ]
  },
  {
   "cell_type": "code",
   "execution_count": 7,
   "id": "fd2b241f-75c7-491f-aa7e-c5a9214edc93",
   "metadata": {},
   "outputs": [
    {
     "name": "stdin",
     "output_type": "stream",
     "text": [
      " 7 12\n",
      " 1 2 3\n",
      " 1  3  2\n",
      " 3 2 1\n",
      " 2 5 2\n",
      " 3 4 4\n",
      " 7 3 6\n",
      " 5  1 5\n",
      " 1 6 2\n",
      " 6 4 1\n",
      " 6 5 3\n",
      " 4 5 3\n",
      " 6 7 4\n"
     ]
    },
    {
     "name": "stdout",
     "output_type": "stream",
     "text": [
      "8\n"
     ]
    }
   ],
   "source": [
    "def find(parent, x) :\n",
    "    if parent[x] != x :\n",
    "        parent[x] = find(parent, parent[x])\n",
    "    return parent[x]\n",
    "\n",
    "def union(parent, a, b) :\n",
    "    a = find(parent, a)\n",
    "    b = find(parent, b)\n",
    "    if a < b :\n",
    "        parent[b] = a\n",
    "    else :\n",
    "        parent[a] = b\n",
    "\n",
    "\n",
    "\n",
    "n, m = map(int, input().split())\n",
    "\n",
    "housing= [i for i in range(n+1)]\n",
    "edges = []\n",
    "\n",
    "for i in range(m) :\n",
    "    a, b, c = map(int, input().split())\n",
    "    edges.append((c, a, b))\n",
    "\n",
    "\n",
    "edges.sort()\n",
    "result = []\n",
    "\n",
    "for edge in edges :\n",
    "    cost, a, b = edge \n",
    "    if find(housing, a) == find(housing, b) :\n",
    "        continue\n",
    "    else :\n",
    "        union(housing, a, b)\n",
    "        result.append(cost)\n",
    "    \n",
    "print(sum(result) - max(result))"
   ]
  },
  {
   "cell_type": "code",
   "execution_count": null,
   "id": "094739be-265d-4dbb-a82b-8c402de2dc47",
   "metadata": {},
   "outputs": [],
   "source": []
  },
  {
   "cell_type": "code",
   "execution_count": null,
   "id": "57d89b20-1db5-4810-ad72-670256968737",
   "metadata": {},
   "outputs": [],
   "source": []
  },
  {
   "cell_type": "markdown",
   "id": "84dd14d1-a114-40b7-a1b0-076f1b200bab",
   "metadata": {
    "jp-MarkdownHeadingCollapsed": true
   },
   "source": [
    "## 10-4 커리큘럼"
   ]
  },
  {
   "cell_type": "code",
   "execution_count": 16,
   "id": "750c2837-9bf1-41ca-a0ee-2b5047d0520b",
   "metadata": {},
   "outputs": [
    {
     "name": "stdin",
     "output_type": "stream",
     "text": [
      " 5\n",
      " 10 -1\n",
      " 10 1 -1\n",
      " 4 1 -1\n",
      " 4 3 1 -1\n",
      " 3 3 -1\n"
     ]
    },
    {
     "name": "stdout",
     "output_type": "stream",
     "text": [
      "10\n",
      "20\n",
      "14\n",
      "18\n",
      "17\n"
     ]
    }
   ],
   "source": [
    "from collections import deque\n",
    "\n",
    "\n",
    "n = int(input())\n",
    "\n",
    "indegree = [0] * (n+1)\n",
    "times = [0]\n",
    "graph = [[] for _ in range(n+1)]\n",
    "data = [[] for _ in range(n+1)]\n",
    "\n",
    "\n",
    "for i in range(1, n+1) :\n",
    "    input_list = list(map(int, input().split()))\n",
    "    times.append(input_list[0])\n",
    "    indegree[i] += len(input_list[1:-1])\n",
    "    data[i].extend(input_list[1:-1])\n",
    "    for j in input_list[1:-1] :\n",
    "        graph[j].append(i)\n",
    "    \n",
    "\n",
    "q = deque()\n",
    "\n",
    "for i in range(1, n+1) :\n",
    "    if indegree[i] == 0 :\n",
    "        q.append(i)\n",
    "\n",
    "while q :\n",
    "    vertex = q.popleft()\n",
    "    max_value = 0\n",
    "    for j in data[vertex] :\n",
    "        max_value = max(max_value, times[j])\n",
    "    times[vertex] += max_value\n",
    "    for i in graph[vertex] :\n",
    "        indegree[i] -= 1\n",
    "        if indegree[i] == 0 :\n",
    "            q.append(i)\n",
    "\n",
    "\n",
    "for i in range(1, n+1) :\n",
    "    print(times[i])"
   ]
  },
  {
   "cell_type": "code",
   "execution_count": null,
   "id": "f04ead9b-9155-45c0-8785-0370c0078406",
   "metadata": {},
   "outputs": [],
   "source": []
  },
  {
   "cell_type": "code",
   "execution_count": 22,
   "id": "26f979cf-2806-4ef7-999a-151af9beeb64",
   "metadata": {},
   "outputs": [
    {
     "name": "stdin",
     "output_type": "stream",
     "text": [
      " 5\n",
      " 10 -1\n",
      " 10 1 -1\n",
      " 4 1 -1\n",
      " 4 3 1 -1\n",
      "  3 3 -1\n"
     ]
    },
    {
     "name": "stdout",
     "output_type": "stream",
     "text": [
      "10\n",
      "10\n",
      "4\n",
      "4\n",
      "3\n"
     ]
    }
   ],
   "source": [
    "from collections import deque\n",
    "from copy import deepcopy\n",
    "\n",
    "n = int(input())\n",
    "\n",
    "indegree = [0] * (n+1)\n",
    "times = [0]\n",
    "graph = [[] for _ in range(n+1)]\n",
    "\n",
    "\n",
    "for i in range(1, n+1) :\n",
    "    input_list = list(map(int, input().split()))\n",
    "    times.append(input_list[0])\n",
    "    indegree[i] += len(input_list[1:-1])\n",
    "    for j in input_list[1:-1] :\n",
    "        graph[j].append(i)\n",
    "    \n",
    "result = deepcopy(times)\n",
    "\n",
    "q = deque()\n",
    "\n",
    "for i in range(1, n+1) :\n",
    "    if indegree[i] == 0 :\n",
    "        q.append(i)\n",
    "\n",
    "while q :\n",
    "    vertex = q.popleft()\n",
    "    for i in graph[vertex] :\n",
    "        result[i] = max( result[i], times[i] +result[vertex] )\n",
    "        indegree[i] -= 1\n",
    "        if indegree[i] == 0 :\n",
    "            q.append(i)\n",
    "\n",
    "\n",
    "for i in range(1, n+1) :\n",
    "    print(times[i])"
   ]
  },
  {
   "cell_type": "code",
   "execution_count": 24,
   "id": "cc3baaa7-d867-41a4-a727-f15b21a5882d",
   "metadata": {},
   "outputs": [
    {
     "data": {
      "text/plain": [
       "[0, 10, 20, 14, 18, 17]"
      ]
     },
     "execution_count": 24,
     "metadata": {},
     "output_type": "execute_result"
    }
   ],
   "source": [
    "result"
   ]
  },
  {
   "cell_type": "code",
   "execution_count": 25,
   "id": "2aa22148-05ff-4fe6-b2c5-9829b96d0781",
   "metadata": {},
   "outputs": [
    {
     "name": "stdin",
     "output_type": "stream",
     "text": [
      " 5\n",
      " 10 -1\n",
      " 10 1 -1\n",
      " 4 1 -1\n",
      " 4 3 1 -1\n",
      " 3 3 -1\n"
     ]
    },
    {
     "name": "stdout",
     "output_type": "stream",
     "text": [
      "10\n",
      "20\n",
      "14\n",
      "18\n",
      "17\n"
     ]
    }
   ],
   "source": [
    "# 예시 답안\n",
    "from collections import deque\n",
    "import copy\n",
    "\n",
    "v = int(input())\n",
    "\n",
    "indegree = [0] * (v+1)\n",
    "\n",
    "graph = [[] for i in range(v+1)]\n",
    "\n",
    "time = [0] * (v+1)\n",
    "\n",
    "for i in range(1, v+1) :\n",
    "    data = list(map(int, input().split()))\n",
    "    time[i] = data[0]\n",
    "    for x in data[1:-1] :\n",
    "        indegree[i] += 1\n",
    "        graph[x].append(i)\n",
    "\n",
    "\n",
    "def topology_sort() :\n",
    "    result = copy.deepcopy(time)\n",
    "    q = deque()\n",
    "\n",
    "    for i in range(1, v+1) :\n",
    "        if indegree[i] == 0 :\n",
    "            q.append(i)\n",
    "\n",
    "    while q :\n",
    "        now = q.popleft()\n",
    "        for i in graph[now] :\n",
    "            result[i] = max(result[i], time[i]+result[now])\n",
    "            indegree[i] -= 1\n",
    "            if indegree[i] == 0 :\n",
    "                q.append(i)\n",
    "\n",
    "    for i in range(1, v+1) :\n",
    "        print(result[i])\n",
    "            \n",
    "\n",
    "topology_sort()\n",
    "\n"
   ]
  },
  {
   "cell_type": "code",
   "execution_count": null,
   "id": "364f38d4-5440-4562-bc62-fa9c0e7b6af5",
   "metadata": {},
   "outputs": [],
   "source": []
  },
  {
   "cell_type": "markdown",
   "id": "202681bc-8ebb-4fa9-ab8a-3e185598dbe2",
   "metadata": {
    "jp-MarkdownHeadingCollapsed": true
   },
   "source": [
    "# 11. 기타 알고리즘"
   ]
  },
  {
   "cell_type": "markdown",
   "id": "42611715-940f-4a0b-b74e-53fa004f0fb2",
   "metadata": {
    "jp-MarkdownHeadingCollapsed": true
   },
   "source": [
    "## 소수의 판별"
   ]
  },
  {
   "cell_type": "code",
   "execution_count": 1,
   "id": "6a0cb721-ceb6-4f65-b130-f7dac4467c5f",
   "metadata": {},
   "outputs": [
    {
     "name": "stdout",
     "output_type": "stream",
     "text": [
      "True\n"
     ]
    }
   ],
   "source": [
    "from math import sqrt\n",
    "\n",
    "def is_prime(n) :\n",
    "    for i in range(2, int(sqrt(n))+1) :\n",
    "        if n % i == 0 :\n",
    "            return False\n",
    "    return True\n",
    "            \n",
    "print(is_prime(7))       "
   ]
  },
  {
   "cell_type": "markdown",
   "id": "6e85cd14-a814-4f56-8f81-35902430e711",
   "metadata": {
    "jp-MarkdownHeadingCollapsed": true
   },
   "source": [
    "## 에라토스테네스의 체"
   ]
  },
  {
   "cell_type": "code",
   "execution_count": 3,
   "id": "aafa97f7-570c-45ac-b0be-2ae320754357",
   "metadata": {},
   "outputs": [
    {
     "name": "stdout",
     "output_type": "stream",
     "text": [
      "[2, 3, 5, 7, 11, 13, 17, 19, 23, 29, 31, 37, 41, 43, 47]\n"
     ]
    }
   ],
   "source": [
    "from math import sqrt\n",
    "\n",
    "def sieve(n) :\n",
    "    numbers = [True] * (n+1)\n",
    "    for i in range(2, int(sqrt(n))+1) :\n",
    "        if numbers[i] :\n",
    "            j = 2\n",
    "            while i * j <= n :\n",
    "                numbers[i*j] = False\n",
    "                j += 1\n",
    "    result = []\n",
    "    for i in range(2, n+1) :\n",
    "        if numbers[i] :\n",
    "            result.append(i)\n",
    "    return result\n",
    "\n",
    "print(sieve(50))\n",
    "        "
   ]
  },
  {
   "cell_type": "code",
   "execution_count": null,
   "id": "5ae18388-a873-4dec-a3b5-ae167702362e",
   "metadata": {},
   "outputs": [],
   "source": []
  },
  {
   "cell_type": "markdown",
   "id": "c8cf519a-d2b9-4727-9290-6f2a41229b1e",
   "metadata": {
    "jp-MarkdownHeadingCollapsed": true
   },
   "source": [
    "## 투 포인터"
   ]
  },
  {
   "cell_type": "code",
   "execution_count": 5,
   "id": "1aa3af86-cb33-47ea-acee-08b99cef8d26",
   "metadata": {},
   "outputs": [
    {
     "name": "stdout",
     "output_type": "stream",
     "text": [
      "3\n"
     ]
    }
   ],
   "source": [
    "n = 5\n",
    "m = 5\n",
    "data = [1, 2, 3, 2, 5] \n",
    "\n",
    "count = 0\n",
    "interval_sum = 0\n",
    "end = 0\n",
    "\n",
    "for start in range(n) :\n",
    "    while interval_sum < m and end < n :\n",
    "        interval_sum += data[end]\n",
    "        end+=1\n",
    "    if interval_sum == m :\n",
    "        count += 1\n",
    "    interval_sum -= data[start]\n",
    "\n",
    "print(count)"
   ]
  },
  {
   "cell_type": "code",
   "execution_count": 6,
   "id": "9b30247b-49ed-46b4-ad29-2d8afe5929f6",
   "metadata": {},
   "outputs": [
    {
     "name": "stdout",
     "output_type": "stream",
     "text": [
      "1 2 3 4 5 6 8 "
     ]
    }
   ],
   "source": [
    "# two list to one list\n",
    "n, m = 3, 4\n",
    "a = [1, 3, 5]\n",
    "b = [2, 4, 6, 8]\n",
    "\n",
    "result = [0] * (n+m)\n",
    "i = 0\n",
    "j = 0\n",
    "k = 0\n",
    "\n",
    "while i < n or j < m :\n",
    "    if j >= m or (i < n and a[i] <= b[j]) :\n",
    "        result[k] = a[i]\n",
    "        i += 1\n",
    "    else :\n",
    "        result[k] = b[j]\n",
    "        j += 1\n",
    "    k += 1\n",
    "\n",
    "for i in result :\n",
    "    print(i, end= \" \")\n",
    "\n"
   ]
  },
  {
   "cell_type": "markdown",
   "id": "eec3d60e-de6f-4a68-929c-546a2e09d7fc",
   "metadata": {
    "jp-MarkdownHeadingCollapsed": true
   },
   "source": [
    "## 구간 합 계산"
   ]
  },
  {
   "cell_type": "code",
   "execution_count": 7,
   "id": "0c86432b-427e-4ca5-83e6-1eb7fa95a78d",
   "metadata": {},
   "outputs": [
    {
     "name": "stdout",
     "output_type": "stream",
     "text": [
      "70\n"
     ]
    }
   ],
   "source": [
    "n = 5\n",
    "data = [10, 20, 30, 40, 50]\n",
    "\n",
    "sum_value = 0\n",
    "prefix_sum = [0]\n",
    "for i in data :\n",
    "    sum_value += i\n",
    "    prefix_sum.append(sum_value)\n",
    "\n",
    "left = 3\n",
    "right = 4\n",
    "print(prefix_sum[right]-prefix_sum[left-1])\n"
   ]
  },
  {
   "cell_type": "code",
   "execution_count": null,
   "id": "bdd919c2-45e9-4efd-a405-d4fdc0433c28",
   "metadata": {},
   "outputs": [],
   "source": []
  },
  {
   "cell_type": "markdown",
   "id": "b1ef66dc-0e34-4b6b-be82-62c2f129f250",
   "metadata": {
    "jp-MarkdownHeadingCollapsed": true
   },
   "source": [
    "## 순열과 조합"
   ]
  },
  {
   "cell_type": "code",
   "execution_count": 9,
   "id": "51e06447-1f4f-4df8-91e4-0eefa2dca762",
   "metadata": {},
   "outputs": [
    {
     "name": "stdout",
     "output_type": "stream",
     "text": [
      "[1, 2, 3]\n",
      "[1, 3, 2]\n",
      "[2, 1, 3]\n",
      "[2, 3, 1]\n",
      "[3, 1, 2]\n",
      "[3, 2, 1]\n"
     ]
    }
   ],
   "source": [
    "import itertools\n",
    "\n",
    "data = [1, 2, 3]\n",
    "\n",
    "for i in itertools.permutations(data, 3) :\n",
    "    print(list(i))"
   ]
  },
  {
   "cell_type": "code",
   "execution_count": 12,
   "id": "1ae54819-c9b0-4ea9-a664-be96a34d5bcf",
   "metadata": {},
   "outputs": [
    {
     "name": "stdout",
     "output_type": "stream",
     "text": [
      "(1, 2, 3)\n",
      "(1, 2, 4)\n",
      "(1, 3, 4)\n",
      "(2, 3, 4)\n"
     ]
    }
   ],
   "source": [
    "import itertools \n",
    "\n",
    "data = [1, 2, 3, 4]\n",
    "\n",
    "for x in itertools.combinations(data, 3) :\n",
    "    print(x)"
   ]
  },
  {
   "cell_type": "markdown",
   "id": "6b3f6f9e-f543-4279-900e-34284ee4f508",
   "metadata": {
    "jp-MarkdownHeadingCollapsed": true
   },
   "source": [
    "## 11-1 소수 구하기"
   ]
  },
  {
   "cell_type": "code",
   "execution_count": 15,
   "id": "e7612d31-81e1-4577-8dc9-bea20cd39dfa",
   "metadata": {},
   "outputs": [
    {
     "name": "stdin",
     "output_type": "stream",
     "text": [
      " 3 16\n"
     ]
    },
    {
     "name": "stdout",
     "output_type": "stream",
     "text": [
      "3\n",
      "5\n",
      "7\n",
      "11\n",
      "13\n"
     ]
    }
   ],
   "source": [
    "# self-solving\n",
    "from math import sqrt\n",
    "\n",
    "def sieve(start, end) :\n",
    "    numbers = [True] * (end+1)\n",
    "    for i in range(2, int(sqrt(end)) + 1) :\n",
    "        if numbers[i] :\n",
    "            j = 2\n",
    "            while i * j <= end :\n",
    "                numbers[i*j] = False\n",
    "                j += 1\n",
    "    result = []\n",
    "    for i in range(start, end+1) :\n",
    "        if numbers[i] :\n",
    "            result.append(i)\n",
    "            \n",
    "    return result\n",
    "    \n",
    "    \n",
    "m, n = map(int, input().split())\n",
    "result = sieve(m, n)\n",
    "for i in result :\n",
    "    print(i)\n"
   ]
  },
  {
   "cell_type": "code",
   "execution_count": null,
   "id": "66e7c08d-4483-462a-bfe4-b6859a855c9b",
   "metadata": {},
   "outputs": [],
   "source": []
  },
  {
   "cell_type": "markdown",
   "id": "ca5871a1-d179-44c6-9505-b6b1ce2c0b76",
   "metadata": {
    "jp-MarkdownHeadingCollapsed": true
   },
   "source": [
    "## 11-2 암호 만들기"
   ]
  },
  {
   "cell_type": "code",
   "execution_count": 20,
   "id": "fc0fa641-cd91-40bc-9c23-4431a89515f2",
   "metadata": {},
   "outputs": [
    {
     "name": "stdin",
     "output_type": "stream",
     "text": [
      " 4 6\n",
      " a t c i s w\n"
     ]
    },
    {
     "name": "stdout",
     "output_type": "stream",
     "text": [
      "acis\n",
      "acit\n",
      "aciw\n",
      "acst\n",
      "acsw\n",
      "actw\n",
      "aist\n",
      "aisw\n",
      "aitw\n",
      "astw\n",
      "cist\n",
      "cisw\n",
      "citw\n",
      "istw\n"
     ]
    }
   ],
   "source": [
    "from itertools import combinations \n",
    "\n",
    "L, C = map(int, input().split())\n",
    "strings = sorted(list(input().split()))\n",
    "\n",
    "vowels = [\"a\", \"e\", 'i', \"o\", \"u\"]\n",
    "\n",
    "for password in combinations(strings, L) :\n",
    "    count = 0\n",
    "    for i in vowels :\n",
    "        if i in password :\n",
    "            count += 1\n",
    "    if 1 <= count <= L-2 :\n",
    "        print(\"\".join(list(password))) "
   ]
  },
  {
   "cell_type": "code",
   "execution_count": null,
   "id": "7b5d5beb-9257-4167-b6d9-ddeb895e27e3",
   "metadata": {},
   "outputs": [],
   "source": []
  }
 ],
 "metadata": {
  "kernelspec": {
   "display_name": "Python 3 (ipykernel)",
   "language": "python",
   "name": "python3"
  },
  "language_info": {
   "codemirror_mode": {
    "name": "ipython",
    "version": 3
   },
   "file_extension": ".py",
   "mimetype": "text/x-python",
   "name": "python",
   "nbconvert_exporter": "python",
   "pygments_lexer": "ipython3",
   "version": "3.9.18"
  },
  "widgets": {
   "application/vnd.jupyter.widget-state+json": {
    "state": {},
    "version_major": 2,
    "version_minor": 0
   }
  }
 },
 "nbformat": 4,
 "nbformat_minor": 5
}
