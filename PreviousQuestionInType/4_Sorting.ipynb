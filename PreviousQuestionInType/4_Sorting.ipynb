{
 "cells": [
  {
   "cell_type": "markdown",
   "id": "cad24020-a23a-4d7f-8f0f-b30a9d610f4d",
   "metadata": {
    "jp-MarkdownHeadingCollapsed": true
   },
   "source": [
    "# 23. 국영수"
   ]
  },
  {
   "cell_type": "code",
   "execution_count": 2,
   "id": "1af06be0-6729-4819-acbc-bbaf22c448e2",
   "metadata": {},
   "outputs": [
    {
     "name": "stdin",
     "output_type": "stream",
     "text": [
      " 3\n",
      " sdfas  30 4 30\n",
      " wkdjakf 30 99 99\n",
      " sdhjs 4 4 6666\n"
     ]
    }
   ],
   "source": [
    "# 2025/07/12\n",
    "n = int(input())\n",
    "data = []\n",
    "\n",
    "for i in range(n) :\n",
    "    name, kor, eng, math = input().split()\n",
    "    data.append( (name, int(kor), int(eng), int(math)) )\n",
    "\n",
    "\n",
    "\n",
    "# 국어는 감소하는 순서\n",
    "## 영어는 증가하는 순서\n",
    "### 수학은 감소하는 순서\n",
    "#### 이름은 증가하는 순서\n",
    "\n",
    "for i in range(1, n) :\n",
    "    if data[i-1][1] < data[i][1] :\n",
    "        data[i-1], data[i] = data[i], data[i-1]        \n",
    "    elif data[i-1][1] == data[i][1] :\n",
    "        if data[i-1][2] > data[i][2] :\n",
    "            data[i-1], data[i] = data[i], data[i-1] \n",
    "        elif data[i-1][2] == data[i][2] :\n",
    "            if data[i-1][3] < data[i][3] :\n",
    "                data[i-1], data[i] = data[i], data[i-1] \n",
    "            elif data[i-1][3] == data[i][3] :\n",
    "                if data[i-1][0] > data[i][0] :\n",
    "                    data[i-1], data[i] = data[i], data[i-1] \n",
    "    \n",
    "\n",
    "for i in data :\n",
    "    print(i[0])"
   ]
  },
  {
   "cell_type": "code",
   "execution_count": 5,
   "id": "c7525ac5-54e7-4a1b-a365-12eedc8ae486",
   "metadata": {},
   "outputs": [
    {
     "name": "stdin",
     "output_type": "stream",
     "text": [
      " 2\n",
      " fsf 3 3 3\n",
      " gsfa 4 4 4\n"
     ]
    },
    {
     "name": "stdout",
     "output_type": "stream",
     "text": [
      "gsfa\n",
      "fsf\n"
     ]
    }
   ],
   "source": [
    "# 예시 답안\n",
    "\n",
    "n = int(input())\n",
    "students = []\n",
    "\n",
    "for _ in range(n) :\n",
    "    students.append(input().split())\n",
    "\n",
    "students.sort(key= lambda x : (-int(x[1]), int(x[2]), -int(x[3]), x[0] ) )\n",
    "\n",
    "for student in students :\n",
    "    print(student[0])\n",
    "\n"
   ]
  },
  {
   "cell_type": "markdown",
   "id": "2f115f4f-217b-416b-88d8-a53ff49f0f37",
   "metadata": {
    "jp-MarkdownHeadingCollapsed": true
   },
   "source": [
    "# 24. 안테나 "
   ]
  },
  {
   "cell_type": "code",
   "execution_count": 3,
   "id": "2f30f18c-cccb-4a18-8a11-5948b1f64415",
   "metadata": {},
   "outputs": [
    {
     "name": "stderr",
     "output_type": "stream",
     "text": [
      "\n",
      "KeyboardInterrupt\n",
      "\n"
     ]
    }
   ],
   "source": [
    "# 틀림  문제를 잘 안 읽음 특정 위치의 집에 설치해야 한다는 사실을 망각함\n",
    "N = int(input())\n",
    "position = list(map(int, input().split()))\n",
    "\n",
    "print(sum(position) // N)\n"
   ]
  },
  {
   "cell_type": "code",
   "execution_count": 5,
   "id": "3efc1030-1991-4a76-84a9-559cdae425f2",
   "metadata": {},
   "outputs": [
    {
     "name": "stdin",
     "output_type": "stream",
     "text": [
      " 4\n",
      " 5 1 7 9\n"
     ]
    },
    {
     "name": "stdout",
     "output_type": "stream",
     "text": [
      "5\n"
     ]
    }
   ],
   "source": [
    "# 예시 답안\n",
    "N = int(input())\n",
    "position = list(map(int, input().split()))\n",
    "\n",
    "position.sort()\n",
    "\n",
    "print(position[(N-1)//2])"
   ]
  },
  {
   "cell_type": "code",
   "execution_count": 12,
   "id": "e277d0a3-f427-4266-8fa0-b2dbb810a957",
   "metadata": {},
   "outputs": [
    {
     "name": "stdin",
     "output_type": "stream",
     "text": [
      " 4\n",
      " 5 1 7 9\n"
     ]
    },
    {
     "name": "stdout",
     "output_type": "stream",
     "text": [
      "5\n",
      "5\n"
     ]
    }
   ],
   "source": [
    "# 2025/07/12\n",
    "# 틀림? 평균과 가장 가까운 집으로 생각 했음\n",
    "n = int(input())\n",
    "data = list(map(int, input().split()))\n",
    "\n",
    "mean_value = sum(data) / n\n",
    "mean_house = data[0]\n",
    "mean_diff = abs(mean_value - data[0])\n",
    "\n",
    "for i in data[1:]:\n",
    "    if mean_diff > abs(mean_value - i) :\n",
    "        mean_house = i\n",
    "        mean_diff = abs(mean_value - i) \n",
    "    \n",
    "print(mean_house)\n",
    "\n",
    "\n",
    "\n",
    "\n",
    "data.sort()\n",
    "print(data[(n-1)//2])\n",
    "\n",
    "\n",
    "\n"
   ]
  },
  {
   "cell_type": "markdown",
   "id": "9a405875-33d2-4cc8-8e81-43a092cece84",
   "metadata": {
    "jp-MarkdownHeadingCollapsed": true
   },
   "source": [
    "# 25. 실패율"
   ]
  },
  {
   "cell_type": "code",
   "execution_count": 14,
   "id": "e33e21e6-5c4c-451c-b0c1-3bf14aab4f0e",
   "metadata": {},
   "outputs": [],
   "source": [
    "# 2025/07/12\n",
    "def solution(N, stages):\n",
    "    answer2 = []\n",
    "    answer = []\n",
    "    people = [0 for _ in range(N+2)]\n",
    "    \n",
    "    for i in stages :\n",
    "        people[i] += 1\n",
    "        \n",
    "    number_people = sum(people)\n",
    "    \n",
    "    for i in range(1, N+1) :\n",
    "        if number_people == 0 :\n",
    "            failure = 0\n",
    "        else :\n",
    "            failure = people[i] / number_people\n",
    "        number_people -= people[i]\n",
    "        answer2.append((i, failure))\n",
    "        \n",
    "    answer2.sort(key=lambda x : x[1], reverse = True)\n",
    "\n",
    "    for i in answer2 :\n",
    "        answer.append(i[0])\n",
    "    \n",
    "    return answer"
   ]
  },
  {
   "cell_type": "code",
   "execution_count": 15,
   "id": "8b206b28-04bb-4cdb-933f-1ca63358703c",
   "metadata": {},
   "outputs": [],
   "source": [
    "# 예시 답안\n",
    "def solution(N, stages) :\n",
    "    answer = []\n",
    "    length = len(stages)\n",
    "\n",
    "    for i in range(1, N+1) :\n",
    "        count = stages.count(i)\n",
    "        if length == 0 :\n",
    "            fail = 0\n",
    "        else :\n",
    "            fail = count / length\n",
    "        answer.append((i, fail))\n",
    "        length -= count\n",
    "    answer = sorted(answer, key = lambda t : t[1], reverse=True)\n",
    "\n",
    "    answer = [i[0] for i in answer]\n",
    "    return answer"
   ]
  },
  {
   "cell_type": "code",
   "execution_count": null,
   "id": "704b07e9-dedb-4189-b3a4-115efeabd6f5",
   "metadata": {},
   "outputs": [],
   "source": []
  },
  {
   "cell_type": "markdown",
   "id": "5468a3cf-776a-48ac-ba99-2a6f4c7d2aca",
   "metadata": {
    "jp-MarkdownHeadingCollapsed": true
   },
   "source": [
    "# 26. 카드 정렬하기"
   ]
  },
  {
   "cell_type": "code",
   "execution_count": 2,
   "id": "2c8e8ed3-0a4d-4a6a-8d6d-d4202ff87a01",
   "metadata": {},
   "outputs": [
    {
     "name": "stdin",
     "output_type": "stream",
     "text": [
      " 4\n",
      " 10\n",
      " 20\n",
      " 40\n",
      " 50\n"
     ]
    },
    {
     "name": "stdout",
     "output_type": "stream",
     "text": [
      "220\n"
     ]
    }
   ],
   "source": [
    "n = int(input())\n",
    "\n",
    "array = []\n",
    "\n",
    "for _ in range(n) :\n",
    "    array.append(int(input()))\n",
    "\n",
    "array.sort()\n",
    "\n",
    "def times(array, n) :\n",
    "    if n == 1:\n",
    "        return array[0] \n",
    "        \n",
    "    result = (array[0] + array[1]) * (n-1)\n",
    "    for i in range(2, n) :\n",
    "        result += array[i] * (n-i)\n",
    "        \n",
    "    return result\n",
    "\n",
    "print(times(array, n))\n"
   ]
  },
  {
   "cell_type": "code",
   "execution_count": 5,
   "id": "09bd0f6b-35c7-4214-a06d-c247692f0f54",
   "metadata": {},
   "outputs": [
    {
     "name": "stdin",
     "output_type": "stream",
     "text": [
      " 3\n",
      " 10\n",
      " 20\n",
      " 40\n"
     ]
    },
    {
     "name": "stdout",
     "output_type": "stream",
     "text": [
      "100\n"
     ]
    }
   ],
   "source": [
    "# 보고 푼거\n",
    "import heapq\n",
    "\n",
    "q = []\n",
    "\n",
    "n = int(input())\n",
    "\n",
    "for i in range(n) :\n",
    "    data = int(input())\n",
    "    heapq.heappush(q, data)\n",
    "\n",
    "result = 0\n",
    "for _ in range(n-1) :\n",
    "    a = heapq.heappop(q)\n",
    "    b = heapq.heappop(q)\n",
    "    result += a+b\n",
    "    heapq.heappush(q, a+b)\n",
    "    \n",
    "print(result)\n",
    "\n",
    "\n"
   ]
  },
  {
   "cell_type": "code",
   "execution_count": 9,
   "id": "2a820b5d-dca7-4fd9-bbd3-39dee062d771",
   "metadata": {},
   "outputs": [
    {
     "name": "stdin",
     "output_type": "stream",
     "text": [
      " 4\n",
      " 10\n",
      " 20\n",
      " 40\n",
      " 50\n"
     ]
    },
    {
     "name": "stdout",
     "output_type": "stream",
     "text": [
      "120\n"
     ]
    }
   ],
   "source": [
    "# 예시 답안\n",
    "import heapq\n",
    "\n",
    "n = int(input())\n",
    "\n",
    "heap = []\n",
    "for i in range(n) :\n",
    "    data = int(input())\n",
    "    heapq.heappush(heap, data)\n",
    "\n",
    "result = 0\n",
    "\n",
    "while len(heap) > 1 :\n",
    "    one = heapq.heappop(heap)\n",
    "    two = heapq.heappop(heap)\n",
    "    sum_value = one + two\n",
    "    result += sum_value\n",
    "    heapq.heappush(q, sum_value)\n",
    "\n",
    "print(result)"
   ]
  },
  {
   "cell_type": "code",
   "execution_count": null,
   "id": "76121df8-c668-440a-9d11-f1b91ffb5c12",
   "metadata": {},
   "outputs": [],
   "source": []
  }
 ],
 "metadata": {
  "kernelspec": {
   "display_name": "Python 3 (ipykernel)",
   "language": "python",
   "name": "python3"
  },
  "language_info": {
   "codemirror_mode": {
    "name": "ipython",
    "version": 3
   },
   "file_extension": ".py",
   "mimetype": "text/x-python",
   "name": "python",
   "nbconvert_exporter": "python",
   "pygments_lexer": "ipython3",
   "version": "3.9.18"
  },
  "widgets": {
   "application/vnd.jupyter.widget-state+json": {
    "state": {},
    "version_major": 2,
    "version_minor": 0
   }
  }
 },
 "nbformat": 4,
 "nbformat_minor": 5
}
