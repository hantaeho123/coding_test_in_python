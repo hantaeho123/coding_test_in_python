{
 "cells": [
  {
   "cell_type": "markdown",
   "id": "ab5a1162-9245-4f50-b7ee-4be2bb4f7921",
   "metadata": {
    "jp-MarkdownHeadingCollapsed": true
   },
   "source": [
    "# 41. 여행 계획"
   ]
  },
  {
   "cell_type": "code",
   "execution_count": 13,
   "id": "7fd4df27-4eae-43e9-8971-0c6841185bb0",
   "metadata": {},
   "outputs": [
    {
     "name": "stdin",
     "output_type": "stream",
     "text": [
      " 5 4\n",
      "  0 1 0 1 1\n",
      "  1 0 1 1 0\n",
      "  0 1 0 0 0\n",
      "  1 1 0 0  0\n",
      "  1 0 0 0 0\n",
      "  2 3 4 3\n"
     ]
    },
    {
     "name": "stdout",
     "output_type": "stream",
     "text": [
      "YES\n"
     ]
    }
   ],
   "source": [
    "# 유니온 파인드 \n",
    "def find_parent(parent, x) :\n",
    "    if parent[x] != x :\n",
    "        parent[x] = find_parent(parent, parent[x])\n",
    "    return parent[x]\n",
    "    \n",
    "\n",
    "def union_parent(parent, a, b) :\n",
    "    a = find_parent(parent, a)\n",
    "    b = find_parent(parent, b)\n",
    "    if a < b :\n",
    "        parent[b] = a\n",
    "    else :\n",
    "        parent[a] = b\n",
    "\n",
    "\n",
    "n, m = map(int, input().split())\n",
    "\n",
    "\n",
    "\n",
    "parent = [ i for i in range(n+1) ]\n",
    "data = []\n",
    "\n",
    "for _ in range(n) : \n",
    "    data.append(list(map(int, input().split())))\n",
    "\n",
    "\n",
    "\n",
    "for i in range(0, n-1) :\n",
    "    for j in range(i+1,n) :\n",
    "        if data[i][j] == 1 :\n",
    "            union_parent(parent, i+1, j+1)\n",
    "\n",
    "travel = list(map(int, input().split()))\n",
    "\n",
    "\n",
    "answer = True\n",
    "a = find_parent(parent, travel[0])\n",
    "for i in travel[1:] :\n",
    "    if a != find_parent(parent, i) :\n",
    "        answer = False \n",
    "        break\n",
    "\n",
    "\n",
    "if answer :\n",
    "    print(\"YES\")\n",
    "else :\n",
    "    print(\"NO\")\n"
   ]
  },
  {
   "cell_type": "code",
   "execution_count": 4,
   "id": "d5a8bf91-ee8d-4514-8606-eeff60446751",
   "metadata": {},
   "outputs": [
    {
     "data": {
      "text/plain": [
       "[[1, 0, 1, 1, 0],\n",
       " [0, 1, 0, 0, 0],\n",
       " [1, 1, 0, 0, 0],\n",
       " [1, 0, 0, 0, 0],\n",
       " [2, 3, 4, 3]]"
      ]
     },
     "execution_count": 4,
     "metadata": {},
     "output_type": "execute_result"
    }
   ],
   "source": [
    " 5 4\n",
    " 0 1 0 1 1\n",
    " 1 0 1 1 0\n",
    " 0 1 0 0 0\n",
    " 1 1 0 0  0\n",
    " 1 0 0 0 0\n",
    " 2 3 4 3"
   ]
  },
  {
   "cell_type": "code",
   "execution_count": 15,
   "id": "d0f2d0cc-b752-4342-99b0-3a7ed4328016",
   "metadata": {},
   "outputs": [
    {
     "data": {
      "text/plain": [
       "[1, 1, 1, 1, 1]"
      ]
     },
     "execution_count": 15,
     "metadata": {},
     "output_type": "execute_result"
    }
   ],
   "source": [
    "parent[1:]"
   ]
  },
  {
   "cell_type": "code",
   "execution_count": null,
   "id": "396c6b6e-5a59-407d-a441-df0c420b6112",
   "metadata": {},
   "outputs": [],
   "source": [
    "# 예시 답안\n",
    "def find_parent(parent, x) :\n",
    "    if parent[x] != x :\n",
    "        parent[x] = find_parent(parent, parent[x])\n",
    "    return parent[x]\n",
    "\n",
    "def union_parent(parent, a, b) :\n",
    "    a = union_parent(parent, a)\n",
    "    b = union_parent(parent, b)\n",
    "    if a < b :\n",
    "        parent[b] = a\n",
    "    else :\n",
    "        parent[a] = b\n",
    "\n",
    "\n",
    "n, m = map(int, input().split())\n",
    "parent = [0] * (n+1)\n",
    "\n",
    "for i in range(1, n+1) :\n",
    "    parent[i] = i\n",
    "\n",
    "for i in range(n) :\n",
    "    data = list(map(int, input().split()))\n",
    "    for j in range(n) :\n",
    "        if data[j] == 1 :\n",
    "            union_parent(parent, i+1, j+1)\n",
    "\n",
    "plan = list(map(int, input().split()))\n",
    "\n",
    "result = True\n",
    "            \n",
    "for i in range(m-1) :\n",
    "    if find_parent(parent, plan[i]) != find_parent(parent, plan[i+1]) :\n",
    "        result = False \n",
    "        break\n",
    "\n",
    "if result :\n",
    "    print(\"YES\")\n",
    "else :\n",
    "    print(\"NO\")\n"
   ]
  },
  {
   "cell_type": "markdown",
   "id": "dcd8f75f-ac24-4ef2-a600-22ceb0a73495",
   "metadata": {},
   "source": [
    "# 42. 탑승구"
   ]
  },
  {
   "cell_type": "code",
   "execution_count": null,
   "id": "71902793-2635-4e11-95d2-783d998ac887",
   "metadata": {},
   "outputs": [],
   "source": []
  },
  {
   "cell_type": "code",
   "execution_count": null,
   "id": "f363c035-80b5-405b-b517-89bcb4493e05",
   "metadata": {},
   "outputs": [],
   "source": []
  },
  {
   "cell_type": "code",
   "execution_count": null,
   "id": "0ccd345c-f02d-41ac-9362-6914f50ec394",
   "metadata": {},
   "outputs": [],
   "source": []
  },
  {
   "cell_type": "markdown",
   "id": "b833e968-c9e4-4244-8888-bc2765d2e20d",
   "metadata": {},
   "source": [
    "# 43. 어두운 길"
   ]
  },
  {
   "cell_type": "code",
   "execution_count": null,
   "id": "5728f122-f18e-4379-8362-15ad6d62ce16",
   "metadata": {},
   "outputs": [],
   "source": []
  },
  {
   "cell_type": "code",
   "execution_count": null,
   "id": "97be0732-6c52-4692-9a9c-1c161d34bd94",
   "metadata": {},
   "outputs": [],
   "source": []
  },
  {
   "cell_type": "code",
   "execution_count": null,
   "id": "066ed293-2323-4920-a7d6-5649ef072387",
   "metadata": {},
   "outputs": [],
   "source": []
  },
  {
   "cell_type": "markdown",
   "id": "3533c27a-396b-4c15-924b-c6eaa9c35521",
   "metadata": {},
   "source": [
    "# 44. 행성 터널"
   ]
  },
  {
   "cell_type": "code",
   "execution_count": null,
   "id": "7480131b-7077-44e0-8237-37662e6adbcc",
   "metadata": {},
   "outputs": [],
   "source": [
    "\n",
    "\n",
    "\n",
    "\n",
    "\n",
    "\n",
    "\n",
    "\n",
    "\n",
    "\n"
   ]
  },
  {
   "cell_type": "code",
   "execution_count": null,
   "id": "1701415b-fdf6-46b4-ae23-fddd6f6a5a81",
   "metadata": {},
   "outputs": [],
   "source": []
  },
  {
   "cell_type": "code",
   "execution_count": null,
   "id": "d220d539-7f2a-4a66-81f7-7ed1cdf4b68a",
   "metadata": {},
   "outputs": [],
   "source": []
  },
  {
   "cell_type": "markdown",
   "id": "d6f06050-4962-4233-967c-13c330573395",
   "metadata": {},
   "source": [
    "# 45. 최종 순위"
   ]
  },
  {
   "cell_type": "code",
   "execution_count": null,
   "id": "12e08c3a-263e-4683-a00d-6c3cf651f9c3",
   "metadata": {},
   "outputs": [],
   "source": []
  },
  {
   "cell_type": "code",
   "execution_count": null,
   "id": "50b217c6-2fbb-45b5-9fa2-4a52b67bd7f5",
   "metadata": {},
   "outputs": [],
   "source": []
  },
  {
   "cell_type": "code",
   "execution_count": null,
   "id": "e7d2f26b-1a04-4abf-bdc1-127bf661d952",
   "metadata": {},
   "outputs": [],
   "source": []
  }
 ],
 "metadata": {
  "kernelspec": {
   "display_name": "Python 3 (ipykernel)",
   "language": "python",
   "name": "python3"
  },
  "language_info": {
   "codemirror_mode": {
    "name": "ipython",
    "version": 3
   },
   "file_extension": ".py",
   "mimetype": "text/x-python",
   "name": "python",
   "nbconvert_exporter": "python",
   "pygments_lexer": "ipython3",
   "version": "3.9.18"
  },
  "widgets": {
   "application/vnd.jupyter.widget-state+json": {
    "state": {},
    "version_major": 2,
    "version_minor": 0
   }
  }
 },
 "nbformat": 4,
 "nbformat_minor": 5
}
