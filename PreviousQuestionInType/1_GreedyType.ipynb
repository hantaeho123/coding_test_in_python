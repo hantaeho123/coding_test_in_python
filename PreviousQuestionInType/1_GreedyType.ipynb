{
 "cells": [
  {
   "cell_type": "code",
   "execution_count": null,
   "id": "8389cd95-e39e-4602-8659-74e1656a1931",
   "metadata": {},
   "outputs": [],
   "source": []
  },
  {
   "cell_type": "markdown",
   "id": "924f142e-837a-4982-b4b7-d09ae4821a67",
   "metadata": {
    "jp-MarkdownHeadingCollapsed": true
   },
   "source": [
    "# 1. 모험가 길드"
   ]
  },
  {
   "cell_type": "code",
   "execution_count": 1,
   "id": "44d82d6d-506d-444c-a838-573afa63daf9",
   "metadata": {},
   "outputs": [
    {
     "name": "stdin",
     "output_type": "stream",
     "text": [
      " 5 \n",
      " 2 3 1 2 2\n"
     ]
    },
    {
     "name": "stdout",
     "output_type": "stream",
     "text": [
      "2\n"
     ]
    }
   ],
   "source": [
    "# 입력 받기\n",
    "N = int(input())\n",
    "people = list(map(int, input().split()))\n",
    "\n",
    "# 오름차순으로 정렬 \n",
    "people.sort()\n",
    "\n",
    "# 사용된 것들\n",
    "used = [False] * N\n",
    "\n",
    "# 그룹의 수\n",
    "group_count = 0  \n",
    "\n",
    "\n",
    "for i in range(N) :\n",
    "    if (not used[i]) :\n",
    "        count = 0\n",
    "        while i < N :\n",
    "            used[i] = True\n",
    "            group_fear = people[i]\n",
    "            count += 1\n",
    "            i += 1\n",
    "            if (group_fear <= count) :\n",
    "                group_count+=1\n",
    "                break\n",
    "                \n",
    "\n",
    "print(group_count)"
   ]
  },
  {
   "cell_type": "code",
   "execution_count": 1,
   "id": "ccde7c55-cff1-4a1f-a1e3-c077894ae0ca",
   "metadata": {},
   "outputs": [
    {
     "name": "stdin",
     "output_type": "stream",
     "text": [
      " 5\n",
      " 2 3 1 2 2\n"
     ]
    },
    {
     "name": "stdout",
     "output_type": "stream",
     "text": [
      "2\n"
     ]
    }
   ],
   "source": [
    "# 2025/07/08 직접\n",
    "n = map(int, input().split())\n",
    "\n",
    "array = list(map(int, input().split()))\n",
    "array.sort()\n",
    "\n",
    "count = 0 \n",
    "temp = 1\n",
    "for i in array :\n",
    "    if i <= temp :\n",
    "        count += 1\n",
    "        temp = 1\n",
    "    else :\n",
    "        temp += 1\n",
    "\n",
    "print(count)"
   ]
  },
  {
   "cell_type": "code",
   "execution_count": 2,
   "id": "3a14e401-7405-4320-9d71-6f9ca72be888",
   "metadata": {},
   "outputs": [
    {
     "name": "stdin",
     "output_type": "stream",
     "text": [
      " 5\n",
      " 2 3 1 2 2\n"
     ]
    },
    {
     "name": "stdout",
     "output_type": "stream",
     "text": [
      "2\n"
     ]
    }
   ],
   "source": [
    "# 예시 답안\n",
    "\n",
    "n = int(input())\n",
    "data = list(map(int, input().split()))\n",
    "data.sort()\n",
    "\n",
    "result = 0\n",
    "count = 0\n",
    "\n",
    "for i in data :\n",
    "    count += 1\n",
    "    if (count >= i) :\n",
    "        result += 1\n",
    "        count = 0\n",
    "        \n",
    "print(result)"
   ]
  },
  {
   "cell_type": "code",
   "execution_count": null,
   "id": "2aa84543-1bd7-4941-814b-5e9dfb8c4fbd",
   "metadata": {},
   "outputs": [],
   "source": []
  },
  {
   "cell_type": "markdown",
   "id": "7772a6c3-ab6f-4fca-bbc1-076b777df250",
   "metadata": {
    "jp-MarkdownHeadingCollapsed": true
   },
   "source": [
    "# 2. 곱하기 혹은 더하기"
   ]
  },
  {
   "cell_type": "code",
   "execution_count": 6,
   "id": "4b5434b3-6498-4c83-889e-cafcf3a77397",
   "metadata": {},
   "outputs": [
    {
     "name": "stdin",
     "output_type": "stream",
     "text": [
      " 567\n"
     ]
    },
    {
     "name": "stdout",
     "output_type": "stream",
     "text": [
      "210\n"
     ]
    }
   ],
   "source": [
    "# 입력 받고 정렬하기 \n",
    "numbers = list(map(int, list(input())))\n",
    "numbers.sort()\n",
    "\n",
    "output = 0\n",
    "\n",
    "for number in numbers :\n",
    "    if number == 0 :\n",
    "        continue\n",
    "    elif output == 0 or number == 1 :\n",
    "        output += number\n",
    "    else :\n",
    "        output *= number\n",
    "\n",
    "print(output)\n",
    "        \n",
    "\n",
    "######## 틀림 ㅠㅠㅠㅠㅠㅠㅠㅠㅠㅠ\n",
    "\n",
    "    \n"
   ]
  },
  {
   "cell_type": "code",
   "execution_count": 10,
   "id": "4c66c1d4-5683-4ebd-ab4d-a902ef0de40c",
   "metadata": {},
   "outputs": [
    {
     "name": "stdin",
     "output_type": "stream",
     "text": [
      " 02984\n"
     ]
    },
    {
     "name": "stdout",
     "output_type": "stream",
     "text": [
      "576\n"
     ]
    }
   ],
   "source": [
    "# 2025/07/08 직접\n",
    "# 틀림 ㄷㄷ result가 1일때 더하는 게 이득인데 이걸 고려 안함.\n",
    "numbers = input()\n",
    "result = 0\n",
    "for num in numbers :\n",
    "    num = int(num)\n",
    "    if num > 1 :\n",
    "        if result == 0 :\n",
    "            result += num\n",
    "        else :\n",
    "            result *= num\n",
    "    else :\n",
    "        result += num\n",
    "\n",
    "print(result)"
   ]
  },
  {
   "cell_type": "code",
   "execution_count": 10,
   "id": "4052d506-7d0d-4410-be35-4620d96bd0ca",
   "metadata": {},
   "outputs": [
    {
     "name": "stdin",
     "output_type": "stream",
     "text": [
      " 02984\n"
     ]
    },
    {
     "name": "stdout",
     "output_type": "stream",
     "text": [
      "576\n"
     ]
    }
   ],
   "source": [
    "# 예시 답안 \n",
    "data = input()\n",
    "\n",
    "result = int(data[0])\n",
    "\n",
    "for i in range(1, len(numbers)) :\n",
    "    num = int(data[i])\n",
    "    if (result <= 1 or int(num) <= 1) :\n",
    "        result += num\n",
    "    else :\n",
    "        result *= num\n",
    "\n",
    "print(result)\n",
    "    "
   ]
  },
  {
   "cell_type": "markdown",
   "id": "d10443b8-1fcb-43e6-b436-f215a8a3a539",
   "metadata": {
    "jp-MarkdownHeadingCollapsed": true
   },
   "source": [
    "# 3. 문자열 뒤집기"
   ]
  },
  {
   "cell_type": "code",
   "execution_count": 13,
   "id": "fa8f4b21-28c0-4f28-94ed-8d4548f4ae4d",
   "metadata": {},
   "outputs": [
    {
     "name": "stdin",
     "output_type": "stream",
     "text": [
      " 0011001100\n"
     ]
    },
    {
     "name": "stdout",
     "output_type": "stream",
     "text": [
      "2\n"
     ]
    }
   ],
   "source": [
    "data = input()\n",
    "\n",
    "count = 0\n",
    "for i in range(0, len(data)-1) :\n",
    "    if (data[i] != data[i+1]) :\n",
    "        count += 1\n",
    "\n",
    "print(count//2)   "
   ]
  },
  {
   "cell_type": "code",
   "execution_count": 12,
   "id": "61ac9537-3ab3-484e-9173-c4320146cf3f",
   "metadata": {},
   "outputs": [
    {
     "name": "stdin",
     "output_type": "stream",
     "text": [
      " 00101010101\n"
     ]
    },
    {
     "name": "stdout",
     "output_type": "stream",
     "text": [
      "5\n"
     ]
    }
   ],
   "source": [
    "# 2025/07/08 직접\n",
    "digits = input()\n",
    "\n",
    "count = 0\n",
    "for i in range(len(digits)-1) :\n",
    "    if digits[i] != digits[i+1] :\n",
    "        count+=1\n",
    "\n",
    "print((count+1)//2)"
   ]
  },
  {
   "cell_type": "code",
   "execution_count": 14,
   "id": "6fea3de2-8d4f-4339-9440-eb00419b0b7c",
   "metadata": {},
   "outputs": [
    {
     "name": "stdin",
     "output_type": "stream",
     "text": [
      " 0011000110\n"
     ]
    },
    {
     "name": "stdout",
     "output_type": "stream",
     "text": [
      "2\n"
     ]
    }
   ],
   "source": [
    "# 예시 답안 \n",
    "\n",
    "data = input()\n",
    "count0 =  0 # 전부 0으로 바꾸는 경우\n",
    "count1 =  1 # 전부 1으로 바꾸는 경우\n",
    "\n",
    "\n",
    "if data[1] == '1' :\n",
    "    count0 += 1\n",
    "else :\n",
    "    count1 += 1\n",
    "\n",
    "for i in range(len(data)-1) :\n",
    "    if (data[i] != data[i+1]) :\n",
    "        if (data[i+1]) :\n",
    "            count0 += 1\n",
    "        else :\n",
    "            count1 += 1\n",
    "\n",
    "\n",
    "print(min(count0, count1))"
   ]
  },
  {
   "cell_type": "code",
   "execution_count": null,
   "id": "54aa737f-474b-4cae-a454-2a24426856ad",
   "metadata": {},
   "outputs": [],
   "source": [
    "# 2025/07/08 직접\n",
    "n = int(input())\n",
    "coins = list(map(int, list(input())))\n",
    "\n",
    "\n"
   ]
  },
  {
   "cell_type": "markdown",
   "id": "0237a76d-8933-416f-b9c5-54731a5d9c6a",
   "metadata": {
    "jp-MarkdownHeadingCollapsed": true
   },
   "source": [
    "# 4. 만들 수 없는 금액"
   ]
  },
  {
   "cell_type": "code",
   "execution_count": null,
   "id": "e58dfda0-9184-4c99-9919-23015a668340",
   "metadata": {},
   "outputs": [],
   "source": [
    "\n",
    "\n",
    "\n",
    "\n",
    "\n",
    "\n",
    "\n",
    "\n",
    "\n",
    "\n",
    "\n",
    "\n",
    "\n",
    "\n",
    "\n",
    "\n",
    "\n",
    "\n",
    "\n"
   ]
  },
  {
   "cell_type": "code",
   "execution_count": 36,
   "id": "b8bc99d7-c3e0-44ec-9cad-65aad78a48e5",
   "metadata": {},
   "outputs": [
    {
     "name": "stdin",
     "output_type": "stream",
     "text": [
      " 5\n",
      " 3 2 1 1 9\n"
     ]
    },
    {
     "name": "stdout",
     "output_type": "stream",
     "text": [
      "8\n"
     ]
    }
   ],
   "source": [
    "# 잘 모르겠어서 그냥 brute force로 해버림ㅋㅋ \n",
    "N = int(input())\n",
    "currency = list(map(int, input().split() ))\n",
    "\n",
    "output = [0] * (2 ** 5)\n",
    "\n",
    "for i in range(len(output)) :\n",
    "    binary = bin(i)[2:]\n",
    "    binary = binary.zfill(N)\n",
    "    for j in range(N) :\n",
    "        expo = int(binary[j])\n",
    "        output[i] += currency[j] * expo\n",
    "    \n",
    "output.sort()\n",
    "\n",
    "for i in range(len(output) - 1) :\n",
    "    if (output[i+1] - output[i] > 1) :\n",
    "        print(output[i] + 1)\n",
    "        break\n",
    "\n"
   ]
  },
  {
   "cell_type": "code",
   "execution_count": 37,
   "id": "39ac2940-7e01-49ab-b6d7-cd61e86077c1",
   "metadata": {},
   "outputs": [],
   "source": [
    "# 예시 답안\n"
   ]
  },
  {
   "cell_type": "markdown",
   "id": "dcd20791-c3f3-4f29-8c31-68ae59531604",
   "metadata": {
    "jp-MarkdownHeadingCollapsed": true
   },
   "source": [
    "# 5. 볼링공 고르기 "
   ]
  },
  {
   "cell_type": "code",
   "execution_count": null,
   "id": "c09dd047-a4cf-4849-87cc-6bf6f015f37c",
   "metadata": {},
   "outputs": [],
   "source": []
  },
  {
   "cell_type": "code",
   "execution_count": 42,
   "id": "bf32eec7-b329-42c9-bddb-5a28f61d598a",
   "metadata": {},
   "outputs": [
    {
     "name": "stdin",
     "output_type": "stream",
     "text": [
      " 8 5\n",
      " 1 5 4 3 2 4 5 2\n"
     ]
    },
    {
     "name": "stdout",
     "output_type": "stream",
     "text": [
      "25\n"
     ]
    }
   ],
   "source": [
    "# 잘 모르겠어서 brute force로 해버림 \n",
    "N, M = map(int, input().split())\n",
    "\n",
    "data = list(map(int, input().split()))\n",
    "\n",
    "count = 0\n",
    "for i in range(N-1) :\n",
    "    for j in range(i+1, N) :\n",
    "        if (data[i] != data[j]) :\n",
    "            count+= 1\n",
    "print(count)"
   ]
  },
  {
   "cell_type": "code",
   "execution_count": null,
   "id": "29e00095-6e7a-453c-b2af-e59bb97aba7c",
   "metadata": {},
   "outputs": [],
   "source": [
    "# 예시 답안 \n",
    "\n"
   ]
  },
  {
   "cell_type": "code",
   "execution_count": null,
   "id": "6de99315-c9e5-4854-8056-3ad44166e2b5",
   "metadata": {},
   "outputs": [],
   "source": []
  },
  {
   "cell_type": "markdown",
   "id": "4f50820e-86af-44cf-bb87-5649e6b462b8",
   "metadata": {
    "jp-MarkdownHeadingCollapsed": true
   },
   "source": [
    "# 6. 무지의 먹방 라이브"
   ]
  },
  {
   "cell_type": "code",
   "execution_count": null,
   "id": "b7cc2159-00cf-4737-a720-d1f97a480358",
   "metadata": {},
   "outputs": [],
   "source": []
  },
  {
   "cell_type": "code",
   "execution_count": 4,
   "id": "94601e98-f95e-4258-b698-45316c6b03e1",
   "metadata": {},
   "outputs": [],
   "source": [
    "def solution(food_times, k):\n",
    "    answer = 0\n",
    "    n = len(food_times)\n",
    "    maximum = sum(food_times)\n",
    "    i=k\n",
    "    while i > 0 and maximum > 0:\n",
    "        maximum -= 1\n",
    "        if food_times[answer] >= 1 :\n",
    "            food_times[answer] -= 1\n",
    "            answer = (answer + 1) % n\n",
    "            i -= 1\n",
    "        else :\n",
    "            answer = (answer + 1) % n\n",
    "    if maximum == 0 :\n",
    "        answer = -1\n",
    "\n",
    "    return answer"
   ]
  },
  {
   "cell_type": "code",
   "execution_count": null,
   "id": "a25b248c-5be9-4d06-b295-09d1aad316ba",
   "metadata": {},
   "outputs": [],
   "source": [
    "# 예시 답안\n",
    "\n",
    "\n"
   ]
  },
  {
   "cell_type": "code",
   "execution_count": null,
   "id": "bce1beda-5504-48c7-8909-8e4844cfc569",
   "metadata": {},
   "outputs": [],
   "source": []
  },
  {
   "cell_type": "markdown",
   "id": "fc7db1fb-258b-4b00-b619-045fc277d15a",
   "metadata": {},
   "source": []
  },
  {
   "cell_type": "code",
   "execution_count": null,
   "id": "93560e5b-2af2-4734-a135-7bb9ead9bcd3",
   "metadata": {},
   "outputs": [],
   "source": []
  }
 ],
 "metadata": {
  "kernelspec": {
   "display_name": "Python 3 (ipykernel)",
   "language": "python",
   "name": "python3"
  },
  "language_info": {
   "codemirror_mode": {
    "name": "ipython",
    "version": 3
   },
   "file_extension": ".py",
   "mimetype": "text/x-python",
   "name": "python",
   "nbconvert_exporter": "python",
   "pygments_lexer": "ipython3",
   "version": "3.9.18"
  },
  "widgets": {
   "application/vnd.jupyter.widget-state+json": {
    "state": {},
    "version_major": 2,
    "version_minor": 0
   }
  }
 },
 "nbformat": 4,
 "nbformat_minor": 5
}
