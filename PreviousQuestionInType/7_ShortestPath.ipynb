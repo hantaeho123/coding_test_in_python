{
 "cells": [
  {
   "cell_type": "markdown",
   "id": "7127e0da-79fb-44f1-9921-1aef4365d66f",
   "metadata": {
    "jp-MarkdownHeadingCollapsed": true
   },
   "source": [
    "# 37. 플로이드"
   ]
  },
  {
   "cell_type": "code",
   "execution_count": 2,
   "id": "c4c11855-7ad9-4976-80b8-0fc2deacf331",
   "metadata": {},
   "outputs": [
    {
     "name": "stdin",
     "output_type": "stream",
     "text": [
      " 5 \n",
      " 14\n",
      " 1 2 2\n",
      " 1 3 3\n",
      " 1 4 1\n",
      " 1 5 10\n",
      " 2 4 2\n",
      " 3 4 1\n",
      " 3 5 1\n",
      " 4 5 3\n",
      " 3 5 10\n",
      " 3 1 8\n",
      " 1  4  2\n",
      " 5 1 7\n",
      " 3 4 2\n",
      " 5 2 4\n"
     ]
    },
    {
     "name": "stdout",
     "output_type": "stream",
     "text": [
      "0 2 3 1 4 \n",
      "12 0 15 2 5 \n",
      "8 5 0 1 1 \n",
      "10 7 13 0 3 \n",
      "7 4 10 6 0 \n"
     ]
    }
   ],
   "source": [
    "import sys\n",
    "# input = sys.stdio.readlinen \n",
    "INF = int(1e9)\n",
    "\n",
    "n = int(input())\n",
    "m = int(input())\n",
    "\n",
    "graph = [[INF] * (n+1) for _ in range(n+1)]\n",
    "\n",
    "for i in range(1,n+1) :\n",
    "    graph[i][i] = 0\n",
    "\n",
    "for i in range(m) :\n",
    "    x, y, money = map(int, input().split())\n",
    "    graph[x][y] = min(money, graph[x][y])\n",
    "\n",
    "for i in range(1, n+1) :\n",
    "    for x in range(1, n+1) :\n",
    "        for y in range(1, n+1) :\n",
    "            graph[x][y] = min(graph[x][y], graph[x][i] + graph[i][y])\n",
    "\n",
    "\n",
    "for i in range(1, n+1) :\n",
    "    for j in range(1, n+1) :\n",
    "        val = graph[i][j]\n",
    "        if val >= INF :\n",
    "            print(0, end=\" \")\n",
    "        else :\n",
    "            print(val, end=\" \")\n",
    "    print()\n",
    "\n",
    "\n",
    "\n"
   ]
  },
  {
   "cell_type": "code",
   "execution_count": 2,
   "id": "abd3d465-c579-4b46-a894-c41ae9aabd11",
   "metadata": {},
   "outputs": [
    {
     "name": "stdin",
     "output_type": "stream",
     "text": [
      " 5\n",
      " 14\n",
      " 1 2 2\n",
      " 1 3 3\n",
      " 1 4 1\n",
      " 1 5 10\n",
      " 2 4 2\n",
      " 3 4 1\n",
      " 3 5 1\n",
      " 4 5 3\n",
      " 3 5 10\n",
      " 3 1 8\n",
      " 1 4 2\n",
      " 5 1 7\n",
      " 3 4  2\n",
      " 5 2 4\n"
     ]
    },
    {
     "name": "stdout",
     "output_type": "stream",
     "text": [
      "0 2 3 1 4\n",
      "12 0 15 2 5\n",
      "8 5 0 1 1\n",
      "10 7 13 0 3\n",
      "7 4 10 6 0\n"
     ]
    }
   ],
   "source": [
    "# solving myself\n",
    "\n",
    "INF = int(1e9)\n",
    "\n",
    "n = int(input())\n",
    "m = int(input())\n",
    "\n",
    "graph = [[INF] * (n+1) for _ in range(n+1)]\n",
    "\n",
    "for i in range(n+1) :\n",
    "    graph[i][i] = 0\n",
    "\n",
    "\n",
    "for _ in range(m) :\n",
    "    a, b, c = map(int, input().split())\n",
    "    min_value = min(graph[a][b], c)\n",
    "    graph[a][b] = min_value\n",
    "\n",
    "\n",
    "\n",
    "for k in range(1, n+1) :\n",
    "    for i in range(1, n+1) :\n",
    "        for j in range(1, n+1) :\n",
    "            graph[i][j] = min(graph[i][j], graph[i][k] + graph[k][j])\n",
    "            \n",
    "\n",
    "for i in range(1, n+1) :\n",
    "    for j in range(1, n+1) :\n",
    "        if graph[i][j] >= INF :\n",
    "            graph[i][j] = 0\n",
    "\n",
    "for i in graph[1:] :\n",
    "    print(*i[1:])\n",
    "\n",
    "\n"
   ]
  },
  {
   "cell_type": "code",
   "execution_count": null,
   "id": "557aa239-e36b-40bf-96cb-bf2d778d5a7a",
   "metadata": {},
   "outputs": [],
   "source": [
    "# 예시 답안\n",
    "\n",
    "INF = int(1e9)\n",
    "\n",
    "n = int(input())\n",
    "m = int(input())\n",
    "\n",
    "graph = [[INF] * (n+1) for _ in range(n+1) ]\n",
    "\n",
    "\n",
    "for a in range(1, n+1) :\n",
    "    for b in range(1, n+1) :\n",
    "        if a== b :\n",
    "            graph[a][b] = 0\n",
    "\n",
    "for _ in range(m) :\n",
    "    a, b, c = map(int, input().split())\n",
    "    if c < graph[a][b] :\n",
    "        graph[a][b] = c\n",
    "\n",
    "\n",
    "for k in range(1, n+1) :\n",
    "    for a in range(1, n+1) :\n",
    "        for b in range(1, n+1) :\n",
    "            graph[a][b] = min(graph[a][b], graph[a][k] + graph[k][b])\n",
    "\n",
    "\n",
    "for a in range(1, n+1) :\n",
    "    for b in range(1, n+1) :\n",
    "        if graph[a][b] == INF :\n",
    "            print(0, end='')\n",
    "        else :\n",
    "            print(graph[a][b], end='')\n",
    "    print()"
   ]
  },
  {
   "cell_type": "code",
   "execution_count": null,
   "id": "17f5d843-df5a-4060-b91c-65161d9c66e7",
   "metadata": {},
   "outputs": [],
   "source": []
  },
  {
   "cell_type": "markdown",
   "id": "a4465f80-20b4-4467-b743-8c5f8482521e",
   "metadata": {
    "jp-MarkdownHeadingCollapsed": true
   },
   "source": [
    "# 38. 정확한 순위"
   ]
  },
  {
   "cell_type": "code",
   "execution_count": 12,
   "id": "497cccb8-7daf-4b2f-9845-16b74edd0870",
   "metadata": {},
   "outputs": [
    {
     "name": "stdin",
     "output_type": "stream",
     "text": [
      " 6  6\n",
      " 1 5\n",
      " 3 4\n",
      " 4 2\n",
      " 4 6\n",
      " 5 2\n",
      "  5 4\n"
     ]
    },
    {
     "name": "stdout",
     "output_type": "stream",
     "text": [
      "1\n"
     ]
    }
   ],
   "source": [
    "from collections import deque\n",
    "\n",
    "\n",
    "n, m = map(int, input().split())\n",
    "\n",
    "\n",
    "graph = [[] for _ in range(n+1)]\n",
    "\n",
    "\n",
    "for _ in range(m) :\n",
    "    a, b = map(int, input().split())\n",
    "    graph[a].append( (1, b))\n",
    "    graph[b].append((-1, a))\n",
    "\n",
    "\n",
    "result = 0\n",
    "\n",
    "\n",
    "for vertex in range(1, n+1) :\n",
    "    count = set()\n",
    "    q = deque()\n",
    "    q.append(vertex)\n",
    "    while q :\n",
    "        now = q.popleft()\n",
    "        count.add(now)\n",
    "        for i in graph[now] :\n",
    "            if i[0] == 1 :\n",
    "                q.append(i[1])\n",
    "        \n",
    "    q2 = deque()\n",
    "    q2.append(vertex) \n",
    "    while q2 :\n",
    "        now = q2.popleft()\n",
    "        count.add(now)\n",
    "        for i in graph[now] :\n",
    "            if i[0] == -1 :\n",
    "                q2.append(i[1])\n",
    "\n",
    "    if len(count) == n :\n",
    "        result += 1\n",
    "\n",
    "\n",
    "print(result)"
   ]
  },
  {
   "cell_type": "code",
   "execution_count": 16,
   "id": "e1ab6069-f92f-430c-bd38-195b7000db11",
   "metadata": {},
   "outputs": [
    {
     "name": "stdin",
     "output_type": "stream",
     "text": [
      " 6 6\n",
      " 1 5\n",
      " 3 4\n",
      " 4 2\n",
      " 4 6\n",
      " 5 2\n",
      " 5 4\n"
     ]
    },
    {
     "name": "stdout",
     "output_type": "stream",
     "text": [
      "1\n"
     ]
    }
   ],
   "source": [
    "# 보고 푼 거\n",
    "INF = int(1e9)\n",
    "\n",
    "\n",
    "n, m = map(int, input().split())\n",
    "\n",
    "\n",
    "graph = [[INF]*(n+1) for _ in range(n+1)]\n",
    "\n",
    "for i in range(1, n+1) :\n",
    "    graph[i][i] = 0\n",
    "\n",
    "for _ in range(m) :\n",
    "    a, b = map(int, input().split())\n",
    "    graph[a][b] = 1\n",
    "\n",
    "for k in range(1, n+1) :\n",
    "    for i in range(1, n+1) :\n",
    "        for j in range(1, n+1) :\n",
    "            graph[i][j] = min(graph[i][j], graph[i][k] + graph[k][j])\n",
    "\n",
    "result = 0\n",
    "\n",
    "for i in range(1, n+1) :\n",
    "    count = 0\n",
    "    for j in range(1, n+1) :\n",
    "        if graph[i][j] != INF or graph[j][i] != INF :\n",
    "            count += 1\n",
    "    if count == n :\n",
    "        result += 1\n",
    "\n",
    "print(result)\n",
    "\n",
    "\"\"\"\n",
    " 6 6\n",
    " 1 5\n",
    " 3 4\n",
    " 4 2\n",
    " 4 6\n",
    " 5 2\n",
    " 5 4\n",
    "\"\"\""
   ]
  },
  {
   "cell_type": "code",
   "execution_count": 15,
   "id": "890e0785-4f95-45bb-b44b-ed24d12dc393",
   "metadata": {},
   "outputs": [
    {
     "name": "stdin",
     "output_type": "stream",
     "text": [
      " 6 6\n",
      " 1 5\n",
      " 3 4\n",
      " 4 2\n",
      " 4 6\n",
      " 5 2\n",
      " 5 4\n"
     ]
    },
    {
     "name": "stdout",
     "output_type": "stream",
     "text": [
      "1\n"
     ]
    },
    {
     "data": {
      "text/plain": [
       "'\\n6 6\\n 1 5\\n 3 4\\n 4 2\\n 4 6\\n 5 2\\n 5 4\\n'"
      ]
     },
     "execution_count": 15,
     "metadata": {},
     "output_type": "execute_result"
    }
   ],
   "source": [
    "# 예시 답안\n",
    "\n",
    "INF = int(1e9)\n",
    "\n",
    "n, m = map(int, input().split())\n",
    "graph = [[INF] * (n+1) for _ in range(n+1)]\n",
    "\n",
    "for i in range(n+1) :\n",
    "    graph[i][i] = 0\n",
    "\n",
    "for _ in range(m) :\n",
    "    a, b = map(int, input().split())\n",
    "    graph[a][b] = 1\n",
    "\n",
    "for k in range(1, n+1) :\n",
    "    for i in range(1, n+1) :\n",
    "        for j in range(1, n+1) :\n",
    "            graph[i][j] = min(graph[i][j], graph[i][k] + graph[k][j])\n",
    "\n",
    "result = 0\n",
    "for i in range(1, n+1) :\n",
    "    count = 0 \n",
    "    for j in range(1, n+1) :\n",
    "        if graph[i][j] != INF or graph[j][i] != INF :\n",
    "            count += 1\n",
    "    if count == n :\n",
    "        result += 1\n",
    "        \n",
    "print(result)\n"
   ]
  },
  {
   "cell_type": "code",
   "execution_count": null,
   "id": "bb70a29f-2e6e-4e7a-a5fd-6308ff744333",
   "metadata": {},
   "outputs": [],
   "source": []
  },
  {
   "cell_type": "code",
   "execution_count": null,
   "id": "dbfd85d2-d674-4678-876f-9e9a8058634f",
   "metadata": {},
   "outputs": [],
   "source": []
  },
  {
   "cell_type": "markdown",
   "id": "c4346659-ed93-4f0e-b0e8-1fad765d426f",
   "metadata": {},
   "source": [
    "# 39. 화성 탐사"
   ]
  },
  {
   "cell_type": "code",
   "execution_count": 3,
   "id": "fdb655d4-bd40-4693-91af-f626e2707125",
   "metadata": {},
   "outputs": [
    {
     "name": "stdin",
     "output_type": "stream",
     "text": [
      " 1 \n",
      " 5\n",
      " 3 7 2 0 1\n",
      " 2 8 0 9 1\n",
      " 1 2 1 8 1\n",
      " 9 8 9 2 0\n",
      " 3 6 5  1 5\n"
     ]
    },
    {
     "name": "stdout",
     "output_type": "stream",
     "text": [
      "19\n"
     ]
    }
   ],
   "source": [
    "import heapq\n",
    "\n",
    "def mars_path(n) :\n",
    "    INF = int(1e9)\n",
    "\n",
    "    visited = [[INF] * (n) for _ in range(n)]\n",
    "\n",
    "    # INPUT DATA\n",
    "    graph = []\n",
    "    for _ in range(n) :\n",
    "        data = list(map(int, input().split()))\n",
    "        graph.append(data)\n",
    "    \n",
    "    # directions\n",
    "    directions = [(1,0), (0,1), (-1, 0), (0, -1)]\n",
    "    \n",
    "    # PROCESSING\n",
    "    q = []\n",
    "    visited[0][0] = graph[0][0]\n",
    "    heapq.heappush(q, (graph[0][0], 0, 0) )\n",
    "    while q :\n",
    "        cost, x, y = heapq.heappop(q)\n",
    "        if x == n-1 and y == n-1 :\n",
    "            break\n",
    "        for dx, dy in directions :\n",
    "            nx = x + dx\n",
    "            ny = y + dy\n",
    "            if not (0 <= nx < n and 0 <= ny < n) :\n",
    "                continue\n",
    "            if cost + graph[nx][ny] < visited[nx][ny] :\n",
    "                visited[nx][ny] = cost + graph[nx][ny]\n",
    "                heapq.heappush(q, (visited[nx][ny], nx, ny))\n",
    "                    \n",
    "    print(visited[n-1][n-1])\n",
    "    \n",
    "\n",
    "\n",
    "t = int(input())\n",
    "\n",
    "for i in range(t) :\n",
    "    n = int(input())\n",
    "    mars_path(n)"
   ]
  },
  {
   "cell_type": "code",
   "execution_count": 2,
   "id": "863990a2-f507-431f-b47c-14fd4aa842cc",
   "metadata": {},
   "outputs": [
    {
     "name": "stdin",
     "output_type": "stream",
     "text": [
      " 1\n",
      " 3\n",
      " 5 5 4\n",
      " 3 9 1\n",
      " 3 2  7\n"
     ]
    },
    {
     "name": "stdout",
     "output_type": "stream",
     "text": [
      "20\n"
     ]
    }
   ],
   "source": [
    "# 예시 답안\n",
    "\n",
    "import heapq\n",
    "import sys\n",
    "\n",
    "#input = sys.stdin.readline\n",
    "INF = int(1e9)\n",
    "\n",
    "dx = [-1, 0, 1, 0]\n",
    "dy = [0, 1, 0, -1]\n",
    "\n",
    "\n",
    "for tc in range(int(input())) :\n",
    "    n = int(input())\n",
    "\n",
    "    graph = []\n",
    "    for i in range(n) :\n",
    "        graph.append(list(map(int, input().split())))\n",
    "\n",
    "    distance = [[INF] * n for _ in range(n)]\n",
    "\n",
    "    x, y = 0, 0 \n",
    "    q = [(graph[x][y], x, y)]\n",
    "    distance[x][y] = graph[x][y]\n",
    "\n",
    "    while q :\n",
    "        dist, x, y = heapq.heappop(q)\n",
    "        if distance[x][y] < dist :\n",
    "            continue\n",
    "        for i in range(4) :\n",
    "            nx = x + dx[i]\n",
    "            ny = y + dy[i]\n",
    "            if nx < 0 or nx >= n or ny < 0 or ny >= n :\n",
    "                continue\n",
    "            cost = dist + graph[nx][ny]\n",
    "            if cost < distance[nx][ny] :\n",
    "                distance[nx][ny] = cost\n",
    "                heapq.heappush(q, (cost, nx, ny))\n",
    "                \n",
    "            \n",
    "    print(distance[n-1][n-1])\n"
   ]
  },
  {
   "cell_type": "code",
   "execution_count": null,
   "id": "f31018c6-935e-4561-9793-fbc6771ee0d2",
   "metadata": {},
   "outputs": [],
   "source": []
  },
  {
   "cell_type": "code",
   "execution_count": null,
   "id": "31349725-c824-4799-92f6-f7381342ba81",
   "metadata": {},
   "outputs": [],
   "source": []
  },
  {
   "cell_type": "code",
   "execution_count": null,
   "id": "7e89ad09-0d71-4ede-b67c-ecf3eb3c1ad0",
   "metadata": {},
   "outputs": [],
   "source": []
  },
  {
   "cell_type": "code",
   "execution_count": null,
   "id": "96f64c2d-8473-44e6-a4af-22e9d4c22dea",
   "metadata": {},
   "outputs": [],
   "source": []
  },
  {
   "cell_type": "markdown",
   "id": "b8b00fa6-2e49-46b1-921f-a6197fb6ac9f",
   "metadata": {
    "jp-MarkdownHeadingCollapsed": true
   },
   "source": [
    "# 40. 숨바꼭질"
   ]
  },
  {
   "cell_type": "code",
   "execution_count": 14,
   "id": "d1de8e55-7965-43ae-a80c-97fab175e902",
   "metadata": {},
   "outputs": [
    {
     "name": "stdin",
     "output_type": "stream",
     "text": [
      " 6 7\n",
      " 3 6\n",
      " 4 3\n",
      " 3 2\n",
      " 1 3\n",
      " 1 2\n",
      " 2 4\n",
      " 5 2\n"
     ]
    },
    {
     "name": "stdout",
     "output_type": "stream",
     "text": [
      "4 2 3\n"
     ]
    }
   ],
   "source": [
    "import heapq\n",
    "INF = int(1e9)\n",
    "n, m = map(int, input().split())\n",
    "\n",
    "distance = [INF] * (n+1)\n",
    "distance[1] = 0\n",
    "graph = [[] for _ in range(n+1)]\n",
    "\n",
    "for i in range(m) :\n",
    "    a, b = map(int, input().split())\n",
    "    graph[a].append(b)\n",
    "    graph[b].append(a)\n",
    "\n",
    "\n",
    "for i in graph[1] :\n",
    "    distance[i] += 1\n",
    "\n",
    "q = []\n",
    "heapq.heappush(q, (0, 1))\n",
    "while q :\n",
    "    dist, now = heapq.heappop(q)\n",
    "    for i in graph[now] :\n",
    "        if dist + 1 <= distance[i] :\n",
    "            distance[i] = dist+1\n",
    "            heapq.heappush(q, (distance[i], i))\n",
    "\n",
    "\n",
    "number = 0\n",
    "max_distance = 0\n",
    "count = 0\n",
    "for i in range(1, n+1) :\n",
    "    if INF > distance[i] > max_distance :\n",
    "        number = i\n",
    "        count = 1\n",
    "        max_distance = distance[i]\n",
    "    elif distance[i] == max_distance :\n",
    "        count += 1\n",
    "        \n",
    "    \n",
    "\n",
    "print(number, max_distance, count)"
   ]
  },
  {
   "cell_type": "code",
   "execution_count": 17,
   "id": "e1e85c1c-2cf6-45c7-982d-b745238b31ad",
   "metadata": {},
   "outputs": [
    {
     "data": {
      "text/plain": [
       "[0, 1, 1, 2, 2, 2]"
      ]
     },
     "execution_count": 17,
     "metadata": {},
     "output_type": "execute_result"
    }
   ],
   "source": [
    "distance[1:]"
   ]
  },
  {
   "cell_type": "code",
   "execution_count": 26,
   "id": "17e42530-0f24-4376-b916-6675ff2cfdf7",
   "metadata": {},
   "outputs": [
    {
     "name": "stdin",
     "output_type": "stream",
     "text": [
      " 6 7\n",
      " 3 6\n",
      "  4 3\n",
      " 3 2\n",
      " 1 3\n",
      " 1 2\n",
      " 2 4\n",
      " 5 2\n"
     ]
    },
    {
     "name": "stdout",
     "output_type": "stream",
     "text": [
      "4 2 3\n"
     ]
    }
   ],
   "source": [
    "# BFS version\n",
    "\n",
    "from collections import deque\n",
    "INF = int(1e9)\n",
    "n, m = map(int, input().split())\n",
    "\n",
    "distance = [INF] * (n+1)\n",
    "\n",
    "graph = [[] for _ in range(n+1)]\n",
    "\n",
    "for i in range(m) :\n",
    "    a, b = map(int, input().split())\n",
    "    graph[a].append(b)\n",
    "    graph[b].append(a)\n",
    "\n",
    "distance[1] = 0\n",
    "q = deque()\n",
    "q.append((0, 1))\n",
    "while q :\n",
    "    dist, now = q.popleft()\n",
    "    for i in graph[now] :\n",
    "        if distance[i] == INF :\n",
    "            distance[i] = dist + 1\n",
    "            q.append((distance[i], i))\n",
    "\n",
    "\n",
    "number = 0\n",
    "max_distance = 0\n",
    "count = 0\n",
    "for i in range(1, n+1) :\n",
    "    if INF > distance[i] > max_distance :\n",
    "        number = i\n",
    "        count = 1\n",
    "        max_distance = distance[i]\n",
    "    elif distance[i] == max_distance :\n",
    "        count += 1\n",
    "        \n",
    "    \n",
    "\n",
    "print(number, max_distance, count)"
   ]
  },
  {
   "cell_type": "code",
   "execution_count": 25,
   "id": "a28f94fe-9968-4a7e-9de1-7d19b5b451f9",
   "metadata": {},
   "outputs": [
    {
     "data": {
      "text/plain": [
       "[0, 1, 1, 2, 2, 2]"
      ]
     },
     "execution_count": 25,
     "metadata": {},
     "output_type": "execute_result"
    }
   ],
   "source": [
    "distance[1:]"
   ]
  },
  {
   "cell_type": "code",
   "execution_count": null,
   "id": "1bb5826c-5019-4760-a9bb-0a3202f4c847",
   "metadata": {},
   "outputs": [],
   "source": [
    "# 예시 답안\n",
    "\n",
    "import heapq\n",
    "import sys\n",
    "input = sys.stdin.readline\n",
    "INF = int(1e9)\n",
    "\n",
    "n, m = map(int, input().split())\n",
    "\n",
    "start = 1\n",
    "\n",
    "graph = [[] for i in range(n+1)]\n",
    "\n",
    "distance = [INF] * (n+1)\n",
    "\n",
    "for _ in range(m) :\n",
    "    a, b = map(int, input().split())\n",
    "    graph[a].append((b, 1))\n",
    "    graph[b].append((a, 1))\n",
    "\n",
    "def dijkstra(start) :\n",
    "    q = []\n",
    "    heapq.heappush(q, (0, start))\n",
    "    distance[start] = 0\n",
    "    while q :\n",
    "        dist, now = heapq.heappop(q)\n",
    "        if distance[now] < dist :\n",
    "            continue\n",
    "        for i in graph[now] :\n",
    "            cost = dist + i[1] \n",
    "            if cost < distance[i[0]] :\n",
    "                distance[i[0]] = cost\n",
    "                heapq.heappush(q, (cost, i[0]))"
   ]
  },
  {
   "cell_type": "code",
   "execution_count": null,
   "id": "8cb5ba22-789d-4a88-97e0-e7a847ac1ccf",
   "metadata": {},
   "outputs": [],
   "source": []
  },
  {
   "cell_type": "code",
   "execution_count": null,
   "id": "e720adf3-f646-48a9-bf97-ce63545d5eae",
   "metadata": {},
   "outputs": [],
   "source": []
  },
  {
   "cell_type": "code",
   "execution_count": null,
   "id": "f593c9a6-ffc0-4b7e-8e1c-c14e2e12c028",
   "metadata": {},
   "outputs": [],
   "source": []
  }
 ],
 "metadata": {
  "kernelspec": {
   "display_name": "Python 3 (ipykernel)",
   "language": "python",
   "name": "python3"
  },
  "language_info": {
   "codemirror_mode": {
    "name": "ipython",
    "version": 3
   },
   "file_extension": ".py",
   "mimetype": "text/x-python",
   "name": "python",
   "nbconvert_exporter": "python",
   "pygments_lexer": "ipython3",
   "version": "3.9.18"
  },
  "widgets": {
   "application/vnd.jupyter.widget-state+json": {
    "state": {},
    "version_major": 2,
    "version_minor": 0
   }
  }
 },
 "nbformat": 4,
 "nbformat_minor": 5
}
