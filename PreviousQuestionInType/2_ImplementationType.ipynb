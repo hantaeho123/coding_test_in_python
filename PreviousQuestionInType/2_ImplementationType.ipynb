{
 "cells": [
  {
   "cell_type": "code",
   "execution_count": null,
   "id": "9be2125a-44e0-44a7-90ef-fd43ec99390e",
   "metadata": {},
   "outputs": [],
   "source": []
  },
  {
   "cell_type": "markdown",
   "id": "7ee86ff6-145e-4ec7-b7b1-b75de7959c28",
   "metadata": {
    "jp-MarkdownHeadingCollapsed": true
   },
   "source": [
    "# 7.  럭키 스트레이트 "
   ]
  },
  {
   "cell_type": "code",
   "execution_count": 2,
   "id": "5150416f-8cb5-4952-9866-2a1fba52c887",
   "metadata": {},
   "outputs": [
    {
     "name": "stdin",
     "output_type": "stream",
     "text": [
      " 7755\n"
     ]
    },
    {
     "name": "stdout",
     "output_type": "stream",
     "text": [
      "READY\n"
     ]
    }
   ],
   "source": [
    "data = input()\n",
    "left = 0\n",
    "right = 0\n",
    "mid = (len(data) + 1) // 2\n",
    "for i in range(mid) :\n",
    "    left += int(data[i])\n",
    "    \n",
    "for i in range(mid) :\n",
    "    right += int(data[i + mid])\n",
    "\n",
    "if (left == right) :\n",
    "    print(\"LUCKY\")\n",
    "else :\n",
    "    print(\"READY\")"
   ]
  },
  {
   "cell_type": "code",
   "execution_count": 14,
   "id": "c7a6cb7d-25c6-42a7-a760-07e2ced1ccdd",
   "metadata": {},
   "outputs": [
    {
     "name": "stdin",
     "output_type": "stream",
     "text": [
      " 123402\n"
     ]
    },
    {
     "name": "stdout",
     "output_type": "stream",
     "text": [
      "LUCKY\n"
     ]
    }
   ],
   "source": [
    "# 2025/07/09\n",
    "data = input()\n",
    "\n",
    "summation = 0\n",
    "\n",
    "for i in range(len(data)//2) :\n",
    "    summation += int(data[i])\n",
    "\n",
    "for j in range(len(data)//2, len(data)) :\n",
    "    summation -= int(data[j])\n",
    "\n",
    "if summation == 0 :\n",
    "    print(\"LUCKY\")\n",
    "else :\n",
    "    print(\"READY\")"
   ]
  },
  {
   "cell_type": "code",
   "execution_count": null,
   "id": "64b38138-45ec-4828-9318-74f5a8fd8535",
   "metadata": {},
   "outputs": [],
   "source": [
    "# 예시 답안\n",
    "\n",
    "n = input()\n",
    "length = len(n)\n",
    "summary = 0\n",
    "\n",
    "for i in range(length // 2) :\n",
    "    summary += int(n[i])\n",
    "\n",
    "for i in range(length//2, length) :\n",
    "    summary -= int(n[i])\n",
    "\n",
    "if summary == 0 :\n",
    "    print(\"LUCKY\")\n",
    "else :\n",
    "    print(\"READY\")\n"
   ]
  },
  {
   "cell_type": "code",
   "execution_count": null,
   "id": "41977f54-28d4-45f6-bc71-7865f184ee3d",
   "metadata": {},
   "outputs": [],
   "source": []
  },
  {
   "cell_type": "markdown",
   "id": "15eece9b-cc5b-4fc4-9bf7-d98cd8e81de7",
   "metadata": {
    "jp-MarkdownHeadingCollapsed": true
   },
   "source": [
    "# 8. 문자열 재정렬"
   ]
  },
  {
   "cell_type": "code",
   "execution_count": 13,
   "id": "f7cf46a3-7bed-4b03-b916-cd4bf14e1bcd",
   "metadata": {},
   "outputs": [
    {
     "name": "stdin",
     "output_type": "stream",
     "text": [
      " K1KA5CB7\n"
     ]
    },
    {
     "name": "stdout",
     "output_type": "stream",
     "text": [
      "ABCKK13\n"
     ]
    }
   ],
   "source": [
    "data = input()\n",
    "output = []\n",
    "numbers = 0\n",
    "\n",
    "for val in data :\n",
    "    if val in \"0123456789\" :\n",
    "        numbers += int(val)\n",
    "    else :\n",
    "        output.append(val)\n",
    "\n",
    "output.sort()\n",
    "for i in output :\n",
    "    print(i,end=\"\")\n",
    "print(numbers)\n",
    "    "
   ]
  },
  {
   "cell_type": "code",
   "execution_count": 17,
   "id": "a4ef94aa-9b44-45c4-a5e4-96dfe2961eea",
   "metadata": {},
   "outputs": [
    {
     "name": "stdin",
     "output_type": "stream",
     "text": [
      " K1KA5CB7\n"
     ]
    },
    {
     "name": "stdout",
     "output_type": "stream",
     "text": [
      "KKACB13\n"
     ]
    }
   ],
   "source": [
    "# 2025/07/09\n",
    "\n",
    "data = input()\n",
    "alpha = []\n",
    "summation = 0\n",
    "\n",
    "for i in data :\n",
    "    if i in \"0123456789\" :\n",
    "        summation += int(i)\n",
    "    else :\n",
    "        alpha.append(i)\n",
    "alpha.sort()\n",
    "print(\"\".join(alpha), summation, sep=\"\")\n"
   ]
  },
  {
   "cell_type": "code",
   "execution_count": 15,
   "id": "0700cb68-dcd4-431c-bcae-b2d49bffaf7f",
   "metadata": {},
   "outputs": [
    {
     "name": "stdin",
     "output_type": "stream",
     "text": [
      " K1KA5CB7\n"
     ]
    },
    {
     "name": "stdout",
     "output_type": "stream",
     "text": [
      "ABCKK13\n"
     ]
    }
   ],
   "source": [
    "# 예시 답안\n",
    "\n",
    "data = input()\n",
    "result = []\n",
    "value = 0\n",
    "\n",
    "for x in data :\n",
    "    if x.isalpha() :\n",
    "        result.append(x)\n",
    "    else :\n",
    "        value += int(x)\n",
    "\n",
    "result.sort()\n",
    "\n",
    "if value != 0 :\n",
    "    result.append(str(value))\n",
    "\n",
    "print(''.join(result))"
   ]
  },
  {
   "cell_type": "code",
   "execution_count": null,
   "id": "ea97a6e2-6e8e-4acc-aed5-054baedd1616",
   "metadata": {},
   "outputs": [],
   "source": []
  },
  {
   "cell_type": "code",
   "execution_count": null,
   "id": "8229db27-b65a-45ce-91b5-3ed6f51670d4",
   "metadata": {},
   "outputs": [],
   "source": []
  },
  {
   "cell_type": "markdown",
   "id": "d24df16c-2f2b-4057-972a-a159d259abf6",
   "metadata": {},
   "source": [
    "# 9. 문자열 압축"
   ]
  },
  {
   "cell_type": "code",
   "execution_count": null,
   "id": "75f41d9b-031a-434d-937e-ecebdb8ec7b4",
   "metadata": {},
   "outputs": [],
   "source": [
    "def solution(s):\n",
    "    answer = 0\n",
    "    return answer"
   ]
  },
  {
   "cell_type": "code",
   "execution_count": null,
   "id": "808159f9-66d5-4cac-81f3-f55c7d62ce8a",
   "metadata": {},
   "outputs": [],
   "source": []
  },
  {
   "cell_type": "markdown",
   "id": "4d8d8e66-946a-4041-8092-d2a362338c07",
   "metadata": {},
   "source": [
    "# 10. 자물쇠와 열쇠"
   ]
  },
  {
   "cell_type": "code",
   "execution_count": null,
   "id": "95855209-0918-4584-8cdd-162251299b9d",
   "metadata": {},
   "outputs": [],
   "source": []
  },
  {
   "cell_type": "code",
   "execution_count": null,
   "id": "4b058943-4a05-4c9c-b94a-dd578f3476b0",
   "metadata": {},
   "outputs": [],
   "source": []
  },
  {
   "cell_type": "markdown",
   "id": "7b2ce62d-589f-4a68-b9d7-24e2aaa657a7",
   "metadata": {},
   "source": [
    "# 11 . 뱀"
   ]
  },
  {
   "cell_type": "code",
   "execution_count": null,
   "id": "bb270a81-c2f1-4ee8-ac79-0de4419acaa6",
   "metadata": {},
   "outputs": [],
   "source": []
  },
  {
   "cell_type": "code",
   "execution_count": null,
   "id": "3daa501c-d742-4191-9b95-a9181f57a19f",
   "metadata": {},
   "outputs": [],
   "source": []
  },
  {
   "cell_type": "markdown",
   "id": "09edf5d9-6369-4755-bc44-293b62c86555",
   "metadata": {},
   "source": [
    "# 12. 기둥과 보 설치"
   ]
  },
  {
   "cell_type": "code",
   "execution_count": null,
   "id": "70ef0a82-13ef-4400-93bf-f6925d786867",
   "metadata": {},
   "outputs": [],
   "source": []
  },
  {
   "cell_type": "code",
   "execution_count": null,
   "id": "dcd31a50-8268-4601-912c-b6777bd29ffb",
   "metadata": {},
   "outputs": [],
   "source": []
  },
  {
   "cell_type": "markdown",
   "id": "90af64e0-862d-4492-b4d7-a8b6354c0b1a",
   "metadata": {},
   "source": [
    "# 13. 치킨 배달"
   ]
  },
  {
   "cell_type": "code",
   "execution_count": null,
   "id": "9ab51e81-9e91-4458-8001-5c32148fe232",
   "metadata": {},
   "outputs": [],
   "source": []
  },
  {
   "cell_type": "code",
   "execution_count": null,
   "id": "2fc38a1b-3962-4a58-89ef-92403991d3df",
   "metadata": {},
   "outputs": [],
   "source": []
  },
  {
   "cell_type": "markdown",
   "id": "dfdfcd11-96e3-4e90-a1b1-8b18b392e1b6",
   "metadata": {},
   "source": [
    "# 14. 외벽 점검"
   ]
  },
  {
   "cell_type": "code",
   "execution_count": null,
   "id": "d451eebb-8884-4fbf-a484-9cdb2fbdddda",
   "metadata": {},
   "outputs": [],
   "source": []
  },
  {
   "cell_type": "code",
   "execution_count": null,
   "id": "675691cd-01ce-4a34-aade-c30976cecf6a",
   "metadata": {},
   "outputs": [],
   "source": []
  },
  {
   "cell_type": "code",
   "execution_count": null,
   "id": "7136af90-f7bb-498e-a927-dd6c7ac27aec",
   "metadata": {},
   "outputs": [],
   "source": []
  }
 ],
 "metadata": {
  "kernelspec": {
   "display_name": "Python 3 (ipykernel)",
   "language": "python",
   "name": "python3"
  },
  "language_info": {
   "codemirror_mode": {
    "name": "ipython",
    "version": 3
   },
   "file_extension": ".py",
   "mimetype": "text/x-python",
   "name": "python",
   "nbconvert_exporter": "python",
   "pygments_lexer": "ipython3",
   "version": "3.9.18"
  },
  "widgets": {
   "application/vnd.jupyter.widget-state+json": {
    "state": {},
    "version_major": 2,
    "version_minor": 0
   }
  }
 },
 "nbformat": 4,
 "nbformat_minor": 5
}
