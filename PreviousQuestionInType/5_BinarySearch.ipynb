{
 "cells": [
  {
   "cell_type": "markdown",
   "id": "f660fce1-b933-4962-bebd-0828f7ac896f",
   "metadata": {
    "jp-MarkdownHeadingCollapsed": true
   },
   "source": [
    "# 27. 정렬된 배열에서 특정 수의 개수 구하기"
   ]
  },
  {
   "cell_type": "code",
   "execution_count": 5,
   "id": "604eb963-d802-4a78-80aa-e812cf884206",
   "metadata": {},
   "outputs": [
    {
     "name": "stdin",
     "output_type": "stream",
     "text": [
      " 7 4\n",
      " 1 1 2 2 2 2 3\n"
     ]
    },
    {
     "name": "stdout",
     "output_type": "stream",
     "text": [
      "-1\n"
     ]
    }
   ],
   "source": [
    "# myself\n",
    "# 이진 분류 후에 양옆을 확인 \n",
    "n, x = map(int, input().split())\n",
    "\n",
    "sequence = list(map(int, input().split()))\n",
    "\n",
    "\n",
    "start = 0\n",
    "end = n-1 \n",
    "count = -1\n",
    "\n",
    "while start <= end :\n",
    "    mid = (start + end) // 2\n",
    "    if sequence[mid] == x :\n",
    "\n",
    "        for i in range(mid, start-1, -1) :\n",
    "            if sequence[i] == x :\n",
    "                count+=1\n",
    "            else :\n",
    "                break\n",
    "            \n",
    "        for i in range(mid,end+1) :\n",
    "            if sequence[i] == x :\n",
    "                count += 1\n",
    "            else :\n",
    "                break\n",
    "        break\n",
    "    elif sequence[mid] > x :\n",
    "        end = mid -1\n",
    "    else :\n",
    "        start = mid + 1\n",
    "\n",
    "\n",
    "print(count)"
   ]
  },
  {
   "cell_type": "code",
   "execution_count": 6,
   "id": "30b2b115-bde1-487e-baae-18fb1f9cd013",
   "metadata": {},
   "outputs": [
    {
     "name": "stdin",
     "output_type": "stream",
     "text": [
      " 7 2\n",
      " 1 1 2 2 2 2 3\n"
     ]
    },
    {
     "name": "stdout",
     "output_type": "stream",
     "text": [
      "4\n"
     ]
    }
   ],
   "source": [
    "# 가장 왼쪽에서의 x값 가장 오른쪽에서의 x값을 구하기\n",
    "# 예시 답안을 보고 풀어봄 \n",
    "n, x = map(int, input().split())\n",
    "\n",
    "numbers = list(map(int, input().split()))\n",
    "\n",
    "first = -1\n",
    "second = -3\n",
    "\n",
    "\n",
    "# 왼쪽 값\n",
    "start = 0\n",
    "end = n-1\n",
    "while start<=end :\n",
    "    mid = (start + end) // 2\n",
    "    if (numbers[mid] == x) and (mid == 0 or numbers[mid - 1] < x) :\n",
    "        first = mid\n",
    "        break\n",
    "    elif numbers[mid] >= x :\n",
    "        end = mid - 1\n",
    "    else :\n",
    "        start = mid + 1\n",
    "\n",
    "\n",
    "# 오른쪽 값\n",
    "start2 = 0\n",
    "end2 = n-1\n",
    "while start2 <= end2 :\n",
    "    mid = (start2 + end2) // 2\n",
    "    if (numbers[mid] == x) and (mid == n-1 or numbers[mid + 1] > x) :\n",
    "        second = mid\n",
    "        break\n",
    "    elif numbers[mid] > x :\n",
    "        end2 = mid - 1\n",
    "    else :\n",
    "        start2 = mid + 1\n",
    "\n",
    "\n",
    "\n",
    "print(second - first + 1)\n",
    "        \n",
    "    \n",
    "\n"
   ]
  },
  {
   "cell_type": "code",
   "execution_count": null,
   "id": "abefc04a-8b2d-4366-8a5c-c072971b1d03",
   "metadata": {},
   "outputs": [],
   "source": [
    "# 예시 답안\n",
    "\n",
    "def count_by_value(array, x) :\n",
    "    n = len(array)\n",
    "    a = first(array, x, 0, n-1)\n",
    "    if a == None :\n",
    "        return 0\n",
    "    b = last(array, x, 0, n-1)\n",
    "\n",
    "    return b - a + 1\n",
    "\n",
    "def first(array, target, start, end) :\n",
    "    if start > end :\n",
    "        return None \n",
    "    mid = (start + end) // 2\n",
    "    if (mid == 0 or target > array[mid-1]) and array[mid] == target :\n",
    "        return mid\n",
    "    elif array[mid] >= target :\n",
    "        return first(array, target, start, mid-1)\n",
    "    else :\n",
    "        return first(array, target, mid+1, end)\n",
    "\n",
    "def last(array, target, start, end) :\n",
    "    if start > end :\n",
    "        return None\n",
    "    mid = (start + end)//2\n",
    "    if (mid == n-1 or target < array[mid+1]) and array[mid] == target :\n",
    "        return mid\n",
    "    elif array[mid] > target :\n",
    "        return last(array, target, start, mid-1)\n",
    "    else :\n",
    "        return last(array, target, mid+1, end)\n",
    "    \n",
    "\n",
    "n, x = map(int, input().split())\n",
    "array = list(map(int, input().split()))\n",
    "\n",
    "count = count_by_range(array, x, x)\n",
    "\n",
    "if count == 0 :\n",
    "    print(-1)\n",
    "else :\n",
    "    print(count)\n",
    "\n"
   ]
  },
  {
   "cell_type": "code",
   "execution_count": null,
   "id": "dda5e8f0-1b7c-4151-af85-5bdcd878fb6e",
   "metadata": {},
   "outputs": [],
   "source": [
    "# 예시 답안\n",
    "\n",
    "from bisect import bisect_left, bisect_right\n",
    "\n",
    "def count_by_range(array, left_value, right_value) :\n",
    "    right_index = bisect_right(array, right_value)\n",
    "    left_index = bisext_left(array, left_value) \n",
    "    return right_index - left_index \n",
    "\n",
    "n, x = map(int, input().split())\n",
    "array = list(map(int, input().split()))\n",
    "\n",
    "count = count_by_range(array, x, x)\n",
    "\n",
    "if count == 0 :\n",
    "    print(-1)\n",
    "else :\n",
    "    print(count)"
   ]
  },
  {
   "cell_type": "markdown",
   "id": "a941c04a-a0ac-4a2e-b99a-66733fff8707",
   "metadata": {
    "jp-MarkdownHeadingCollapsed": true
   },
   "source": [
    "# 28. 고정점 찾기"
   ]
  },
  {
   "cell_type": "code",
   "execution_count": 2,
   "id": "1430fee1-b906-4172-94a2-8f5955053a2a",
   "metadata": {},
   "outputs": [
    {
     "name": "stdin",
     "output_type": "stream",
     "text": [
      " 5\n",
      " -15 -6 1 3 7\n"
     ]
    },
    {
     "name": "stdout",
     "output_type": "stream",
     "text": [
      "3\n"
     ]
    }
   ],
   "source": [
    "\n",
    "n = int(input().strip())\n",
    "\n",
    "data = list(map(int, input().split()))\n",
    "output = -1\n",
    "start = 0 \n",
    "end = n-1\n",
    "\n",
    "while start <= end :\n",
    "    mid = (start + end) // 2\n",
    "    if data[mid] == mid :\n",
    "        output = mid\n",
    "        break\n",
    "    elif data[mid] > mid :\n",
    "        end = mid - 1\n",
    "    else :\n",
    "        start = mid + 1\n",
    "        \n",
    "print(output)    \n"
   ]
  },
  {
   "cell_type": "code",
   "execution_count": null,
   "id": "04990307-b025-4e3f-b894-7d61943e5ae5",
   "metadata": {},
   "outputs": [],
   "source": [
    "# 예시 답안\n",
    "def binary_search(array, start, end) :\n",
    "    if start > end :\n",
    "        return None\n",
    "    mid = (start + end) // 2 \n",
    "    if array[mid] == mid :\n",
    "        return mid\n",
    "    elif array[mid] > mid :\n",
    "        binary_search(array, start, mid-1)\n",
    "    else :\n",
    "        binary_search(array, mid+1, end)\n",
    "\n",
    "\n",
    "\n",
    "n = int(input())\n",
    "array = list(map(int, input().split()))\n",
    "\n",
    "index = binary_search(array, 0, n-1)\n",
    "\n",
    "if index == None :\n",
    "    print(-1)\n",
    "else :\n",
    "    print(index)\n"
   ]
  },
  {
   "cell_type": "markdown",
   "id": "13a19ae8-6bfb-4ced-bf2c-6f2b41baef35",
   "metadata": {},
   "source": [
    "# 29. 공유기 설치"
   ]
  },
  {
   "cell_type": "code",
   "execution_count": null,
   "id": "d172a01f-c7ff-4456-95e7-f8a939918a97",
   "metadata": {},
   "outputs": [],
   "source": []
  },
  {
   "cell_type": "code",
   "execution_count": null,
   "id": "37cafe13-9558-4936-ad88-d49a103ae547",
   "metadata": {},
   "outputs": [],
   "source": []
  },
  {
   "cell_type": "code",
   "execution_count": null,
   "id": "d91b1adc-3c4a-4325-b2c7-af3e41eb4328",
   "metadata": {},
   "outputs": [],
   "source": []
  },
  {
   "cell_type": "markdown",
   "id": "4af97e35-a491-492c-acde-556bc0ccbf6c",
   "metadata": {},
   "source": [
    "# 30. 가사 검색"
   ]
  },
  {
   "cell_type": "code",
   "execution_count": null,
   "id": "d15de77d-8cd4-47f6-9273-d9e2d07e0cdb",
   "metadata": {},
   "outputs": [],
   "source": []
  },
  {
   "cell_type": "code",
   "execution_count": null,
   "id": "88010e08-081b-42db-920e-1cdd895d7812",
   "metadata": {},
   "outputs": [],
   "source": []
  },
  {
   "cell_type": "code",
   "execution_count": null,
   "id": "b5d2916b-5f37-4beb-8ac2-f21dc6a85536",
   "metadata": {},
   "outputs": [],
   "source": []
  }
 ],
 "metadata": {
  "kernelspec": {
   "display_name": "Python 3 (ipykernel)",
   "language": "python",
   "name": "python3"
  },
  "language_info": {
   "codemirror_mode": {
    "name": "ipython",
    "version": 3
   },
   "file_extension": ".py",
   "mimetype": "text/x-python",
   "name": "python",
   "nbconvert_exporter": "python",
   "pygments_lexer": "ipython3",
   "version": "3.9.18"
  },
  "widgets": {
   "application/vnd.jupyter.widget-state+json": {
    "state": {},
    "version_major": 2,
    "version_minor": 0
   }
  }
 },
 "nbformat": 4,
 "nbformat_minor": 5
}
