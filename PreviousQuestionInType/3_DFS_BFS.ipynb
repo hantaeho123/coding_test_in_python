{
 "cells": [
  {
   "cell_type": "code",
   "execution_count": null,
   "id": "93f78baa-084d-4bb6-968f-617238ba43fc",
   "metadata": {},
   "outputs": [],
   "source": []
  },
  {
   "cell_type": "markdown",
   "id": "5e0383fb-69d9-46ee-89fd-b24c9400b30f",
   "metadata": {
    "jp-MarkdownHeadingCollapsed": true
   },
   "source": [
    "# 15. 특정 거리의 도시 찾기"
   ]
  },
  {
   "cell_type": "code",
   "execution_count": 5,
   "id": "6ebb71af-dac3-42cb-bb5d-3d9d288c09ae",
   "metadata": {},
   "outputs": [
    {
     "name": "stdin",
     "output_type": "stream",
     "text": [
      " 4 3 2 1\n",
      " 1 2\n",
      " 1 3\n",
      " 1 4\n"
     ]
    },
    {
     "name": "stdout",
     "output_type": "stream",
     "text": [
      "-1\n"
     ]
    }
   ],
   "source": [
    "from collections import deque\n",
    "\n",
    "\n",
    "n, m, k, x = map(int, input().split())\n",
    "\n",
    "\n",
    "graph = [[] for _ in range(n+1)]\n",
    "distance = [0 for _ in range(n+1)]\n",
    "\n",
    "\n",
    "for i in range(m) :\n",
    "    a, b = map(int, input().split())\n",
    "    graph[a].append(b)\n",
    "\n",
    "\n",
    "queue = deque([(x,0)])\n",
    "while queue :\n",
    "    city, dist = queue.popleft()\n",
    "    for i in graph[city] :\n",
    "        if distance[i] == 0 :\n",
    "            distance[i] = dist + 1\n",
    "            queue.append((i, dist + 1))\n",
    "\n",
    "result = []\n",
    "for i in range(1, n+1) :\n",
    "    if distance[i] == k :\n",
    "        result.append(i)\n",
    "\n",
    "if len(result) == 0 :\n",
    "    print(-1)\n",
    "else :\n",
    "    result.sort()\n",
    "    for i in result:\n",
    "        print(i)\n",
    "    \n"
   ]
  },
  {
   "cell_type": "code",
   "execution_count": 4,
   "id": "25b8c043-e1d1-4fdf-ac78-852bcbf48c5a",
   "metadata": {},
   "outputs": [
    {
     "name": "stdin",
     "output_type": "stream",
     "text": [
      " 4 4 1 1\n",
      "  1 2\n",
      " 1  3\n",
      " 2 3\n",
      " 2 4\n"
     ]
    },
    {
     "name": "stdout",
     "output_type": "stream",
     "text": [
      "2\n",
      "3\n"
     ]
    }
   ],
   "source": [
    "# 예시 답안\n",
    "\n",
    "from collections import deque\n",
    "\n",
    "n,m,k,x = map(int, input().split())\n",
    "graph=[[] for _ in range(n+1)]\n",
    "for _ in range(m) :\n",
    "    a, b = map(int, input().split())\n",
    "    graph[a].append(b)\n",
    "\n",
    "\n",
    "distance = [-1] * (n+1)\n",
    "distance[x] = 0\n",
    "\n",
    "q = deque([x])\n",
    "while q :\n",
    "    now = q.popleft()\n",
    "    for next_node in graph[now] :\n",
    "        if distance[next_node] == -1 :\n",
    "            distance[next_node] = distance[now] + 1\n",
    "            q.append(next_node)\n",
    "\n",
    "check = False\n",
    "for i in range(1, n+1) :\n",
    "    if distance[i] == k :\n",
    "        print(i)\n",
    "        check = True\n",
    "\n",
    "if check == False :\n",
    "    print(-1)\n",
    "\n"
   ]
  },
  {
   "cell_type": "markdown",
   "id": "05928cbb-0cad-45b7-b7a4-412665162ce1",
   "metadata": {},
   "source": [
    "# 16. 연구소"
   ]
  },
  {
   "cell_type": "code",
   "execution_count": null,
   "id": "d6dbd5c3-8e1e-40fd-b153-60e562c23d40",
   "metadata": {},
   "outputs": [],
   "source": [
    "n, m = map(int, input().split())\n",
    "\n",
    "graph = []\n",
    "for i in range(n) :\n",
    "    graph.append(list(map(int, input().split())))\n",
    "\n",
    "\n",
    "\n",
    "\n"
   ]
  },
  {
   "cell_type": "code",
   "execution_count": null,
   "id": "471f0d37-9dfd-43e6-a400-85da9b920be6",
   "metadata": {},
   "outputs": [],
   "source": []
  },
  {
   "cell_type": "markdown",
   "id": "154d5fec-673e-43f9-b341-a2e008431c3d",
   "metadata": {},
   "source": [
    "# 17. 경쟁적 전염"
   ]
  },
  {
   "cell_type": "code",
   "execution_count": null,
   "id": "2d15986a-85f1-49bb-9bae-e45ee28ad710",
   "metadata": {},
   "outputs": [],
   "source": []
  },
  {
   "cell_type": "code",
   "execution_count": null,
   "id": "605fab69-743d-42b7-8405-479681012d69",
   "metadata": {},
   "outputs": [],
   "source": []
  },
  {
   "cell_type": "markdown",
   "id": "fb630ba3-6618-4bad-8daf-557001c33e62",
   "metadata": {},
   "source": [
    "# 18. 괄호 변환"
   ]
  },
  {
   "cell_type": "code",
   "execution_count": null,
   "id": "65d86f1a-fe5a-4826-a1e4-9e024b885ad2",
   "metadata": {},
   "outputs": [],
   "source": [
    "def solution(p):\n",
    "    answer = ''\n",
    "    \n",
    "\n",
    "\n",
    "\n",
    "    \n",
    "    return answer"
   ]
  },
  {
   "cell_type": "code",
   "execution_count": null,
   "id": "9305605c-cfca-4162-be1f-0afa7fad3053",
   "metadata": {},
   "outputs": [],
   "source": []
  },
  {
   "cell_type": "code",
   "execution_count": null,
   "id": "f9e9633e-1ce3-4fbe-867a-8453fd8a1227",
   "metadata": {},
   "outputs": [],
   "source": []
  },
  {
   "cell_type": "code",
   "execution_count": null,
   "id": "862f161e-e690-41f7-83e6-1db629769942",
   "metadata": {},
   "outputs": [],
   "source": []
  },
  {
   "cell_type": "markdown",
   "id": "1ce034d6-846e-48bc-aa46-9eec346c659f",
   "metadata": {},
   "source": [
    "# 19. 연산자 끼워 넣기"
   ]
  },
  {
   "cell_type": "code",
   "execution_count": null,
   "id": "4535e96e-79f5-4e5e-b969-db382ea06f9c",
   "metadata": {},
   "outputs": [],
   "source": []
  },
  {
   "cell_type": "code",
   "execution_count": null,
   "id": "e0ae4844-30dc-4f45-a89e-5c61300cf956",
   "metadata": {},
   "outputs": [],
   "source": []
  },
  {
   "cell_type": "code",
   "execution_count": null,
   "id": "44b5d6a2-a3d1-4277-adb3-c2b0056a6520",
   "metadata": {},
   "outputs": [],
   "source": []
  },
  {
   "cell_type": "markdown",
   "id": "b882fcff-a53a-47f1-9a65-426a02295836",
   "metadata": {},
   "source": [
    "# 20. 감시피하기"
   ]
  },
  {
   "cell_type": "code",
   "execution_count": null,
   "id": "7739facc-1c76-46ec-91f7-ba75330fde84",
   "metadata": {},
   "outputs": [],
   "source": []
  },
  {
   "cell_type": "code",
   "execution_count": null,
   "id": "1cda683a-83f4-4c6c-b46b-465bb2119cdc",
   "metadata": {},
   "outputs": [],
   "source": []
  },
  {
   "cell_type": "code",
   "execution_count": null,
   "id": "edc312e8-fc54-4f04-8c03-eb769ccdda9a",
   "metadata": {},
   "outputs": [],
   "source": []
  },
  {
   "cell_type": "markdown",
   "id": "769f80a5-f775-42b6-b476-cbd324cdf34e",
   "metadata": {
    "jp-MarkdownHeadingCollapsed": true
   },
   "source": [
    "# 21. 인구 이동"
   ]
  },
  {
   "cell_type": "code",
   "execution_count": 33,
   "id": "6383d0fc-9b36-4942-be46-64e9e4b80e62",
   "metadata": {},
   "outputs": [
    {
     "name": "stdin",
     "output_type": "stream",
     "text": [
      " 2 20 50\n",
      " 50 30\n",
      " 30 40\n"
     ]
    },
    {
     "name": "stdout",
     "output_type": "stream",
     "text": [
      "1\n"
     ]
    }
   ],
   "source": [
    "# 사실 답지 좀 봄 ㅋㅋ\n",
    "from collections import deque\n",
    "\n",
    "\n",
    "n, l, r = map(int, input().split())\n",
    "\n",
    "\n",
    "graph = []\n",
    "for i in range(n) :\n",
    "    data = list(map(int, input().split()))\n",
    "    graph.append(data)\n",
    "\n",
    "\n",
    "directions = [(1,0), (-1,0), (0,1), (0,-1)]\n",
    "\n",
    "\n",
    "visited_num = 0\n",
    "\n",
    "count = 0\n",
    "q = deque()\n",
    "\n",
    "\n",
    "while visited_num < n*n :\n",
    "    count+=1\n",
    "    visited = [[0]*(n) for _ in range(n)]\n",
    "    visited_num = 0\n",
    "    for i in range(n) :\n",
    "        for j in range(n) :\n",
    "            if visited[i][j] == 0 :\n",
    "                visited_num += 1\n",
    "                visited[i][j] = visited_num\n",
    "                q.append((i,j))\n",
    "                united = [(i, j)]\n",
    "                summation = graph[i][j]\n",
    "                while q :\n",
    "                    x, y = q.popleft()\n",
    "                    for dx, dy in directions :\n",
    "                        n_x = x+dx\n",
    "                        n_y = y+dy \n",
    "                        if not (0 <= n_x < n and 0 <= n_y < n) :   \n",
    "                            continue\n",
    "                        if not (visited[n_x][n_y] == 0) :\n",
    "                            continue\n",
    "                        if (l<=abs(graph[n_x][n_y]-graph[x][y])<=r):\n",
    "                            visited[n_x][n_y] = visited_num\n",
    "                            q.append((n_x, n_y))\n",
    "                            united.append((n_x, n_y))\n",
    "                            summation += graph[n_x][n_y]        \n",
    "                mean_val = summation // len(united)\n",
    "                for a, b in united :\n",
    "                    graph[a][b] = mean_val\n",
    "\n",
    "\n",
    "print(count-1)"
   ]
  },
  {
   "cell_type": "code",
   "execution_count": null,
   "id": "13934ba3-3d8e-40af-beaa-ce81ae56a817",
   "metadata": {},
   "outputs": [],
   "source": [
    "# 예시 답안\n",
    "from collections import deque\n",
    "\n",
    "n, l, r = map(int, input().split())\n",
    "\n",
    "graph = []\n",
    "for _ in range(n) :\n",
    "    graph.append(list(map(int, input().split())))\n",
    "\n",
    "dx = [-1, 0, 1, 0]\n",
    "dy = [0, -1, 0, 1]\n",
    "\n",
    "result = 0\n",
    "\n",
    "def process(x, y, index, union) :\n",
    "    united = []\n",
    "    united.append((x, y))\n",
    "    q = deque()\n",
    "    q.append((x, y))\n",
    "    union[x][y] = index\n",
    "    summary = graph[x][y]\n",
    "    count = 1\n",
    "    while q :\n",
    "        x, y = q.popleft()\n",
    "        for i in range(4) :\n",
    "            nx = x + dx[i]\n",
    "            ny = y + dy[i]\n",
    "            if  0 <= nx < n and 0 <= ny < n and union[nx][ny] == -1 :\n",
    "                if l <= abs(graph[nx][ny] - graph[x][y]) <= r :\n",
    "                    q.append((nx, ny))\n",
    "                    union[nx][ny] = index\n",
    "                    summary += graph[nx][ny]\n",
    "                    count += 1\n",
    "                    united.append((nx, ny))\n",
    "\n",
    "    for i, j in united :\n",
    "        graph[i][j] = summary // count\n",
    "        \n",
    "    return count\n",
    "    \n",
    "total_count = 0\n",
    "\n",
    "while True :\n",
    "    union = [[-1] * n for _ in range(n)]\n",
    "    index = 0\n",
    "    for i in range(n) :\n",
    "        for j in range(n) :\n",
    "            if union[i][j] == -1 :\n",
    "                process(i, j, index, union)\n",
    "                index += 1\n",
    "    if index == n*n :\n",
    "        break\n",
    "    total_count += 1\n",
    "\n",
    "\n",
    "print(total_count)"
   ]
  },
  {
   "cell_type": "code",
   "execution_count": null,
   "id": "afd1e218-043f-4842-bdb1-8bded591abda",
   "metadata": {},
   "outputs": [],
   "source": []
  },
  {
   "cell_type": "code",
   "execution_count": null,
   "id": "c3042072-caac-4de5-9925-59ba42c52a3f",
   "metadata": {},
   "outputs": [],
   "source": []
  },
  {
   "cell_type": "markdown",
   "id": "b2e4885a-3d9c-48a3-86c9-0db10b801eb4",
   "metadata": {},
   "source": [
    "# 22. 블록 이동하기"
   ]
  },
  {
   "cell_type": "code",
   "execution_count": null,
   "id": "7002769d-6cb2-4c9b-bdea-a151b6cf5d5c",
   "metadata": {},
   "outputs": [],
   "source": []
  },
  {
   "cell_type": "code",
   "execution_count": null,
   "id": "e8be317d-0760-464a-9832-046c95d39549",
   "metadata": {},
   "outputs": [],
   "source": []
  },
  {
   "cell_type": "code",
   "execution_count": null,
   "id": "da8b9d38-0cc6-4ba9-b334-c9f99e89c7cf",
   "metadata": {},
   "outputs": [],
   "source": []
  },
  {
   "cell_type": "code",
   "execution_count": null,
   "id": "abbbb49f-b1d6-4e56-9926-5387519dc68c",
   "metadata": {},
   "outputs": [],
   "source": []
  },
  {
   "cell_type": "code",
   "execution_count": null,
   "id": "6b8f0f72-714b-4051-8e92-98c497d9a9a6",
   "metadata": {},
   "outputs": [],
   "source": []
  },
  {
   "cell_type": "code",
   "execution_count": null,
   "id": "5905c284-330c-408e-b91e-2e342d801f2d",
   "metadata": {},
   "outputs": [],
   "source": []
  },
  {
   "cell_type": "code",
   "execution_count": null,
   "id": "23a765a8-7da7-46fe-b231-b357771f7bd3",
   "metadata": {},
   "outputs": [],
   "source": []
  },
  {
   "cell_type": "code",
   "execution_count": null,
   "id": "c795725c-c0a2-41e5-8538-e1570a03b639",
   "metadata": {},
   "outputs": [],
   "source": []
  },
  {
   "cell_type": "code",
   "execution_count": null,
   "id": "18f11739-427b-4498-88fa-c410d8998b5c",
   "metadata": {},
   "outputs": [],
   "source": []
  }
 ],
 "metadata": {
  "kernelspec": {
   "display_name": "Python 3 (ipykernel)",
   "language": "python",
   "name": "python3"
  },
  "language_info": {
   "codemirror_mode": {
    "name": "ipython",
    "version": 3
   },
   "file_extension": ".py",
   "mimetype": "text/x-python",
   "name": "python",
   "nbconvert_exporter": "python",
   "pygments_lexer": "ipython3",
   "version": "3.9.18"
  },
  "widgets": {
   "application/vnd.jupyter.widget-state+json": {
    "state": {},
    "version_major": 2,
    "version_minor": 0
   }
  }
 },
 "nbformat": 4,
 "nbformat_minor": 5
}
