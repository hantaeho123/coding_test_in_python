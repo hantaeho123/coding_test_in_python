{
 "cells": [
  {
   "cell_type": "code",
   "execution_count": null,
   "id": "717d7d8a-9297-4449-bbf7-6bce7a976484",
   "metadata": {},
   "outputs": [],
   "source": []
  },
  {
   "cell_type": "code",
   "execution_count": null,
   "id": "b3c193e3-92df-43a8-9571-fd0862b9466d",
   "metadata": {},
   "outputs": [],
   "source": []
  },
  {
   "cell_type": "code",
   "execution_count": null,
   "id": "8e54afe3-ba9c-478d-b7e7-59b74bc007a8",
   "metadata": {},
   "outputs": [],
   "source": []
  },
  {
   "cell_type": "markdown",
   "id": "924f142e-837a-4982-b4b7-d09ae4821a67",
   "metadata": {},
   "source": [
    "# 1. 모험가 길드"
   ]
  },
  {
   "cell_type": "code",
   "execution_count": 18,
   "id": "44d82d6d-506d-444c-a838-573afa63daf9",
   "metadata": {},
   "outputs": [
    {
     "name": "stdin",
     "output_type": "stream",
     "text": [
      " 5\n",
      " 2 3 1 2 2\n"
     ]
    },
    {
     "name": "stdout",
     "output_type": "stream",
     "text": [
      "2\n"
     ]
    }
   ],
   "source": [
    "# 입력 받기\n",
    "N = int(input())\n",
    "people = list(map(int, input().split()))\n",
    "\n",
    "# 오름차순으로 정렬 \n",
    "people.sort()\n",
    "\n",
    "# 사용된 것들\n",
    "used = [False] * N\n",
    "\n",
    "# 그룹의 수\n",
    "group_count = 0  \n",
    "\n",
    "\n",
    "for i in range(N) :\n",
    "    if (not used[i]) :\n",
    "        count = 0\n",
    "        while i < N :\n",
    "            used[i] = True\n",
    "            group_fear = people[i]\n",
    "            count += 1\n",
    "            i += 1\n",
    "            if (group_fear <= count) :\n",
    "                group_count+=1\n",
    "                break\n",
    "                \n",
    "\n",
    "print(group_count)"
   ]
  },
  {
   "cell_type": "code",
   "execution_count": null,
   "id": "3a14e401-7405-4320-9d71-6f9ca72be888",
   "metadata": {},
   "outputs": [],
   "source": []
  },
  {
   "cell_type": "code",
   "execution_count": null,
   "id": "2aa84543-1bd7-4941-814b-5e9dfb8c4fbd",
   "metadata": {},
   "outputs": [],
   "source": []
  },
  {
   "cell_type": "code",
   "execution_count": null,
   "id": "b5d8cd8b-7116-41a6-9709-2287d747e39f",
   "metadata": {},
   "outputs": [],
   "source": []
  },
  {
   "cell_type": "code",
   "execution_count": null,
   "id": "4b5434b3-6498-4c83-889e-cafcf3a77397",
   "metadata": {},
   "outputs": [],
   "source": []
  },
  {
   "cell_type": "code",
   "execution_count": null,
   "id": "4052d506-7d0d-4410-be35-4620d96bd0ca",
   "metadata": {},
   "outputs": [],
   "source": []
  }
 ],
 "metadata": {
  "kernelspec": {
   "display_name": "Python 3 (ipykernel)",
   "language": "python",
   "name": "python3"
  },
  "language_info": {
   "codemirror_mode": {
    "name": "ipython",
    "version": 3
   },
   "file_extension": ".py",
   "mimetype": "text/x-python",
   "name": "python",
   "nbconvert_exporter": "python",
   "pygments_lexer": "ipython3",
   "version": "3.9.18"
  },
  "widgets": {
   "application/vnd.jupyter.widget-state+json": {
    "state": {},
    "version_major": 2,
    "version_minor": 0
   }
  }
 },
 "nbformat": 4,
 "nbformat_minor": 5
}
