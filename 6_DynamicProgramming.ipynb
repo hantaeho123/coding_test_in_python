{
 "cells": [
  {
   "cell_type": "markdown",
   "id": "a2b23ed5-e7b8-4779-b687-f96bed900f0f",
   "metadata": {},
   "source": [
    "# Dynamic Programming\n",
    ": 큰 문제를 작게 나누고, 같은 문제라면 한 번씩만 풀어 문제를 효율적으로 해결하는 알고리즘\n",
    "\n",
    "\n",
    "\n",
    "## 조건\n",
    "### 1. 큰 문제를 작은 문제로 나눌 수 있다.\n",
    "### 2. 작은 문제에서 구한 정답은 그것을 포함하는 큰 문제에서도 동일하다."
   ]
  },
  {
   "cell_type": "markdown",
   "id": "9245b5b2-d68d-4d4b-babf-f4dbab9e0d39",
   "metadata": {},
   "source": [
    "# 탑 다운 (하향식)\n",
    "#### : 큰 문제를 해결하기 위해 작은 문제를 호출\n",
    "#### : 메모이제이션  -> caching\n",
    "\n",
    "\n",
    "# 보텀 업 (상향식)\n",
    "#### : 반복문을 이용하여 작은 문제부터 답을 도출\n",
    "#### : DP 테이블 -> 결과 저장용 리스트\n",
    "\n"
   ]
  },
  {
   "cell_type": "code",
   "execution_count": 2,
   "id": "ebda55d2-fec8-45bc-8859-ae6fe9e0628a",
   "metadata": {},
   "outputs": [
    {
     "name": "stdout",
     "output_type": "stream",
     "text": [
      "3\n"
     ]
    }
   ],
   "source": [
    "# 피보나치 함수\n",
    "\n",
    "def fibo(n) :\n",
    "    if n == 1 or n == 2 :\n",
    "        return 1\n",
    "    return fibo(n-1) + fibo(n-2)\n",
    "\n",
    "print(fibo(4))"
   ]
  },
  {
   "cell_type": "code",
   "execution_count": 9,
   "id": "7328f02f-6536-4bb4-b59b-568c997ce477",
   "metadata": {},
   "outputs": [
    {
     "name": "stdout",
     "output_type": "stream",
     "text": [
      "8\n"
     ]
    }
   ],
   "source": [
    "# 메모이제이션을 이용한 피보나치 재귀함수\n",
    "\n",
    "d = [0] * 100\n",
    "\n",
    "def fibo2(x) :\n",
    "    if x == 1 or x == 2 :\n",
    "        return 1\n",
    "    if d[x] != 0 :\n",
    "        return d[x]\n",
    "    d[x] = fibo2(x-1) + fibo2(x-2) \n",
    "    return d[x]\n",
    "\n",
    "\n",
    "\n",
    "print(fibo2(6))"
   ]
  },
  {
   "cell_type": "code",
   "execution_count": 8,
   "id": "f982bc97-7516-48a9-823d-0e0ce1a379c8",
   "metadata": {},
   "outputs": [
    {
     "name": "stdout",
     "output_type": "stream",
     "text": [
      "f(6) f(5) f(4) f(3) f(2) f(1) f(2) f(3) f(4) "
     ]
    },
    {
     "data": {
      "text/plain": [
       "8"
      ]
     },
     "execution_count": 8,
     "metadata": {},
     "output_type": "execute_result"
    }
   ],
   "source": [
    "# 호출되는 함수 확인\n",
    "\n",
    "d = [0] * 100\n",
    "\n",
    "def pibo(x) :\n",
    "    print(\"f(\" + str(x) + \")\", end=\" \")\n",
    "    if x == 1 or x == 2 :\n",
    "        return 1\n",
    "    if d[x] != 0 :\n",
    "        return d[x]\n",
    "    d[x] = pibo(x-1) + pibo(x-2)\n",
    "    return d[x]\n",
    "\n",
    "\n",
    "pibo(6)"
   ]
  },
  {
   "cell_type": "code",
   "execution_count": 11,
   "id": "ba688d72-939d-446c-a298-02aa8e8f8327",
   "metadata": {},
   "outputs": [
    {
     "name": "stdout",
     "output_type": "stream",
     "text": [
      "218922995834555169026\n"
     ]
    }
   ],
   "source": [
    "# 반복문을 이용하여 푼 피보나치 수열\n",
    "\n",
    "d = [0] * 100\n",
    "\n",
    "d[1] = 1\n",
    "d[2] = 1\n",
    "n = 99\n",
    "\n",
    "for i in range(3, n+1) :\n",
    "    d[i] = d[i-1] + d[i-2]\n",
    "\n",
    "print(d[n])"
   ]
  },
  {
   "cell_type": "code",
   "execution_count": null,
   "id": "f7e10afc-d4b6-43aa-a867-65f3e91367a7",
   "metadata": {},
   "outputs": [],
   "source": []
  },
  {
   "cell_type": "markdown",
   "id": "1bfaa666-fbb7-4364-a7be-6c267ba2c754",
   "metadata": {},
   "source": [
    "# 1로 만들기"
   ]
  },
  {
   "cell_type": "code",
   "execution_count": 18,
   "id": "33c6e65c-a432-48c2-92c8-9d4d8293d409",
   "metadata": {},
   "outputs": [
    {
     "name": "stdin",
     "output_type": "stream",
     "text": [
      " 26\n"
     ]
    },
    {
     "name": "stdout",
     "output_type": "stream",
     "text": [
      "1 1 2 1 2 3 3 2 2 3 3 4 4 2 3 4 3 4 3 4 4 5 4 2 3 \n",
      "[0, 0, 1, 1, 2, 1, 2, 3, 3, 2, 2, 3, 3, 4, 4, 2, 3, 4, 3, 4, 3, 4, 4, 5, 4, 2, 3]\n",
      "3\n"
     ]
    }
   ],
   "source": [
    "x = int(input())\n",
    "\n",
    "counts = [0] * (x+1)\n",
    "\n",
    "INF = x\n",
    "for num in range(2, x+1) :\n",
    "    val5, val3, val2, val1 = INF, INF, INF, INF\n",
    "    if num % 5 == 0 :\n",
    "        val5 = counts[num // 5]\n",
    "    if num % 3 == 0 :\n",
    "        val3 = counts[num // 3]\n",
    "    if num % 2 == 0 :\n",
    "        val2 = counts[num // 2]\n",
    "    if num >= 7 :\n",
    "        val1 = counts[num - 1]\n",
    "    min_value = min(val5, val3, val2, val1)\n",
    "    counts[num] = min_value + 1\n",
    "    print(counts[num], end = \" \")\n",
    "\n",
    "print()\n",
    "print(counts)\n",
    "print(counts[x])"
   ]
  },
  {
   "cell_type": "code",
   "execution_count": 21,
   "id": "85f0cd65-e70e-4e24-a0c2-7e4cf2078b6d",
   "metadata": {},
   "outputs": [
    {
     "name": "stdin",
     "output_type": "stream",
     "text": [
      " 26\n"
     ]
    },
    {
     "name": "stdout",
     "output_type": "stream",
     "text": [
      "3\n"
     ]
    }
   ],
   "source": [
    "# 예시 답안\n",
    "\n",
    "# input\n",
    "x = int(input())\n",
    "\n",
    "# DP table initialization\n",
    "d = [0] * 30001\n",
    "\n",
    "# DP with bottom-up\n",
    "for i in range(2, x + 1) :\n",
    "    d[i] = d[i-1] + 1\n",
    "    if i % 2 == 0 :\n",
    "        d[i] = min(d[i], d[i // 2] + 1)\n",
    "    if i % 3 == 0 :\n",
    "        d[i] = min(d[i], d[i // 3] + 1)\n",
    "    if i % 5 == 0 :\n",
    "        d[i] = min(d[i], d[i // 5] + 1)\n",
    "\n",
    "\n",
    "print(d[x])"
   ]
  },
  {
   "cell_type": "code",
   "execution_count": null,
   "id": "d7da4530-c895-4098-9580-0db95c418d87",
   "metadata": {},
   "outputs": [],
   "source": []
  },
  {
   "cell_type": "markdown",
   "id": "83d67df6-3842-4c6b-b740-024f3be8410c",
   "metadata": {},
   "source": [
    "# 개미 전사"
   ]
  },
  {
   "cell_type": "code",
   "execution_count": null,
   "id": "5f282142-029f-4bd2-b7a6-dcabab2d301a",
   "metadata": {},
   "outputs": [
    {
     "name": "stdin",
     "output_type": "stream",
     "text": [
      " 4\n",
      " 1 3  1 5\n"
     ]
    }
   ],
   "source": [
    "# top-down 방식으로 풀다가 실패 ㅠㅠ\n",
    "N = int(input())\n",
    "\n",
    "warehouse = list(map(int, input().split()))\n",
    "memory = [-1] * (N+1)\n",
    "\n",
    "\n",
    "\n",
    "def loot(warehouse, n, memory) :\n",
    "    if n < 0 :\n",
    "        return 0\n",
    "    elif n == 0 :\n",
    "        return warehouse[0]\n",
    "    elif n == 1 :\n",
    "        return warehouse[1]\n",
    "    else :\n",
    "        if memory[n-1] < 0 :\n",
    "            memory[n-1] = loot(warehouse, n-1, memory) + warehouse[n-1]\n",
    "        if memory[n] < 0 :\n",
    "            memory[n] = loot(warehouse, n, memory) + warehouse[n] \n",
    "        return max(memory[n-1], memory[n])\n",
    "\n",
    "\n",
    "print(loot(warehouse, N, memory))"
   ]
  },
  {
   "cell_type": "code",
   "execution_count": 7,
   "id": "160e16f4-9eda-4852-bdb7-622b6af4241b",
   "metadata": {},
   "outputs": [
    {
     "name": "stdin",
     "output_type": "stream",
     "text": [
      " 4\n",
      " 1 3 1 5\n"
     ]
    },
    {
     "name": "stdout",
     "output_type": "stream",
     "text": [
      "8\n"
     ]
    }
   ],
   "source": [
    "# bottom-up 방식으로 DC 테이블 만들어서 해결!\n",
    "N = int(input())\n",
    "\n",
    "warehouse = list(map(int, input().split()))\n",
    "warehouse = [0] + warehouse\n",
    "memory = [0] * (N+1)\n",
    "memory[1] = warehouse[1]\n",
    "memory[2] = warehouse[2]\n",
    "\n",
    "for i in range(3, N+1) :\n",
    "    memory[i] = max(memory[i-1], memory[i-2]+warehouse[i])\n",
    "    \n",
    "print(memory[N])"
   ]
  },
  {
   "cell_type": "code",
   "execution_count": 8,
   "id": "6d842f6c-2c6b-4ce9-ab48-64c5afc5eae1",
   "metadata": {},
   "outputs": [
    {
     "name": "stdin",
     "output_type": "stream",
     "text": [
      " 4\n",
      " 1 3 1 5\n"
     ]
    },
    {
     "name": "stdout",
     "output_type": "stream",
     "text": [
      "8\n"
     ]
    }
   ],
   "source": [
    "# 예시 답안\n",
    "n = int(input())\n",
    "\n",
    "array = list(map(int, input().split()))\n",
    "\n",
    "d = [0] * 100\n",
    "\n",
    "d[0] = array[0]\n",
    "d[1] = max(array[0], array[1])\n",
    "for i in range(2, n) :\n",
    "    d[i] = max(d[i-1], d[i-2]+array[i])\n",
    "\n",
    "print(d[n-1])\n",
    "\n"
   ]
  },
  {
   "cell_type": "markdown",
   "id": "2e14184e-cd0b-4e58-b67f-2e95068add70",
   "metadata": {},
   "source": [
    "# 바닥 공사 "
   ]
  },
  {
   "cell_type": "code",
   "execution_count": 11,
   "id": "c4ec081c-b6c3-4913-a3b8-3b190c47f8a7",
   "metadata": {},
   "outputs": [
    {
     "name": "stdin",
     "output_type": "stream",
     "text": [
      " 3\n"
     ]
    },
    {
     "name": "stdout",
     "output_type": "stream",
     "text": [
      "5\n"
     ]
    }
   ],
   "source": [
    "# 특정한 수로 안 나누었음 ㄷ ㄷ 문제를 잘 읽을 것!\n",
    "N = int(input())\n",
    "\n",
    "array = [0]*(N+3)\n",
    "\n",
    "array[1] = 1\n",
    "array[2] = 3\n",
    "\n",
    "for i in range(3, N+1) :\n",
    "    array[i] = array[i-1] + 2*array[i-2]\n",
    "\n",
    "print(array[N])"
   ]
  },
  {
   "cell_type": "code",
   "execution_count": 12,
   "id": "4aee6ae7-b724-494d-a3c6-40f5d4e0d976",
   "metadata": {},
   "outputs": [
    {
     "name": "stdin",
     "output_type": "stream",
     "text": [
      " 3\n"
     ]
    },
    {
     "name": "stdout",
     "output_type": "stream",
     "text": [
      "5\n"
     ]
    }
   ],
   "source": [
    "# 예시 답안\n",
    "\n",
    "n = int(input())\n",
    "\n",
    "d = [0] * 1001\n",
    "\n",
    "d[1] = 1\n",
    "d[2] = 3\n",
    "for i in range(3, n+1) :\n",
    "    d[i] = (d[i-1] + 2 * d[i-2]) % 796796\n",
    "\n",
    "print(d[n])"
   ]
  },
  {
   "cell_type": "markdown",
   "id": "6bbb8e86-f727-469b-a309-e409a148074d",
   "metadata": {},
   "source": [
    "# 효율적인 화폐 구성"
   ]
  },
  {
   "cell_type": "code",
   "execution_count": 22,
   "id": "05193f9b-c5d8-4586-8036-d2e3a75c0823",
   "metadata": {},
   "outputs": [
    {
     "name": "stdin",
     "output_type": "stream",
     "text": [
      " 3 4\n",
      " 3\n",
      " 5\n",
      " 7\n"
     ]
    },
    {
     "name": "stdout",
     "output_type": "stream",
     "text": [
      "-1\n"
     ]
    }
   ],
   "source": [
    "# 그리디로 풀어져 버림 ㅠㅠ\n",
    "N, M = map(int, input().split())\n",
    "coins = []\n",
    "\n",
    "for _ in range(N) :\n",
    "    coins.append(int(input()))\n",
    "\n",
    "coins.sort()\n",
    "\n",
    "memory = [0] * (M+1)\n",
    "memory[M] = -1\n",
    "\n",
    "for num in range(1, M) :\n",
    "    for coin in coins :\n",
    "        if (num - coin >= 0) :\n",
    "            memory[num] = memory[num-coin] + 1\n",
    "\n",
    "\n",
    "for coin in coins :\n",
    "    if (M - coin >= 0 and memory[M-coin] > 0) :\n",
    "        memory[M] = memory[M-coin] + 1\n",
    "\n",
    "\n",
    "\n",
    "print(memory[M])"
   ]
  },
  {
   "cell_type": "code",
   "execution_count": 26,
   "id": "76128246-0e5d-4ff8-b06c-ba992d8e9108",
   "metadata": {},
   "outputs": [
    {
     "name": "stdin",
     "output_type": "stream",
     "text": [
      " 3 4\n",
      " 3 \n",
      "  5\n",
      "  7\n"
     ]
    },
    {
     "name": "stdout",
     "output_type": "stream",
     "text": [
      "-1\n"
     ]
    }
   ],
   "source": [
    "# 예시 답안\n",
    "\n",
    "n, m = map(int, input().split())\n",
    "\n",
    "array = []\n",
    "for i in range(n) :\n",
    "    array.append(int(input()))\n",
    "\n",
    "d = [10001] * (m+1)\n",
    "d[0] = 0\n",
    "\n",
    "for i in range(n) :\n",
    "    for j in range(array[i], m+1) :\n",
    "        if d[j-array[i]] != 10001 :\n",
    "            d[j] = min(d[j], d[j - array[i]] + 1)\n",
    "\n",
    "if (d[m] == 10001) :\n",
    "    print(-1)\n",
    "else :\n",
    "    print(d[m])"
   ]
  },
  {
   "cell_type": "code",
   "execution_count": null,
   "id": "b47ffcab-6c6d-436d-9fd3-2ec5d0858df7",
   "metadata": {},
   "outputs": [],
   "source": []
  },
  {
   "cell_type": "code",
   "execution_count": null,
   "id": "fc9a4c27-3f61-47cb-8783-ea62b0fafe78",
   "metadata": {},
   "outputs": [],
   "source": []
  },
  {
   "cell_type": "code",
   "execution_count": null,
   "id": "2eb4eebb-d3e0-4992-ba0a-469981b4baaf",
   "metadata": {},
   "outputs": [],
   "source": []
  },
  {
   "cell_type": "code",
   "execution_count": null,
   "id": "dc6ce884-3ded-4495-b39e-b72540169a1b",
   "metadata": {},
   "outputs": [],
   "source": []
  },
  {
   "cell_type": "code",
   "execution_count": null,
   "id": "6c7b5a71-3ff5-4230-b84b-6e56fa7cc98a",
   "metadata": {},
   "outputs": [],
   "source": []
  },
  {
   "cell_type": "code",
   "execution_count": null,
   "id": "7d79da81-c8fd-42c7-8f12-7f34eac99155",
   "metadata": {},
   "outputs": [],
   "source": []
  },
  {
   "cell_type": "code",
   "execution_count": null,
   "id": "1ebfa50a-bc61-49ce-b171-3c6bb47de3db",
   "metadata": {},
   "outputs": [],
   "source": []
  },
  {
   "cell_type": "code",
   "execution_count": null,
   "id": "9686944a-e7b6-4383-bce9-9d2856ca80f6",
   "metadata": {},
   "outputs": [],
   "source": []
  },
  {
   "cell_type": "code",
   "execution_count": null,
   "id": "fd337552-1a1e-497f-a834-40407ecf04f7",
   "metadata": {},
   "outputs": [],
   "source": []
  },
  {
   "cell_type": "code",
   "execution_count": null,
   "id": "727d080a-f4b5-494b-9748-16a0e616002c",
   "metadata": {},
   "outputs": [],
   "source": []
  },
  {
   "cell_type": "code",
   "execution_count": null,
   "id": "77b6110c-180b-443b-9f7a-b652d7584d6f",
   "metadata": {},
   "outputs": [],
   "source": []
  },
  {
   "cell_type": "code",
   "execution_count": null,
   "id": "a28fdf56-8dc3-4714-aa31-a4de819c9ffb",
   "metadata": {},
   "outputs": [],
   "source": []
  }
 ],
 "metadata": {
  "kernelspec": {
   "display_name": "Python 3 (ipykernel)",
   "language": "python",
   "name": "python3"
  },
  "language_info": {
   "codemirror_mode": {
    "name": "ipython",
    "version": 3
   },
   "file_extension": ".py",
   "mimetype": "text/x-python",
   "name": "python",
   "nbconvert_exporter": "python",
   "pygments_lexer": "ipython3",
   "version": "3.9.18"
  },
  "widgets": {
   "application/vnd.jupyter.widget-state+json": {
    "state": {},
    "version_major": 2,
    "version_minor": 0
   }
  }
 },
 "nbformat": 4,
 "nbformat_minor": 5
}
