{
 "cells": [
  {
   "cell_type": "markdown",
   "id": "81cfbac0-7907-4845-8a7c-ea69b0024714",
   "metadata": {},
   "source": [
    "# 구현\n",
    "## : 머리속에 있는 알고리즘을 소스코드로 바꾸는 과정\n",
    "### problem -> thinking -> solution\n",
    "### 완전 탐색 : 모든 경우의 수를 주저 없이 다 계산하는 해결 방법\n",
    "### 시뮬레이션: 문제에서 제시한 알고리즘을 한 단계씩 차례대로 직접 수행 "
   ]
  },
  {
   "cell_type": "markdown",
   "id": "66985940-e450-4e1c-a8da-3c85e62e2470",
   "metadata": {},
   "source": [
    "# 상하좌우"
   ]
  },
  {
   "cell_type": "code",
   "execution_count": 7,
   "id": "2096215f-9769-45ac-9797-02d284752ef8",
   "metadata": {},
   "outputs": [
    {
     "name": "stdin",
     "output_type": "stream",
     "text": [
      " 5\n",
      " R R R U D D\n"
     ]
    },
    {
     "name": "stdout",
     "output_type": "stream",
     "text": [
      "3 4\n"
     ]
    }
   ],
   "source": [
    "N = int(input())\n",
    "commands = input().split()\n",
    "first, second = 1, 1\n",
    "\n",
    "for command in commands :\n",
    "    if command == \"U\" and first - 1 >=  1 :\n",
    "        first -= 1\n",
    "    elif command == \"D\" and first + 1 <= N :\n",
    "        first += 1\n",
    "    elif command == \"R\" and second + 1 <= N :\n",
    "        second += 1\n",
    "    elif command == \"L\" and second - 1 >= 1 :\n",
    "        second -= 1\n",
    "\n",
    "print(first, second)"
   ]
  },
  {
   "cell_type": "code",
   "execution_count": 10,
   "id": "b69cebea-98ea-46b4-b231-c38250dd1190",
   "metadata": {},
   "outputs": [
    {
     "name": "stdin",
     "output_type": "stream",
     "text": [
      " 5\n",
      " R R R U D D\n"
     ]
    },
    {
     "name": "stdout",
     "output_type": "stream",
     "text": [
      "3 4\n"
     ]
    }
   ],
   "source": [
    "# 문제 해설 \n",
    "n = int(input())\n",
    "x, y = 1, 1\n",
    "plans = input().split()\n",
    "\n",
    "dx = [0, 0, -1, 1]\n",
    "dy = [-1, 1, 0, 0]\n",
    "move_types = ['L', 'R', 'U', 'D']\n",
    "\n",
    "for plan in plans :\n",
    "    for i in range(len(move_types)) :\n",
    "        if plan == move_types[i] :\n",
    "            nx = x + dx[i]\n",
    "            ny = y + dy[i]\n",
    "    if nx < 1 or ny < 1 or nx > n or ny > n :\n",
    "        continue \n",
    "    x,y = nx, ny\n",
    "\n",
    "print(x, y)\n",
    "\n"
   ]
  },
  {
   "cell_type": "code",
   "execution_count": null,
   "id": "65f9a81f-d7e9-4ee5-b0a8-7b50ab868787",
   "metadata": {},
   "outputs": [],
   "source": []
  },
  {
   "cell_type": "markdown",
   "id": "8f7c3f33-79b3-4f89-a30c-1628e9feb096",
   "metadata": {},
   "source": [
    "# 시각"
   ]
  },
  {
   "cell_type": "code",
   "execution_count": 14,
   "id": "d3dad9d5-e703-45f4-94b0-a45773f387e5",
   "metadata": {},
   "outputs": [
    {
     "name": "stdin",
     "output_type": "stream",
     "text": [
      " 5\n"
     ]
    },
    {
     "name": "stdout",
     "output_type": "stream",
     "text": [
      "11475\n"
     ]
    }
   ],
   "source": [
    "N = int(input())\n",
    "\n",
    "\n",
    "output = 0\n",
    "w_o_3h = 6*10*6*10 - 5*9*5*9\n",
    "w_3h = 6*10*6*10\n",
    "\n",
    "\n",
    "if N < 3 :\n",
    "    output += w_o_3h * (N+1)\n",
    "elif N < 13 :\n",
    "    output += w_o_3h * (N+1-1) + w_3h\n",
    "elif N < 23 :\n",
    "    output += w_o_3h * (N+1-2) + w_3h * 2\n",
    "else :\n",
    "    output += w_o_3h * (N+1-3) + w_3h * 3\n",
    "\n",
    "\n",
    "print(output)"
   ]
  },
  {
   "cell_type": "code",
   "execution_count": 15,
   "id": "0cead042-84ac-4f7b-82d0-bc5b911765c1",
   "metadata": {},
   "outputs": [
    {
     "name": "stdin",
     "output_type": "stream",
     "text": [
      " 5\n"
     ]
    },
    {
     "name": "stdout",
     "output_type": "stream",
     "text": [
      "11475\n"
     ]
    }
   ],
   "source": [
    "# 답안 예시\n",
    "h = int(input())\n",
    "\n",
    "count = 0\n",
    "for i in range(h+1) :\n",
    "    for j in range(60) :\n",
    "        for k in range(60) :\n",
    "            if '3' in str(i) + str(j) + str(k) :\n",
    "                count += 1\n",
    "\n",
    "print(count)"
   ]
  },
  {
   "cell_type": "code",
   "execution_count": null,
   "id": "a5cac6c8-b9a6-4c56-ab26-20d06a5daa20",
   "metadata": {},
   "outputs": [],
   "source": []
  },
  {
   "cell_type": "markdown",
   "id": "fc6916ca-4bf5-4f15-bcde-624a6168978a",
   "metadata": {},
   "source": [
    "# 왕실 나이트"
   ]
  },
  {
   "cell_type": "code",
   "execution_count": 20,
   "id": "ff5f96e2-8a68-458e-9696-abe7e769e5a2",
   "metadata": {},
   "outputs": [
    {
     "name": "stdin",
     "output_type": "stream",
     "text": [
      " a1\n"
     ]
    },
    {
     "name": "stdout",
     "output_type": "stream",
     "text": [
      "2\n"
     ]
    }
   ],
   "source": [
    "N = input()\n",
    "y, x  = ord(N[0]) - 96, int(N[1])\n",
    "\n",
    "count = 0\n",
    "\n",
    "dx = [1, -1, 1, -1, 2, 2, -2, -2 ]\n",
    "dy = [2, 2, -2, -2, 1, -1, 1, -1 ]\n",
    "\n",
    "for i in range(8) :\n",
    "    nx = x + dx[i]\n",
    "    ny = y + dy[i]\n",
    "    if (nx < 1 or ny < 1 or nx > 8 or ny > 8) :\n",
    "        continue \n",
    "    count += 1  \n",
    "\n",
    "\n",
    "print(count)"
   ]
  },
  {
   "cell_type": "code",
   "execution_count": 26,
   "id": "6ba8ecb4-d460-4175-bb4d-cb446e4f94e4",
   "metadata": {},
   "outputs": [
    {
     "name": "stdin",
     "output_type": "stream",
     "text": [
      " a1\n"
     ]
    },
    {
     "name": "stdout",
     "output_type": "stream",
     "text": [
      "2\n"
     ]
    }
   ],
   "source": [
    "# 답안예시 \n",
    "input_data = input()\n",
    "row = int(input_data[1]) \n",
    "column = int(ord(input_data[0])) - int(ord('a')) + 1\n",
    "\n",
    "steps = [(-2,-1), (-1, -2), (1, -2), (2, -1), (2, 1), (1, 2), (-1, 2), (-2, 1)]\n",
    "\n",
    "\n",
    "result = 0\n",
    "for step in steps :\n",
    "    next_row = row + step[0]\n",
    "    next_col = column + step[1]\n",
    "    if (1 <= next_row <= 8 and 1 <= next_col <= 8) :\n",
    "        result += 1\n",
    "\n",
    "print(result)"
   ]
  },
  {
   "cell_type": "code",
   "execution_count": null,
   "id": "496c0727-b5e1-4bc9-a06b-4247d3302ab8",
   "metadata": {},
   "outputs": [],
   "source": []
  },
  {
   "cell_type": "markdown",
   "id": "8bbdf63d-f978-47bf-9d5e-51eaced0cdcf",
   "metadata": {},
   "source": [
    "# 게임 개발"
   ]
  },
  {
   "cell_type": "code",
   "execution_count": null,
   "id": "4dd7c1fe-ddfb-4bbc-a4fa-75851c4c4d28",
   "metadata": {},
   "outputs": [],
   "source": [
    "# 입력 \n",
    "N, M = map(int, input().split())\n",
    "x, y, direction = map(int, input().split())\n",
    "\n",
    "directions = [0, 1 ,2, 3]\n",
    "\n",
    "guide = []\n",
    "for i in range(N) :\n",
    "    guide.append(list(map(int, input().split())))\n",
    "\n"
   ]
  },
  {
   "cell_type": "code",
   "execution_count": null,
   "id": "14c0aa6a-32b1-41f0-bbd9-d737378bda1c",
   "metadata": {},
   "outputs": [],
   "source": []
  },
  {
   "cell_type": "code",
   "execution_count": null,
   "id": "b98e65d4-403c-4342-aa9a-ded5b23b33c9",
   "metadata": {},
   "outputs": [],
   "source": []
  },
  {
   "cell_type": "code",
   "execution_count": null,
   "id": "5877bf11-55c7-4f1a-a69f-1acee7da0ee6",
   "metadata": {},
   "outputs": [],
   "source": []
  },
  {
   "cell_type": "code",
   "execution_count": null,
   "id": "86a3355f-6c62-47fa-aecc-e8f12aaf3d41",
   "metadata": {},
   "outputs": [],
   "source": []
  },
  {
   "cell_type": "code",
   "execution_count": null,
   "id": "47d527a7-b68d-44dd-a3fd-e529da064385",
   "metadata": {},
   "outputs": [],
   "source": []
  }
 ],
 "metadata": {
  "kernelspec": {
   "display_name": "Python 3 (ipykernel)",
   "language": "python",
   "name": "python3"
  },
  "language_info": {
   "codemirror_mode": {
    "name": "ipython",
    "version": 3
   },
   "file_extension": ".py",
   "mimetype": "text/x-python",
   "name": "python",
   "nbconvert_exporter": "python",
   "pygments_lexer": "ipython3",
   "version": "3.9.18"
  },
  "widgets": {
   "application/vnd.jupyter.widget-state+json": {
    "state": {},
    "version_major": 2,
    "version_minor": 0
   }
  }
 },
 "nbformat": 4,
 "nbformat_minor": 5
}
